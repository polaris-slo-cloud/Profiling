{
 "cells": [
  {
   "cell_type": "markdown",
   "id": "9a66a29c-9e76-4995-af02-fc165eb76188",
   "metadata": {},
   "source": [
    "# Alternative unsupervised methodologies"
   ]
  },
  {
   "cell_type": "markdown",
   "id": "f72fbe20-4853-4c38-a3de-fcca6d901e53",
   "metadata": {},
   "source": [
    "In this frameworkm we explore alternative clustering methodologies for creating profile groups."
   ]
  },
  {
   "cell_type": "markdown",
   "id": "6a201da1-f628-48dc-91c7-1daf4a2c2049",
   "metadata": {},
   "source": [
    "## Imports"
   ]
  },
  {
   "cell_type": "code",
   "execution_count": 1,
   "id": "40b6cb25-db67-42c0-a895-6880ecaaedac",
   "metadata": {
    "execution": {
     "iopub.execute_input": "2022-01-24T22:16:44.499686Z",
     "iopub.status.busy": "2022-01-24T22:16:44.499056Z",
     "iopub.status.idle": "2022-01-24T22:16:45.454519Z",
     "shell.execute_reply": "2022-01-24T22:16:45.453745Z",
     "shell.execute_reply.started": "2022-01-24T22:16:44.499557Z"
    },
    "tags": []
   },
   "outputs": [],
   "source": [
    "from sklearn.neighbors import NearestNeighbors\n",
    "from sklearn.cluster import DBSCAN\n",
    "from sklearn.preprocessing import MinMaxScaler\n",
    "\n",
    "from collections import Counter\n",
    "\n",
    "import pandas as pd\n",
    "\n",
    "import matplotlib.pyplot as plt\n",
    "import seaborn as sns\n",
    "\n",
    "import hdbscan"
   ]
  },
  {
   "cell_type": "markdown",
   "id": "c3081f85-5ff5-403d-99e4-2d6155634061",
   "metadata": {},
   "source": [
    "## Load data"
   ]
  },
  {
   "cell_type": "code",
   "execution_count": 2,
   "id": "cf4727b8-fed0-4d5e-80c1-9b6c13d18bb5",
   "metadata": {
    "execution": {
     "iopub.execute_input": "2022-01-24T22:16:45.455769Z",
     "iopub.status.busy": "2022-01-24T22:16:45.455596Z",
     "iopub.status.idle": "2022-01-24T22:16:45.555675Z",
     "shell.execute_reply": "2022-01-24T22:16:45.554954Z",
     "shell.execute_reply.started": "2022-01-24T22:16:45.455748Z"
    },
    "tags": []
   },
   "outputs": [],
   "source": [
    "readings_task_usage_df = pd.read_csv(\"data/sample_jobs_summary_10perc.csv\", header=[0,1], index_col=[0])"
   ]
  },
  {
   "cell_type": "code",
   "execution_count": 3,
   "id": "cef22fe3-c024-4868-a7fd-36763e204e01",
   "metadata": {
    "execution": {
     "iopub.execute_input": "2022-01-24T22:16:45.557723Z",
     "iopub.status.busy": "2022-01-24T22:16:45.557379Z",
     "iopub.status.idle": "2022-01-24T22:16:45.577904Z",
     "shell.execute_reply": "2022-01-24T22:16:45.577288Z",
     "shell.execute_reply.started": "2022-01-24T22:16:45.557686Z"
    },
    "tags": []
   },
   "outputs": [
    {
     "data": {
      "text/html": [
       "<div>\n",
       "<style scoped>\n",
       "    .dataframe tbody tr th:only-of-type {\n",
       "        vertical-align: middle;\n",
       "    }\n",
       "\n",
       "    .dataframe tbody tr th {\n",
       "        vertical-align: top;\n",
       "    }\n",
       "\n",
       "    .dataframe thead tr th {\n",
       "        text-align: left;\n",
       "    }\n",
       "\n",
       "    .dataframe thead tr:last-of-type th {\n",
       "        text-align: right;\n",
       "    }\n",
       "</style>\n",
       "<table border=\"1\" class=\"dataframe\">\n",
       "  <thead>\n",
       "    <tr>\n",
       "      <th></th>\n",
       "      <th colspan=\"2\" halign=\"left\">CPU rate</th>\n",
       "      <th colspan=\"2\" halign=\"left\">canonical memory usage</th>\n",
       "      <th colspan=\"2\" halign=\"left\">local disk space usage</th>\n",
       "      <th colspan=\"2\" halign=\"left\">active tasks</th>\n",
       "      <th>job runtime</th>\n",
       "    </tr>\n",
       "    <tr>\n",
       "      <th></th>\n",
       "      <th>mean</th>\n",
       "      <th>std</th>\n",
       "      <th>mean</th>\n",
       "      <th>std</th>\n",
       "      <th>mean</th>\n",
       "      <th>std</th>\n",
       "      <th>mean</th>\n",
       "      <th>std</th>\n",
       "      <th>vals</th>\n",
       "    </tr>\n",
       "    <tr>\n",
       "      <th>job ID</th>\n",
       "      <th></th>\n",
       "      <th></th>\n",
       "      <th></th>\n",
       "      <th></th>\n",
       "      <th></th>\n",
       "      <th></th>\n",
       "      <th></th>\n",
       "      <th></th>\n",
       "      <th></th>\n",
       "    </tr>\n",
       "  </thead>\n",
       "  <tbody>\n",
       "    <tr>\n",
       "      <th>3418437</th>\n",
       "      <td>0.004019</td>\n",
       "      <td>0.002592</td>\n",
       "      <td>0.118794</td>\n",
       "      <td>0.003088</td>\n",
       "      <td>0.000242</td>\n",
       "      <td>0.000030</td>\n",
       "      <td>1.999282</td>\n",
       "      <td>0.026796</td>\n",
       "      <td>2505600000000</td>\n",
       "    </tr>\n",
       "    <tr>\n",
       "      <th>6590376</th>\n",
       "      <td>0.000950</td>\n",
       "      <td>0.000309</td>\n",
       "      <td>0.077765</td>\n",
       "      <td>0.000220</td>\n",
       "      <td>0.000197</td>\n",
       "      <td>0.000011</td>\n",
       "      <td>1.999401</td>\n",
       "      <td>0.024463</td>\n",
       "      <td>2505600000000</td>\n",
       "    </tr>\n",
       "    <tr>\n",
       "      <th>109344935</th>\n",
       "      <td>0.000169</td>\n",
       "      <td>0.000045</td>\n",
       "      <td>0.038912</td>\n",
       "      <td>0.000131</td>\n",
       "      <td>0.000087</td>\n",
       "      <td>0.000002</td>\n",
       "      <td>1.999641</td>\n",
       "      <td>0.018950</td>\n",
       "      <td>2505600000000</td>\n",
       "    </tr>\n",
       "    <tr>\n",
       "      <th>155171765</th>\n",
       "      <td>0.000897</td>\n",
       "      <td>0.000522</td>\n",
       "      <td>0.090313</td>\n",
       "      <td>0.001801</td>\n",
       "      <td>0.000197</td>\n",
       "      <td>0.000013</td>\n",
       "      <td>1.999521</td>\n",
       "      <td>0.021880</td>\n",
       "      <td>2505600000000</td>\n",
       "    </tr>\n",
       "    <tr>\n",
       "      <th>182939990</th>\n",
       "      <td>0.007996</td>\n",
       "      <td>0.003112</td>\n",
       "      <td>0.032971</td>\n",
       "      <td>0.007517</td>\n",
       "      <td>0.000188</td>\n",
       "      <td>0.000009</td>\n",
       "      <td>2.997488</td>\n",
       "      <td>0.068259</td>\n",
       "      <td>2505600000000</td>\n",
       "    </tr>\n",
       "    <tr>\n",
       "      <th>...</th>\n",
       "      <td>...</td>\n",
       "      <td>...</td>\n",
       "      <td>...</td>\n",
       "      <td>...</td>\n",
       "      <td>...</td>\n",
       "      <td>...</td>\n",
       "      <td>...</td>\n",
       "      <td>...</td>\n",
       "      <td>...</td>\n",
       "    </tr>\n",
       "    <tr>\n",
       "      <th>6486611558</th>\n",
       "      <td>0.000570</td>\n",
       "      <td>0.000691</td>\n",
       "      <td>0.000328</td>\n",
       "      <td>0.000568</td>\n",
       "      <td>0.000000</td>\n",
       "      <td>0.000000</td>\n",
       "      <td>1.000000</td>\n",
       "      <td>0.000000</td>\n",
       "      <td>261000000</td>\n",
       "    </tr>\n",
       "    <tr>\n",
       "      <th>6486612437</th>\n",
       "      <td>0.001862</td>\n",
       "      <td>0.002919</td>\n",
       "      <td>0.000269</td>\n",
       "      <td>0.000465</td>\n",
       "      <td>0.000000</td>\n",
       "      <td>0.000000</td>\n",
       "      <td>1.000000</td>\n",
       "      <td>0.000000</td>\n",
       "      <td>28000000</td>\n",
       "    </tr>\n",
       "    <tr>\n",
       "      <th>6486622446</th>\n",
       "      <td>0.000504</td>\n",
       "      <td>0.000734</td>\n",
       "      <td>0.000242</td>\n",
       "      <td>0.000411</td>\n",
       "      <td>0.000000</td>\n",
       "      <td>0.000000</td>\n",
       "      <td>4.129630</td>\n",
       "      <td>6.695665</td>\n",
       "      <td>95000000</td>\n",
       "    </tr>\n",
       "    <tr>\n",
       "      <th>6486628168</th>\n",
       "      <td>0.000718</td>\n",
       "      <td>0.000804</td>\n",
       "      <td>0.000016</td>\n",
       "      <td>0.000027</td>\n",
       "      <td>0.000000</td>\n",
       "      <td>0.000000</td>\n",
       "      <td>1.000000</td>\n",
       "      <td>0.000000</td>\n",
       "      <td>12000000</td>\n",
       "    </tr>\n",
       "    <tr>\n",
       "      <th>6486631320</th>\n",
       "      <td>0.001362</td>\n",
       "      <td>0.002419</td>\n",
       "      <td>0.000485</td>\n",
       "      <td>0.000472</td>\n",
       "      <td>0.000000</td>\n",
       "      <td>0.000000</td>\n",
       "      <td>1.652174</td>\n",
       "      <td>1.368765</td>\n",
       "      <td>55000000</td>\n",
       "    </tr>\n",
       "  </tbody>\n",
       "</table>\n",
       "<p>65488 rows × 9 columns</p>\n",
       "</div>"
      ],
      "text/plain": [
       "            CPU rate           canonical memory usage            \\\n",
       "                mean       std                   mean       std   \n",
       "job ID                                                            \n",
       "3418437     0.004019  0.002592               0.118794  0.003088   \n",
       "6590376     0.000950  0.000309               0.077765  0.000220   \n",
       "109344935   0.000169  0.000045               0.038912  0.000131   \n",
       "155171765   0.000897  0.000522               0.090313  0.001801   \n",
       "182939990   0.007996  0.003112               0.032971  0.007517   \n",
       "...              ...       ...                    ...       ...   \n",
       "6486611558  0.000570  0.000691               0.000328  0.000568   \n",
       "6486612437  0.001862  0.002919               0.000269  0.000465   \n",
       "6486622446  0.000504  0.000734               0.000242  0.000411   \n",
       "6486628168  0.000718  0.000804               0.000016  0.000027   \n",
       "6486631320  0.001362  0.002419               0.000485  0.000472   \n",
       "\n",
       "           local disk space usage           active tasks            \\\n",
       "                             mean       std         mean       std   \n",
       "job ID                                                               \n",
       "3418437                  0.000242  0.000030     1.999282  0.026796   \n",
       "6590376                  0.000197  0.000011     1.999401  0.024463   \n",
       "109344935                0.000087  0.000002     1.999641  0.018950   \n",
       "155171765                0.000197  0.000013     1.999521  0.021880   \n",
       "182939990                0.000188  0.000009     2.997488  0.068259   \n",
       "...                           ...       ...          ...       ...   \n",
       "6486611558               0.000000  0.000000     1.000000  0.000000   \n",
       "6486612437               0.000000  0.000000     1.000000  0.000000   \n",
       "6486622446               0.000000  0.000000     4.129630  6.695665   \n",
       "6486628168               0.000000  0.000000     1.000000  0.000000   \n",
       "6486631320               0.000000  0.000000     1.652174  1.368765   \n",
       "\n",
       "              job runtime  \n",
       "                     vals  \n",
       "job ID                     \n",
       "3418437     2505600000000  \n",
       "6590376     2505600000000  \n",
       "109344935   2505600000000  \n",
       "155171765   2505600000000  \n",
       "182939990   2505600000000  \n",
       "...                   ...  \n",
       "6486611558      261000000  \n",
       "6486612437       28000000  \n",
       "6486622446       95000000  \n",
       "6486628168       12000000  \n",
       "6486631320       55000000  \n",
       "\n",
       "[65488 rows x 9 columns]"
      ]
     },
     "execution_count": 3,
     "metadata": {},
     "output_type": "execute_result"
    }
   ],
   "source": [
    "readings_task_usage_df"
   ]
  },
  {
   "cell_type": "code",
   "execution_count": 4,
   "id": "d8e12fdf-6f45-4865-b42c-3fbb931201c4",
   "metadata": {
    "execution": {
     "iopub.execute_input": "2022-01-24T22:16:45.579035Z",
     "iopub.status.busy": "2022-01-24T22:16:45.578761Z",
     "iopub.status.idle": "2022-01-24T22:16:45.588060Z",
     "shell.execute_reply": "2022-01-24T22:16:45.587481Z",
     "shell.execute_reply.started": "2022-01-24T22:16:45.579017Z"
    },
    "tags": []
   },
   "outputs": [],
   "source": [
    "readings_task_usage_df.dropna(inplace=True)"
   ]
  },
  {
   "cell_type": "markdown",
   "id": "ccda4527-66ad-4af8-9c37-8ccb8f166499",
   "metadata": {},
   "source": [
    "### Perform some preprocessing"
   ]
  },
  {
   "cell_type": "code",
   "execution_count": 5,
   "id": "737a6e71-18af-444d-becd-7b620238a5f8",
   "metadata": {
    "execution": {
     "iopub.execute_input": "2022-01-24T22:16:45.589001Z",
     "iopub.status.busy": "2022-01-24T22:16:45.588866Z",
     "iopub.status.idle": "2022-01-24T22:16:45.592703Z",
     "shell.execute_reply": "2022-01-24T22:16:45.592210Z",
     "shell.execute_reply.started": "2022-01-24T22:16:45.588984Z"
    },
    "tags": []
   },
   "outputs": [],
   "source": [
    "scaler = MinMaxScaler()"
   ]
  },
  {
   "cell_type": "code",
   "execution_count": 6,
   "id": "1e1790ff-4806-40b7-aca7-1bf78e7a4267",
   "metadata": {
    "execution": {
     "iopub.execute_input": "2022-01-24T22:16:45.593473Z",
     "iopub.status.busy": "2022-01-24T22:16:45.593339Z",
     "iopub.status.idle": "2022-01-24T22:16:45.605973Z",
     "shell.execute_reply": "2022-01-24T22:16:45.605424Z",
     "shell.execute_reply.started": "2022-01-24T22:16:45.593456Z"
    },
    "tags": []
   },
   "outputs": [],
   "source": [
    "scaled = scaler.fit_transform(readings_task_usage_df)"
   ]
  },
  {
   "cell_type": "markdown",
   "id": "02cf0b6e-eba0-42fd-a1c1-32d6e7b44956",
   "metadata": {},
   "source": [
    "## DBSCAN"
   ]
  },
  {
   "cell_type": "markdown",
   "id": "effd8447-cb1f-4bb0-a1da-0eaf5b7db2c7",
   "metadata": {},
   "source": [
    "### K-Dist graph\n",
    "\n",
    "First of all, we compute the k-dist graph, i.e., a plot that helps investigating one of the best $\\epsilon$ value for DBSCAN. In fact, DBSCAN is based on two essential parameters:\n",
    "1. $\\epsilon$: the radius of the hypersphere where DBSCAN looks for neighbors\n",
    "2. $MinPoints$: the minimum number of points necessary to declare an area (the sphere with radius $\\epsilon$) as dense."
   ]
  },
  {
   "cell_type": "code",
   "execution_count": 7,
   "id": "3cce7213-12c3-40f0-9025-c6e26eb0c7d0",
   "metadata": {
    "execution": {
     "iopub.execute_input": "2022-01-24T22:16:45.607258Z",
     "iopub.status.busy": "2022-01-24T22:16:45.606959Z",
     "iopub.status.idle": "2022-01-24T22:16:59.685878Z",
     "shell.execute_reply": "2022-01-24T22:16:59.685283Z",
     "shell.execute_reply.started": "2022-01-24T22:16:45.607238Z"
    },
    "tags": []
   },
   "outputs": [
    {
     "data": {
      "text/plain": [
       "array([[0.00000000e+00, 5.47504980e-02, 7.09107510e-02, ...,\n",
       "        2.35156055e-01, 2.35160805e-01, 2.35283654e-01],\n",
       "       [0.00000000e+00, 2.00494695e-02, 6.50879095e-02, ...,\n",
       "        1.71968039e-01, 1.72188415e-01, 1.72564060e-01],\n",
       "       [0.00000000e+00, 2.50592777e-02, 3.84044688e-02, ...,\n",
       "        1.24310070e-01, 1.29095054e-01, 1.34288814e-01],\n",
       "       ...,\n",
       "       [0.00000000e+00, 3.02163123e-04, 5.21658628e-04, ...,\n",
       "        1.72673089e-03, 1.72990479e-03, 1.73129646e-03],\n",
       "       [0.00000000e+00, 1.54163344e-04, 1.82644207e-04, ...,\n",
       "        7.59422649e-04, 7.60780947e-04, 7.62504219e-04],\n",
       "       [0.00000000e+00, 3.14213287e-04, 4.96604807e-04, ...,\n",
       "        9.28189078e-04, 9.30373976e-04, 9.32474485e-04]])"
      ]
     },
     "execution_count": 7,
     "metadata": {},
     "output_type": "execute_result"
    }
   ],
   "source": [
    "# https://stackoverflow.com/questions/43160240/how-to-plot-a-k-distance-graph-in-python\n",
    "\n",
    "neighbors = 200 #len(scaled)\n",
    "nbrs = NearestNeighbors(n_neighbors=neighbors).fit(scaled)\n",
    "distances, indices = nbrs.kneighbors(scaled)\n",
    "distances"
   ]
  },
  {
   "cell_type": "code",
   "execution_count": 8,
   "id": "43e2349a-59ea-49d2-b4a5-d6646d29915c",
   "metadata": {
    "execution": {
     "iopub.execute_input": "2022-01-24T22:16:59.687125Z",
     "iopub.status.busy": "2022-01-24T22:16:59.686987Z",
     "iopub.status.idle": "2022-01-24T22:16:59.728274Z",
     "shell.execute_reply": "2022-01-24T22:16:59.727652Z",
     "shell.execute_reply.started": "2022-01-24T22:16:59.687108Z"
    },
    "tags": []
   },
   "outputs": [
    {
     "data": {
      "text/plain": [
       "1.2656104459869677"
      ]
     },
     "execution_count": 8,
     "metadata": {},
     "output_type": "execute_result"
    }
   ],
   "source": [
    "#min_samples = 50\n",
    "k_sample = distances[:, neighbors - 1]\n",
    "k_sample = sorted(k_sample)\n",
    "\n",
    "max(k_sample)\n"
   ]
  },
  {
   "cell_type": "code",
   "execution_count": 9,
   "id": "fed46661-4b9d-436e-b9c0-dd98b07e1125",
   "metadata": {
    "execution": {
     "iopub.execute_input": "2022-01-24T22:16:59.729230Z",
     "iopub.status.busy": "2022-01-24T22:16:59.729110Z",
     "iopub.status.idle": "2022-01-24T22:16:59.927756Z",
     "shell.execute_reply": "2022-01-24T22:16:59.927225Z",
     "shell.execute_reply.started": "2022-01-24T22:16:59.729216Z"
    },
    "tags": []
   },
   "outputs": [
    {
     "data": {
      "text/plain": [
       "[<matplotlib.lines.Line2D at 0x7f29897a0a60>]"
      ]
     },
     "execution_count": 9,
     "metadata": {},
     "output_type": "execute_result"
    },
    {
     "data": {
      "image/png": "[encoded data removed]",
      "text/plain": [
       "<Figure size 1080x648 with 1 Axes>"
      ]
     },
     "metadata": {
      "needs_background": "light"
     },
     "output_type": "display_data"
    }
   ],
   "source": [
    "plt.figure(figsize=(15, 9))\n",
    "\n",
    "\n",
    "plt.plot(range(len(k_sample)), k_sample)"
   ]
  },
  {
   "cell_type": "code",
   "execution_count": 10,
   "id": "8d9a49d8-63d8-42b1-b519-3b4f9a6a0903",
   "metadata": {
    "execution": {
     "iopub.execute_input": "2022-01-24T22:16:59.929544Z",
     "iopub.status.busy": "2022-01-24T22:16:59.929408Z",
     "iopub.status.idle": "2022-01-24T22:16:59.934742Z",
     "shell.execute_reply": "2022-01-24T22:16:59.933902Z",
     "shell.execute_reply.started": "2022-01-24T22:16:59.929529Z"
    },
    "tags": []
   },
   "outputs": [
    {
     "data": {
      "text/plain": [
       "0.015331103993777124"
      ]
     },
     "execution_count": 10,
     "metadata": {},
     "output_type": "execute_result"
    }
   ],
   "source": [
    "k_sample[int(len(k_sample)*0.9)]"
   ]
  },
  {
   "cell_type": "code",
   "execution_count": 11,
   "id": "05f94193-0071-47b0-9bc3-05183325e963",
   "metadata": {
    "execution": {
     "iopub.execute_input": "2022-01-24T22:16:59.935415Z",
     "iopub.status.busy": "2022-01-24T22:16:59.935307Z",
     "iopub.status.idle": "2022-01-24T22:17:51.831945Z",
     "shell.execute_reply": "2022-01-24T22:17:51.831176Z",
     "shell.execute_reply.started": "2022-01-24T22:16:59.935402Z"
    },
    "tags": []
   },
   "outputs": [],
   "source": [
    "clustering = DBSCAN(eps=0.015, min_samples=50).fit(scaled)"
   ]
  },
  {
   "cell_type": "code",
   "execution_count": 12,
   "id": "5cd16140-1857-4cfa-aedb-5d4e11ab142b",
   "metadata": {
    "execution": {
     "iopub.execute_input": "2022-01-24T22:17:51.833799Z",
     "iopub.status.busy": "2022-01-24T22:17:51.833645Z",
     "iopub.status.idle": "2022-01-24T22:17:51.848117Z",
     "shell.execute_reply": "2022-01-24T22:17:51.847444Z",
     "shell.execute_reply.started": "2022-01-24T22:17:51.833781Z"
    },
    "tags": []
   },
   "outputs": [
    {
     "data": {
      "text/plain": [
       "Counter({-1: 3290, 0: 123, 1: 61227, 2: 257, 3: 96, 4: 63})"
      ]
     },
     "execution_count": 12,
     "metadata": {},
     "output_type": "execute_result"
    }
   ],
   "source": [
    "Counter(clustering.labels_)"
   ]
  },
  {
   "cell_type": "markdown",
   "id": "ead8a3ac-fd9e-4ed8-8203-6646e34d92b0",
   "metadata": {},
   "source": [
    "## HDBSCAN"
   ]
  },
  {
   "cell_type": "code",
   "execution_count": 13,
   "id": "ffda32e3-5f14-4beb-9815-587c769bd859",
   "metadata": {
    "execution": {
     "iopub.execute_input": "2022-01-24T22:17:51.849032Z",
     "iopub.status.busy": "2022-01-24T22:17:51.848914Z",
     "iopub.status.idle": "2022-01-24T22:18:02.471717Z",
     "shell.execute_reply": "2022-01-24T22:18:02.471178Z",
     "shell.execute_reply.started": "2022-01-24T22:17:51.849017Z"
    },
    "tags": []
   },
   "outputs": [
    {
     "data": {
      "text/plain": [
       "HDBSCAN(gen_min_span_tree=True, min_cluster_size=200)"
      ]
     },
     "execution_count": 13,
     "metadata": {},
     "output_type": "execute_result"
    }
   ],
   "source": [
    "clusterer = hdbscan.HDBSCAN(min_cluster_size=200, gen_min_span_tree=True)\n",
    "clusterer.fit(scaled)"
   ]
  },
  {
   "cell_type": "code",
   "execution_count": 14,
   "id": "42fd858b-0d94-4c1f-8f32-fb85dfbc4ecf",
   "metadata": {
    "execution": {
     "iopub.execute_input": "2022-01-24T22:18:02.472616Z",
     "iopub.status.busy": "2022-01-24T22:18:02.472484Z",
     "iopub.status.idle": "2022-01-24T22:18:03.205853Z",
     "shell.execute_reply": "2022-01-24T22:18:03.205354Z",
     "shell.execute_reply.started": "2022-01-24T22:18:02.472599Z"
    },
    "tags": []
   },
   "outputs": [
    {
     "data": {
      "text/plain": [
       "<AxesSubplot:ylabel='$\\\\lambda$ value'>"
      ]
     },
     "execution_count": 14,
     "metadata": {},
     "output_type": "execute_result"
    },
    {
     "data": {
      "image/png": "[encoded data removed]",
      "text/plain": [
       "<Figure size 1080x1080 with 2 Axes>"
      ]
     },
     "metadata": {
      "needs_background": "light"
     },
     "output_type": "display_data"
    }
   ],
   "source": [
    "plt.figure(figsize=(15,15))\n",
    "clusterer.condensed_tree_.plot(select_clusters=True, selection_palette=sns.color_palette())"
   ]
  },
  {
   "cell_type": "markdown",
   "id": "979feff3-7233-4cd0-b92f-5889397b010f",
   "metadata": {
    "tags": []
   },
   "source": [
    "## Watermark"
   ]
  },
  {
   "cell_type": "code",
   "execution_count": 15,
   "id": "6868c538-ac9a-49b5-9474-eb45d2f9e665",
   "metadata": {
    "execution": {
     "iopub.execute_input": "2022-01-24T22:18:03.206778Z",
     "iopub.status.busy": "2022-01-24T22:18:03.206632Z",
     "iopub.status.idle": "2022-01-24T22:18:03.533629Z",
     "shell.execute_reply": "2022-01-24T22:18:03.532927Z",
     "shell.execute_reply.started": "2022-01-24T22:18:03.206763Z"
    },
    "tags": []
   },
   "outputs": [
    {
     "name": "stdout",
     "output_type": "stream",
     "text": [
      "Last updated: 2022-01-24T23:18:03.217020+01:00\n",
      "\n",
      "Python implementation: CPython\n",
      "Python version       : 3.9.7\n",
      "IPython version      : 7.29.0\n",
      "\n",
      "Compiler    : GCC 7.5.0\n",
      "OS          : Linux\n",
      "Release     : 4.18.0-193.28.1.el8_2.x86_64\n",
      "Machine     : x86_64\n",
      "Processor   : x86_64\n",
      "CPU cores   : 80\n",
      "Architecture: 64bit\n",
      "\n",
      "hdbscan   : 0.8.27\n",
      "pandas    : 1.3.5\n",
      "matplotlib: 3.4.3\n",
      "seaborn   : 0.11.0\n",
      "\n"
     ]
    }
   ],
   "source": [
    "%load_ext watermark\n",
    "%watermark\n",
    "%watermark --iversions"
   ]
  }
 ],
 "metadata": {
  "kernelspec": {
   "display_name": "neuralnets_krnl-2.0",
   "language": "python",
   "name": "neuralnets_krnl-2.0"
  },
  "language_info": {
   "codemirror_mode": {
    "name": "ipython",
    "version": 3
   },
   "file_extension": ".py",
   "mimetype": "text/x-python",
   "name": "python",
   "nbconvert_exporter": "python",
   "pygments_lexer": "ipython3",
   "version": "3.9.7"
  }
 },
 "nbformat": 4,
 "nbformat_minor": 5
}
