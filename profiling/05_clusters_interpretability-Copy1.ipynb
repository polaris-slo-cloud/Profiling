{
 "cells": [
  {
   "cell_type": "markdown",
   "metadata": {},
   "source": [
    "# Cluster interpretability"
   ]
  },
  {
   "cell_type": "markdown",
   "metadata": {},
   "source": [
    "In this notebook, we explore several techniques for extracting patterns from the clusters.\n",
    "The goal: have an interpretable representation of the relevance of the feature in our profiles/clusters\n",
    "- For understanding the clusters\n",
    "- For better profile explanation for the users\n",
    "\n",
    "A way to do it: consider profiles as documents and the task as NLP.\n",
    "\n",
    "The first approach is to use TF-IDF. However, they have some limitations as shared values, but with different distribution over the profiles/clusters, have zero weight. This behavior may represent a problem since we have fixed low-cardinality categorical classes, e.g., scheduling class or priority\n",
    "\n",
    "Another solution is to develop One-vs-all classifiers (white box techniques). This approach:\n",
    "- Gives us also the opportunity to evaluate the profile attribution/assignment (via classification)\n",
    "- Clear and algorithmically grounded\n",
    "- Gives an “interpretation” available for the final user\n",
    "\n"
   ]
  },
  {
   "cell_type": "markdown",
   "metadata": {
    "tags": []
   },
   "source": [
    "## Imports"
   ]
  },
  {
   "cell_type": "code",
   "execution_count": 1,
   "metadata": {
    "execution": {
     "iopub.execute_input": "2022-01-26T09:34:51.636695Z",
     "iopub.status.busy": "2022-01-26T09:34:51.635975Z",
     "iopub.status.idle": "2022-01-26T09:34:52.531243Z",
     "shell.execute_reply": "2022-01-26T09:34:52.530098Z",
     "shell.execute_reply.started": "2022-01-26T09:34:51.636550Z"
    },
    "tags": []
   },
   "outputs": [],
   "source": [
    "import pandas as pd\n",
    "\n",
    "import dask.dataframe as dd\n",
    "from dask.delayed import delayed\n",
    "\n",
    "import random\n",
    "\n",
    "import os\n",
    "from collections import Counter\n",
    "from collections import defaultdict\n",
    "\n",
    "from sklearn.metrics import silhouette_samples, silhouette_score\n",
    "from sklearn.ensemble import RandomForestClassifier\n",
    "from sklearn.model_selection import KFold\n",
    "from sklearn.model_selection import cross_val_score\n",
    "from sklearn.model_selection import cross_validate\n",
    "from sklearn.compose import ColumnTransformer\n",
    "from sklearn.preprocessing import OneHotEncoder\n",
    "\n",
    "import xgboost as xgb\n",
    "\n",
    "import matplotlib.pyplot as plt\n",
    "import matplotlib.cm as cm\n",
    "from matplotlib.ticker import PercentFormatter\n",
    "\n",
    "import numpy as np\n",
    "\n",
    "import math\n",
    "\n",
    "import seaborn as sns"
   ]
  },
  {
   "cell_type": "markdown",
   "metadata": {},
   "source": [
    "## Load data"
   ]
  },
  {
   "cell_type": "code",
   "execution_count": 2,
   "metadata": {
    "execution": {
     "iopub.execute_input": "2022-01-26T09:34:52.532145Z",
     "iopub.status.busy": "2022-01-26T09:34:52.532016Z",
     "iopub.status.idle": "2022-01-26T09:34:52.642520Z",
     "shell.execute_reply": "2022-01-26T09:34:52.641728Z",
     "shell.execute_reply.started": "2022-01-26T09:34:52.532128Z"
    },
    "tags": []
   },
   "outputs": [],
   "source": [
    "static_metrics = pd.read_csv('data/static_metrics_and_kmeans.csv')"
   ]
  },
  {
   "cell_type": "code",
   "execution_count": 3,
   "metadata": {
    "execution": {
     "iopub.execute_input": "2022-01-26T09:34:52.644286Z",
     "iopub.status.busy": "2022-01-26T09:34:52.644010Z",
     "iopub.status.idle": "2022-01-26T09:34:52.681016Z",
     "shell.execute_reply": "2022-01-26T09:34:52.680505Z",
     "shell.execute_reply.started": "2022-01-26T09:34:52.644269Z"
    },
    "tags": []
   },
   "outputs": [
    {
     "data": {
      "text/html": [
       "<div>\n",
       "<style scoped>\n",
       "    .dataframe tbody tr th:only-of-type {\n",
       "        vertical-align: middle;\n",
       "    }\n",
       "\n",
       "    .dataframe tbody tr th {\n",
       "        vertical-align: top;\n",
       "    }\n",
       "\n",
       "    .dataframe thead th {\n",
       "        text-align: right;\n",
       "    }\n",
       "</style>\n",
       "<table border=\"1\" class=\"dataframe\">\n",
       "  <thead>\n",
       "    <tr style=\"text-align: right;\">\n",
       "      <th></th>\n",
       "      <th>job ID</th>\n",
       "      <th>priority</th>\n",
       "      <th>different machines restriction</th>\n",
       "      <th>disk space request - Q1</th>\n",
       "      <th>disk space request - Q2</th>\n",
       "      <th>disk space request - Q3</th>\n",
       "      <th>disk space request - Q4</th>\n",
       "      <th>disk space request - Quartiles</th>\n",
       "      <th>memory request - Q1</th>\n",
       "      <th>memory request - Q2</th>\n",
       "      <th>...</th>\n",
       "      <th>CPU request - Quartiles</th>\n",
       "      <th>priority labels</th>\n",
       "      <th>user</th>\n",
       "      <th>logical job name</th>\n",
       "      <th>scheduling class</th>\n",
       "      <th>K-Means = 2</th>\n",
       "      <th>K-Means = 4</th>\n",
       "      <th>K-Means = 6</th>\n",
       "      <th>K-Means = 8</th>\n",
       "      <th>K-Means = 10</th>\n",
       "    </tr>\n",
       "  </thead>\n",
       "  <tbody>\n",
       "    <tr>\n",
       "      <th>0</th>\n",
       "      <td>3418356</td>\n",
       "      <td>9</td>\n",
       "      <td>0</td>\n",
       "      <td>0</td>\n",
       "      <td>0</td>\n",
       "      <td>0</td>\n",
       "      <td>1</td>\n",
       "      <td>Q4</td>\n",
       "      <td>0</td>\n",
       "      <td>0</td>\n",
       "      <td>...</td>\n",
       "      <td>Q4</td>\n",
       "      <td>Production [9]</td>\n",
       "      <td>70s3v5qRyCO/1PCdI6fVXnrW8FU/w+5CKRSa72xgcIo=</td>\n",
       "      <td>fGRnr2XEPDr3kQsPccU/k1LELeeQonkj6hDpTP7ALkg=</td>\n",
       "      <td>3</td>\n",
       "      <td>0</td>\n",
       "      <td>1</td>\n",
       "      <td>1</td>\n",
       "      <td>1</td>\n",
       "      <td>1</td>\n",
       "    </tr>\n",
       "    <tr>\n",
       "      <th>1</th>\n",
       "      <td>3418405</td>\n",
       "      <td>9</td>\n",
       "      <td>0</td>\n",
       "      <td>0</td>\n",
       "      <td>0</td>\n",
       "      <td>0</td>\n",
       "      <td>1</td>\n",
       "      <td>Q4</td>\n",
       "      <td>0</td>\n",
       "      <td>0</td>\n",
       "      <td>...</td>\n",
       "      <td>Q4</td>\n",
       "      <td>Production [9]</td>\n",
       "      <td>70s3v5qRyCO/1PCdI6fVXnrW8FU/w+5CKRSa72xgcIo=</td>\n",
       "      <td>q6nwarTUw/Xct0ONQEdblvVhW8uWTquTp8C5la5YfRE=</td>\n",
       "      <td>3</td>\n",
       "      <td>0</td>\n",
       "      <td>1</td>\n",
       "      <td>1</td>\n",
       "      <td>1</td>\n",
       "      <td>1</td>\n",
       "    </tr>\n",
       "    <tr>\n",
       "      <th>2</th>\n",
       "      <td>6724949</td>\n",
       "      <td>9</td>\n",
       "      <td>0</td>\n",
       "      <td>0</td>\n",
       "      <td>0</td>\n",
       "      <td>0</td>\n",
       "      <td>1</td>\n",
       "      <td>Q4</td>\n",
       "      <td>0</td>\n",
       "      <td>0</td>\n",
       "      <td>...</td>\n",
       "      <td>Q4</td>\n",
       "      <td>Production [9]</td>\n",
       "      <td>70s3v5qRyCO/1PCdI6fVXnrW8FU/w+5CKRSa72xgcIo=</td>\n",
       "      <td>4my5Elvc5RumesxoVeuFovkoS28KYA9C3pIBi2bY5Io=</td>\n",
       "      <td>3</td>\n",
       "      <td>0</td>\n",
       "      <td>1</td>\n",
       "      <td>1</td>\n",
       "      <td>1</td>\n",
       "      <td>1</td>\n",
       "    </tr>\n",
       "    <tr>\n",
       "      <th>3</th>\n",
       "      <td>28185708</td>\n",
       "      <td>1</td>\n",
       "      <td>0</td>\n",
       "      <td>1</td>\n",
       "      <td>0</td>\n",
       "      <td>0</td>\n",
       "      <td>0</td>\n",
       "      <td>Q1</td>\n",
       "      <td>0</td>\n",
       "      <td>1</td>\n",
       "      <td>...</td>\n",
       "      <td>Q3</td>\n",
       "      <td>Free [0,1]</td>\n",
       "      <td>WVtO5qw3sNnP4MeiRUnqr07CekrYMU12Mc7GbsgnjhQ=</td>\n",
       "      <td>JGBCBdeRFciFaU6LrbO9Y5w1lBoZ1MyX5Pnx4m05HK8=</td>\n",
       "      <td>2</td>\n",
       "      <td>0</td>\n",
       "      <td>1</td>\n",
       "      <td>1</td>\n",
       "      <td>1</td>\n",
       "      <td>1</td>\n",
       "    </tr>\n",
       "    <tr>\n",
       "      <th>4</th>\n",
       "      <td>124371644</td>\n",
       "      <td>9</td>\n",
       "      <td>0</td>\n",
       "      <td>0</td>\n",
       "      <td>0</td>\n",
       "      <td>0</td>\n",
       "      <td>1</td>\n",
       "      <td>Q4</td>\n",
       "      <td>0</td>\n",
       "      <td>0</td>\n",
       "      <td>...</td>\n",
       "      <td>Q3</td>\n",
       "      <td>Production [9]</td>\n",
       "      <td>70s3v5qRyCO/1PCdI6fVXnrW8FU/w+5CKRSa72xgcIo=</td>\n",
       "      <td>HcYZ4RNZRxmh/W+WuzNBOVk4sOCdDshVEB/McWxfyyk=</td>\n",
       "      <td>3</td>\n",
       "      <td>0</td>\n",
       "      <td>1</td>\n",
       "      <td>1</td>\n",
       "      <td>1</td>\n",
       "      <td>1</td>\n",
       "    </tr>\n",
       "    <tr>\n",
       "      <th>...</th>\n",
       "      <td>...</td>\n",
       "      <td>...</td>\n",
       "      <td>...</td>\n",
       "      <td>...</td>\n",
       "      <td>...</td>\n",
       "      <td>...</td>\n",
       "      <td>...</td>\n",
       "      <td>...</td>\n",
       "      <td>...</td>\n",
       "      <td>...</td>\n",
       "      <td>...</td>\n",
       "      <td>...</td>\n",
       "      <td>...</td>\n",
       "      <td>...</td>\n",
       "      <td>...</td>\n",
       "      <td>...</td>\n",
       "      <td>...</td>\n",
       "      <td>...</td>\n",
       "      <td>...</td>\n",
       "      <td>...</td>\n",
       "      <td>...</td>\n",
       "    </tr>\n",
       "    <tr>\n",
       "      <th>64928</th>\n",
       "      <td>6486612269</td>\n",
       "      <td>1</td>\n",
       "      <td>0</td>\n",
       "      <td>0</td>\n",
       "      <td>1</td>\n",
       "      <td>0</td>\n",
       "      <td>0</td>\n",
       "      <td>Q2</td>\n",
       "      <td>0</td>\n",
       "      <td>0</td>\n",
       "      <td>...</td>\n",
       "      <td>Q3</td>\n",
       "      <td>Free [0,1]</td>\n",
       "      <td>E+9U+J1Dicd5PJklbq2e5THQ29X6D8jmqQ0Zu53Kc+o=</td>\n",
       "      <td>QZm5VyyEiL9TpVhasvtcMxPxENJqlNX4Fn2LdEe+Ff0=</td>\n",
       "      <td>1</td>\n",
       "      <td>1</td>\n",
       "      <td>0</td>\n",
       "      <td>0</td>\n",
       "      <td>0</td>\n",
       "      <td>0</td>\n",
       "    </tr>\n",
       "    <tr>\n",
       "      <th>64929</th>\n",
       "      <td>6486612710</td>\n",
       "      <td>4</td>\n",
       "      <td>0</td>\n",
       "      <td>0</td>\n",
       "      <td>0</td>\n",
       "      <td>0</td>\n",
       "      <td>1</td>\n",
       "      <td>Q4</td>\n",
       "      <td>0</td>\n",
       "      <td>0</td>\n",
       "      <td>...</td>\n",
       "      <td>Q2</td>\n",
       "      <td>Other [2,8]</td>\n",
       "      <td>HxdST/yDI1TlIkr0Povf9KaXGGG8x4iVXX6o/iSIghM=</td>\n",
       "      <td>YI5372ouHbbTv6b594D2bDWC283uv6QcuE41Mst3BFk=</td>\n",
       "      <td>0</td>\n",
       "      <td>1</td>\n",
       "      <td>3</td>\n",
       "      <td>5</td>\n",
       "      <td>5</td>\n",
       "      <td>4</td>\n",
       "    </tr>\n",
       "    <tr>\n",
       "      <th>64930</th>\n",
       "      <td>6486630408</td>\n",
       "      <td>4</td>\n",
       "      <td>0</td>\n",
       "      <td>0</td>\n",
       "      <td>1</td>\n",
       "      <td>0</td>\n",
       "      <td>0</td>\n",
       "      <td>Q2</td>\n",
       "      <td>1</td>\n",
       "      <td>0</td>\n",
       "      <td>...</td>\n",
       "      <td>Q3</td>\n",
       "      <td>Other [2,8]</td>\n",
       "      <td>fJeARInTaIjFrdXGqxap6x2T3TpJB84y9zvFsoGGhjk=</td>\n",
       "      <td>ZoHIMIMjYenKtCPq0iy70XUxyF0JDf1HuW6yUzS4dBM=</td>\n",
       "      <td>0</td>\n",
       "      <td>1</td>\n",
       "      <td>0</td>\n",
       "      <td>0</td>\n",
       "      <td>0</td>\n",
       "      <td>0</td>\n",
       "    </tr>\n",
       "    <tr>\n",
       "      <th>64931</th>\n",
       "      <td>6486631154</td>\n",
       "      <td>8</td>\n",
       "      <td>0</td>\n",
       "      <td>0</td>\n",
       "      <td>1</td>\n",
       "      <td>0</td>\n",
       "      <td>0</td>\n",
       "      <td>Q2</td>\n",
       "      <td>0</td>\n",
       "      <td>1</td>\n",
       "      <td>...</td>\n",
       "      <td>Q2</td>\n",
       "      <td>Other [2,8]</td>\n",
       "      <td>fJeARInTaIjFrdXGqxap6x2T3TpJB84y9zvFsoGGhjk=</td>\n",
       "      <td>cLRsAgA+ajg6giausco6dsV5PxWsqEJZDLdHWhd6v0E=</td>\n",
       "      <td>2</td>\n",
       "      <td>1</td>\n",
       "      <td>0</td>\n",
       "      <td>0</td>\n",
       "      <td>0</td>\n",
       "      <td>0</td>\n",
       "    </tr>\n",
       "    <tr>\n",
       "      <th>64932</th>\n",
       "      <td>6486631394</td>\n",
       "      <td>0</td>\n",
       "      <td>0</td>\n",
       "      <td>0</td>\n",
       "      <td>1</td>\n",
       "      <td>0</td>\n",
       "      <td>0</td>\n",
       "      <td>Q2</td>\n",
       "      <td>0</td>\n",
       "      <td>1</td>\n",
       "      <td>...</td>\n",
       "      <td>Q1</td>\n",
       "      <td>Free [0,1]</td>\n",
       "      <td>fJeARInTaIjFrdXGqxap6x2T3TpJB84y9zvFsoGGhjk=</td>\n",
       "      <td>qScCQcMQhU296kH9oZSt8WJOwmgoO8LjakbqsWAyX1c=</td>\n",
       "      <td>2</td>\n",
       "      <td>1</td>\n",
       "      <td>0</td>\n",
       "      <td>0</td>\n",
       "      <td>0</td>\n",
       "      <td>0</td>\n",
       "    </tr>\n",
       "  </tbody>\n",
       "</table>\n",
       "<p>64933 rows × 27 columns</p>\n",
       "</div>"
      ],
      "text/plain": [
       "           job ID  priority  different machines restriction  \\\n",
       "0         3418356         9                               0   \n",
       "1         3418405         9                               0   \n",
       "2         6724949         9                               0   \n",
       "3        28185708         1                               0   \n",
       "4       124371644         9                               0   \n",
       "...           ...       ...                             ...   \n",
       "64928  6486612269         1                               0   \n",
       "64929  6486612710         4                               0   \n",
       "64930  6486630408         4                               0   \n",
       "64931  6486631154         8                               0   \n",
       "64932  6486631394         0                               0   \n",
       "\n",
       "       disk space request - Q1  disk space request - Q2  \\\n",
       "0                            0                        0   \n",
       "1                            0                        0   \n",
       "2                            0                        0   \n",
       "3                            1                        0   \n",
       "4                            0                        0   \n",
       "...                        ...                      ...   \n",
       "64928                        0                        1   \n",
       "64929                        0                        0   \n",
       "64930                        0                        1   \n",
       "64931                        0                        1   \n",
       "64932                        0                        1   \n",
       "\n",
       "       disk space request - Q3  disk space request - Q4  \\\n",
       "0                            0                        1   \n",
       "1                            0                        1   \n",
       "2                            0                        1   \n",
       "3                            0                        0   \n",
       "4                            0                        1   \n",
       "...                        ...                      ...   \n",
       "64928                        0                        0   \n",
       "64929                        0                        1   \n",
       "64930                        0                        0   \n",
       "64931                        0                        0   \n",
       "64932                        0                        0   \n",
       "\n",
       "      disk space request - Quartiles  memory request - Q1  \\\n",
       "0                                 Q4                    0   \n",
       "1                                 Q4                    0   \n",
       "2                                 Q4                    0   \n",
       "3                                 Q1                    0   \n",
       "4                                 Q4                    0   \n",
       "...                              ...                  ...   \n",
       "64928                             Q2                    0   \n",
       "64929                             Q4                    0   \n",
       "64930                             Q2                    1   \n",
       "64931                             Q2                    0   \n",
       "64932                             Q2                    0   \n",
       "\n",
       "       memory request - Q2  ...  CPU request - Quartiles  priority labels  \\\n",
       "0                        0  ...                       Q4   Production [9]   \n",
       "1                        0  ...                       Q4   Production [9]   \n",
       "2                        0  ...                       Q4   Production [9]   \n",
       "3                        1  ...                       Q3       Free [0,1]   \n",
       "4                        0  ...                       Q3   Production [9]   \n",
       "...                    ...  ...                      ...              ...   \n",
       "64928                    0  ...                       Q3       Free [0,1]   \n",
       "64929                    0  ...                       Q2      Other [2,8]   \n",
       "64930                    0  ...                       Q3      Other [2,8]   \n",
       "64931                    1  ...                       Q2      Other [2,8]   \n",
       "64932                    1  ...                       Q1       Free [0,1]   \n",
       "\n",
       "                                               user  \\\n",
       "0      70s3v5qRyCO/1PCdI6fVXnrW8FU/w+5CKRSa72xgcIo=   \n",
       "1      70s3v5qRyCO/1PCdI6fVXnrW8FU/w+5CKRSa72xgcIo=   \n",
       "2      70s3v5qRyCO/1PCdI6fVXnrW8FU/w+5CKRSa72xgcIo=   \n",
       "3      WVtO5qw3sNnP4MeiRUnqr07CekrYMU12Mc7GbsgnjhQ=   \n",
       "4      70s3v5qRyCO/1PCdI6fVXnrW8FU/w+5CKRSa72xgcIo=   \n",
       "...                                             ...   \n",
       "64928  E+9U+J1Dicd5PJklbq2e5THQ29X6D8jmqQ0Zu53Kc+o=   \n",
       "64929  HxdST/yDI1TlIkr0Povf9KaXGGG8x4iVXX6o/iSIghM=   \n",
       "64930  fJeARInTaIjFrdXGqxap6x2T3TpJB84y9zvFsoGGhjk=   \n",
       "64931  fJeARInTaIjFrdXGqxap6x2T3TpJB84y9zvFsoGGhjk=   \n",
       "64932  fJeARInTaIjFrdXGqxap6x2T3TpJB84y9zvFsoGGhjk=   \n",
       "\n",
       "                                   logical job name  scheduling class  \\\n",
       "0      fGRnr2XEPDr3kQsPccU/k1LELeeQonkj6hDpTP7ALkg=                 3   \n",
       "1      q6nwarTUw/Xct0ONQEdblvVhW8uWTquTp8C5la5YfRE=                 3   \n",
       "2      4my5Elvc5RumesxoVeuFovkoS28KYA9C3pIBi2bY5Io=                 3   \n",
       "3      JGBCBdeRFciFaU6LrbO9Y5w1lBoZ1MyX5Pnx4m05HK8=                 2   \n",
       "4      HcYZ4RNZRxmh/W+WuzNBOVk4sOCdDshVEB/McWxfyyk=                 3   \n",
       "...                                             ...               ...   \n",
       "64928  QZm5VyyEiL9TpVhasvtcMxPxENJqlNX4Fn2LdEe+Ff0=                 1   \n",
       "64929  YI5372ouHbbTv6b594D2bDWC283uv6QcuE41Mst3BFk=                 0   \n",
       "64930  ZoHIMIMjYenKtCPq0iy70XUxyF0JDf1HuW6yUzS4dBM=                 0   \n",
       "64931  cLRsAgA+ajg6giausco6dsV5PxWsqEJZDLdHWhd6v0E=                 2   \n",
       "64932  qScCQcMQhU296kH9oZSt8WJOwmgoO8LjakbqsWAyX1c=                 2   \n",
       "\n",
       "       K-Means = 2  K-Means = 4 K-Means = 6 K-Means = 8 K-Means = 10  \n",
       "0                0            1           1           1            1  \n",
       "1                0            1           1           1            1  \n",
       "2                0            1           1           1            1  \n",
       "3                0            1           1           1            1  \n",
       "4                0            1           1           1            1  \n",
       "...            ...          ...         ...         ...          ...  \n",
       "64928            1            0           0           0            0  \n",
       "64929            1            3           5           5            4  \n",
       "64930            1            0           0           0            0  \n",
       "64931            1            0           0           0            0  \n",
       "64932            1            0           0           0            0  \n",
       "\n",
       "[64933 rows x 27 columns]"
      ]
     },
     "execution_count": 3,
     "metadata": {},
     "output_type": "execute_result"
    }
   ],
   "source": [
    "static_metrics"
   ]
  },
  {
   "cell_type": "markdown",
   "metadata": {},
   "source": [
    "## TF-IDF"
   ]
  },
  {
   "cell_type": "code",
   "execution_count": 4,
   "metadata": {
    "execution": {
     "iopub.execute_input": "2022-01-26T09:34:52.681944Z",
     "iopub.status.busy": "2022-01-26T09:34:52.681816Z",
     "iopub.status.idle": "2022-01-26T09:34:52.686770Z",
     "shell.execute_reply": "2022-01-26T09:34:52.686284Z",
     "shell.execute_reply.started": "2022-01-26T09:34:52.681929Z"
    },
    "tags": []
   },
   "outputs": [
    {
     "name": "stdout",
     "output_type": "stream",
     "text": [
      "job ID\n",
      "priority\n",
      "different machines restriction\n",
      "disk space request - Q1\n",
      "disk space request - Q2\n",
      "disk space request - Q3\n",
      "disk space request - Q4\n",
      "disk space request - Quartiles\n",
      "memory request - Q1\n",
      "memory request - Q2\n",
      "memory request - Q3\n",
      "memory request - Q4\n",
      "memory request - Quartiles\n",
      "CPU request - Q1\n",
      "CPU request - Q2\n",
      "CPU request - Q3\n",
      "CPU request - Q4\n",
      "CPU request - Quartiles\n",
      "priority labels\n",
      "user\n",
      "logical job name\n",
      "scheduling class\n",
      "K-Means = 2\n",
      "K-Means = 4\n",
      "K-Means = 6\n",
      "K-Means = 8\n",
      "K-Means = 10\n"
     ]
    }
   ],
   "source": [
    "for c in static_metrics.columns:\n",
    "    print(c)"
   ]
  },
  {
   "cell_type": "code",
   "execution_count": 5,
   "metadata": {
    "execution": {
     "iopub.execute_input": "2022-01-26T09:34:52.687601Z",
     "iopub.status.busy": "2022-01-26T09:34:52.687492Z",
     "iopub.status.idle": "2022-01-26T09:34:52.697483Z",
     "shell.execute_reply": "2022-01-26T09:34:52.693364Z",
     "shell.execute_reply.started": "2022-01-26T09:34:52.687587Z"
    },
    "tags": []
   },
   "outputs": [],
   "source": [
    "tfidf_df = static_metrics[['different machines restriction', 'disk space request - Quartiles', 'memory request - Quartiles', 'CPU request - Quartiles', 'priority labels', 'user', 'logical job name', 'scheduling class']]"
   ]
  },
  {
   "cell_type": "code",
   "execution_count": 6,
   "metadata": {
    "execution": {
     "iopub.execute_input": "2022-01-26T09:34:52.698167Z",
     "iopub.status.busy": "2022-01-26T09:34:52.698057Z",
     "iopub.status.idle": "2022-01-26T09:34:52.708839Z",
     "shell.execute_reply": "2022-01-26T09:34:52.708376Z",
     "shell.execute_reply.started": "2022-01-26T09:34:52.698153Z"
    },
    "tags": []
   },
   "outputs": [
    {
     "data": {
      "text/html": [
       "<div>\n",
       "<style scoped>\n",
       "    .dataframe tbody tr th:only-of-type {\n",
       "        vertical-align: middle;\n",
       "    }\n",
       "\n",
       "    .dataframe tbody tr th {\n",
       "        vertical-align: top;\n",
       "    }\n",
       "\n",
       "    .dataframe thead th {\n",
       "        text-align: right;\n",
       "    }\n",
       "</style>\n",
       "<table border=\"1\" class=\"dataframe\">\n",
       "  <thead>\n",
       "    <tr style=\"text-align: right;\">\n",
       "      <th></th>\n",
       "      <th>different machines restriction</th>\n",
       "      <th>disk space request - Quartiles</th>\n",
       "      <th>memory request - Quartiles</th>\n",
       "      <th>CPU request - Quartiles</th>\n",
       "      <th>priority labels</th>\n",
       "      <th>user</th>\n",
       "      <th>logical job name</th>\n",
       "      <th>scheduling class</th>\n",
       "    </tr>\n",
       "  </thead>\n",
       "  <tbody>\n",
       "    <tr>\n",
       "      <th>0</th>\n",
       "      <td>0</td>\n",
       "      <td>Q4</td>\n",
       "      <td>Q4</td>\n",
       "      <td>Q4</td>\n",
       "      <td>Production [9]</td>\n",
       "      <td>70s3v5qRyCO/1PCdI6fVXnrW8FU/w+5CKRSa72xgcIo=</td>\n",
       "      <td>fGRnr2XEPDr3kQsPccU/k1LELeeQonkj6hDpTP7ALkg=</td>\n",
       "      <td>3</td>\n",
       "    </tr>\n",
       "    <tr>\n",
       "      <th>1</th>\n",
       "      <td>0</td>\n",
       "      <td>Q4</td>\n",
       "      <td>Q4</td>\n",
       "      <td>Q4</td>\n",
       "      <td>Production [9]</td>\n",
       "      <td>70s3v5qRyCO/1PCdI6fVXnrW8FU/w+5CKRSa72xgcIo=</td>\n",
       "      <td>q6nwarTUw/Xct0ONQEdblvVhW8uWTquTp8C5la5YfRE=</td>\n",
       "      <td>3</td>\n",
       "    </tr>\n",
       "    <tr>\n",
       "      <th>2</th>\n",
       "      <td>0</td>\n",
       "      <td>Q4</td>\n",
       "      <td>Q4</td>\n",
       "      <td>Q4</td>\n",
       "      <td>Production [9]</td>\n",
       "      <td>70s3v5qRyCO/1PCdI6fVXnrW8FU/w+5CKRSa72xgcIo=</td>\n",
       "      <td>4my5Elvc5RumesxoVeuFovkoS28KYA9C3pIBi2bY5Io=</td>\n",
       "      <td>3</td>\n",
       "    </tr>\n",
       "    <tr>\n",
       "      <th>3</th>\n",
       "      <td>0</td>\n",
       "      <td>Q1</td>\n",
       "      <td>Q2</td>\n",
       "      <td>Q3</td>\n",
       "      <td>Free [0,1]</td>\n",
       "      <td>WVtO5qw3sNnP4MeiRUnqr07CekrYMU12Mc7GbsgnjhQ=</td>\n",
       "      <td>JGBCBdeRFciFaU6LrbO9Y5w1lBoZ1MyX5Pnx4m05HK8=</td>\n",
       "      <td>2</td>\n",
       "    </tr>\n",
       "    <tr>\n",
       "      <th>4</th>\n",
       "      <td>0</td>\n",
       "      <td>Q4</td>\n",
       "      <td>Q4</td>\n",
       "      <td>Q3</td>\n",
       "      <td>Production [9]</td>\n",
       "      <td>70s3v5qRyCO/1PCdI6fVXnrW8FU/w+5CKRSa72xgcIo=</td>\n",
       "      <td>HcYZ4RNZRxmh/W+WuzNBOVk4sOCdDshVEB/McWxfyyk=</td>\n",
       "      <td>3</td>\n",
       "    </tr>\n",
       "    <tr>\n",
       "      <th>...</th>\n",
       "      <td>...</td>\n",
       "      <td>...</td>\n",
       "      <td>...</td>\n",
       "      <td>...</td>\n",
       "      <td>...</td>\n",
       "      <td>...</td>\n",
       "      <td>...</td>\n",
       "      <td>...</td>\n",
       "    </tr>\n",
       "    <tr>\n",
       "      <th>64928</th>\n",
       "      <td>0</td>\n",
       "      <td>Q2</td>\n",
       "      <td>Q3</td>\n",
       "      <td>Q3</td>\n",
       "      <td>Free [0,1]</td>\n",
       "      <td>E+9U+J1Dicd5PJklbq2e5THQ29X6D8jmqQ0Zu53Kc+o=</td>\n",
       "      <td>QZm5VyyEiL9TpVhasvtcMxPxENJqlNX4Fn2LdEe+Ff0=</td>\n",
       "      <td>1</td>\n",
       "    </tr>\n",
       "    <tr>\n",
       "      <th>64929</th>\n",
       "      <td>0</td>\n",
       "      <td>Q4</td>\n",
       "      <td>Q4</td>\n",
       "      <td>Q2</td>\n",
       "      <td>Other [2,8]</td>\n",
       "      <td>HxdST/yDI1TlIkr0Povf9KaXGGG8x4iVXX6o/iSIghM=</td>\n",
       "      <td>YI5372ouHbbTv6b594D2bDWC283uv6QcuE41Mst3BFk=</td>\n",
       "      <td>0</td>\n",
       "    </tr>\n",
       "    <tr>\n",
       "      <th>64930</th>\n",
       "      <td>0</td>\n",
       "      <td>Q2</td>\n",
       "      <td>Q1</td>\n",
       "      <td>Q3</td>\n",
       "      <td>Other [2,8]</td>\n",
       "      <td>fJeARInTaIjFrdXGqxap6x2T3TpJB84y9zvFsoGGhjk=</td>\n",
       "      <td>ZoHIMIMjYenKtCPq0iy70XUxyF0JDf1HuW6yUzS4dBM=</td>\n",
       "      <td>0</td>\n",
       "    </tr>\n",
       "    <tr>\n",
       "      <th>64931</th>\n",
       "      <td>0</td>\n",
       "      <td>Q2</td>\n",
       "      <td>Q2</td>\n",
       "      <td>Q2</td>\n",
       "      <td>Other [2,8]</td>\n",
       "      <td>fJeARInTaIjFrdXGqxap6x2T3TpJB84y9zvFsoGGhjk=</td>\n",
       "      <td>cLRsAgA+ajg6giausco6dsV5PxWsqEJZDLdHWhd6v0E=</td>\n",
       "      <td>2</td>\n",
       "    </tr>\n",
       "    <tr>\n",
       "      <th>64932</th>\n",
       "      <td>0</td>\n",
       "      <td>Q2</td>\n",
       "      <td>Q2</td>\n",
       "      <td>Q1</td>\n",
       "      <td>Free [0,1]</td>\n",
       "      <td>fJeARInTaIjFrdXGqxap6x2T3TpJB84y9zvFsoGGhjk=</td>\n",
       "      <td>qScCQcMQhU296kH9oZSt8WJOwmgoO8LjakbqsWAyX1c=</td>\n",
       "      <td>2</td>\n",
       "    </tr>\n",
       "  </tbody>\n",
       "</table>\n",
       "<p>64933 rows × 8 columns</p>\n",
       "</div>"
      ],
      "text/plain": [
       "       different machines restriction disk space request - Quartiles  \\\n",
       "0                                   0                             Q4   \n",
       "1                                   0                             Q4   \n",
       "2                                   0                             Q4   \n",
       "3                                   0                             Q1   \n",
       "4                                   0                             Q4   \n",
       "...                               ...                            ...   \n",
       "64928                               0                             Q2   \n",
       "64929                               0                             Q4   \n",
       "64930                               0                             Q2   \n",
       "64931                               0                             Q2   \n",
       "64932                               0                             Q2   \n",
       "\n",
       "      memory request - Quartiles CPU request - Quartiles priority labels  \\\n",
       "0                             Q4                      Q4  Production [9]   \n",
       "1                             Q4                      Q4  Production [9]   \n",
       "2                             Q4                      Q4  Production [9]   \n",
       "3                             Q2                      Q3      Free [0,1]   \n",
       "4                             Q4                      Q3  Production [9]   \n",
       "...                          ...                     ...             ...   \n",
       "64928                         Q3                      Q3      Free [0,1]   \n",
       "64929                         Q4                      Q2     Other [2,8]   \n",
       "64930                         Q1                      Q3     Other [2,8]   \n",
       "64931                         Q2                      Q2     Other [2,8]   \n",
       "64932                         Q2                      Q1      Free [0,1]   \n",
       "\n",
       "                                               user  \\\n",
       "0      70s3v5qRyCO/1PCdI6fVXnrW8FU/w+5CKRSa72xgcIo=   \n",
       "1      70s3v5qRyCO/1PCdI6fVXnrW8FU/w+5CKRSa72xgcIo=   \n",
       "2      70s3v5qRyCO/1PCdI6fVXnrW8FU/w+5CKRSa72xgcIo=   \n",
       "3      WVtO5qw3sNnP4MeiRUnqr07CekrYMU12Mc7GbsgnjhQ=   \n",
       "4      70s3v5qRyCO/1PCdI6fVXnrW8FU/w+5CKRSa72xgcIo=   \n",
       "...                                             ...   \n",
       "64928  E+9U+J1Dicd5PJklbq2e5THQ29X6D8jmqQ0Zu53Kc+o=   \n",
       "64929  HxdST/yDI1TlIkr0Povf9KaXGGG8x4iVXX6o/iSIghM=   \n",
       "64930  fJeARInTaIjFrdXGqxap6x2T3TpJB84y9zvFsoGGhjk=   \n",
       "64931  fJeARInTaIjFrdXGqxap6x2T3TpJB84y9zvFsoGGhjk=   \n",
       "64932  fJeARInTaIjFrdXGqxap6x2T3TpJB84y9zvFsoGGhjk=   \n",
       "\n",
       "                                   logical job name  scheduling class  \n",
       "0      fGRnr2XEPDr3kQsPccU/k1LELeeQonkj6hDpTP7ALkg=                 3  \n",
       "1      q6nwarTUw/Xct0ONQEdblvVhW8uWTquTp8C5la5YfRE=                 3  \n",
       "2      4my5Elvc5RumesxoVeuFovkoS28KYA9C3pIBi2bY5Io=                 3  \n",
       "3      JGBCBdeRFciFaU6LrbO9Y5w1lBoZ1MyX5Pnx4m05HK8=                 2  \n",
       "4      HcYZ4RNZRxmh/W+WuzNBOVk4sOCdDshVEB/McWxfyyk=                 3  \n",
       "...                                             ...               ...  \n",
       "64928  QZm5VyyEiL9TpVhasvtcMxPxENJqlNX4Fn2LdEe+Ff0=                 1  \n",
       "64929  YI5372ouHbbTv6b594D2bDWC283uv6QcuE41Mst3BFk=                 0  \n",
       "64930  ZoHIMIMjYenKtCPq0iy70XUxyF0JDf1HuW6yUzS4dBM=                 0  \n",
       "64931  cLRsAgA+ajg6giausco6dsV5PxWsqEJZDLdHWhd6v0E=                 2  \n",
       "64932  qScCQcMQhU296kH9oZSt8WJOwmgoO8LjakbqsWAyX1c=                 2  \n",
       "\n",
       "[64933 rows x 8 columns]"
      ]
     },
     "execution_count": 6,
     "metadata": {},
     "output_type": "execute_result"
    }
   ],
   "source": [
    "tfidf_df"
   ]
  },
  {
   "cell_type": "code",
   "execution_count": 7,
   "metadata": {
    "execution": {
     "iopub.execute_input": "2022-01-26T09:34:52.709426Z",
     "iopub.status.busy": "2022-01-26T09:34:52.709320Z",
     "iopub.status.idle": "2022-01-26T09:34:52.990587Z",
     "shell.execute_reply": "2022-01-26T09:34:52.990013Z",
     "shell.execute_reply.started": "2022-01-26T09:34:52.709413Z"
    },
    "tags": []
   },
   "outputs": [
    {
     "name": "stderr",
     "output_type": "stream",
     "text": [
      "/tmp/ipykernel_68435/1789194000.py:7: SettingWithCopyWarning: \n",
      "A value is trying to be set on a copy of a slice from a DataFrame.\n",
      "Try using .loc[row_indexer,col_indexer] = value instead\n",
      "\n",
      "See the caveats in the documentation: https://pandas.pydata.org/pandas-docs/stable/user_guide/indexing.html#returning-a-view-versus-a-copy\n",
      "  tfidf_df[lab] = joined_vals\n"
     ]
    }
   ],
   "source": [
    "for lab in tfidf_df.columns:\n",
    "    joined_vals = []\n",
    "    for v in tfidf_df[lab].values:\n",
    "        new_v = f\"{lab} {v}\"\n",
    "        new_v = '_'.join(new_v.split(' '))\n",
    "        joined_vals.append(new_v)\n",
    "    tfidf_df[lab] = joined_vals"
   ]
  },
  {
   "cell_type": "code",
   "execution_count": 8,
   "metadata": {
    "execution": {
     "iopub.execute_input": "2022-01-26T09:34:52.991420Z",
     "iopub.status.busy": "2022-01-26T09:34:52.991292Z",
     "iopub.status.idle": "2022-01-26T09:34:53.006455Z",
     "shell.execute_reply": "2022-01-26T09:34:53.005993Z",
     "shell.execute_reply.started": "2022-01-26T09:34:52.991403Z"
    },
    "tags": []
   },
   "outputs": [
    {
     "data": {
      "text/html": [
       "<div>\n",
       "<style scoped>\n",
       "    .dataframe tbody tr th:only-of-type {\n",
       "        vertical-align: middle;\n",
       "    }\n",
       "\n",
       "    .dataframe tbody tr th {\n",
       "        vertical-align: top;\n",
       "    }\n",
       "\n",
       "    .dataframe thead th {\n",
       "        text-align: right;\n",
       "    }\n",
       "</style>\n",
       "<table border=\"1\" class=\"dataframe\">\n",
       "  <thead>\n",
       "    <tr style=\"text-align: right;\">\n",
       "      <th></th>\n",
       "      <th>different machines restriction</th>\n",
       "      <th>disk space request - Quartiles</th>\n",
       "      <th>memory request - Quartiles</th>\n",
       "      <th>CPU request - Quartiles</th>\n",
       "      <th>priority labels</th>\n",
       "      <th>user</th>\n",
       "      <th>logical job name</th>\n",
       "      <th>scheduling class</th>\n",
       "    </tr>\n",
       "  </thead>\n",
       "  <tbody>\n",
       "    <tr>\n",
       "      <th>0</th>\n",
       "      <td>different_machines_restriction_0</td>\n",
       "      <td>disk_space_request_-_Quartiles_Q4</td>\n",
       "      <td>memory_request_-_Quartiles_Q4</td>\n",
       "      <td>CPU_request_-_Quartiles_Q4</td>\n",
       "      <td>priority_labels_Production_[9]</td>\n",
       "      <td>user_70s3v5qRyCO/1PCdI6fVXnrW8FU/w+5CKRSa72xgcIo=</td>\n",
       "      <td>logical_job_name_fGRnr2XEPDr3kQsPccU/k1LELeeQo...</td>\n",
       "      <td>scheduling_class_3</td>\n",
       "    </tr>\n",
       "    <tr>\n",
       "      <th>1</th>\n",
       "      <td>different_machines_restriction_0</td>\n",
       "      <td>disk_space_request_-_Quartiles_Q4</td>\n",
       "      <td>memory_request_-_Quartiles_Q4</td>\n",
       "      <td>CPU_request_-_Quartiles_Q4</td>\n",
       "      <td>priority_labels_Production_[9]</td>\n",
       "      <td>user_70s3v5qRyCO/1PCdI6fVXnrW8FU/w+5CKRSa72xgcIo=</td>\n",
       "      <td>logical_job_name_q6nwarTUw/Xct0ONQEdblvVhW8uWT...</td>\n",
       "      <td>scheduling_class_3</td>\n",
       "    </tr>\n",
       "    <tr>\n",
       "      <th>2</th>\n",
       "      <td>different_machines_restriction_0</td>\n",
       "      <td>disk_space_request_-_Quartiles_Q4</td>\n",
       "      <td>memory_request_-_Quartiles_Q4</td>\n",
       "      <td>CPU_request_-_Quartiles_Q4</td>\n",
       "      <td>priority_labels_Production_[9]</td>\n",
       "      <td>user_70s3v5qRyCO/1PCdI6fVXnrW8FU/w+5CKRSa72xgcIo=</td>\n",
       "      <td>logical_job_name_4my5Elvc5RumesxoVeuFovkoS28KY...</td>\n",
       "      <td>scheduling_class_3</td>\n",
       "    </tr>\n",
       "    <tr>\n",
       "      <th>3</th>\n",
       "      <td>different_machines_restriction_0</td>\n",
       "      <td>disk_space_request_-_Quartiles_Q1</td>\n",
       "      <td>memory_request_-_Quartiles_Q2</td>\n",
       "      <td>CPU_request_-_Quartiles_Q3</td>\n",
       "      <td>priority_labels_Free_[0,1]</td>\n",
       "      <td>user_WVtO5qw3sNnP4MeiRUnqr07CekrYMU12Mc7GbsgnjhQ=</td>\n",
       "      <td>logical_job_name_JGBCBdeRFciFaU6LrbO9Y5w1lBoZ1...</td>\n",
       "      <td>scheduling_class_2</td>\n",
       "    </tr>\n",
       "    <tr>\n",
       "      <th>4</th>\n",
       "      <td>different_machines_restriction_0</td>\n",
       "      <td>disk_space_request_-_Quartiles_Q4</td>\n",
       "      <td>memory_request_-_Quartiles_Q4</td>\n",
       "      <td>CPU_request_-_Quartiles_Q3</td>\n",
       "      <td>priority_labels_Production_[9]</td>\n",
       "      <td>user_70s3v5qRyCO/1PCdI6fVXnrW8FU/w+5CKRSa72xgcIo=</td>\n",
       "      <td>logical_job_name_HcYZ4RNZRxmh/W+WuzNBOVk4sOCdD...</td>\n",
       "      <td>scheduling_class_3</td>\n",
       "    </tr>\n",
       "    <tr>\n",
       "      <th>...</th>\n",
       "      <td>...</td>\n",
       "      <td>...</td>\n",
       "      <td>...</td>\n",
       "      <td>...</td>\n",
       "      <td>...</td>\n",
       "      <td>...</td>\n",
       "      <td>...</td>\n",
       "      <td>...</td>\n",
       "    </tr>\n",
       "    <tr>\n",
       "      <th>64928</th>\n",
       "      <td>different_machines_restriction_0</td>\n",
       "      <td>disk_space_request_-_Quartiles_Q2</td>\n",
       "      <td>memory_request_-_Quartiles_Q3</td>\n",
       "      <td>CPU_request_-_Quartiles_Q3</td>\n",
       "      <td>priority_labels_Free_[0,1]</td>\n",
       "      <td>user_E+9U+J1Dicd5PJklbq2e5THQ29X6D8jmqQ0Zu53Kc+o=</td>\n",
       "      <td>logical_job_name_QZm5VyyEiL9TpVhasvtcMxPxENJql...</td>\n",
       "      <td>scheduling_class_1</td>\n",
       "    </tr>\n",
       "    <tr>\n",
       "      <th>64929</th>\n",
       "      <td>different_machines_restriction_0</td>\n",
       "      <td>disk_space_request_-_Quartiles_Q4</td>\n",
       "      <td>memory_request_-_Quartiles_Q4</td>\n",
       "      <td>CPU_request_-_Quartiles_Q2</td>\n",
       "      <td>priority_labels_Other_[2,8]</td>\n",
       "      <td>user_HxdST/yDI1TlIkr0Povf9KaXGGG8x4iVXX6o/iSIghM=</td>\n",
       "      <td>logical_job_name_YI5372ouHbbTv6b594D2bDWC283uv...</td>\n",
       "      <td>scheduling_class_0</td>\n",
       "    </tr>\n",
       "    <tr>\n",
       "      <th>64930</th>\n",
       "      <td>different_machines_restriction_0</td>\n",
       "      <td>disk_space_request_-_Quartiles_Q2</td>\n",
       "      <td>memory_request_-_Quartiles_Q1</td>\n",
       "      <td>CPU_request_-_Quartiles_Q3</td>\n",
       "      <td>priority_labels_Other_[2,8]</td>\n",
       "      <td>user_fJeARInTaIjFrdXGqxap6x2T3TpJB84y9zvFsoGGhjk=</td>\n",
       "      <td>logical_job_name_ZoHIMIMjYenKtCPq0iy70XUxyF0JD...</td>\n",
       "      <td>scheduling_class_0</td>\n",
       "    </tr>\n",
       "    <tr>\n",
       "      <th>64931</th>\n",
       "      <td>different_machines_restriction_0</td>\n",
       "      <td>disk_space_request_-_Quartiles_Q2</td>\n",
       "      <td>memory_request_-_Quartiles_Q2</td>\n",
       "      <td>CPU_request_-_Quartiles_Q2</td>\n",
       "      <td>priority_labels_Other_[2,8]</td>\n",
       "      <td>user_fJeARInTaIjFrdXGqxap6x2T3TpJB84y9zvFsoGGhjk=</td>\n",
       "      <td>logical_job_name_cLRsAgA+ajg6giausco6dsV5PxWsq...</td>\n",
       "      <td>scheduling_class_2</td>\n",
       "    </tr>\n",
       "    <tr>\n",
       "      <th>64932</th>\n",
       "      <td>different_machines_restriction_0</td>\n",
       "      <td>disk_space_request_-_Quartiles_Q2</td>\n",
       "      <td>memory_request_-_Quartiles_Q2</td>\n",
       "      <td>CPU_request_-_Quartiles_Q1</td>\n",
       "      <td>priority_labels_Free_[0,1]</td>\n",
       "      <td>user_fJeARInTaIjFrdXGqxap6x2T3TpJB84y9zvFsoGGhjk=</td>\n",
       "      <td>logical_job_name_qScCQcMQhU296kH9oZSt8WJOwmgoO...</td>\n",
       "      <td>scheduling_class_2</td>\n",
       "    </tr>\n",
       "  </tbody>\n",
       "</table>\n",
       "<p>64933 rows × 8 columns</p>\n",
       "</div>"
      ],
      "text/plain": [
       "         different machines restriction     disk space request - Quartiles  \\\n",
       "0      different_machines_restriction_0  disk_space_request_-_Quartiles_Q4   \n",
       "1      different_machines_restriction_0  disk_space_request_-_Quartiles_Q4   \n",
       "2      different_machines_restriction_0  disk_space_request_-_Quartiles_Q4   \n",
       "3      different_machines_restriction_0  disk_space_request_-_Quartiles_Q1   \n",
       "4      different_machines_restriction_0  disk_space_request_-_Quartiles_Q4   \n",
       "...                                 ...                                ...   \n",
       "64928  different_machines_restriction_0  disk_space_request_-_Quartiles_Q2   \n",
       "64929  different_machines_restriction_0  disk_space_request_-_Quartiles_Q4   \n",
       "64930  different_machines_restriction_0  disk_space_request_-_Quartiles_Q2   \n",
       "64931  different_machines_restriction_0  disk_space_request_-_Quartiles_Q2   \n",
       "64932  different_machines_restriction_0  disk_space_request_-_Quartiles_Q2   \n",
       "\n",
       "          memory request - Quartiles     CPU request - Quartiles  \\\n",
       "0      memory_request_-_Quartiles_Q4  CPU_request_-_Quartiles_Q4   \n",
       "1      memory_request_-_Quartiles_Q4  CPU_request_-_Quartiles_Q4   \n",
       "2      memory_request_-_Quartiles_Q4  CPU_request_-_Quartiles_Q4   \n",
       "3      memory_request_-_Quartiles_Q2  CPU_request_-_Quartiles_Q3   \n",
       "4      memory_request_-_Quartiles_Q4  CPU_request_-_Quartiles_Q3   \n",
       "...                              ...                         ...   \n",
       "64928  memory_request_-_Quartiles_Q3  CPU_request_-_Quartiles_Q3   \n",
       "64929  memory_request_-_Quartiles_Q4  CPU_request_-_Quartiles_Q2   \n",
       "64930  memory_request_-_Quartiles_Q1  CPU_request_-_Quartiles_Q3   \n",
       "64931  memory_request_-_Quartiles_Q2  CPU_request_-_Quartiles_Q2   \n",
       "64932  memory_request_-_Quartiles_Q2  CPU_request_-_Quartiles_Q1   \n",
       "\n",
       "                      priority labels  \\\n",
       "0      priority_labels_Production_[9]   \n",
       "1      priority_labels_Production_[9]   \n",
       "2      priority_labels_Production_[9]   \n",
       "3          priority_labels_Free_[0,1]   \n",
       "4      priority_labels_Production_[9]   \n",
       "...                               ...   \n",
       "64928      priority_labels_Free_[0,1]   \n",
       "64929     priority_labels_Other_[2,8]   \n",
       "64930     priority_labels_Other_[2,8]   \n",
       "64931     priority_labels_Other_[2,8]   \n",
       "64932      priority_labels_Free_[0,1]   \n",
       "\n",
       "                                                    user  \\\n",
       "0      user_70s3v5qRyCO/1PCdI6fVXnrW8FU/w+5CKRSa72xgcIo=   \n",
       "1      user_70s3v5qRyCO/1PCdI6fVXnrW8FU/w+5CKRSa72xgcIo=   \n",
       "2      user_70s3v5qRyCO/1PCdI6fVXnrW8FU/w+5CKRSa72xgcIo=   \n",
       "3      user_WVtO5qw3sNnP4MeiRUnqr07CekrYMU12Mc7GbsgnjhQ=   \n",
       "4      user_70s3v5qRyCO/1PCdI6fVXnrW8FU/w+5CKRSa72xgcIo=   \n",
       "...                                                  ...   \n",
       "64928  user_E+9U+J1Dicd5PJklbq2e5THQ29X6D8jmqQ0Zu53Kc+o=   \n",
       "64929  user_HxdST/yDI1TlIkr0Povf9KaXGGG8x4iVXX6o/iSIghM=   \n",
       "64930  user_fJeARInTaIjFrdXGqxap6x2T3TpJB84y9zvFsoGGhjk=   \n",
       "64931  user_fJeARInTaIjFrdXGqxap6x2T3TpJB84y9zvFsoGGhjk=   \n",
       "64932  user_fJeARInTaIjFrdXGqxap6x2T3TpJB84y9zvFsoGGhjk=   \n",
       "\n",
       "                                        logical job name    scheduling class  \n",
       "0      logical_job_name_fGRnr2XEPDr3kQsPccU/k1LELeeQo...  scheduling_class_3  \n",
       "1      logical_job_name_q6nwarTUw/Xct0ONQEdblvVhW8uWT...  scheduling_class_3  \n",
       "2      logical_job_name_4my5Elvc5RumesxoVeuFovkoS28KY...  scheduling_class_3  \n",
       "3      logical_job_name_JGBCBdeRFciFaU6LrbO9Y5w1lBoZ1...  scheduling_class_2  \n",
       "4      logical_job_name_HcYZ4RNZRxmh/W+WuzNBOVk4sOCdD...  scheduling_class_3  \n",
       "...                                                  ...                 ...  \n",
       "64928  logical_job_name_QZm5VyyEiL9TpVhasvtcMxPxENJql...  scheduling_class_1  \n",
       "64929  logical_job_name_YI5372ouHbbTv6b594D2bDWC283uv...  scheduling_class_0  \n",
       "64930  logical_job_name_ZoHIMIMjYenKtCPq0iy70XUxyF0JD...  scheduling_class_0  \n",
       "64931  logical_job_name_cLRsAgA+ajg6giausco6dsV5PxWsq...  scheduling_class_2  \n",
       "64932  logical_job_name_qScCQcMQhU296kH9oZSt8WJOwmgoO...  scheduling_class_2  \n",
       "\n",
       "[64933 rows x 8 columns]"
      ]
     },
     "execution_count": 8,
     "metadata": {},
     "output_type": "execute_result"
    }
   ],
   "source": [
    "tfidf_df"
   ]
  },
  {
   "cell_type": "code",
   "execution_count": 9,
   "metadata": {
    "execution": {
     "iopub.execute_input": "2022-01-26T09:34:53.007176Z",
     "iopub.status.busy": "2022-01-26T09:34:53.007065Z",
     "iopub.status.idle": "2022-01-26T09:36:35.856236Z",
     "shell.execute_reply": "2022-01-26T09:36:35.854783Z",
     "shell.execute_reply.started": "2022-01-26T09:34:53.007162Z"
    },
    "tags": []
   },
   "outputs": [],
   "source": [
    "k = 4\n",
    "documents = []\n",
    "for i in range(k):\n",
    "    document_df = tfidf_df[static_metrics[f\"K-Means = {k}\"] == i]\n",
    "    document = []\n",
    "    for val in document_df.values:\n",
    "        document = document + list(val)\n",
    "    documents.append(document)"
   ]
  },
  {
   "cell_type": "code",
   "execution_count": 10,
   "metadata": {
    "execution": {
     "iopub.execute_input": "2022-01-26T09:36:35.857544Z",
     "iopub.status.busy": "2022-01-26T09:36:35.857385Z",
     "iopub.status.idle": "2022-01-26T09:36:35.893615Z",
     "shell.execute_reply": "2022-01-26T09:36:35.893073Z",
     "shell.execute_reply.started": "2022-01-26T09:36:35.857526Z"
    },
    "tags": []
   },
   "outputs": [],
   "source": [
    "uniqueWords = set(documents[0])\n",
    "for i in range(1, k):\n",
    "    uniqueWords = uniqueWords.union(set(documents[i]))"
   ]
  },
  {
   "cell_type": "code",
   "execution_count": 11,
   "metadata": {
    "execution": {
     "iopub.execute_input": "2022-01-26T09:36:35.906076Z",
     "iopub.status.busy": "2022-01-26T09:36:35.905741Z",
     "iopub.status.idle": "2022-01-26T09:36:35.981289Z",
     "shell.execute_reply": "2022-01-26T09:36:35.980731Z",
     "shell.execute_reply.started": "2022-01-26T09:36:35.906056Z"
    },
    "tags": []
   },
   "outputs": [],
   "source": [
    "numOfWords = []\n",
    "for i in range(k):\n",
    "    numOfWordsDoc = dict.fromkeys(uniqueWords, 0)\n",
    "    for word in documents[i]:\n",
    "        numOfWordsDoc[word] += 1\n",
    "    numOfWords.append(numOfWordsDoc)"
   ]
  },
  {
   "cell_type": "markdown",
   "metadata": {},
   "source": [
    "### Term Frequency (TF)\n",
    "The number of times a word appears in a document, divided by the total number of words in the document. Every document has its own term frequency.\n",
    "\n",
    "$\\text{tf}(t, d) = \\frac{f_{t,d}}{\\sum_{t^{'} \\in d}f_{t^{'},d}}$\n",
    "\n",
    "where $f_{t,d}$ is the raw count of a term in a document, i.e., the number of times that term $t$ occurs in document $d$."
   ]
  },
  {
   "cell_type": "code",
   "execution_count": 12,
   "metadata": {
    "execution": {
     "iopub.execute_input": "2022-01-26T09:36:35.982106Z",
     "iopub.status.busy": "2022-01-26T09:36:35.981967Z",
     "iopub.status.idle": "2022-01-26T09:36:35.986532Z",
     "shell.execute_reply": "2022-01-26T09:36:35.986040Z",
     "shell.execute_reply.started": "2022-01-26T09:36:35.982090Z"
    },
    "tags": []
   },
   "outputs": [],
   "source": [
    "def computeTF(wordDict, bagOfWords):\n",
    "    tfDict =  {}\n",
    "    bagOfWordsCount = len(bagOfWords)\n",
    "    for word, count in wordDict.items():\n",
    "        tfDict[word] = count / float(bagOfWordsCount)\n",
    "    return tfDict"
   ]
  },
  {
   "cell_type": "code",
   "execution_count": 13,
   "metadata": {
    "execution": {
     "iopub.execute_input": "2022-01-26T09:36:35.987271Z",
     "iopub.status.busy": "2022-01-26T09:36:35.987160Z",
     "iopub.status.idle": "2022-01-26T09:36:36.000776Z",
     "shell.execute_reply": "2022-01-26T09:36:36.000259Z",
     "shell.execute_reply.started": "2022-01-26T09:36:35.987257Z"
    },
    "tags": []
   },
   "outputs": [],
   "source": [
    "tfs = []\n",
    "for i in range(k):\n",
    "    tfs.append(computeTF(numOfWords[i], documents[i]))\n",
    "    "
   ]
  },
  {
   "cell_type": "markdown",
   "metadata": {},
   "source": [
    "### Inverse Document Frequency (IDF)\n",
    "The inverse document frequency is a measure of how much information the word provides, i.e., if it's common or rare across all documents. It is the logarithmically scaled inverse fraction of the documents that contain the word (obtained by dividing the total number of documents by the number of documents containing the term, and then taking the logarithm of that quotient.\n",
    "\n",
    "$\\text{idf}(t,D) = log\\frac{N}{|\\{ f_{t^{'},d}: \\text{ } t^{'} \\in d  \\}|}  $\n",
    "\n",
    "with:\n",
    "- $N$: total number of documents in the corpus $ N = |D|$\n",
    "- $|\\{ f_{t^{'},d}: \\text{ } t^{'} \\in d  \\}|$: number of documents where the term $t$ appears (i.e., $\\text{tf}(t,d) \\neq 0$). If the term is not in the corpus, this will lead to a division-by-zero. It is therefore common to adjust the denominator to $1 + |\\{ f_{t^{'},d}: \\text{ } t^{'} \\in d  \\}|$\n"
   ]
  },
  {
   "cell_type": "code",
   "execution_count": 14,
   "metadata": {
    "execution": {
     "iopub.execute_input": "2022-01-26T09:36:36.001606Z",
     "iopub.status.busy": "2022-01-26T09:36:36.001496Z",
     "iopub.status.idle": "2022-01-26T09:36:36.006170Z",
     "shell.execute_reply": "2022-01-26T09:36:36.005409Z",
     "shell.execute_reply.started": "2022-01-26T09:36:36.001593Z"
    },
    "tags": []
   },
   "outputs": [],
   "source": [
    "def computeIDF(documents):\n",
    "    N = len(documents)\n",
    "    idfDict = dict.fromkeys(documents[0].keys(), 0)\n",
    "    for document in documents:\n",
    "        for word, val in document.items():\n",
    "            if val > 0:\n",
    "                idfDict[word] += 1\n",
    "            else:\n",
    "                idfDict[word] = 1\n",
    "    for word, val in idfDict.items():\n",
    "        idfDict[word] = math.log(N / float(val))\n",
    "    return idfDict"
   ]
  },
  {
   "cell_type": "code",
   "execution_count": 15,
   "metadata": {
    "execution": {
     "iopub.execute_input": "2022-01-26T09:36:36.006694Z",
     "iopub.status.busy": "2022-01-26T09:36:36.006588Z",
     "iopub.status.idle": "2022-01-26T09:36:36.018688Z",
     "shell.execute_reply": "2022-01-26T09:36:36.017956Z",
     "shell.execute_reply.started": "2022-01-26T09:36:36.006681Z"
    },
    "tags": []
   },
   "outputs": [],
   "source": [
    "idfs = computeIDF(numOfWords)"
   ]
  },
  {
   "cell_type": "markdown",
   "metadata": {},
   "source": [
    "### TF-IDF\n",
    "\n",
    "Lastly, the TF-IDF is simply the TF multiplied by IDF.\n",
    "\n",
    "$\\text{tfidf}(t, d, D) = \\text{tf} \\cdot \\text{idf}(t, D)$"
   ]
  },
  {
   "cell_type": "code",
   "execution_count": 16,
   "metadata": {
    "execution": {
     "iopub.execute_input": "2022-01-26T09:36:36.019310Z",
     "iopub.status.busy": "2022-01-26T09:36:36.019202Z",
     "iopub.status.idle": "2022-01-26T09:36:36.022687Z",
     "shell.execute_reply": "2022-01-26T09:36:36.021959Z",
     "shell.execute_reply.started": "2022-01-26T09:36:36.019296Z"
    },
    "tags": []
   },
   "outputs": [],
   "source": [
    "def computeTFIDF(tfBagOfWords, idfs):\n",
    "    tfidf = {}\n",
    "    for word, val in tfBagOfWords.items():\n",
    "        tfidf[word] = val * idfs[word]\n",
    "    return tfidf"
   ]
  },
  {
   "cell_type": "code",
   "execution_count": 17,
   "metadata": {
    "execution": {
     "iopub.execute_input": "2022-01-26T09:36:36.023351Z",
     "iopub.status.busy": "2022-01-26T09:36:36.023244Z",
     "iopub.status.idle": "2022-01-26T09:36:36.033930Z",
     "shell.execute_reply": "2022-01-26T09:36:36.033424Z",
     "shell.execute_reply.started": "2022-01-26T09:36:36.023337Z"
    },
    "tags": []
   },
   "outputs": [],
   "source": [
    "tfidfs = []\n",
    "for i in range(k):\n",
    "    tfidfs.append(computeTFIDF(tfs[i], idfs))"
   ]
  },
  {
   "cell_type": "code",
   "execution_count": 18,
   "metadata": {
    "execution": {
     "iopub.execute_input": "2022-01-26T09:36:36.034583Z",
     "iopub.status.busy": "2022-01-26T09:36:36.034475Z",
     "iopub.status.idle": "2022-01-26T09:36:36.224316Z",
     "shell.execute_reply": "2022-01-26T09:36:36.223556Z",
     "shell.execute_reply.started": "2022-01-26T09:36:36.034570Z"
    },
    "tags": []
   },
   "outputs": [],
   "source": [
    "tfidf_df = pd.DataFrame(tfidfs)"
   ]
  },
  {
   "cell_type": "code",
   "execution_count": 19,
   "metadata": {
    "execution": {
     "iopub.execute_input": "2022-01-26T09:36:36.225361Z",
     "iopub.status.busy": "2022-01-26T09:36:36.225158Z",
     "iopub.status.idle": "2022-01-26T09:36:36.245673Z",
     "shell.execute_reply": "2022-01-26T09:36:36.245216Z",
     "shell.execute_reply.started": "2022-01-26T09:36:36.225335Z"
    },
    "tags": []
   },
   "outputs": [
    {
     "data": {
      "text/html": [
       "<div>\n",
       "<style scoped>\n",
       "    .dataframe tbody tr th:only-of-type {\n",
       "        vertical-align: middle;\n",
       "    }\n",
       "\n",
       "    .dataframe tbody tr th {\n",
       "        vertical-align: top;\n",
       "    }\n",
       "\n",
       "    .dataframe thead th {\n",
       "        text-align: right;\n",
       "    }\n",
       "</style>\n",
       "<table border=\"1\" class=\"dataframe\">\n",
       "  <thead>\n",
       "    <tr style=\"text-align: right;\">\n",
       "      <th></th>\n",
       "      <th>logical_job_name_okBmyjLBOcWT2DoKYecrherG9WFOoOoYhJxPutBoIRo=</th>\n",
       "      <th>logical_job_name_cX4isFgXx5cs/PeUhwgN+itgwSwnZlvJkhqM+ChJ4Rw=</th>\n",
       "      <th>logical_job_name_MhI8rAkL3VZMiRXvLtFyN9Ti0+CRvSW8IaEjs1hE0tk=</th>\n",
       "      <th>logical_job_name_bfM1ml8zZPrkbWQc93RJqOkmBv9iSCGPW2CDpn1F+Yg=</th>\n",
       "      <th>logical_job_name_4pVEl/jd6YEK5LfOAO/wQ5MOPQIFSQfRLk9CHX06zVw=</th>\n",
       "      <th>logical_job_name_Fl90fBVvcu40Zccqczs/KgJQmg4XKC61wNplpNLd5lc=</th>\n",
       "      <th>logical_job_name_aCn6yqik5lfjEOxTPg9W2dEUuU/czXr8kRu6PLtJCHI=</th>\n",
       "      <th>logical_job_name_aG95SNbdO1JyJ1lpZCW9uwmOGOEj0quXY7BV9QNxcYo=</th>\n",
       "      <th>logical_job_name_9jUi5SI8LjopngXrzhPFcZ1nKWZr7ciN7CNQI4AbDDI=</th>\n",
       "      <th>logical_job_name_TzGRwzlGZnw63lr8Gz5qURuff10m6ARR2uFNZHfg9Rw=</th>\n",
       "      <th>...</th>\n",
       "      <th>logical_job_name_VaZVDI2uTC4DTLo4WkoBqheScNJ58rgWRSQgOCUpDYw=</th>\n",
       "      <th>logical_job_name_HQhK2nuf0siPMxcATv+IeNMLloUwrLk5mrOkFWT1bd8=</th>\n",
       "      <th>user_Qa3VK/X2IoSeou0RPVShM6BIDRan8y6otNNWefTP8W4=</th>\n",
       "      <th>logical_job_name_pii/8UAsurgZi5WLZlhnyHfBv5EOpzXk5S9sSGVndGs=</th>\n",
       "      <th>logical_job_name_RIktO+Co4LdhX9a994G2+EKo6Ke+sL19A1YLyWc+15U=</th>\n",
       "      <th>logical_job_name_ggiMwWSbB6TxLrtEgHCIveNLL4dV90sNadHzMnDeKXM=</th>\n",
       "      <th>logical_job_name_8pO7ruFieHGPcvPj1XA7h7ChGGUpwg/ysFwzzITrRT8=</th>\n",
       "      <th>logical_job_name_7wOxGIT+kvnMoQ6X+9YsLY2a5ii8BSeHWjvMzFPzYuY=</th>\n",
       "      <th>logical_job_name_QvYElg2QruC5NEih6aEzRC5sn6LMNddXw0hm7yM+a4U=</th>\n",
       "      <th>logical_job_name_vK2axMSmXLcApaQTTpcKC/vVswFlA1sY78rqgcoWCc0=</th>\n",
       "    </tr>\n",
       "  </thead>\n",
       "  <tbody>\n",
       "    <tr>\n",
       "      <th>0</th>\n",
       "      <td>0.00001</td>\n",
       "      <td>0.000008</td>\n",
       "      <td>0.000007</td>\n",
       "      <td>0.000013</td>\n",
       "      <td>0.000000</td>\n",
       "      <td>0.000003</td>\n",
       "      <td>0.000002</td>\n",
       "      <td>0.000007</td>\n",
       "      <td>0.000013</td>\n",
       "      <td>0.000003</td>\n",
       "      <td>...</td>\n",
       "      <td>0.00001</td>\n",
       "      <td>0.000280</td>\n",
       "      <td>0.000000</td>\n",
       "      <td>0.000007</td>\n",
       "      <td>0.000000</td>\n",
       "      <td>0.000007</td>\n",
       "      <td>0.000012</td>\n",
       "      <td>0.000003</td>\n",
       "      <td>0.000003</td>\n",
       "      <td>0.000007</td>\n",
       "    </tr>\n",
       "    <tr>\n",
       "      <th>1</th>\n",
       "      <td>0.00000</td>\n",
       "      <td>0.000000</td>\n",
       "      <td>0.000000</td>\n",
       "      <td>0.000000</td>\n",
       "      <td>0.000000</td>\n",
       "      <td>0.000000</td>\n",
       "      <td>0.000000</td>\n",
       "      <td>0.000000</td>\n",
       "      <td>0.000000</td>\n",
       "      <td>0.000000</td>\n",
       "      <td>...</td>\n",
       "      <td>0.00000</td>\n",
       "      <td>0.000000</td>\n",
       "      <td>0.000501</td>\n",
       "      <td>0.000000</td>\n",
       "      <td>0.000000</td>\n",
       "      <td>0.000000</td>\n",
       "      <td>0.000000</td>\n",
       "      <td>0.000000</td>\n",
       "      <td>0.000000</td>\n",
       "      <td>0.000000</td>\n",
       "    </tr>\n",
       "    <tr>\n",
       "      <th>2</th>\n",
       "      <td>0.00000</td>\n",
       "      <td>0.000000</td>\n",
       "      <td>0.000000</td>\n",
       "      <td>0.000000</td>\n",
       "      <td>0.000000</td>\n",
       "      <td>0.000000</td>\n",
       "      <td>0.000000</td>\n",
       "      <td>0.000000</td>\n",
       "      <td>0.000000</td>\n",
       "      <td>0.000000</td>\n",
       "      <td>...</td>\n",
       "      <td>0.00000</td>\n",
       "      <td>0.000267</td>\n",
       "      <td>0.000000</td>\n",
       "      <td>0.000000</td>\n",
       "      <td>0.000000</td>\n",
       "      <td>0.000000</td>\n",
       "      <td>0.000000</td>\n",
       "      <td>0.000000</td>\n",
       "      <td>0.000000</td>\n",
       "      <td>0.000000</td>\n",
       "    </tr>\n",
       "    <tr>\n",
       "      <th>3</th>\n",
       "      <td>0.00000</td>\n",
       "      <td>0.000015</td>\n",
       "      <td>0.000000</td>\n",
       "      <td>0.000000</td>\n",
       "      <td>0.000008</td>\n",
       "      <td>0.000000</td>\n",
       "      <td>0.000008</td>\n",
       "      <td>0.000000</td>\n",
       "      <td>0.000000</td>\n",
       "      <td>0.000000</td>\n",
       "      <td>...</td>\n",
       "      <td>0.00000</td>\n",
       "      <td>0.000285</td>\n",
       "      <td>0.000000</td>\n",
       "      <td>0.000000</td>\n",
       "      <td>0.000008</td>\n",
       "      <td>0.000000</td>\n",
       "      <td>0.000008</td>\n",
       "      <td>0.000000</td>\n",
       "      <td>0.000000</td>\n",
       "      <td>0.000008</td>\n",
       "    </tr>\n",
       "  </tbody>\n",
       "</table>\n",
       "<p>4 rows × 11756 columns</p>\n",
       "</div>"
      ],
      "text/plain": [
       "   logical_job_name_okBmyjLBOcWT2DoKYecrherG9WFOoOoYhJxPutBoIRo=  \\\n",
       "0                                            0.00001               \n",
       "1                                            0.00000               \n",
       "2                                            0.00000               \n",
       "3                                            0.00000               \n",
       "\n",
       "   logical_job_name_cX4isFgXx5cs/PeUhwgN+itgwSwnZlvJkhqM+ChJ4Rw=  \\\n",
       "0                                           0.000008               \n",
       "1                                           0.000000               \n",
       "2                                           0.000000               \n",
       "3                                           0.000015               \n",
       "\n",
       "   logical_job_name_MhI8rAkL3VZMiRXvLtFyN9Ti0+CRvSW8IaEjs1hE0tk=  \\\n",
       "0                                           0.000007               \n",
       "1                                           0.000000               \n",
       "2                                           0.000000               \n",
       "3                                           0.000000               \n",
       "\n",
       "   logical_job_name_bfM1ml8zZPrkbWQc93RJqOkmBv9iSCGPW2CDpn1F+Yg=  \\\n",
       "0                                           0.000013               \n",
       "1                                           0.000000               \n",
       "2                                           0.000000               \n",
       "3                                           0.000000               \n",
       "\n",
       "   logical_job_name_4pVEl/jd6YEK5LfOAO/wQ5MOPQIFSQfRLk9CHX06zVw=  \\\n",
       "0                                           0.000000               \n",
       "1                                           0.000000               \n",
       "2                                           0.000000               \n",
       "3                                           0.000008               \n",
       "\n",
       "   logical_job_name_Fl90fBVvcu40Zccqczs/KgJQmg4XKC61wNplpNLd5lc=  \\\n",
       "0                                           0.000003               \n",
       "1                                           0.000000               \n",
       "2                                           0.000000               \n",
       "3                                           0.000000               \n",
       "\n",
       "   logical_job_name_aCn6yqik5lfjEOxTPg9W2dEUuU/czXr8kRu6PLtJCHI=  \\\n",
       "0                                           0.000002               \n",
       "1                                           0.000000               \n",
       "2                                           0.000000               \n",
       "3                                           0.000008               \n",
       "\n",
       "   logical_job_name_aG95SNbdO1JyJ1lpZCW9uwmOGOEj0quXY7BV9QNxcYo=  \\\n",
       "0                                           0.000007               \n",
       "1                                           0.000000               \n",
       "2                                           0.000000               \n",
       "3                                           0.000000               \n",
       "\n",
       "   logical_job_name_9jUi5SI8LjopngXrzhPFcZ1nKWZr7ciN7CNQI4AbDDI=  \\\n",
       "0                                           0.000013               \n",
       "1                                           0.000000               \n",
       "2                                           0.000000               \n",
       "3                                           0.000000               \n",
       "\n",
       "   logical_job_name_TzGRwzlGZnw63lr8Gz5qURuff10m6ARR2uFNZHfg9Rw=  ...  \\\n",
       "0                                           0.000003              ...   \n",
       "1                                           0.000000              ...   \n",
       "2                                           0.000000              ...   \n",
       "3                                           0.000000              ...   \n",
       "\n",
       "   logical_job_name_VaZVDI2uTC4DTLo4WkoBqheScNJ58rgWRSQgOCUpDYw=  \\\n",
       "0                                            0.00001               \n",
       "1                                            0.00000               \n",
       "2                                            0.00000               \n",
       "3                                            0.00000               \n",
       "\n",
       "   logical_job_name_HQhK2nuf0siPMxcATv+IeNMLloUwrLk5mrOkFWT1bd8=  \\\n",
       "0                                           0.000280               \n",
       "1                                           0.000000               \n",
       "2                                           0.000267               \n",
       "3                                           0.000285               \n",
       "\n",
       "   user_Qa3VK/X2IoSeou0RPVShM6BIDRan8y6otNNWefTP8W4=  \\\n",
       "0                                           0.000000   \n",
       "1                                           0.000501   \n",
       "2                                           0.000000   \n",
       "3                                           0.000000   \n",
       "\n",
       "   logical_job_name_pii/8UAsurgZi5WLZlhnyHfBv5EOpzXk5S9sSGVndGs=  \\\n",
       "0                                           0.000007               \n",
       "1                                           0.000000               \n",
       "2                                           0.000000               \n",
       "3                                           0.000000               \n",
       "\n",
       "   logical_job_name_RIktO+Co4LdhX9a994G2+EKo6Ke+sL19A1YLyWc+15U=  \\\n",
       "0                                           0.000000               \n",
       "1                                           0.000000               \n",
       "2                                           0.000000               \n",
       "3                                           0.000008               \n",
       "\n",
       "   logical_job_name_ggiMwWSbB6TxLrtEgHCIveNLL4dV90sNadHzMnDeKXM=  \\\n",
       "0                                           0.000007               \n",
       "1                                           0.000000               \n",
       "2                                           0.000000               \n",
       "3                                           0.000000               \n",
       "\n",
       "   logical_job_name_8pO7ruFieHGPcvPj1XA7h7ChGGUpwg/ysFwzzITrRT8=  \\\n",
       "0                                           0.000012               \n",
       "1                                           0.000000               \n",
       "2                                           0.000000               \n",
       "3                                           0.000008               \n",
       "\n",
       "   logical_job_name_7wOxGIT+kvnMoQ6X+9YsLY2a5ii8BSeHWjvMzFPzYuY=  \\\n",
       "0                                           0.000003               \n",
       "1                                           0.000000               \n",
       "2                                           0.000000               \n",
       "3                                           0.000000               \n",
       "\n",
       "   logical_job_name_QvYElg2QruC5NEih6aEzRC5sn6LMNddXw0hm7yM+a4U=  \\\n",
       "0                                           0.000003               \n",
       "1                                           0.000000               \n",
       "2                                           0.000000               \n",
       "3                                           0.000000               \n",
       "\n",
       "   logical_job_name_vK2axMSmXLcApaQTTpcKC/vVswFlA1sY78rqgcoWCc0=  \n",
       "0                                           0.000007              \n",
       "1                                           0.000000              \n",
       "2                                           0.000000              \n",
       "3                                           0.000008              \n",
       "\n",
       "[4 rows x 11756 columns]"
      ]
     },
     "execution_count": 19,
     "metadata": {},
     "output_type": "execute_result"
    }
   ],
   "source": [
    "tfidf_df"
   ]
  },
  {
   "cell_type": "code",
   "execution_count": 20,
   "metadata": {
    "execution": {
     "iopub.execute_input": "2022-01-26T09:36:36.246553Z",
     "iopub.status.busy": "2022-01-26T09:36:36.246443Z",
     "iopub.status.idle": "2022-01-26T09:36:36.262669Z",
     "shell.execute_reply": "2022-01-26T09:36:36.262210Z",
     "shell.execute_reply.started": "2022-01-26T09:36:36.246539Z"
    },
    "tags": []
   },
   "outputs": [
    {
     "data": {
      "text/html": [
       "<div>\n",
       "<style scoped>\n",
       "    .dataframe tbody tr th:only-of-type {\n",
       "        vertical-align: middle;\n",
       "    }\n",
       "\n",
       "    .dataframe tbody tr th {\n",
       "        vertical-align: top;\n",
       "    }\n",
       "\n",
       "    .dataframe thead th {\n",
       "        text-align: right;\n",
       "    }\n",
       "</style>\n",
       "<table border=\"1\" class=\"dataframe\">\n",
       "  <thead>\n",
       "    <tr style=\"text-align: right;\">\n",
       "      <th></th>\n",
       "      <th>user_njTE8BZMxQTFTmz+xeDNc6MGCjP2WhS6B4xK9+rTh8E=</th>\n",
       "      <th>logical_job_name_j25eTfDZ4FFHzd7p+VKe13tP4+iQbKkHk9VI0SBK/nE=</th>\n",
       "      <th>user_P/b25hVu6/7A0BJOLJFXi0VLXUOprxPTVtOKXlp/w/Y=</th>\n",
       "      <th>logical_job_name_9q2rn++rPMOVeDylVv/NchnIKQxmfBwzF5ZoKhSvgP0=</th>\n",
       "      <th>logical_job_name_PqaHcqiH62FESqU41XFHq+UbXe0VvgZXuw+kdGrOucs=</th>\n",
       "      <th>logical_job_name_oHQYViMUeNEojiW9p3u0Vdt8N4KBASt2eODnyJhwSSo=</th>\n",
       "      <th>logical_job_name_G/9E4AW9fSviXbmdFO5BBcjVd49zuI1AIU5gHQJLm+8=</th>\n",
       "      <th>logical_job_name_ZQ+bFefVT1UByX7mRuMBv2rx61PckQWrFvG4Ymz2lF8=</th>\n",
       "      <th>logical_job_name_cNpu9y/02mA/fshHIHLxtmdpCmusNhJoThVIDS3WLHg=</th>\n",
       "      <th>logical_job_name_AmKr63lD9MIGXiAacmzoj6kQMGqk2U0M89A2RkgB6uc=</th>\n",
       "      <th>...</th>\n",
       "      <th>logical_job_name_SJxXg3days6/YJeQ4RnTVXhtcyuMqd0LsZG8ktkZoqY=</th>\n",
       "      <th>logical_job_name_HEPTM21y4+G36CQGmnfFL0iadS4Bf0zTfCj9geVaMX8=</th>\n",
       "      <th>user_QNAoYqaQ6zr6XI7IBXnHOYYG3aBK0enRLfpJFF8dUxQ=</th>\n",
       "      <th>logical_job_name_6snJ8nmjqhCbEHChlhu5qCB14QkSlqmChGU8EbM7Pvw=</th>\n",
       "      <th>logical_job_name_vfqjdzh/3MFwUmB8Y5YRAprGMfx9JocF+GF6LaoT9oQ=</th>\n",
       "      <th>logical_job_name_8QVFPdIBLbHgY4AvuEiCD7OM8XDrPJPvKGwfQIWbbUw=</th>\n",
       "      <th>logical_job_name_QGsw2XBuW91V3iPYeXAzia+K651aDze2Vc1F0DhPENQ=</th>\n",
       "      <th>logical_job_name_7URdQ6jM7uzbkzhSdXRu49b7VTYIQtQTBydFxEwFfrw=</th>\n",
       "      <th>logical_job_name_j6pv8mtSfzspbtOiNjsIPYwEnqX8fhS6oL7QXhC83ME=</th>\n",
       "      <th>user_80t8cCbClG5TBydQy26SoOacM7sJ10KDnGkT6uuLYlA=</th>\n",
       "    </tr>\n",
       "  </thead>\n",
       "  <tbody>\n",
       "    <tr>\n",
       "      <th>0</th>\n",
       "      <td>0.001862</td>\n",
       "      <td>0.001077</td>\n",
       "      <td>0.000308</td>\n",
       "      <td>0.000233</td>\n",
       "      <td>0.000199</td>\n",
       "      <td>0.000235</td>\n",
       "      <td>0.000907</td>\n",
       "      <td>0.000434</td>\n",
       "      <td>0.000159</td>\n",
       "      <td>0.000461</td>\n",
       "      <td>...</td>\n",
       "      <td>0.000003</td>\n",
       "      <td>0.000003</td>\n",
       "      <td>0.000000</td>\n",
       "      <td>0.000003</td>\n",
       "      <td>0.000003</td>\n",
       "      <td>0.000003</td>\n",
       "      <td>0.000007</td>\n",
       "      <td>0.000003</td>\n",
       "      <td>0.000003</td>\n",
       "      <td>0.000003</td>\n",
       "    </tr>\n",
       "    <tr>\n",
       "      <th>1</th>\n",
       "      <td>0.000000</td>\n",
       "      <td>0.000000</td>\n",
       "      <td>0.000000</td>\n",
       "      <td>0.000000</td>\n",
       "      <td>0.000000</td>\n",
       "      <td>0.000000</td>\n",
       "      <td>0.000000</td>\n",
       "      <td>0.000000</td>\n",
       "      <td>0.000000</td>\n",
       "      <td>0.000000</td>\n",
       "      <td>...</td>\n",
       "      <td>0.000000</td>\n",
       "      <td>0.000000</td>\n",
       "      <td>0.000501</td>\n",
       "      <td>0.000000</td>\n",
       "      <td>0.000000</td>\n",
       "      <td>0.000000</td>\n",
       "      <td>0.000000</td>\n",
       "      <td>0.000000</td>\n",
       "      <td>0.000000</td>\n",
       "      <td>0.000000</td>\n",
       "    </tr>\n",
       "    <tr>\n",
       "      <th>2</th>\n",
       "      <td>0.000836</td>\n",
       "      <td>0.001003</td>\n",
       "      <td>0.000234</td>\n",
       "      <td>0.000201</td>\n",
       "      <td>0.000100</td>\n",
       "      <td>0.000234</td>\n",
       "      <td>0.000401</td>\n",
       "      <td>0.000334</td>\n",
       "      <td>0.000134</td>\n",
       "      <td>0.000468</td>\n",
       "      <td>...</td>\n",
       "      <td>0.000000</td>\n",
       "      <td>0.000000</td>\n",
       "      <td>0.000000</td>\n",
       "      <td>0.000000</td>\n",
       "      <td>0.000000</td>\n",
       "      <td>0.000000</td>\n",
       "      <td>0.000000</td>\n",
       "      <td>0.000000</td>\n",
       "      <td>0.000000</td>\n",
       "      <td>0.000000</td>\n",
       "    </tr>\n",
       "    <tr>\n",
       "      <th>3</th>\n",
       "      <td>0.002029</td>\n",
       "      <td>0.000840</td>\n",
       "      <td>0.000526</td>\n",
       "      <td>0.000485</td>\n",
       "      <td>0.000441</td>\n",
       "      <td>0.000441</td>\n",
       "      <td>0.000441</td>\n",
       "      <td>0.000384</td>\n",
       "      <td>0.000374</td>\n",
       "      <td>0.000339</td>\n",
       "      <td>...</td>\n",
       "      <td>0.000000</td>\n",
       "      <td>0.000000</td>\n",
       "      <td>0.000000</td>\n",
       "      <td>0.000000</td>\n",
       "      <td>0.000000</td>\n",
       "      <td>0.000000</td>\n",
       "      <td>0.000000</td>\n",
       "      <td>0.000000</td>\n",
       "      <td>0.000000</td>\n",
       "      <td>0.000000</td>\n",
       "    </tr>\n",
       "  </tbody>\n",
       "</table>\n",
       "<p>4 rows × 11756 columns</p>\n",
       "</div>"
      ],
      "text/plain": [
       "   user_njTE8BZMxQTFTmz+xeDNc6MGCjP2WhS6B4xK9+rTh8E=  \\\n",
       "0                                           0.001862   \n",
       "1                                           0.000000   \n",
       "2                                           0.000836   \n",
       "3                                           0.002029   \n",
       "\n",
       "   logical_job_name_j25eTfDZ4FFHzd7p+VKe13tP4+iQbKkHk9VI0SBK/nE=  \\\n",
       "0                                           0.001077               \n",
       "1                                           0.000000               \n",
       "2                                           0.001003               \n",
       "3                                           0.000840               \n",
       "\n",
       "   user_P/b25hVu6/7A0BJOLJFXi0VLXUOprxPTVtOKXlp/w/Y=  \\\n",
       "0                                           0.000308   \n",
       "1                                           0.000000   \n",
       "2                                           0.000234   \n",
       "3                                           0.000526   \n",
       "\n",
       "   logical_job_name_9q2rn++rPMOVeDylVv/NchnIKQxmfBwzF5ZoKhSvgP0=  \\\n",
       "0                                           0.000233               \n",
       "1                                           0.000000               \n",
       "2                                           0.000201               \n",
       "3                                           0.000485               \n",
       "\n",
       "   logical_job_name_PqaHcqiH62FESqU41XFHq+UbXe0VvgZXuw+kdGrOucs=  \\\n",
       "0                                           0.000199               \n",
       "1                                           0.000000               \n",
       "2                                           0.000100               \n",
       "3                                           0.000441               \n",
       "\n",
       "   logical_job_name_oHQYViMUeNEojiW9p3u0Vdt8N4KBASt2eODnyJhwSSo=  \\\n",
       "0                                           0.000235               \n",
       "1                                           0.000000               \n",
       "2                                           0.000234               \n",
       "3                                           0.000441               \n",
       "\n",
       "   logical_job_name_G/9E4AW9fSviXbmdFO5BBcjVd49zuI1AIU5gHQJLm+8=  \\\n",
       "0                                           0.000907               \n",
       "1                                           0.000000               \n",
       "2                                           0.000401               \n",
       "3                                           0.000441               \n",
       "\n",
       "   logical_job_name_ZQ+bFefVT1UByX7mRuMBv2rx61PckQWrFvG4Ymz2lF8=  \\\n",
       "0                                           0.000434               \n",
       "1                                           0.000000               \n",
       "2                                           0.000334               \n",
       "3                                           0.000384               \n",
       "\n",
       "   logical_job_name_cNpu9y/02mA/fshHIHLxtmdpCmusNhJoThVIDS3WLHg=  \\\n",
       "0                                           0.000159               \n",
       "1                                           0.000000               \n",
       "2                                           0.000134               \n",
       "3                                           0.000374               \n",
       "\n",
       "   logical_job_name_AmKr63lD9MIGXiAacmzoj6kQMGqk2U0M89A2RkgB6uc=  ...  \\\n",
       "0                                           0.000461              ...   \n",
       "1                                           0.000000              ...   \n",
       "2                                           0.000468              ...   \n",
       "3                                           0.000339              ...   \n",
       "\n",
       "   logical_job_name_SJxXg3days6/YJeQ4RnTVXhtcyuMqd0LsZG8ktkZoqY=  \\\n",
       "0                                           0.000003               \n",
       "1                                           0.000000               \n",
       "2                                           0.000000               \n",
       "3                                           0.000000               \n",
       "\n",
       "   logical_job_name_HEPTM21y4+G36CQGmnfFL0iadS4Bf0zTfCj9geVaMX8=  \\\n",
       "0                                           0.000003               \n",
       "1                                           0.000000               \n",
       "2                                           0.000000               \n",
       "3                                           0.000000               \n",
       "\n",
       "   user_QNAoYqaQ6zr6XI7IBXnHOYYG3aBK0enRLfpJFF8dUxQ=  \\\n",
       "0                                           0.000000   \n",
       "1                                           0.000501   \n",
       "2                                           0.000000   \n",
       "3                                           0.000000   \n",
       "\n",
       "   logical_job_name_6snJ8nmjqhCbEHChlhu5qCB14QkSlqmChGU8EbM7Pvw=  \\\n",
       "0                                           0.000003               \n",
       "1                                           0.000000               \n",
       "2                                           0.000000               \n",
       "3                                           0.000000               \n",
       "\n",
       "   logical_job_name_vfqjdzh/3MFwUmB8Y5YRAprGMfx9JocF+GF6LaoT9oQ=  \\\n",
       "0                                           0.000003               \n",
       "1                                           0.000000               \n",
       "2                                           0.000000               \n",
       "3                                           0.000000               \n",
       "\n",
       "   logical_job_name_8QVFPdIBLbHgY4AvuEiCD7OM8XDrPJPvKGwfQIWbbUw=  \\\n",
       "0                                           0.000003               \n",
       "1                                           0.000000               \n",
       "2                                           0.000000               \n",
       "3                                           0.000000               \n",
       "\n",
       "   logical_job_name_QGsw2XBuW91V3iPYeXAzia+K651aDze2Vc1F0DhPENQ=  \\\n",
       "0                                           0.000007               \n",
       "1                                           0.000000               \n",
       "2                                           0.000000               \n",
       "3                                           0.000000               \n",
       "\n",
       "   logical_job_name_7URdQ6jM7uzbkzhSdXRu49b7VTYIQtQTBydFxEwFfrw=  \\\n",
       "0                                           0.000003               \n",
       "1                                           0.000000               \n",
       "2                                           0.000000               \n",
       "3                                           0.000000               \n",
       "\n",
       "   logical_job_name_j6pv8mtSfzspbtOiNjsIPYwEnqX8fhS6oL7QXhC83ME=  \\\n",
       "0                                           0.000003               \n",
       "1                                           0.000000               \n",
       "2                                           0.000000               \n",
       "3                                           0.000000               \n",
       "\n",
       "   user_80t8cCbClG5TBydQy26SoOacM7sJ10KDnGkT6uuLYlA=  \n",
       "0                                           0.000003  \n",
       "1                                           0.000000  \n",
       "2                                           0.000000  \n",
       "3                                           0.000000  \n",
       "\n",
       "[4 rows x 11756 columns]"
      ]
     },
     "execution_count": 20,
     "metadata": {},
     "output_type": "execute_result"
    }
   ],
   "source": [
    "tfidf_df.sort_values(by=3, ascending=False, axis=1)"
   ]
  },
  {
   "cell_type": "code",
   "execution_count": 21,
   "metadata": {
    "execution": {
     "iopub.execute_input": "2022-01-26T09:36:36.263324Z",
     "iopub.status.busy": "2022-01-26T09:36:36.263218Z",
     "iopub.status.idle": "2022-01-26T09:36:36.278524Z",
     "shell.execute_reply": "2022-01-26T09:36:36.277872Z",
     "shell.execute_reply.started": "2022-01-26T09:36:36.263311Z"
    },
    "tags": []
   },
   "outputs": [],
   "source": [
    "sorted_tfidfs = [] \n",
    "for i in range(k):\n",
    "    sorted_tfidfs.append(dict(sorted(tfidfs[i].items(), key=lambda item: item[1], reverse=True)))"
   ]
  },
  {
   "cell_type": "code",
   "execution_count": 22,
   "metadata": {
    "execution": {
     "iopub.execute_input": "2022-01-26T09:36:36.279133Z",
     "iopub.status.busy": "2022-01-26T09:36:36.279026Z",
     "iopub.status.idle": "2022-01-26T09:36:36.282796Z",
     "shell.execute_reply": "2022-01-26T09:36:36.282338Z",
     "shell.execute_reply.started": "2022-01-26T09:36:36.279120Z"
    },
    "tags": []
   },
   "outputs": [],
   "source": [
    "x = list(sorted_tfidfs[0].keys())[:15]"
   ]
  },
  {
   "cell_type": "code",
   "execution_count": 23,
   "metadata": {
    "execution": {
     "iopub.execute_input": "2022-01-26T09:36:36.283565Z",
     "iopub.status.busy": "2022-01-26T09:36:36.283458Z",
     "iopub.status.idle": "2022-01-26T09:36:36.327847Z",
     "shell.execute_reply": "2022-01-26T09:36:36.327366Z",
     "shell.execute_reply.started": "2022-01-26T09:36:36.283552Z"
    },
    "tags": []
   },
   "outputs": [],
   "source": [
    "\n",
    "ranking_features = []\n",
    "for i in range(k):\n",
    "    positions = defaultdict(list)\n",
    "    x = list(sorted_tfidfs[i].keys())[:15]\n",
    "    for el in x:\n",
    "        for i in range(k):\n",
    "            positions[f\"position cl{i}\"].append(list(sorted_tfidfs[i].keys()).index(el) + 1)\n",
    "    positions[\"values\"] = x\n",
    "    ranking_features.append(positions)\n"
   ]
  },
  {
   "cell_type": "code",
   "execution_count": 24,
   "metadata": {
    "execution": {
     "iopub.execute_input": "2022-01-26T09:36:36.328430Z",
     "iopub.status.busy": "2022-01-26T09:36:36.328324Z",
     "iopub.status.idle": "2022-01-26T09:36:36.336795Z",
     "shell.execute_reply": "2022-01-26T09:36:36.336160Z",
     "shell.execute_reply.started": "2022-01-26T09:36:36.328416Z"
    },
    "tags": []
   },
   "outputs": [
    {
     "data": {
      "text/html": [
       "<div>\n",
       "<style scoped>\n",
       "    .dataframe tbody tr th:only-of-type {\n",
       "        vertical-align: middle;\n",
       "    }\n",
       "\n",
       "    .dataframe tbody tr th {\n",
       "        vertical-align: top;\n",
       "    }\n",
       "\n",
       "    .dataframe thead th {\n",
       "        text-align: right;\n",
       "    }\n",
       "</style>\n",
       "<table border=\"1\" class=\"dataframe\">\n",
       "  <thead>\n",
       "    <tr style=\"text-align: right;\">\n",
       "      <th></th>\n",
       "      <th>position cl0</th>\n",
       "      <th>position cl1</th>\n",
       "      <th>position cl2</th>\n",
       "      <th>position cl3</th>\n",
       "    </tr>\n",
       "    <tr>\n",
       "      <th>values</th>\n",
       "      <th></th>\n",
       "      <th></th>\n",
       "      <th></th>\n",
       "      <th></th>\n",
       "    </tr>\n",
       "  </thead>\n",
       "  <tbody>\n",
       "    <tr>\n",
       "      <th>user_njTE8BZMxQTFTmz+xeDNc6MGCjP2WhS6B4xK9+rTh8E=</th>\n",
       "      <td>1</td>\n",
       "      <td>10055</td>\n",
       "      <td>4</td>\n",
       "      <td>1</td>\n",
       "    </tr>\n",
       "    <tr>\n",
       "      <th>logical_job_name_j25eTfDZ4FFHzd7p+VKe13tP4+iQbKkHk9VI0SBK/nE=</th>\n",
       "      <td>2</td>\n",
       "      <td>8266</td>\n",
       "      <td>2</td>\n",
       "      <td>2</td>\n",
       "    </tr>\n",
       "    <tr>\n",
       "      <th>logical_job_name_G/9E4AW9fSviXbmdFO5BBcjVd49zuI1AIU5gHQJLm+8=</th>\n",
       "      <td>3</td>\n",
       "      <td>1939</td>\n",
       "      <td>11</td>\n",
       "      <td>5</td>\n",
       "    </tr>\n",
       "    <tr>\n",
       "      <th>user_xQAGEBrubfzj6dt8N0gpTwfMk8daCreg5lnboUEhkf4=</th>\n",
       "      <td>4</td>\n",
       "      <td>3385</td>\n",
       "      <td>37</td>\n",
       "      <td>18</td>\n",
       "    </tr>\n",
       "    <tr>\n",
       "      <th>logical_job_name_AmKr63lD9MIGXiAacmzoj6kQMGqk2U0M89A2RkgB6uc=</th>\n",
       "      <td>5</td>\n",
       "      <td>11355</td>\n",
       "      <td>10</td>\n",
       "      <td>10</td>\n",
       "    </tr>\n",
       "    <tr>\n",
       "      <th>logical_job_name_ZQ+bFefVT1UByX7mRuMBv2rx61PckQWrFvG4Ymz2lF8=</th>\n",
       "      <td>6</td>\n",
       "      <td>4857</td>\n",
       "      <td>12</td>\n",
       "      <td>8</td>\n",
       "    </tr>\n",
       "    <tr>\n",
       "      <th>logical_job_name_zhgh8SYo7Dk/+QbhaeiOgF2ZnRWVnZJF0UVhVLkIubE=</th>\n",
       "      <td>7</td>\n",
       "      <td>7526</td>\n",
       "      <td>39</td>\n",
       "      <td>33</td>\n",
       "    </tr>\n",
       "    <tr>\n",
       "      <th>logical_job_name_C9Tdi+5fGw0kYGshyBA+FaX+NpQalBnfSkMUErZeOKQ=</th>\n",
       "      <td>8</td>\n",
       "      <td>2821</td>\n",
       "      <td>316</td>\n",
       "      <td>25</td>\n",
       "    </tr>\n",
       "    <tr>\n",
       "      <th>logical_job_name_odFg4veougZiUp92g2JDYdCrjAXU5irhWd9BGFpHOFg=</th>\n",
       "      <td>9</td>\n",
       "      <td>7050</td>\n",
       "      <td>345</td>\n",
       "      <td>40</td>\n",
       "    </tr>\n",
       "    <tr>\n",
       "      <th>logical_job_name_a9Rw9CFVtXZI7HSqJlgHjukiNSlw+gGyUPQkUzqhKoc=</th>\n",
       "      <td>10</td>\n",
       "      <td>5322</td>\n",
       "      <td>13</td>\n",
       "      <td>22</td>\n",
       "    </tr>\n",
       "    <tr>\n",
       "      <th>user_P/b25hVu6/7A0BJOLJFXi0VLXUOprxPTVtOKXlp/w/Y=</th>\n",
       "      <td>11</td>\n",
       "      <td>3108</td>\n",
       "      <td>33</td>\n",
       "      <td>3</td>\n",
       "    </tr>\n",
       "    <tr>\n",
       "      <th>logical_job_name_ABSjrNHhOwKbrzQKKLR9CLfC+xEAog8cM3aeTWhS6FA=</th>\n",
       "      <td>12</td>\n",
       "      <td>7620</td>\n",
       "      <td>14</td>\n",
       "      <td>28</td>\n",
       "    </tr>\n",
       "    <tr>\n",
       "      <th>logical_job_name_HQhK2nuf0siPMxcATv+IeNMLloUwrLk5mrOkFWT1bd8=</th>\n",
       "      <td>13</td>\n",
       "      <td>11749</td>\n",
       "      <td>32</td>\n",
       "      <td>13</td>\n",
       "    </tr>\n",
       "    <tr>\n",
       "      <th>logical_job_name_ZoHIMIMjYenKtCPq0iy70XUxyF0JDf1HuW6yUzS4dBM=</th>\n",
       "      <td>14</td>\n",
       "      <td>5580</td>\n",
       "      <td>5703</td>\n",
       "      <td>37</td>\n",
       "    </tr>\n",
       "    <tr>\n",
       "      <th>logical_job_name_1H3WBVcen2RS9lximFVb5A/HIAxc6rH8XBp0IStE/Co=</th>\n",
       "      <td>15</td>\n",
       "      <td>6686</td>\n",
       "      <td>323</td>\n",
       "      <td>23</td>\n",
       "    </tr>\n",
       "  </tbody>\n",
       "</table>\n",
       "</div>"
      ],
      "text/plain": [
       "                                                    position cl0  \\\n",
       "values                                                             \n",
       "user_njTE8BZMxQTFTmz+xeDNc6MGCjP2WhS6B4xK9+rTh8E=              1   \n",
       "logical_job_name_j25eTfDZ4FFHzd7p+VKe13tP4+iQbK...             2   \n",
       "logical_job_name_G/9E4AW9fSviXbmdFO5BBcjVd49zuI...             3   \n",
       "user_xQAGEBrubfzj6dt8N0gpTwfMk8daCreg5lnboUEhkf4=              4   \n",
       "logical_job_name_AmKr63lD9MIGXiAacmzoj6kQMGqk2U...             5   \n",
       "logical_job_name_ZQ+bFefVT1UByX7mRuMBv2rx61PckQ...             6   \n",
       "logical_job_name_zhgh8SYo7Dk/+QbhaeiOgF2ZnRWVnZ...             7   \n",
       "logical_job_name_C9Tdi+5fGw0kYGshyBA+FaX+NpQalB...             8   \n",
       "logical_job_name_odFg4veougZiUp92g2JDYdCrjAXU5i...             9   \n",
       "logical_job_name_a9Rw9CFVtXZI7HSqJlgHjukiNSlw+g...            10   \n",
       "user_P/b25hVu6/7A0BJOLJFXi0VLXUOprxPTVtOKXlp/w/Y=             11   \n",
       "logical_job_name_ABSjrNHhOwKbrzQKKLR9CLfC+xEAog...            12   \n",
       "logical_job_name_HQhK2nuf0siPMxcATv+IeNMLloUwrL...            13   \n",
       "logical_job_name_ZoHIMIMjYenKtCPq0iy70XUxyF0JDf...            14   \n",
       "logical_job_name_1H3WBVcen2RS9lximFVb5A/HIAxc6r...            15   \n",
       "\n",
       "                                                    position cl1  \\\n",
       "values                                                             \n",
       "user_njTE8BZMxQTFTmz+xeDNc6MGCjP2WhS6B4xK9+rTh8E=          10055   \n",
       "logical_job_name_j25eTfDZ4FFHzd7p+VKe13tP4+iQbK...          8266   \n",
       "logical_job_name_G/9E4AW9fSviXbmdFO5BBcjVd49zuI...          1939   \n",
       "user_xQAGEBrubfzj6dt8N0gpTwfMk8daCreg5lnboUEhkf4=           3385   \n",
       "logical_job_name_AmKr63lD9MIGXiAacmzoj6kQMGqk2U...         11355   \n",
       "logical_job_name_ZQ+bFefVT1UByX7mRuMBv2rx61PckQ...          4857   \n",
       "logical_job_name_zhgh8SYo7Dk/+QbhaeiOgF2ZnRWVnZ...          7526   \n",
       "logical_job_name_C9Tdi+5fGw0kYGshyBA+FaX+NpQalB...          2821   \n",
       "logical_job_name_odFg4veougZiUp92g2JDYdCrjAXU5i...          7050   \n",
       "logical_job_name_a9Rw9CFVtXZI7HSqJlgHjukiNSlw+g...          5322   \n",
       "user_P/b25hVu6/7A0BJOLJFXi0VLXUOprxPTVtOKXlp/w/Y=           3108   \n",
       "logical_job_name_ABSjrNHhOwKbrzQKKLR9CLfC+xEAog...          7620   \n",
       "logical_job_name_HQhK2nuf0siPMxcATv+IeNMLloUwrL...         11749   \n",
       "logical_job_name_ZoHIMIMjYenKtCPq0iy70XUxyF0JDf...          5580   \n",
       "logical_job_name_1H3WBVcen2RS9lximFVb5A/HIAxc6r...          6686   \n",
       "\n",
       "                                                    position cl2  position cl3  \n",
       "values                                                                          \n",
       "user_njTE8BZMxQTFTmz+xeDNc6MGCjP2WhS6B4xK9+rTh8E=              4             1  \n",
       "logical_job_name_j25eTfDZ4FFHzd7p+VKe13tP4+iQbK...             2             2  \n",
       "logical_job_name_G/9E4AW9fSviXbmdFO5BBcjVd49zuI...            11             5  \n",
       "user_xQAGEBrubfzj6dt8N0gpTwfMk8daCreg5lnboUEhkf4=             37            18  \n",
       "logical_job_name_AmKr63lD9MIGXiAacmzoj6kQMGqk2U...            10            10  \n",
       "logical_job_name_ZQ+bFefVT1UByX7mRuMBv2rx61PckQ...            12             8  \n",
       "logical_job_name_zhgh8SYo7Dk/+QbhaeiOgF2ZnRWVnZ...            39            33  \n",
       "logical_job_name_C9Tdi+5fGw0kYGshyBA+FaX+NpQalB...           316            25  \n",
       "logical_job_name_odFg4veougZiUp92g2JDYdCrjAXU5i...           345            40  \n",
       "logical_job_name_a9Rw9CFVtXZI7HSqJlgHjukiNSlw+g...            13            22  \n",
       "user_P/b25hVu6/7A0BJOLJFXi0VLXUOprxPTVtOKXlp/w/Y=             33             3  \n",
       "logical_job_name_ABSjrNHhOwKbrzQKKLR9CLfC+xEAog...            14            28  \n",
       "logical_job_name_HQhK2nuf0siPMxcATv+IeNMLloUwrL...            32            13  \n",
       "logical_job_name_ZoHIMIMjYenKtCPq0iy70XUxyF0JDf...          5703            37  \n",
       "logical_job_name_1H3WBVcen2RS9lximFVb5A/HIAxc6r...           323            23  "
      ]
     },
     "execution_count": 24,
     "metadata": {},
     "output_type": "execute_result"
    }
   ],
   "source": [
    "pd.DataFrame(ranking_features[0]).set_index(\"values\")"
   ]
  },
  {
   "cell_type": "code",
   "execution_count": 25,
   "metadata": {
    "execution": {
     "iopub.execute_input": "2022-01-26T09:36:36.337458Z",
     "iopub.status.busy": "2022-01-26T09:36:36.337350Z",
     "iopub.status.idle": "2022-01-26T09:36:36.345116Z",
     "shell.execute_reply": "2022-01-26T09:36:36.344659Z",
     "shell.execute_reply.started": "2022-01-26T09:36:36.337444Z"
    },
    "tags": []
   },
   "outputs": [
    {
     "data": {
      "text/html": [
       "<div>\n",
       "<style scoped>\n",
       "    .dataframe tbody tr th:only-of-type {\n",
       "        vertical-align: middle;\n",
       "    }\n",
       "\n",
       "    .dataframe tbody tr th {\n",
       "        vertical-align: top;\n",
       "    }\n",
       "\n",
       "    .dataframe thead th {\n",
       "        text-align: right;\n",
       "    }\n",
       "</style>\n",
       "<table border=\"1\" class=\"dataframe\">\n",
       "  <thead>\n",
       "    <tr style=\"text-align: right;\">\n",
       "      <th></th>\n",
       "      <th>position cl0</th>\n",
       "      <th>position cl1</th>\n",
       "      <th>position cl2</th>\n",
       "      <th>position cl3</th>\n",
       "    </tr>\n",
       "    <tr>\n",
       "      <th>values</th>\n",
       "      <th></th>\n",
       "      <th></th>\n",
       "      <th></th>\n",
       "      <th></th>\n",
       "    </tr>\n",
       "  </thead>\n",
       "  <tbody>\n",
       "    <tr>\n",
       "      <th>logical_job_name_IVwT/XMeSzdXI5pftYrE74vZoJNz33avbdNDEVtH7B4=</th>\n",
       "      <td>4460</td>\n",
       "      <td>1</td>\n",
       "      <td>1156</td>\n",
       "      <td>4236</td>\n",
       "    </tr>\n",
       "    <tr>\n",
       "      <th>user_3PF0/VxH7vMzg6nj3l4Xmhbo2+5HSDbzCKKpZ9OQ1bk=</th>\n",
       "      <td>11316</td>\n",
       "      <td>2</td>\n",
       "      <td>8882</td>\n",
       "      <td>9724</td>\n",
       "    </tr>\n",
       "    <tr>\n",
       "      <th>user_70s3v5qRyCO/1PCdI6fVXnrW8FU/w+5CKRSa72xgcIo=</th>\n",
       "      <td>10228</td>\n",
       "      <td>3</td>\n",
       "      <td>1573</td>\n",
       "      <td>4520</td>\n",
       "    </tr>\n",
       "    <tr>\n",
       "      <th>user_CwGnjPqF6z6mEbr5zJVXafRsbETt6gvdwvOX2l+GpsI=</th>\n",
       "      <td>49</td>\n",
       "      <td>4</td>\n",
       "      <td>2632</td>\n",
       "      <td>64</td>\n",
       "    </tr>\n",
       "    <tr>\n",
       "      <th>user_qzYKr1BqweZKofd4U2tWF0VxZEbJhjG/LunlAwkI1kM=</th>\n",
       "      <td>2016</td>\n",
       "      <td>5</td>\n",
       "      <td>7868</td>\n",
       "      <td>9006</td>\n",
       "    </tr>\n",
       "    <tr>\n",
       "      <th>user_rNyxTd1B3RnDJBIofzoVksjnmaJEN+hW5W+yRHo2xsM=</th>\n",
       "      <td>2188</td>\n",
       "      <td>6</td>\n",
       "      <td>10732</td>\n",
       "      <td>679</td>\n",
       "    </tr>\n",
       "    <tr>\n",
       "      <th>user_VKmwSJS9DAS+J/beYyBoF1sTcJi7Z8Qm0VYlh18em8w=</th>\n",
       "      <td>1138</td>\n",
       "      <td>7</td>\n",
       "      <td>2071</td>\n",
       "      <td>4885</td>\n",
       "    </tr>\n",
       "    <tr>\n",
       "      <th>user_q6EjQj6yxdwUvvufuDKvfotZ1LoylbpNu4NguS48Lfo=</th>\n",
       "      <td>896</td>\n",
       "      <td>8</td>\n",
       "      <td>3824</td>\n",
       "      <td>562</td>\n",
       "    </tr>\n",
       "    <tr>\n",
       "      <th>user_62ZtsQfj7aFYgb0o35g5K/cRMfvHqUOGOoFeGqTsqOs=</th>\n",
       "      <td>927</td>\n",
       "      <td>9</td>\n",
       "      <td>6480</td>\n",
       "      <td>8021</td>\n",
       "    </tr>\n",
       "    <tr>\n",
       "      <th>user_QbRiaKYQ23mJU4y8Sp1lFaO3r3wA3+z429go6UqIP/w=</th>\n",
       "      <td>10978</td>\n",
       "      <td>10</td>\n",
       "      <td>6662</td>\n",
       "      <td>8150</td>\n",
       "    </tr>\n",
       "    <tr>\n",
       "      <th>logical_job_name_TL+izweghvfb0xeQ+Ylt7D0nvCGJCT2EmzRQ2Ky5DZ4=</th>\n",
       "      <td>11077</td>\n",
       "      <td>11</td>\n",
       "      <td>7326</td>\n",
       "      <td>8637</td>\n",
       "    </tr>\n",
       "    <tr>\n",
       "      <th>user_s21Y7qCgo6yRno19uCuaVYF3KG+/2/+Cbwr5x/RNDBs=</th>\n",
       "      <td>11204</td>\n",
       "      <td>12</td>\n",
       "      <td>8096</td>\n",
       "      <td>9158</td>\n",
       "    </tr>\n",
       "    <tr>\n",
       "      <th>user_zeOTLPYUxvhd2Jp2WPFisu7zxq4UfGpWFVoYJ3+sVRQ=</th>\n",
       "      <td>11462</td>\n",
       "      <td>13</td>\n",
       "      <td>9797</td>\n",
       "      <td>10358</td>\n",
       "    </tr>\n",
       "    <tr>\n",
       "      <th>user_y1zb4shvaJurgBq+U8Ba9lm6r6qffGJOHPOT+2c7Zzo=</th>\n",
       "      <td>10245</td>\n",
       "      <td>14</td>\n",
       "      <td>1720</td>\n",
       "      <td>4634</td>\n",
       "    </tr>\n",
       "    <tr>\n",
       "      <th>logical_job_name_X1ej2245MpTEEF16TVhX2CqW0EB9nwjzhf8RaxljomM=</th>\n",
       "      <td>10314</td>\n",
       "      <td>15</td>\n",
       "      <td>2193</td>\n",
       "      <td>4977</td>\n",
       "    </tr>\n",
       "  </tbody>\n",
       "</table>\n",
       "</div>"
      ],
      "text/plain": [
       "                                                    position cl0  \\\n",
       "values                                                             \n",
       "logical_job_name_IVwT/XMeSzdXI5pftYrE74vZoJNz33...          4460   \n",
       "user_3PF0/VxH7vMzg6nj3l4Xmhbo2+5HSDbzCKKpZ9OQ1bk=          11316   \n",
       "user_70s3v5qRyCO/1PCdI6fVXnrW8FU/w+5CKRSa72xgcIo=          10228   \n",
       "user_CwGnjPqF6z6mEbr5zJVXafRsbETt6gvdwvOX2l+GpsI=             49   \n",
       "user_qzYKr1BqweZKofd4U2tWF0VxZEbJhjG/LunlAwkI1kM=           2016   \n",
       "user_rNyxTd1B3RnDJBIofzoVksjnmaJEN+hW5W+yRHo2xsM=           2188   \n",
       "user_VKmwSJS9DAS+J/beYyBoF1sTcJi7Z8Qm0VYlh18em8w=           1138   \n",
       "user_q6EjQj6yxdwUvvufuDKvfotZ1LoylbpNu4NguS48Lfo=            896   \n",
       "user_62ZtsQfj7aFYgb0o35g5K/cRMfvHqUOGOoFeGqTsqOs=            927   \n",
       "user_QbRiaKYQ23mJU4y8Sp1lFaO3r3wA3+z429go6UqIP/w=          10978   \n",
       "logical_job_name_TL+izweghvfb0xeQ+Ylt7D0nvCGJCT...         11077   \n",
       "user_s21Y7qCgo6yRno19uCuaVYF3KG+/2/+Cbwr5x/RNDBs=          11204   \n",
       "user_zeOTLPYUxvhd2Jp2WPFisu7zxq4UfGpWFVoYJ3+sVRQ=          11462   \n",
       "user_y1zb4shvaJurgBq+U8Ba9lm6r6qffGJOHPOT+2c7Zzo=          10245   \n",
       "logical_job_name_X1ej2245MpTEEF16TVhX2CqW0EB9nw...         10314   \n",
       "\n",
       "                                                    position cl1  \\\n",
       "values                                                             \n",
       "logical_job_name_IVwT/XMeSzdXI5pftYrE74vZoJNz33...             1   \n",
       "user_3PF0/VxH7vMzg6nj3l4Xmhbo2+5HSDbzCKKpZ9OQ1bk=              2   \n",
       "user_70s3v5qRyCO/1PCdI6fVXnrW8FU/w+5CKRSa72xgcIo=              3   \n",
       "user_CwGnjPqF6z6mEbr5zJVXafRsbETt6gvdwvOX2l+GpsI=              4   \n",
       "user_qzYKr1BqweZKofd4U2tWF0VxZEbJhjG/LunlAwkI1kM=              5   \n",
       "user_rNyxTd1B3RnDJBIofzoVksjnmaJEN+hW5W+yRHo2xsM=              6   \n",
       "user_VKmwSJS9DAS+J/beYyBoF1sTcJi7Z8Qm0VYlh18em8w=              7   \n",
       "user_q6EjQj6yxdwUvvufuDKvfotZ1LoylbpNu4NguS48Lfo=              8   \n",
       "user_62ZtsQfj7aFYgb0o35g5K/cRMfvHqUOGOoFeGqTsqOs=              9   \n",
       "user_QbRiaKYQ23mJU4y8Sp1lFaO3r3wA3+z429go6UqIP/w=             10   \n",
       "logical_job_name_TL+izweghvfb0xeQ+Ylt7D0nvCGJCT...            11   \n",
       "user_s21Y7qCgo6yRno19uCuaVYF3KG+/2/+Cbwr5x/RNDBs=             12   \n",
       "user_zeOTLPYUxvhd2Jp2WPFisu7zxq4UfGpWFVoYJ3+sVRQ=             13   \n",
       "user_y1zb4shvaJurgBq+U8Ba9lm6r6qffGJOHPOT+2c7Zzo=             14   \n",
       "logical_job_name_X1ej2245MpTEEF16TVhX2CqW0EB9nw...            15   \n",
       "\n",
       "                                                    position cl2  position cl3  \n",
       "values                                                                          \n",
       "logical_job_name_IVwT/XMeSzdXI5pftYrE74vZoJNz33...          1156          4236  \n",
       "user_3PF0/VxH7vMzg6nj3l4Xmhbo2+5HSDbzCKKpZ9OQ1bk=           8882          9724  \n",
       "user_70s3v5qRyCO/1PCdI6fVXnrW8FU/w+5CKRSa72xgcIo=           1573          4520  \n",
       "user_CwGnjPqF6z6mEbr5zJVXafRsbETt6gvdwvOX2l+GpsI=           2632            64  \n",
       "user_qzYKr1BqweZKofd4U2tWF0VxZEbJhjG/LunlAwkI1kM=           7868          9006  \n",
       "user_rNyxTd1B3RnDJBIofzoVksjnmaJEN+hW5W+yRHo2xsM=          10732           679  \n",
       "user_VKmwSJS9DAS+J/beYyBoF1sTcJi7Z8Qm0VYlh18em8w=           2071          4885  \n",
       "user_q6EjQj6yxdwUvvufuDKvfotZ1LoylbpNu4NguS48Lfo=           3824           562  \n",
       "user_62ZtsQfj7aFYgb0o35g5K/cRMfvHqUOGOoFeGqTsqOs=           6480          8021  \n",
       "user_QbRiaKYQ23mJU4y8Sp1lFaO3r3wA3+z429go6UqIP/w=           6662          8150  \n",
       "logical_job_name_TL+izweghvfb0xeQ+Ylt7D0nvCGJCT...          7326          8637  \n",
       "user_s21Y7qCgo6yRno19uCuaVYF3KG+/2/+Cbwr5x/RNDBs=           8096          9158  \n",
       "user_zeOTLPYUxvhd2Jp2WPFisu7zxq4UfGpWFVoYJ3+sVRQ=           9797         10358  \n",
       "user_y1zb4shvaJurgBq+U8Ba9lm6r6qffGJOHPOT+2c7Zzo=           1720          4634  \n",
       "logical_job_name_X1ej2245MpTEEF16TVhX2CqW0EB9nw...          2193          4977  "
      ]
     },
     "execution_count": 25,
     "metadata": {},
     "output_type": "execute_result"
    }
   ],
   "source": [
    "pd.DataFrame(ranking_features[1]).set_index(\"values\")"
   ]
  },
  {
   "cell_type": "code",
   "execution_count": 26,
   "metadata": {
    "execution": {
     "iopub.execute_input": "2022-01-26T09:36:36.345713Z",
     "iopub.status.busy": "2022-01-26T09:36:36.345601Z",
     "iopub.status.idle": "2022-01-26T09:36:36.353319Z",
     "shell.execute_reply": "2022-01-26T09:36:36.352573Z",
     "shell.execute_reply.started": "2022-01-26T09:36:36.345694Z"
    },
    "tags": []
   },
   "outputs": [
    {
     "data": {
      "text/html": [
       "<div>\n",
       "<style scoped>\n",
       "    .dataframe tbody tr th:only-of-type {\n",
       "        vertical-align: middle;\n",
       "    }\n",
       "\n",
       "    .dataframe tbody tr th {\n",
       "        vertical-align: top;\n",
       "    }\n",
       "\n",
       "    .dataframe thead th {\n",
       "        text-align: right;\n",
       "    }\n",
       "</style>\n",
       "<table border=\"1\" class=\"dataframe\">\n",
       "  <thead>\n",
       "    <tr style=\"text-align: right;\">\n",
       "      <th></th>\n",
       "      <th>position cl0</th>\n",
       "      <th>position cl1</th>\n",
       "      <th>position cl2</th>\n",
       "      <th>position cl3</th>\n",
       "    </tr>\n",
       "    <tr>\n",
       "      <th>values</th>\n",
       "      <th></th>\n",
       "      <th></th>\n",
       "      <th></th>\n",
       "      <th></th>\n",
       "    </tr>\n",
       "  </thead>\n",
       "  <tbody>\n",
       "    <tr>\n",
       "      <th>logical_job_name_Y+cfHMX6f6uUQjHk6eRo9YEJfat+HtYJMC6R3J2WPAA=</th>\n",
       "      <td>32</td>\n",
       "      <td>2242</td>\n",
       "      <td>1</td>\n",
       "      <td>47</td>\n",
       "    </tr>\n",
       "    <tr>\n",
       "      <th>logical_job_name_j25eTfDZ4FFHzd7p+VKe13tP4+iQbKkHk9VI0SBK/nE=</th>\n",
       "      <td>2</td>\n",
       "      <td>8266</td>\n",
       "      <td>2</td>\n",
       "      <td>2</td>\n",
       "    </tr>\n",
       "    <tr>\n",
       "      <th>logical_job_name_BzFcNI09HrdUe6J+CXY3m8gvubxz/uzQrT39FXzi7jo=</th>\n",
       "      <td>2159</td>\n",
       "      <td>10227</td>\n",
       "      <td>3</td>\n",
       "      <td>10688</td>\n",
       "    </tr>\n",
       "    <tr>\n",
       "      <th>user_njTE8BZMxQTFTmz+xeDNc6MGCjP2WhS6B4xK9+rTh8E=</th>\n",
       "      <td>1</td>\n",
       "      <td>10055</td>\n",
       "      <td>4</td>\n",
       "      <td>1</td>\n",
       "    </tr>\n",
       "    <tr>\n",
       "      <th>logical_job_name_nmu4veR9MGh7EkZhxxlmxGeQV3/waSOe1Tuo9lu5LfY=</th>\n",
       "      <td>299</td>\n",
       "      <td>5283</td>\n",
       "      <td>5</td>\n",
       "      <td>168</td>\n",
       "    </tr>\n",
       "    <tr>\n",
       "      <th>user_N5I2+pqV0s9j+1XwV8fwIxAb8p47z4I3dJ4o2I/RLxQ=</th>\n",
       "      <td>21</td>\n",
       "      <td>2185</td>\n",
       "      <td>6</td>\n",
       "      <td>31</td>\n",
       "    </tr>\n",
       "    <tr>\n",
       "      <th>logical_job_name_MW8tcTvQrf5pq7+4iGzi8Y64+fAPCFnOjEhFtpAIolU=</th>\n",
       "      <td>149</td>\n",
       "      <td>2035</td>\n",
       "      <td>7</td>\n",
       "      <td>70</td>\n",
       "    </tr>\n",
       "    <tr>\n",
       "      <th>logical_job_name_esro7fIKVdZ4YL4WoB810gpe503ZqsdvWSdMRBkujYk=</th>\n",
       "      <td>735</td>\n",
       "      <td>3976</td>\n",
       "      <td>8</td>\n",
       "      <td>6375</td>\n",
       "    </tr>\n",
       "    <tr>\n",
       "      <th>logical_job_name_mMaUdJMueeyxeb4MU10gMnJoRSxbu5qoXbs6hJoCsZ4=</th>\n",
       "      <td>5893</td>\n",
       "      <td>4064</td>\n",
       "      <td>9</td>\n",
       "      <td>6436</td>\n",
       "    </tr>\n",
       "    <tr>\n",
       "      <th>logical_job_name_AmKr63lD9MIGXiAacmzoj6kQMGqk2U0M89A2RkgB6uc=</th>\n",
       "      <td>5</td>\n",
       "      <td>11355</td>\n",
       "      <td>10</td>\n",
       "      <td>10</td>\n",
       "    </tr>\n",
       "    <tr>\n",
       "      <th>logical_job_name_G/9E4AW9fSviXbmdFO5BBcjVd49zuI1AIU5gHQJLm+8=</th>\n",
       "      <td>3</td>\n",
       "      <td>1939</td>\n",
       "      <td>11</td>\n",
       "      <td>5</td>\n",
       "    </tr>\n",
       "    <tr>\n",
       "      <th>logical_job_name_ZQ+bFefVT1UByX7mRuMBv2rx61PckQWrFvG4Ymz2lF8=</th>\n",
       "      <td>6</td>\n",
       "      <td>4857</td>\n",
       "      <td>12</td>\n",
       "      <td>8</td>\n",
       "    </tr>\n",
       "    <tr>\n",
       "      <th>logical_job_name_a9Rw9CFVtXZI7HSqJlgHjukiNSlw+gGyUPQkUzqhKoc=</th>\n",
       "      <td>10</td>\n",
       "      <td>5322</td>\n",
       "      <td>13</td>\n",
       "      <td>22</td>\n",
       "    </tr>\n",
       "    <tr>\n",
       "      <th>logical_job_name_ABSjrNHhOwKbrzQKKLR9CLfC+xEAog8cM3aeTWhS6FA=</th>\n",
       "      <td>12</td>\n",
       "      <td>7620</td>\n",
       "      <td>14</td>\n",
       "      <td>28</td>\n",
       "    </tr>\n",
       "    <tr>\n",
       "      <th>logical_job_name_Gxk4CN5c53WHIEQKQYZRBqLKEyHmga/NOeU3GMqPdHI=</th>\n",
       "      <td>4628</td>\n",
       "      <td>1318</td>\n",
       "      <td>15</td>\n",
       "      <td>4488</td>\n",
       "    </tr>\n",
       "  </tbody>\n",
       "</table>\n",
       "</div>"
      ],
      "text/plain": [
       "                                                    position cl0  \\\n",
       "values                                                             \n",
       "logical_job_name_Y+cfHMX6f6uUQjHk6eRo9YEJfat+Ht...            32   \n",
       "logical_job_name_j25eTfDZ4FFHzd7p+VKe13tP4+iQbK...             2   \n",
       "logical_job_name_BzFcNI09HrdUe6J+CXY3m8gvubxz/u...          2159   \n",
       "user_njTE8BZMxQTFTmz+xeDNc6MGCjP2WhS6B4xK9+rTh8E=              1   \n",
       "logical_job_name_nmu4veR9MGh7EkZhxxlmxGeQV3/waS...           299   \n",
       "user_N5I2+pqV0s9j+1XwV8fwIxAb8p47z4I3dJ4o2I/RLxQ=             21   \n",
       "logical_job_name_MW8tcTvQrf5pq7+4iGzi8Y64+fAPCF...           149   \n",
       "logical_job_name_esro7fIKVdZ4YL4WoB810gpe503Zqs...           735   \n",
       "logical_job_name_mMaUdJMueeyxeb4MU10gMnJoRSxbu5...          5893   \n",
       "logical_job_name_AmKr63lD9MIGXiAacmzoj6kQMGqk2U...             5   \n",
       "logical_job_name_G/9E4AW9fSviXbmdFO5BBcjVd49zuI...             3   \n",
       "logical_job_name_ZQ+bFefVT1UByX7mRuMBv2rx61PckQ...             6   \n",
       "logical_job_name_a9Rw9CFVtXZI7HSqJlgHjukiNSlw+g...            10   \n",
       "logical_job_name_ABSjrNHhOwKbrzQKKLR9CLfC+xEAog...            12   \n",
       "logical_job_name_Gxk4CN5c53WHIEQKQYZRBqLKEyHmga...          4628   \n",
       "\n",
       "                                                    position cl1  \\\n",
       "values                                                             \n",
       "logical_job_name_Y+cfHMX6f6uUQjHk6eRo9YEJfat+Ht...          2242   \n",
       "logical_job_name_j25eTfDZ4FFHzd7p+VKe13tP4+iQbK...          8266   \n",
       "logical_job_name_BzFcNI09HrdUe6J+CXY3m8gvubxz/u...         10227   \n",
       "user_njTE8BZMxQTFTmz+xeDNc6MGCjP2WhS6B4xK9+rTh8E=          10055   \n",
       "logical_job_name_nmu4veR9MGh7EkZhxxlmxGeQV3/waS...          5283   \n",
       "user_N5I2+pqV0s9j+1XwV8fwIxAb8p47z4I3dJ4o2I/RLxQ=           2185   \n",
       "logical_job_name_MW8tcTvQrf5pq7+4iGzi8Y64+fAPCF...          2035   \n",
       "logical_job_name_esro7fIKVdZ4YL4WoB810gpe503Zqs...          3976   \n",
       "logical_job_name_mMaUdJMueeyxeb4MU10gMnJoRSxbu5...          4064   \n",
       "logical_job_name_AmKr63lD9MIGXiAacmzoj6kQMGqk2U...         11355   \n",
       "logical_job_name_G/9E4AW9fSviXbmdFO5BBcjVd49zuI...          1939   \n",
       "logical_job_name_ZQ+bFefVT1UByX7mRuMBv2rx61PckQ...          4857   \n",
       "logical_job_name_a9Rw9CFVtXZI7HSqJlgHjukiNSlw+g...          5322   \n",
       "logical_job_name_ABSjrNHhOwKbrzQKKLR9CLfC+xEAog...          7620   \n",
       "logical_job_name_Gxk4CN5c53WHIEQKQYZRBqLKEyHmga...          1318   \n",
       "\n",
       "                                                    position cl2  position cl3  \n",
       "values                                                                          \n",
       "logical_job_name_Y+cfHMX6f6uUQjHk6eRo9YEJfat+Ht...             1            47  \n",
       "logical_job_name_j25eTfDZ4FFHzd7p+VKe13tP4+iQbK...             2             2  \n",
       "logical_job_name_BzFcNI09HrdUe6J+CXY3m8gvubxz/u...             3         10688  \n",
       "user_njTE8BZMxQTFTmz+xeDNc6MGCjP2WhS6B4xK9+rTh8E=              4             1  \n",
       "logical_job_name_nmu4veR9MGh7EkZhxxlmxGeQV3/waS...             5           168  \n",
       "user_N5I2+pqV0s9j+1XwV8fwIxAb8p47z4I3dJ4o2I/RLxQ=              6            31  \n",
       "logical_job_name_MW8tcTvQrf5pq7+4iGzi8Y64+fAPCF...             7            70  \n",
       "logical_job_name_esro7fIKVdZ4YL4WoB810gpe503Zqs...             8          6375  \n",
       "logical_job_name_mMaUdJMueeyxeb4MU10gMnJoRSxbu5...             9          6436  \n",
       "logical_job_name_AmKr63lD9MIGXiAacmzoj6kQMGqk2U...            10            10  \n",
       "logical_job_name_G/9E4AW9fSviXbmdFO5BBcjVd49zuI...            11             5  \n",
       "logical_job_name_ZQ+bFefVT1UByX7mRuMBv2rx61PckQ...            12             8  \n",
       "logical_job_name_a9Rw9CFVtXZI7HSqJlgHjukiNSlw+g...            13            22  \n",
       "logical_job_name_ABSjrNHhOwKbrzQKKLR9CLfC+xEAog...            14            28  \n",
       "logical_job_name_Gxk4CN5c53WHIEQKQYZRBqLKEyHmga...            15          4488  "
      ]
     },
     "execution_count": 26,
     "metadata": {},
     "output_type": "execute_result"
    }
   ],
   "source": [
    "pd.DataFrame(ranking_features[2]).set_index(\"values\")"
   ]
  },
  {
   "cell_type": "code",
   "execution_count": 27,
   "metadata": {
    "execution": {
     "iopub.execute_input": "2022-01-26T09:36:36.353994Z",
     "iopub.status.busy": "2022-01-26T09:36:36.353888Z",
     "iopub.status.idle": "2022-01-26T09:36:36.361768Z",
     "shell.execute_reply": "2022-01-26T09:36:36.361300Z",
     "shell.execute_reply.started": "2022-01-26T09:36:36.353980Z"
    },
    "tags": []
   },
   "outputs": [
    {
     "data": {
      "text/html": [
       "<div>\n",
       "<style scoped>\n",
       "    .dataframe tbody tr th:only-of-type {\n",
       "        vertical-align: middle;\n",
       "    }\n",
       "\n",
       "    .dataframe tbody tr th {\n",
       "        vertical-align: top;\n",
       "    }\n",
       "\n",
       "    .dataframe thead th {\n",
       "        text-align: right;\n",
       "    }\n",
       "</style>\n",
       "<table border=\"1\" class=\"dataframe\">\n",
       "  <thead>\n",
       "    <tr style=\"text-align: right;\">\n",
       "      <th></th>\n",
       "      <th>position cl0</th>\n",
       "      <th>position cl1</th>\n",
       "      <th>position cl2</th>\n",
       "      <th>position cl3</th>\n",
       "    </tr>\n",
       "    <tr>\n",
       "      <th>values</th>\n",
       "      <th></th>\n",
       "      <th></th>\n",
       "      <th></th>\n",
       "      <th></th>\n",
       "    </tr>\n",
       "  </thead>\n",
       "  <tbody>\n",
       "    <tr>\n",
       "      <th>user_njTE8BZMxQTFTmz+xeDNc6MGCjP2WhS6B4xK9+rTh8E=</th>\n",
       "      <td>1</td>\n",
       "      <td>10055</td>\n",
       "      <td>4</td>\n",
       "      <td>1</td>\n",
       "    </tr>\n",
       "    <tr>\n",
       "      <th>logical_job_name_j25eTfDZ4FFHzd7p+VKe13tP4+iQbKkHk9VI0SBK/nE=</th>\n",
       "      <td>2</td>\n",
       "      <td>8266</td>\n",
       "      <td>2</td>\n",
       "      <td>2</td>\n",
       "    </tr>\n",
       "    <tr>\n",
       "      <th>user_P/b25hVu6/7A0BJOLJFXi0VLXUOprxPTVtOKXlp/w/Y=</th>\n",
       "      <td>11</td>\n",
       "      <td>3108</td>\n",
       "      <td>33</td>\n",
       "      <td>3</td>\n",
       "    </tr>\n",
       "    <tr>\n",
       "      <th>logical_job_name_9q2rn++rPMOVeDylVv/NchnIKQxmfBwzF5ZoKhSvgP0=</th>\n",
       "      <td>17</td>\n",
       "      <td>8101</td>\n",
       "      <td>40</td>\n",
       "      <td>4</td>\n",
       "    </tr>\n",
       "    <tr>\n",
       "      <th>logical_job_name_G/9E4AW9fSviXbmdFO5BBcjVd49zuI1AIU5gHQJLm+8=</th>\n",
       "      <td>3</td>\n",
       "      <td>1939</td>\n",
       "      <td>11</td>\n",
       "      <td>5</td>\n",
       "    </tr>\n",
       "    <tr>\n",
       "      <th>logical_job_name_PqaHcqiH62FESqU41XFHq+UbXe0VvgZXuw+kdGrOucs=</th>\n",
       "      <td>20</td>\n",
       "      <td>4792</td>\n",
       "      <td>338</td>\n",
       "      <td>6</td>\n",
       "    </tr>\n",
       "    <tr>\n",
       "      <th>logical_job_name_oHQYViMUeNEojiW9p3u0Vdt8N4KBASt2eODnyJhwSSo=</th>\n",
       "      <td>16</td>\n",
       "      <td>5090</td>\n",
       "      <td>34</td>\n",
       "      <td>7</td>\n",
       "    </tr>\n",
       "    <tr>\n",
       "      <th>logical_job_name_ZQ+bFefVT1UByX7mRuMBv2rx61PckQWrFvG4Ymz2lF8=</th>\n",
       "      <td>6</td>\n",
       "      <td>4857</td>\n",
       "      <td>12</td>\n",
       "      <td>8</td>\n",
       "    </tr>\n",
       "    <tr>\n",
       "      <th>logical_job_name_cNpu9y/02mA/fshHIHLxtmdpCmusNhJoThVIDS3WLHg=</th>\n",
       "      <td>29</td>\n",
       "      <td>4180</td>\n",
       "      <td>317</td>\n",
       "      <td>9</td>\n",
       "    </tr>\n",
       "    <tr>\n",
       "      <th>logical_job_name_AmKr63lD9MIGXiAacmzoj6kQMGqk2U0M89A2RkgB6uc=</th>\n",
       "      <td>5</td>\n",
       "      <td>11355</td>\n",
       "      <td>10</td>\n",
       "      <td>10</td>\n",
       "    </tr>\n",
       "    <tr>\n",
       "      <th>logical_job_name_1DPubg0oZEyxAN/ev7pTsMYKLqPKkcnWuMAE4mTcd3Y=</th>\n",
       "      <td>54</td>\n",
       "      <td>3910</td>\n",
       "      <td>38</td>\n",
       "      <td>11</td>\n",
       "    </tr>\n",
       "    <tr>\n",
       "      <th>logical_job_name_evBe1ewvZ0q51pdt/HQXLBschAlhrg5nR0Sj7efCvfE=</th>\n",
       "      <td>39</td>\n",
       "      <td>2732</td>\n",
       "      <td>27</td>\n",
       "      <td>12</td>\n",
       "    </tr>\n",
       "    <tr>\n",
       "      <th>logical_job_name_HQhK2nuf0siPMxcATv+IeNMLloUwrLk5mrOkFWT1bd8=</th>\n",
       "      <td>13</td>\n",
       "      <td>11749</td>\n",
       "      <td>32</td>\n",
       "      <td>13</td>\n",
       "    </tr>\n",
       "    <tr>\n",
       "      <th>logical_job_name_acR2C+MVPElGZnDb2otD05jHvcaa13psp4o43e07UeA=</th>\n",
       "      <td>33</td>\n",
       "      <td>10539</td>\n",
       "      <td>414</td>\n",
       "      <td>14</td>\n",
       "    </tr>\n",
       "    <tr>\n",
       "      <th>user_Qp8btWQgCV7tfDpiSAjKj4Q4n9WFN5r+1A5YXzWPXu8=</th>\n",
       "      <td>34</td>\n",
       "      <td>11267</td>\n",
       "      <td>418</td>\n",
       "      <td>15</td>\n",
       "    </tr>\n",
       "  </tbody>\n",
       "</table>\n",
       "</div>"
      ],
      "text/plain": [
       "                                                    position cl0  \\\n",
       "values                                                             \n",
       "user_njTE8BZMxQTFTmz+xeDNc6MGCjP2WhS6B4xK9+rTh8E=              1   \n",
       "logical_job_name_j25eTfDZ4FFHzd7p+VKe13tP4+iQbK...             2   \n",
       "user_P/b25hVu6/7A0BJOLJFXi0VLXUOprxPTVtOKXlp/w/Y=             11   \n",
       "logical_job_name_9q2rn++rPMOVeDylVv/NchnIKQxmfB...            17   \n",
       "logical_job_name_G/9E4AW9fSviXbmdFO5BBcjVd49zuI...             3   \n",
       "logical_job_name_PqaHcqiH62FESqU41XFHq+UbXe0Vvg...            20   \n",
       "logical_job_name_oHQYViMUeNEojiW9p3u0Vdt8N4KBAS...            16   \n",
       "logical_job_name_ZQ+bFefVT1UByX7mRuMBv2rx61PckQ...             6   \n",
       "logical_job_name_cNpu9y/02mA/fshHIHLxtmdpCmusNh...            29   \n",
       "logical_job_name_AmKr63lD9MIGXiAacmzoj6kQMGqk2U...             5   \n",
       "logical_job_name_1DPubg0oZEyxAN/ev7pTsMYKLqPKkc...            54   \n",
       "logical_job_name_evBe1ewvZ0q51pdt/HQXLBschAlhrg...            39   \n",
       "logical_job_name_HQhK2nuf0siPMxcATv+IeNMLloUwrL...            13   \n",
       "logical_job_name_acR2C+MVPElGZnDb2otD05jHvcaa13...            33   \n",
       "user_Qp8btWQgCV7tfDpiSAjKj4Q4n9WFN5r+1A5YXzWPXu8=             34   \n",
       "\n",
       "                                                    position cl1  \\\n",
       "values                                                             \n",
       "user_njTE8BZMxQTFTmz+xeDNc6MGCjP2WhS6B4xK9+rTh8E=          10055   \n",
       "logical_job_name_j25eTfDZ4FFHzd7p+VKe13tP4+iQbK...          8266   \n",
       "user_P/b25hVu6/7A0BJOLJFXi0VLXUOprxPTVtOKXlp/w/Y=           3108   \n",
       "logical_job_name_9q2rn++rPMOVeDylVv/NchnIKQxmfB...          8101   \n",
       "logical_job_name_G/9E4AW9fSviXbmdFO5BBcjVd49zuI...          1939   \n",
       "logical_job_name_PqaHcqiH62FESqU41XFHq+UbXe0Vvg...          4792   \n",
       "logical_job_name_oHQYViMUeNEojiW9p3u0Vdt8N4KBAS...          5090   \n",
       "logical_job_name_ZQ+bFefVT1UByX7mRuMBv2rx61PckQ...          4857   \n",
       "logical_job_name_cNpu9y/02mA/fshHIHLxtmdpCmusNh...          4180   \n",
       "logical_job_name_AmKr63lD9MIGXiAacmzoj6kQMGqk2U...         11355   \n",
       "logical_job_name_1DPubg0oZEyxAN/ev7pTsMYKLqPKkc...          3910   \n",
       "logical_job_name_evBe1ewvZ0q51pdt/HQXLBschAlhrg...          2732   \n",
       "logical_job_name_HQhK2nuf0siPMxcATv+IeNMLloUwrL...         11749   \n",
       "logical_job_name_acR2C+MVPElGZnDb2otD05jHvcaa13...         10539   \n",
       "user_Qp8btWQgCV7tfDpiSAjKj4Q4n9WFN5r+1A5YXzWPXu8=          11267   \n",
       "\n",
       "                                                    position cl2  position cl3  \n",
       "values                                                                          \n",
       "user_njTE8BZMxQTFTmz+xeDNc6MGCjP2WhS6B4xK9+rTh8E=              4             1  \n",
       "logical_job_name_j25eTfDZ4FFHzd7p+VKe13tP4+iQbK...             2             2  \n",
       "user_P/b25hVu6/7A0BJOLJFXi0VLXUOprxPTVtOKXlp/w/Y=             33             3  \n",
       "logical_job_name_9q2rn++rPMOVeDylVv/NchnIKQxmfB...            40             4  \n",
       "logical_job_name_G/9E4AW9fSviXbmdFO5BBcjVd49zuI...            11             5  \n",
       "logical_job_name_PqaHcqiH62FESqU41XFHq+UbXe0Vvg...           338             6  \n",
       "logical_job_name_oHQYViMUeNEojiW9p3u0Vdt8N4KBAS...            34             7  \n",
       "logical_job_name_ZQ+bFefVT1UByX7mRuMBv2rx61PckQ...            12             8  \n",
       "logical_job_name_cNpu9y/02mA/fshHIHLxtmdpCmusNh...           317             9  \n",
       "logical_job_name_AmKr63lD9MIGXiAacmzoj6kQMGqk2U...            10            10  \n",
       "logical_job_name_1DPubg0oZEyxAN/ev7pTsMYKLqPKkc...            38            11  \n",
       "logical_job_name_evBe1ewvZ0q51pdt/HQXLBschAlhrg...            27            12  \n",
       "logical_job_name_HQhK2nuf0siPMxcATv+IeNMLloUwrL...            32            13  \n",
       "logical_job_name_acR2C+MVPElGZnDb2otD05jHvcaa13...           414            14  \n",
       "user_Qp8btWQgCV7tfDpiSAjKj4Q4n9WFN5r+1A5YXzWPXu8=            418            15  "
      ]
     },
     "execution_count": 27,
     "metadata": {},
     "output_type": "execute_result"
    }
   ],
   "source": [
    "pd.DataFrame(ranking_features[3]).set_index(\"values\")"
   ]
  },
  {
   "cell_type": "markdown",
   "metadata": {},
   "source": [
    "## \"Supervised\" explanation"
   ]
  },
  {
   "cell_type": "code",
   "execution_count": 28,
   "metadata": {
    "execution": {
     "iopub.execute_input": "2022-01-26T09:36:36.362413Z",
     "iopub.status.busy": "2022-01-26T09:36:36.362306Z",
     "iopub.status.idle": "2022-01-26T09:36:36.369258Z",
     "shell.execute_reply": "2022-01-26T09:36:36.368776Z",
     "shell.execute_reply.started": "2022-01-26T09:36:36.362399Z"
    },
    "tags": []
   },
   "outputs": [],
   "source": [
    "oneHotDf = static_metrics[['different machines restriction', 'disk space request - Quartiles', 'memory request - Quartiles', 'CPU request - Quartiles', 'priority labels', 'user', 'logical job name', 'scheduling class']]"
   ]
  },
  {
   "cell_type": "code",
   "execution_count": 29,
   "metadata": {
    "execution": {
     "iopub.execute_input": "2022-01-26T09:36:36.369879Z",
     "iopub.status.busy": "2022-01-26T09:36:36.369767Z",
     "iopub.status.idle": "2022-01-26T09:36:37.432695Z",
     "shell.execute_reply": "2022-01-26T09:36:37.431953Z",
     "shell.execute_reply.started": "2022-01-26T09:36:36.369865Z"
    },
    "tags": []
   },
   "outputs": [],
   "source": [
    "oneHotDf = pd.get_dummies(oneHotDf)"
   ]
  },
  {
   "cell_type": "code",
   "execution_count": 30,
   "metadata": {
    "execution": {
     "iopub.execute_input": "2022-01-26T09:36:37.433563Z",
     "iopub.status.busy": "2022-01-26T09:36:37.433434Z",
     "iopub.status.idle": "2022-01-26T09:36:37.450454Z",
     "shell.execute_reply": "2022-01-26T09:36:37.449990Z",
     "shell.execute_reply.started": "2022-01-26T09:36:37.433547Z"
    },
    "tags": []
   },
   "outputs": [
    {
     "data": {
      "text/html": [
       "<div>\n",
       "<style scoped>\n",
       "    .dataframe tbody tr th:only-of-type {\n",
       "        vertical-align: middle;\n",
       "    }\n",
       "\n",
       "    .dataframe tbody tr th {\n",
       "        vertical-align: top;\n",
       "    }\n",
       "\n",
       "    .dataframe thead th {\n",
       "        text-align: right;\n",
       "    }\n",
       "</style>\n",
       "<table border=\"1\" class=\"dataframe\">\n",
       "  <thead>\n",
       "    <tr style=\"text-align: right;\">\n",
       "      <th></th>\n",
       "      <th>different machines restriction</th>\n",
       "      <th>scheduling class</th>\n",
       "      <th>disk space request - Quartiles_Q1</th>\n",
       "      <th>disk space request - Quartiles_Q2</th>\n",
       "      <th>disk space request - Quartiles_Q4</th>\n",
       "      <th>memory request - Quartiles_Q1</th>\n",
       "      <th>memory request - Quartiles_Q2</th>\n",
       "      <th>memory request - Quartiles_Q3</th>\n",
       "      <th>memory request - Quartiles_Q4</th>\n",
       "      <th>CPU request - Quartiles_Q1</th>\n",
       "      <th>...</th>\n",
       "      <th>logical job name_zx5jRgl3hgIiT8WOmfR+8bFfzezatJc9va5NQ/JLdlQ=</th>\n",
       "      <th>logical job name_zx9Ss5I6Uzzm3ZkTuJAon4jwIC/xrym2WcwUgFJFKqM=</th>\n",
       "      <th>logical job name_zxTiflFnl0GXvcXPG9Rzx1frVQK1yiEzPgFJjB1g/OU=</th>\n",
       "      <th>logical job name_zyyXeGZlaEeQP5RYw4ZB4E00xFtZLmjaAazSs4h2iRE=</th>\n",
       "      <th>logical job name_zz/mc7VG8WeWxgTXWyD9Jsc9EvlIsbYwbITVb7fKG34=</th>\n",
       "      <th>logical job name_zz4cFAgW4BaV9hGxq+9duJHJ7D4+vcJrzLB9j9+Yzm0=</th>\n",
       "      <th>logical job name_zzAZV4ZWjP8euy5y1ooNkdVj1M+PY/d4XcDtPfDfpQI=</th>\n",
       "      <th>logical job name_zzJSSVHLLM0MT4S0br104OHNMTAp1hsw4yasstN40BQ=</th>\n",
       "      <th>logical job name_zzfU/0NoMaKdmmJ+9aEMEW4L9b6sr/N03hKHZV5xsH0=</th>\n",
       "      <th>logical job name_zzyXXqYH1aYRpGl3JxyTk8XIApgQMz6NXs8Tpb56rbo=</th>\n",
       "    </tr>\n",
       "  </thead>\n",
       "  <tbody>\n",
       "    <tr>\n",
       "      <th>0</th>\n",
       "      <td>0</td>\n",
       "      <td>3</td>\n",
       "      <td>0</td>\n",
       "      <td>0</td>\n",
       "      <td>1</td>\n",
       "      <td>0</td>\n",
       "      <td>0</td>\n",
       "      <td>0</td>\n",
       "      <td>1</td>\n",
       "      <td>0</td>\n",
       "      <td>...</td>\n",
       "      <td>0</td>\n",
       "      <td>0</td>\n",
       "      <td>0</td>\n",
       "      <td>0</td>\n",
       "      <td>0</td>\n",
       "      <td>0</td>\n",
       "      <td>0</td>\n",
       "      <td>0</td>\n",
       "      <td>0</td>\n",
       "      <td>0</td>\n",
       "    </tr>\n",
       "    <tr>\n",
       "      <th>1</th>\n",
       "      <td>0</td>\n",
       "      <td>3</td>\n",
       "      <td>0</td>\n",
       "      <td>0</td>\n",
       "      <td>1</td>\n",
       "      <td>0</td>\n",
       "      <td>0</td>\n",
       "      <td>0</td>\n",
       "      <td>1</td>\n",
       "      <td>0</td>\n",
       "      <td>...</td>\n",
       "      <td>0</td>\n",
       "      <td>0</td>\n",
       "      <td>0</td>\n",
       "      <td>0</td>\n",
       "      <td>0</td>\n",
       "      <td>0</td>\n",
       "      <td>0</td>\n",
       "      <td>0</td>\n",
       "      <td>0</td>\n",
       "      <td>0</td>\n",
       "    </tr>\n",
       "    <tr>\n",
       "      <th>2</th>\n",
       "      <td>0</td>\n",
       "      <td>3</td>\n",
       "      <td>0</td>\n",
       "      <td>0</td>\n",
       "      <td>1</td>\n",
       "      <td>0</td>\n",
       "      <td>0</td>\n",
       "      <td>0</td>\n",
       "      <td>1</td>\n",
       "      <td>0</td>\n",
       "      <td>...</td>\n",
       "      <td>0</td>\n",
       "      <td>0</td>\n",
       "      <td>0</td>\n",
       "      <td>0</td>\n",
       "      <td>0</td>\n",
       "      <td>0</td>\n",
       "      <td>0</td>\n",
       "      <td>0</td>\n",
       "      <td>0</td>\n",
       "      <td>0</td>\n",
       "    </tr>\n",
       "    <tr>\n",
       "      <th>3</th>\n",
       "      <td>0</td>\n",
       "      <td>2</td>\n",
       "      <td>1</td>\n",
       "      <td>0</td>\n",
       "      <td>0</td>\n",
       "      <td>0</td>\n",
       "      <td>1</td>\n",
       "      <td>0</td>\n",
       "      <td>0</td>\n",
       "      <td>0</td>\n",
       "      <td>...</td>\n",
       "      <td>0</td>\n",
       "      <td>0</td>\n",
       "      <td>0</td>\n",
       "      <td>0</td>\n",
       "      <td>0</td>\n",
       "      <td>0</td>\n",
       "      <td>0</td>\n",
       "      <td>0</td>\n",
       "      <td>0</td>\n",
       "      <td>0</td>\n",
       "    </tr>\n",
       "    <tr>\n",
       "      <th>4</th>\n",
       "      <td>0</td>\n",
       "      <td>3</td>\n",
       "      <td>0</td>\n",
       "      <td>0</td>\n",
       "      <td>1</td>\n",
       "      <td>0</td>\n",
       "      <td>0</td>\n",
       "      <td>0</td>\n",
       "      <td>1</td>\n",
       "      <td>0</td>\n",
       "      <td>...</td>\n",
       "      <td>0</td>\n",
       "      <td>0</td>\n",
       "      <td>0</td>\n",
       "      <td>0</td>\n",
       "      <td>0</td>\n",
       "      <td>0</td>\n",
       "      <td>0</td>\n",
       "      <td>0</td>\n",
       "      <td>0</td>\n",
       "      <td>0</td>\n",
       "    </tr>\n",
       "    <tr>\n",
       "      <th>...</th>\n",
       "      <td>...</td>\n",
       "      <td>...</td>\n",
       "      <td>...</td>\n",
       "      <td>...</td>\n",
       "      <td>...</td>\n",
       "      <td>...</td>\n",
       "      <td>...</td>\n",
       "      <td>...</td>\n",
       "      <td>...</td>\n",
       "      <td>...</td>\n",
       "      <td>...</td>\n",
       "      <td>...</td>\n",
       "      <td>...</td>\n",
       "      <td>...</td>\n",
       "      <td>...</td>\n",
       "      <td>...</td>\n",
       "      <td>...</td>\n",
       "      <td>...</td>\n",
       "      <td>...</td>\n",
       "      <td>...</td>\n",
       "      <td>...</td>\n",
       "    </tr>\n",
       "    <tr>\n",
       "      <th>64928</th>\n",
       "      <td>0</td>\n",
       "      <td>1</td>\n",
       "      <td>0</td>\n",
       "      <td>1</td>\n",
       "      <td>0</td>\n",
       "      <td>0</td>\n",
       "      <td>0</td>\n",
       "      <td>1</td>\n",
       "      <td>0</td>\n",
       "      <td>0</td>\n",
       "      <td>...</td>\n",
       "      <td>0</td>\n",
       "      <td>0</td>\n",
       "      <td>0</td>\n",
       "      <td>0</td>\n",
       "      <td>0</td>\n",
       "      <td>0</td>\n",
       "      <td>0</td>\n",
       "      <td>0</td>\n",
       "      <td>0</td>\n",
       "      <td>0</td>\n",
       "    </tr>\n",
       "    <tr>\n",
       "      <th>64929</th>\n",
       "      <td>0</td>\n",
       "      <td>0</td>\n",
       "      <td>0</td>\n",
       "      <td>0</td>\n",
       "      <td>1</td>\n",
       "      <td>0</td>\n",
       "      <td>0</td>\n",
       "      <td>0</td>\n",
       "      <td>1</td>\n",
       "      <td>0</td>\n",
       "      <td>...</td>\n",
       "      <td>0</td>\n",
       "      <td>0</td>\n",
       "      <td>0</td>\n",
       "      <td>0</td>\n",
       "      <td>0</td>\n",
       "      <td>0</td>\n",
       "      <td>0</td>\n",
       "      <td>0</td>\n",
       "      <td>0</td>\n",
       "      <td>0</td>\n",
       "    </tr>\n",
       "    <tr>\n",
       "      <th>64930</th>\n",
       "      <td>0</td>\n",
       "      <td>0</td>\n",
       "      <td>0</td>\n",
       "      <td>1</td>\n",
       "      <td>0</td>\n",
       "      <td>1</td>\n",
       "      <td>0</td>\n",
       "      <td>0</td>\n",
       "      <td>0</td>\n",
       "      <td>0</td>\n",
       "      <td>...</td>\n",
       "      <td>0</td>\n",
       "      <td>0</td>\n",
       "      <td>0</td>\n",
       "      <td>0</td>\n",
       "      <td>0</td>\n",
       "      <td>0</td>\n",
       "      <td>0</td>\n",
       "      <td>0</td>\n",
       "      <td>0</td>\n",
       "      <td>0</td>\n",
       "    </tr>\n",
       "    <tr>\n",
       "      <th>64931</th>\n",
       "      <td>0</td>\n",
       "      <td>2</td>\n",
       "      <td>0</td>\n",
       "      <td>1</td>\n",
       "      <td>0</td>\n",
       "      <td>0</td>\n",
       "      <td>1</td>\n",
       "      <td>0</td>\n",
       "      <td>0</td>\n",
       "      <td>0</td>\n",
       "      <td>...</td>\n",
       "      <td>0</td>\n",
       "      <td>0</td>\n",
       "      <td>0</td>\n",
       "      <td>0</td>\n",
       "      <td>0</td>\n",
       "      <td>0</td>\n",
       "      <td>0</td>\n",
       "      <td>0</td>\n",
       "      <td>0</td>\n",
       "      <td>0</td>\n",
       "    </tr>\n",
       "    <tr>\n",
       "      <th>64932</th>\n",
       "      <td>0</td>\n",
       "      <td>2</td>\n",
       "      <td>0</td>\n",
       "      <td>1</td>\n",
       "      <td>0</td>\n",
       "      <td>0</td>\n",
       "      <td>1</td>\n",
       "      <td>0</td>\n",
       "      <td>0</td>\n",
       "      <td>1</td>\n",
       "      <td>...</td>\n",
       "      <td>0</td>\n",
       "      <td>0</td>\n",
       "      <td>0</td>\n",
       "      <td>0</td>\n",
       "      <td>0</td>\n",
       "      <td>0</td>\n",
       "      <td>0</td>\n",
       "      <td>0</td>\n",
       "      <td>0</td>\n",
       "      <td>0</td>\n",
       "    </tr>\n",
       "  </tbody>\n",
       "</table>\n",
       "<p>64933 rows × 11752 columns</p>\n",
       "</div>"
      ],
      "text/plain": [
       "       different machines restriction  scheduling class  \\\n",
       "0                                   0                 3   \n",
       "1                                   0                 3   \n",
       "2                                   0                 3   \n",
       "3                                   0                 2   \n",
       "4                                   0                 3   \n",
       "...                               ...               ...   \n",
       "64928                               0                 1   \n",
       "64929                               0                 0   \n",
       "64930                               0                 0   \n",
       "64931                               0                 2   \n",
       "64932                               0                 2   \n",
       "\n",
       "       disk space request - Quartiles_Q1  disk space request - Quartiles_Q2  \\\n",
       "0                                      0                                  0   \n",
       "1                                      0                                  0   \n",
       "2                                      0                                  0   \n",
       "3                                      1                                  0   \n",
       "4                                      0                                  0   \n",
       "...                                  ...                                ...   \n",
       "64928                                  0                                  1   \n",
       "64929                                  0                                  0   \n",
       "64930                                  0                                  1   \n",
       "64931                                  0                                  1   \n",
       "64932                                  0                                  1   \n",
       "\n",
       "       disk space request - Quartiles_Q4  memory request - Quartiles_Q1  \\\n",
       "0                                      1                              0   \n",
       "1                                      1                              0   \n",
       "2                                      1                              0   \n",
       "3                                      0                              0   \n",
       "4                                      1                              0   \n",
       "...                                  ...                            ...   \n",
       "64928                                  0                              0   \n",
       "64929                                  1                              0   \n",
       "64930                                  0                              1   \n",
       "64931                                  0                              0   \n",
       "64932                                  0                              0   \n",
       "\n",
       "       memory request - Quartiles_Q2  memory request - Quartiles_Q3  \\\n",
       "0                                  0                              0   \n",
       "1                                  0                              0   \n",
       "2                                  0                              0   \n",
       "3                                  1                              0   \n",
       "4                                  0                              0   \n",
       "...                              ...                            ...   \n",
       "64928                              0                              1   \n",
       "64929                              0                              0   \n",
       "64930                              0                              0   \n",
       "64931                              1                              0   \n",
       "64932                              1                              0   \n",
       "\n",
       "       memory request - Quartiles_Q4  CPU request - Quartiles_Q1  ...  \\\n",
       "0                                  1                           0  ...   \n",
       "1                                  1                           0  ...   \n",
       "2                                  1                           0  ...   \n",
       "3                                  0                           0  ...   \n",
       "4                                  1                           0  ...   \n",
       "...                              ...                         ...  ...   \n",
       "64928                              0                           0  ...   \n",
       "64929                              1                           0  ...   \n",
       "64930                              0                           0  ...   \n",
       "64931                              0                           0  ...   \n",
       "64932                              0                           1  ...   \n",
       "\n",
       "       logical job name_zx5jRgl3hgIiT8WOmfR+8bFfzezatJc9va5NQ/JLdlQ=  \\\n",
       "0                                                      0               \n",
       "1                                                      0               \n",
       "2                                                      0               \n",
       "3                                                      0               \n",
       "4                                                      0               \n",
       "...                                                  ...               \n",
       "64928                                                  0               \n",
       "64929                                                  0               \n",
       "64930                                                  0               \n",
       "64931                                                  0               \n",
       "64932                                                  0               \n",
       "\n",
       "       logical job name_zx9Ss5I6Uzzm3ZkTuJAon4jwIC/xrym2WcwUgFJFKqM=  \\\n",
       "0                                                      0               \n",
       "1                                                      0               \n",
       "2                                                      0               \n",
       "3                                                      0               \n",
       "4                                                      0               \n",
       "...                                                  ...               \n",
       "64928                                                  0               \n",
       "64929                                                  0               \n",
       "64930                                                  0               \n",
       "64931                                                  0               \n",
       "64932                                                  0               \n",
       "\n",
       "       logical job name_zxTiflFnl0GXvcXPG9Rzx1frVQK1yiEzPgFJjB1g/OU=  \\\n",
       "0                                                      0               \n",
       "1                                                      0               \n",
       "2                                                      0               \n",
       "3                                                      0               \n",
       "4                                                      0               \n",
       "...                                                  ...               \n",
       "64928                                                  0               \n",
       "64929                                                  0               \n",
       "64930                                                  0               \n",
       "64931                                                  0               \n",
       "64932                                                  0               \n",
       "\n",
       "       logical job name_zyyXeGZlaEeQP5RYw4ZB4E00xFtZLmjaAazSs4h2iRE=  \\\n",
       "0                                                      0               \n",
       "1                                                      0               \n",
       "2                                                      0               \n",
       "3                                                      0               \n",
       "4                                                      0               \n",
       "...                                                  ...               \n",
       "64928                                                  0               \n",
       "64929                                                  0               \n",
       "64930                                                  0               \n",
       "64931                                                  0               \n",
       "64932                                                  0               \n",
       "\n",
       "       logical job name_zz/mc7VG8WeWxgTXWyD9Jsc9EvlIsbYwbITVb7fKG34=  \\\n",
       "0                                                      0               \n",
       "1                                                      0               \n",
       "2                                                      0               \n",
       "3                                                      0               \n",
       "4                                                      0               \n",
       "...                                                  ...               \n",
       "64928                                                  0               \n",
       "64929                                                  0               \n",
       "64930                                                  0               \n",
       "64931                                                  0               \n",
       "64932                                                  0               \n",
       "\n",
       "       logical job name_zz4cFAgW4BaV9hGxq+9duJHJ7D4+vcJrzLB9j9+Yzm0=  \\\n",
       "0                                                      0               \n",
       "1                                                      0               \n",
       "2                                                      0               \n",
       "3                                                      0               \n",
       "4                                                      0               \n",
       "...                                                  ...               \n",
       "64928                                                  0               \n",
       "64929                                                  0               \n",
       "64930                                                  0               \n",
       "64931                                                  0               \n",
       "64932                                                  0               \n",
       "\n",
       "       logical job name_zzAZV4ZWjP8euy5y1ooNkdVj1M+PY/d4XcDtPfDfpQI=  \\\n",
       "0                                                      0               \n",
       "1                                                      0               \n",
       "2                                                      0               \n",
       "3                                                      0               \n",
       "4                                                      0               \n",
       "...                                                  ...               \n",
       "64928                                                  0               \n",
       "64929                                                  0               \n",
       "64930                                                  0               \n",
       "64931                                                  0               \n",
       "64932                                                  0               \n",
       "\n",
       "       logical job name_zzJSSVHLLM0MT4S0br104OHNMTAp1hsw4yasstN40BQ=  \\\n",
       "0                                                      0               \n",
       "1                                                      0               \n",
       "2                                                      0               \n",
       "3                                                      0               \n",
       "4                                                      0               \n",
       "...                                                  ...               \n",
       "64928                                                  0               \n",
       "64929                                                  0               \n",
       "64930                                                  0               \n",
       "64931                                                  0               \n",
       "64932                                                  0               \n",
       "\n",
       "       logical job name_zzfU/0NoMaKdmmJ+9aEMEW4L9b6sr/N03hKHZV5xsH0=  \\\n",
       "0                                                      0               \n",
       "1                                                      0               \n",
       "2                                                      0               \n",
       "3                                                      0               \n",
       "4                                                      0               \n",
       "...                                                  ...               \n",
       "64928                                                  0               \n",
       "64929                                                  0               \n",
       "64930                                                  0               \n",
       "64931                                                  0               \n",
       "64932                                                  0               \n",
       "\n",
       "       logical job name_zzyXXqYH1aYRpGl3JxyTk8XIApgQMz6NXs8Tpb56rbo=  \n",
       "0                                                      0              \n",
       "1                                                      0              \n",
       "2                                                      0              \n",
       "3                                                      0              \n",
       "4                                                      0              \n",
       "...                                                  ...              \n",
       "64928                                                  0              \n",
       "64929                                                  0              \n",
       "64930                                                  0              \n",
       "64931                                                  0              \n",
       "64932                                                  0              \n",
       "\n",
       "[64933 rows x 11752 columns]"
      ]
     },
     "execution_count": 30,
     "metadata": {},
     "output_type": "execute_result"
    }
   ],
   "source": [
    "oneHotDf"
   ]
  },
  {
   "cell_type": "markdown",
   "metadata": {},
   "source": [
    "Set the scoring metri"
   ]
  },
  {
   "cell_type": "code",
   "execution_count": 33,
   "metadata": {
    "execution": {
     "iopub.execute_input": "2022-01-26T09:47:03.150408Z",
     "iopub.status.busy": "2022-01-26T09:47:03.149767Z",
     "iopub.status.idle": "2022-01-26T09:47:03.158373Z",
     "shell.execute_reply": "2022-01-26T09:47:03.156733Z",
     "shell.execute_reply.started": "2022-01-26T09:47:03.150338Z"
    },
    "tags": []
   },
   "outputs": [],
   "source": [
    "scoring = {'acc': 'accuracy',\n",
    "           'f1_macro': 'f1_macro',\n",
    "           'f1_weight': 'f1_weighted'}"
   ]
  },
  {
   "cell_type": "markdown",
   "metadata": {},
   "source": [
    "### Random Forest"
   ]
  },
  {
   "cell_type": "markdown",
   "metadata": {
    "tags": []
   },
   "source": [
    "#### K-Means 4 - cl.0"
   ]
  },
  {
   "cell_type": "code",
   "execution_count": 31,
   "metadata": {
    "execution": {
     "iopub.execute_input": "2022-01-26T09:36:37.451086Z",
     "iopub.status.busy": "2022-01-26T09:36:37.450977Z",
     "iopub.status.idle": "2022-01-26T09:37:26.987795Z",
     "shell.execute_reply": "2022-01-26T09:37:26.986871Z",
     "shell.execute_reply.started": "2022-01-26T09:36:37.451072Z"
    },
    "tags": []
   },
   "outputs": [
    {
     "data": {
      "text/plain": [
       "RandomForestClassifier(n_jobs=-1, random_state=1)"
      ]
     },
     "execution_count": 31,
     "metadata": {},
     "output_type": "execute_result"
    }
   ],
   "source": [
    "clf0 = RandomForestClassifier(random_state=1, n_jobs=-1)\n",
    "clf0.fit(oneHotDf, (static_metrics['K-Means = 4'] == 0).astype(int).values)"
   ]
  },
  {
   "cell_type": "code",
   "execution_count": null,
   "metadata": {
    "execution": {
     "iopub.execute_input": "2022-01-26T09:47:03.604421Z",
     "iopub.status.busy": "2022-01-26T09:47:03.603793Z"
    }
   },
   "outputs": [],
   "source": [
    "results = cross_validate(clf0, oneHotDf, (static_metrics['K-Means = 4'] == 2).astype(int).values, scoring=scoring, cv=kfold)"
   ]
  },
  {
   "cell_type": "code",
   "execution_count": 32,
   "metadata": {
    "execution": {
     "iopub.execute_input": "2022-01-26T09:37:26.989652Z",
     "iopub.status.busy": "2022-01-26T09:37:26.989477Z",
     "iopub.status.idle": "2022-01-26T09:45:41.631134Z",
     "shell.execute_reply": "2022-01-26T09:45:41.625367Z",
     "shell.execute_reply.started": "2022-01-26T09:37:26.989630Z"
    },
    "tags": []
   },
   "outputs": [
    {
     "name": "stderr",
     "output_type": "stream",
     "text": [
      "Process LokyProcess-67:\n",
      "Process LokyProcess-9:\n",
      "Traceback (most recent call last):\n",
      "  File \"/opt/anaconda3/envs/neuralnets/lib/python3.9/multiprocessing/process.py\", line 315, in _bootstrap\n",
      "    self.run()\n",
      "  File \"/opt/anaconda3/envs/neuralnets/lib/python3.9/multiprocessing/process.py\", line 108, in run\n",
      "    self._target(*self._args, **self._kwargs)\n",
      "  File \"/opt/anaconda3/envs/neuralnets/lib/python3.9/site-packages/joblib/externals/loky/process_executor.py\", line 446, in _process_worker\n",
      "    del call_item\n",
      "KeyboardInterrupt\n",
      "Traceback (most recent call last):\n",
      "  File \"/opt/anaconda3/envs/neuralnets/lib/python3.9/multiprocessing/process.py\", line 315, in _bootstrap\n",
      "    self.run()\n",
      "  File \"/opt/anaconda3/envs/neuralnets/lib/python3.9/multiprocessing/process.py\", line 108, in run\n",
      "    self._target(*self._args, **self._kwargs)\n",
      "  File \"/opt/anaconda3/envs/neuralnets/lib/python3.9/site-packages/joblib/externals/loky/process_executor.py\", line 446, in _process_worker\n",
      "    del call_item\n",
      "KeyboardInterrupt\n",
      "Process LokyProcess-59:\n",
      "Traceback (most recent call last):\n",
      "  File \"/opt/anaconda3/envs/neuralnets/lib/python3.9/multiprocessing/process.py\", line 315, in _bootstrap\n",
      "    self.run()\n",
      "  File \"/opt/anaconda3/envs/neuralnets/lib/python3.9/multiprocessing/process.py\", line 108, in run\n",
      "    self._target(*self._args, **self._kwargs)\n",
      "  File \"/opt/anaconda3/envs/neuralnets/lib/python3.9/site-packages/joblib/externals/loky/process_executor.py\", line 446, in _process_worker\n",
      "    del call_item\n",
      "KeyboardInterrupt\n"
     ]
    },
    {
     "ename": "KeyboardInterrupt",
     "evalue": "",
     "output_type": "error",
     "traceback": [
      "\u001b[0;31m---------------------------------------------------------------------------\u001b[0m",
      "\u001b[0;31mKeyboardInterrupt\u001b[0m                         Traceback (most recent call last)",
      "\u001b[0;32m/tmp/ipykernel_68435/3663251225.py\u001b[0m in \u001b[0;36m<module>\u001b[0;34m\u001b[0m\n\u001b[1;32m      1\u001b[0m \u001b[0mkfold\u001b[0m\u001b[0;34m=\u001b[0m\u001b[0;36m10\u001b[0m\u001b[0;34m\u001b[0m\u001b[0;34m\u001b[0m\u001b[0m\n\u001b[0;32m----> 2\u001b[0;31m \u001b[0mresultsClf0\u001b[0m \u001b[0;34m=\u001b[0m \u001b[0mcross_val_score\u001b[0m\u001b[0;34m(\u001b[0m\u001b[0mclf0\u001b[0m\u001b[0;34m,\u001b[0m \u001b[0moneHotDf\u001b[0m\u001b[0;34m,\u001b[0m \u001b[0;34m(\u001b[0m\u001b[0mstatic_metrics\u001b[0m\u001b[0;34m[\u001b[0m\u001b[0;34m'K-Means = 4'\u001b[0m\u001b[0;34m]\u001b[0m \u001b[0;34m==\u001b[0m \u001b[0;36m0\u001b[0m\u001b[0;34m)\u001b[0m\u001b[0;34m.\u001b[0m\u001b[0mastype\u001b[0m\u001b[0;34m(\u001b[0m\u001b[0mint\u001b[0m\u001b[0;34m)\u001b[0m\u001b[0;34m.\u001b[0m\u001b[0mvalues\u001b[0m\u001b[0;34m,\u001b[0m \u001b[0mcv\u001b[0m\u001b[0;34m=\u001b[0m\u001b[0mkfold\u001b[0m\u001b[0;34m)\u001b[0m\u001b[0;34m\u001b[0m\u001b[0;34m\u001b[0m\u001b[0m\n\u001b[0m",
      "\u001b[0;32m/opt/anaconda3/envs/neuralnets/lib/python3.9/site-packages/sklearn/model_selection/_validation.py\u001b[0m in \u001b[0;36mcross_val_score\u001b[0;34m(estimator, X, y, groups, scoring, cv, n_jobs, verbose, fit_params, pre_dispatch, error_score)\u001b[0m\n\u001b[1;32m    507\u001b[0m     \u001b[0mscorer\u001b[0m \u001b[0;34m=\u001b[0m \u001b[0mcheck_scoring\u001b[0m\u001b[0;34m(\u001b[0m\u001b[0mestimator\u001b[0m\u001b[0;34m,\u001b[0m \u001b[0mscoring\u001b[0m\u001b[0;34m=\u001b[0m\u001b[0mscoring\u001b[0m\u001b[0;34m)\u001b[0m\u001b[0;34m\u001b[0m\u001b[0;34m\u001b[0m\u001b[0m\n\u001b[1;32m    508\u001b[0m \u001b[0;34m\u001b[0m\u001b[0m\n\u001b[0;32m--> 509\u001b[0;31m     cv_results = cross_validate(\n\u001b[0m\u001b[1;32m    510\u001b[0m         \u001b[0mestimator\u001b[0m\u001b[0;34m=\u001b[0m\u001b[0mestimator\u001b[0m\u001b[0;34m,\u001b[0m\u001b[0;34m\u001b[0m\u001b[0;34m\u001b[0m\u001b[0m\n\u001b[1;32m    511\u001b[0m         \u001b[0mX\u001b[0m\u001b[0;34m=\u001b[0m\u001b[0mX\u001b[0m\u001b[0;34m,\u001b[0m\u001b[0;34m\u001b[0m\u001b[0;34m\u001b[0m\u001b[0m\n",
      "\u001b[0;32m/opt/anaconda3/envs/neuralnets/lib/python3.9/site-packages/sklearn/model_selection/_validation.py\u001b[0m in \u001b[0;36mcross_validate\u001b[0;34m(estimator, X, y, groups, scoring, cv, n_jobs, verbose, fit_params, pre_dispatch, return_train_score, return_estimator, error_score)\u001b[0m\n\u001b[1;32m    265\u001b[0m     \u001b[0;31m# independent, and that it is pickle-able.\u001b[0m\u001b[0;34m\u001b[0m\u001b[0;34m\u001b[0m\u001b[0m\n\u001b[1;32m    266\u001b[0m     \u001b[0mparallel\u001b[0m \u001b[0;34m=\u001b[0m \u001b[0mParallel\u001b[0m\u001b[0;34m(\u001b[0m\u001b[0mn_jobs\u001b[0m\u001b[0;34m=\u001b[0m\u001b[0mn_jobs\u001b[0m\u001b[0;34m,\u001b[0m \u001b[0mverbose\u001b[0m\u001b[0;34m=\u001b[0m\u001b[0mverbose\u001b[0m\u001b[0;34m,\u001b[0m \u001b[0mpre_dispatch\u001b[0m\u001b[0;34m=\u001b[0m\u001b[0mpre_dispatch\u001b[0m\u001b[0;34m)\u001b[0m\u001b[0;34m\u001b[0m\u001b[0;34m\u001b[0m\u001b[0m\n\u001b[0;32m--> 267\u001b[0;31m     results = parallel(\n\u001b[0m\u001b[1;32m    268\u001b[0m         delayed(_fit_and_score)(\n\u001b[1;32m    269\u001b[0m             \u001b[0mclone\u001b[0m\u001b[0;34m(\u001b[0m\u001b[0mestimator\u001b[0m\u001b[0;34m)\u001b[0m\u001b[0;34m,\u001b[0m\u001b[0;34m\u001b[0m\u001b[0;34m\u001b[0m\u001b[0m\n",
      "\u001b[0;32m/opt/anaconda3/envs/neuralnets/lib/python3.9/site-packages/joblib/parallel.py\u001b[0m in \u001b[0;36m__call__\u001b[0;34m(self, iterable)\u001b[0m\n\u001b[1;32m   1044\u001b[0m                 \u001b[0mself\u001b[0m\u001b[0;34m.\u001b[0m\u001b[0m_iterating\u001b[0m \u001b[0;34m=\u001b[0m \u001b[0mself\u001b[0m\u001b[0;34m.\u001b[0m\u001b[0m_original_iterator\u001b[0m \u001b[0;32mis\u001b[0m \u001b[0;32mnot\u001b[0m \u001b[0;32mNone\u001b[0m\u001b[0;34m\u001b[0m\u001b[0;34m\u001b[0m\u001b[0m\n\u001b[1;32m   1045\u001b[0m \u001b[0;34m\u001b[0m\u001b[0m\n\u001b[0;32m-> 1046\u001b[0;31m             \u001b[0;32mwhile\u001b[0m \u001b[0mself\u001b[0m\u001b[0;34m.\u001b[0m\u001b[0mdispatch_one_batch\u001b[0m\u001b[0;34m(\u001b[0m\u001b[0miterator\u001b[0m\u001b[0;34m)\u001b[0m\u001b[0;34m:\u001b[0m\u001b[0;34m\u001b[0m\u001b[0;34m\u001b[0m\u001b[0m\n\u001b[0m\u001b[1;32m   1047\u001b[0m                 \u001b[0;32mpass\u001b[0m\u001b[0;34m\u001b[0m\u001b[0;34m\u001b[0m\u001b[0m\n\u001b[1;32m   1048\u001b[0m \u001b[0;34m\u001b[0m\u001b[0m\n",
      "\u001b[0;32m/opt/anaconda3/envs/neuralnets/lib/python3.9/site-packages/joblib/parallel.py\u001b[0m in \u001b[0;36mdispatch_one_batch\u001b[0;34m(self, iterator)\u001b[0m\n\u001b[1;32m    859\u001b[0m                 \u001b[0;32mreturn\u001b[0m \u001b[0;32mFalse\u001b[0m\u001b[0;34m\u001b[0m\u001b[0;34m\u001b[0m\u001b[0m\n\u001b[1;32m    860\u001b[0m             \u001b[0;32melse\u001b[0m\u001b[0;34m:\u001b[0m\u001b[0;34m\u001b[0m\u001b[0;34m\u001b[0m\u001b[0m\n\u001b[0;32m--> 861\u001b[0;31m                 \u001b[0mself\u001b[0m\u001b[0;34m.\u001b[0m\u001b[0m_dispatch\u001b[0m\u001b[0;34m(\u001b[0m\u001b[0mtasks\u001b[0m\u001b[0;34m)\u001b[0m\u001b[0;34m\u001b[0m\u001b[0;34m\u001b[0m\u001b[0m\n\u001b[0m\u001b[1;32m    862\u001b[0m                 \u001b[0;32mreturn\u001b[0m \u001b[0;32mTrue\u001b[0m\u001b[0;34m\u001b[0m\u001b[0;34m\u001b[0m\u001b[0m\n\u001b[1;32m    863\u001b[0m \u001b[0;34m\u001b[0m\u001b[0m\n",
      "\u001b[0;32m/opt/anaconda3/envs/neuralnets/lib/python3.9/site-packages/joblib/parallel.py\u001b[0m in \u001b[0;36m_dispatch\u001b[0;34m(self, batch)\u001b[0m\n\u001b[1;32m    777\u001b[0m         \u001b[0;32mwith\u001b[0m \u001b[0mself\u001b[0m\u001b[0;34m.\u001b[0m\u001b[0m_lock\u001b[0m\u001b[0;34m:\u001b[0m\u001b[0;34m\u001b[0m\u001b[0;34m\u001b[0m\u001b[0m\n\u001b[1;32m    778\u001b[0m             \u001b[0mjob_idx\u001b[0m \u001b[0;34m=\u001b[0m \u001b[0mlen\u001b[0m\u001b[0;34m(\u001b[0m\u001b[0mself\u001b[0m\u001b[0;34m.\u001b[0m\u001b[0m_jobs\u001b[0m\u001b[0;34m)\u001b[0m\u001b[0;34m\u001b[0m\u001b[0;34m\u001b[0m\u001b[0m\n\u001b[0;32m--> 779\u001b[0;31m             \u001b[0mjob\u001b[0m \u001b[0;34m=\u001b[0m \u001b[0mself\u001b[0m\u001b[0;34m.\u001b[0m\u001b[0m_backend\u001b[0m\u001b[0;34m.\u001b[0m\u001b[0mapply_async\u001b[0m\u001b[0;34m(\u001b[0m\u001b[0mbatch\u001b[0m\u001b[0;34m,\u001b[0m \u001b[0mcallback\u001b[0m\u001b[0;34m=\u001b[0m\u001b[0mcb\u001b[0m\u001b[0;34m)\u001b[0m\u001b[0;34m\u001b[0m\u001b[0;34m\u001b[0m\u001b[0m\n\u001b[0m\u001b[1;32m    780\u001b[0m             \u001b[0;31m# A job can complete so quickly than its callback is\u001b[0m\u001b[0;34m\u001b[0m\u001b[0;34m\u001b[0m\u001b[0m\n\u001b[1;32m    781\u001b[0m             \u001b[0;31m# called before we get here, causing self._jobs to\u001b[0m\u001b[0;34m\u001b[0m\u001b[0;34m\u001b[0m\u001b[0m\n",
      "\u001b[0;32m/opt/anaconda3/envs/neuralnets/lib/python3.9/site-packages/joblib/_parallel_backends.py\u001b[0m in \u001b[0;36mapply_async\u001b[0;34m(self, func, callback)\u001b[0m\n\u001b[1;32m    206\u001b[0m     \u001b[0;32mdef\u001b[0m \u001b[0mapply_async\u001b[0m\u001b[0;34m(\u001b[0m\u001b[0mself\u001b[0m\u001b[0;34m,\u001b[0m \u001b[0mfunc\u001b[0m\u001b[0;34m,\u001b[0m \u001b[0mcallback\u001b[0m\u001b[0;34m=\u001b[0m\u001b[0;32mNone\u001b[0m\u001b[0;34m)\u001b[0m\u001b[0;34m:\u001b[0m\u001b[0;34m\u001b[0m\u001b[0;34m\u001b[0m\u001b[0m\n\u001b[1;32m    207\u001b[0m         \u001b[0;34m\"\"\"Schedule a func to be run\"\"\"\u001b[0m\u001b[0;34m\u001b[0m\u001b[0;34m\u001b[0m\u001b[0m\n\u001b[0;32m--> 208\u001b[0;31m         \u001b[0mresult\u001b[0m \u001b[0;34m=\u001b[0m \u001b[0mImmediateResult\u001b[0m\u001b[0;34m(\u001b[0m\u001b[0mfunc\u001b[0m\u001b[0;34m)\u001b[0m\u001b[0;34m\u001b[0m\u001b[0;34m\u001b[0m\u001b[0m\n\u001b[0m\u001b[1;32m    209\u001b[0m         \u001b[0;32mif\u001b[0m \u001b[0mcallback\u001b[0m\u001b[0;34m:\u001b[0m\u001b[0;34m\u001b[0m\u001b[0;34m\u001b[0m\u001b[0m\n\u001b[1;32m    210\u001b[0m             \u001b[0mcallback\u001b[0m\u001b[0;34m(\u001b[0m\u001b[0mresult\u001b[0m\u001b[0;34m)\u001b[0m\u001b[0;34m\u001b[0m\u001b[0;34m\u001b[0m\u001b[0m\n",
      "\u001b[0;32m/opt/anaconda3/envs/neuralnets/lib/python3.9/site-packages/joblib/_parallel_backends.py\u001b[0m in \u001b[0;36m__init__\u001b[0;34m(self, batch)\u001b[0m\n\u001b[1;32m    570\u001b[0m         \u001b[0;31m# Don't delay the application, to avoid keeping the input\u001b[0m\u001b[0;34m\u001b[0m\u001b[0;34m\u001b[0m\u001b[0m\n\u001b[1;32m    571\u001b[0m         \u001b[0;31m# arguments in memory\u001b[0m\u001b[0;34m\u001b[0m\u001b[0;34m\u001b[0m\u001b[0m\n\u001b[0;32m--> 572\u001b[0;31m         \u001b[0mself\u001b[0m\u001b[0;34m.\u001b[0m\u001b[0mresults\u001b[0m \u001b[0;34m=\u001b[0m \u001b[0mbatch\u001b[0m\u001b[0;34m(\u001b[0m\u001b[0;34m)\u001b[0m\u001b[0;34m\u001b[0m\u001b[0;34m\u001b[0m\u001b[0m\n\u001b[0m\u001b[1;32m    573\u001b[0m \u001b[0;34m\u001b[0m\u001b[0m\n\u001b[1;32m    574\u001b[0m     \u001b[0;32mdef\u001b[0m \u001b[0mget\u001b[0m\u001b[0;34m(\u001b[0m\u001b[0mself\u001b[0m\u001b[0;34m)\u001b[0m\u001b[0;34m:\u001b[0m\u001b[0;34m\u001b[0m\u001b[0;34m\u001b[0m\u001b[0m\n",
      "\u001b[0;32m/opt/anaconda3/envs/neuralnets/lib/python3.9/site-packages/joblib/parallel.py\u001b[0m in \u001b[0;36m__call__\u001b[0;34m(self)\u001b[0m\n\u001b[1;32m    260\u001b[0m         \u001b[0;31m# change the default number of processes to -1\u001b[0m\u001b[0;34m\u001b[0m\u001b[0;34m\u001b[0m\u001b[0m\n\u001b[1;32m    261\u001b[0m         \u001b[0;32mwith\u001b[0m \u001b[0mparallel_backend\u001b[0m\u001b[0;34m(\u001b[0m\u001b[0mself\u001b[0m\u001b[0;34m.\u001b[0m\u001b[0m_backend\u001b[0m\u001b[0;34m,\u001b[0m \u001b[0mn_jobs\u001b[0m\u001b[0;34m=\u001b[0m\u001b[0mself\u001b[0m\u001b[0;34m.\u001b[0m\u001b[0m_n_jobs\u001b[0m\u001b[0;34m)\u001b[0m\u001b[0;34m:\u001b[0m\u001b[0;34m\u001b[0m\u001b[0;34m\u001b[0m\u001b[0m\n\u001b[0;32m--> 262\u001b[0;31m             return [func(*args, **kwargs)\n\u001b[0m\u001b[1;32m    263\u001b[0m                     for func, args, kwargs in self.items]\n\u001b[1;32m    264\u001b[0m \u001b[0;34m\u001b[0m\u001b[0m\n",
      "\u001b[0;32m/opt/anaconda3/envs/neuralnets/lib/python3.9/site-packages/joblib/parallel.py\u001b[0m in \u001b[0;36m<listcomp>\u001b[0;34m(.0)\u001b[0m\n\u001b[1;32m    260\u001b[0m         \u001b[0;31m# change the default number of processes to -1\u001b[0m\u001b[0;34m\u001b[0m\u001b[0;34m\u001b[0m\u001b[0m\n\u001b[1;32m    261\u001b[0m         \u001b[0;32mwith\u001b[0m \u001b[0mparallel_backend\u001b[0m\u001b[0;34m(\u001b[0m\u001b[0mself\u001b[0m\u001b[0;34m.\u001b[0m\u001b[0m_backend\u001b[0m\u001b[0;34m,\u001b[0m \u001b[0mn_jobs\u001b[0m\u001b[0;34m=\u001b[0m\u001b[0mself\u001b[0m\u001b[0;34m.\u001b[0m\u001b[0m_n_jobs\u001b[0m\u001b[0;34m)\u001b[0m\u001b[0;34m:\u001b[0m\u001b[0;34m\u001b[0m\u001b[0;34m\u001b[0m\u001b[0m\n\u001b[0;32m--> 262\u001b[0;31m             return [func(*args, **kwargs)\n\u001b[0m\u001b[1;32m    263\u001b[0m                     for func, args, kwargs in self.items]\n\u001b[1;32m    264\u001b[0m \u001b[0;34m\u001b[0m\u001b[0m\n",
      "\u001b[0;32m/opt/anaconda3/envs/neuralnets/lib/python3.9/site-packages/sklearn/utils/fixes.py\u001b[0m in \u001b[0;36m__call__\u001b[0;34m(self, *args, **kwargs)\u001b[0m\n\u001b[1;32m    214\u001b[0m     \u001b[0;32mdef\u001b[0m \u001b[0m__call__\u001b[0m\u001b[0;34m(\u001b[0m\u001b[0mself\u001b[0m\u001b[0;34m,\u001b[0m \u001b[0;34m*\u001b[0m\u001b[0margs\u001b[0m\u001b[0;34m,\u001b[0m \u001b[0;34m**\u001b[0m\u001b[0mkwargs\u001b[0m\u001b[0;34m)\u001b[0m\u001b[0;34m:\u001b[0m\u001b[0;34m\u001b[0m\u001b[0;34m\u001b[0m\u001b[0m\n\u001b[1;32m    215\u001b[0m         \u001b[0;32mwith\u001b[0m \u001b[0mconfig_context\u001b[0m\u001b[0;34m(\u001b[0m\u001b[0;34m**\u001b[0m\u001b[0mself\u001b[0m\u001b[0;34m.\u001b[0m\u001b[0mconfig\u001b[0m\u001b[0;34m)\u001b[0m\u001b[0;34m:\u001b[0m\u001b[0;34m\u001b[0m\u001b[0;34m\u001b[0m\u001b[0m\n\u001b[0;32m--> 216\u001b[0;31m             \u001b[0;32mreturn\u001b[0m \u001b[0mself\u001b[0m\u001b[0;34m.\u001b[0m\u001b[0mfunction\u001b[0m\u001b[0;34m(\u001b[0m\u001b[0;34m*\u001b[0m\u001b[0margs\u001b[0m\u001b[0;34m,\u001b[0m \u001b[0;34m**\u001b[0m\u001b[0mkwargs\u001b[0m\u001b[0;34m)\u001b[0m\u001b[0;34m\u001b[0m\u001b[0;34m\u001b[0m\u001b[0m\n\u001b[0m\u001b[1;32m    217\u001b[0m \u001b[0;34m\u001b[0m\u001b[0m\n\u001b[1;32m    218\u001b[0m \u001b[0;34m\u001b[0m\u001b[0m\n",
      "\u001b[0;32m/opt/anaconda3/envs/neuralnets/lib/python3.9/site-packages/sklearn/model_selection/_validation.py\u001b[0m in \u001b[0;36m_fit_and_score\u001b[0;34m(estimator, X, y, scorer, train, test, verbose, parameters, fit_params, return_train_score, return_parameters, return_n_test_samples, return_times, return_estimator, split_progress, candidate_progress, error_score)\u001b[0m\n\u001b[1;32m    678\u001b[0m             \u001b[0mestimator\u001b[0m\u001b[0;34m.\u001b[0m\u001b[0mfit\u001b[0m\u001b[0;34m(\u001b[0m\u001b[0mX_train\u001b[0m\u001b[0;34m,\u001b[0m \u001b[0;34m**\u001b[0m\u001b[0mfit_params\u001b[0m\u001b[0;34m)\u001b[0m\u001b[0;34m\u001b[0m\u001b[0;34m\u001b[0m\u001b[0m\n\u001b[1;32m    679\u001b[0m         \u001b[0;32melse\u001b[0m\u001b[0;34m:\u001b[0m\u001b[0;34m\u001b[0m\u001b[0;34m\u001b[0m\u001b[0m\n\u001b[0;32m--> 680\u001b[0;31m             \u001b[0mestimator\u001b[0m\u001b[0;34m.\u001b[0m\u001b[0mfit\u001b[0m\u001b[0;34m(\u001b[0m\u001b[0mX_train\u001b[0m\u001b[0;34m,\u001b[0m \u001b[0my_train\u001b[0m\u001b[0;34m,\u001b[0m \u001b[0;34m**\u001b[0m\u001b[0mfit_params\u001b[0m\u001b[0;34m)\u001b[0m\u001b[0;34m\u001b[0m\u001b[0;34m\u001b[0m\u001b[0m\n\u001b[0m\u001b[1;32m    681\u001b[0m \u001b[0;34m\u001b[0m\u001b[0m\n\u001b[1;32m    682\u001b[0m     \u001b[0;32mexcept\u001b[0m \u001b[0mException\u001b[0m\u001b[0;34m:\u001b[0m\u001b[0;34m\u001b[0m\u001b[0;34m\u001b[0m\u001b[0m\n",
      "\u001b[0;32m/opt/anaconda3/envs/neuralnets/lib/python3.9/site-packages/sklearn/ensemble/_forest.py\u001b[0m in \u001b[0;36mfit\u001b[0;34m(self, X, y, sample_weight)\u001b[0m\n\u001b[1;32m    448\u001b[0m             \u001b[0;31m# parallel_backend contexts set at a higher level,\u001b[0m\u001b[0;34m\u001b[0m\u001b[0;34m\u001b[0m\u001b[0m\n\u001b[1;32m    449\u001b[0m             \u001b[0;31m# since correctness does not rely on using threads.\u001b[0m\u001b[0;34m\u001b[0m\u001b[0;34m\u001b[0m\u001b[0m\n\u001b[0;32m--> 450\u001b[0;31m             trees = Parallel(\n\u001b[0m\u001b[1;32m    451\u001b[0m                 \u001b[0mn_jobs\u001b[0m\u001b[0;34m=\u001b[0m\u001b[0mself\u001b[0m\u001b[0;34m.\u001b[0m\u001b[0mn_jobs\u001b[0m\u001b[0;34m,\u001b[0m\u001b[0;34m\u001b[0m\u001b[0;34m\u001b[0m\u001b[0m\n\u001b[1;32m    452\u001b[0m                 \u001b[0mverbose\u001b[0m\u001b[0;34m=\u001b[0m\u001b[0mself\u001b[0m\u001b[0;34m.\u001b[0m\u001b[0mverbose\u001b[0m\u001b[0;34m,\u001b[0m\u001b[0;34m\u001b[0m\u001b[0;34m\u001b[0m\u001b[0m\n",
      "\u001b[0;32m/opt/anaconda3/envs/neuralnets/lib/python3.9/site-packages/joblib/parallel.py\u001b[0m in \u001b[0;36m__call__\u001b[0;34m(self, iterable)\u001b[0m\n\u001b[1;32m   1054\u001b[0m \u001b[0;34m\u001b[0m\u001b[0m\n\u001b[1;32m   1055\u001b[0m             \u001b[0;32mwith\u001b[0m \u001b[0mself\u001b[0m\u001b[0;34m.\u001b[0m\u001b[0m_backend\u001b[0m\u001b[0;34m.\u001b[0m\u001b[0mretrieval_context\u001b[0m\u001b[0;34m(\u001b[0m\u001b[0;34m)\u001b[0m\u001b[0;34m:\u001b[0m\u001b[0;34m\u001b[0m\u001b[0;34m\u001b[0m\u001b[0m\n\u001b[0;32m-> 1056\u001b[0;31m                 \u001b[0mself\u001b[0m\u001b[0;34m.\u001b[0m\u001b[0mretrieve\u001b[0m\u001b[0;34m(\u001b[0m\u001b[0;34m)\u001b[0m\u001b[0;34m\u001b[0m\u001b[0;34m\u001b[0m\u001b[0m\n\u001b[0m\u001b[1;32m   1057\u001b[0m             \u001b[0;31m# Make sure that we get a last message telling us we are done\u001b[0m\u001b[0;34m\u001b[0m\u001b[0;34m\u001b[0m\u001b[0m\n\u001b[1;32m   1058\u001b[0m             \u001b[0melapsed_time\u001b[0m \u001b[0;34m=\u001b[0m \u001b[0mtime\u001b[0m\u001b[0;34m.\u001b[0m\u001b[0mtime\u001b[0m\u001b[0;34m(\u001b[0m\u001b[0;34m)\u001b[0m \u001b[0;34m-\u001b[0m \u001b[0mself\u001b[0m\u001b[0;34m.\u001b[0m\u001b[0m_start_time\u001b[0m\u001b[0;34m\u001b[0m\u001b[0;34m\u001b[0m\u001b[0m\n",
      "\u001b[0;32m/opt/anaconda3/envs/neuralnets/lib/python3.9/site-packages/joblib/parallel.py\u001b[0m in \u001b[0;36mretrieve\u001b[0;34m(self)\u001b[0m\n\u001b[1;32m    933\u001b[0m             \u001b[0;32mtry\u001b[0m\u001b[0;34m:\u001b[0m\u001b[0;34m\u001b[0m\u001b[0;34m\u001b[0m\u001b[0m\n\u001b[1;32m    934\u001b[0m                 \u001b[0;32mif\u001b[0m \u001b[0mgetattr\u001b[0m\u001b[0;34m(\u001b[0m\u001b[0mself\u001b[0m\u001b[0;34m.\u001b[0m\u001b[0m_backend\u001b[0m\u001b[0;34m,\u001b[0m \u001b[0;34m'supports_timeout'\u001b[0m\u001b[0;34m,\u001b[0m \u001b[0;32mFalse\u001b[0m\u001b[0;34m)\u001b[0m\u001b[0;34m:\u001b[0m\u001b[0;34m\u001b[0m\u001b[0;34m\u001b[0m\u001b[0m\n\u001b[0;32m--> 935\u001b[0;31m                     \u001b[0mself\u001b[0m\u001b[0;34m.\u001b[0m\u001b[0m_output\u001b[0m\u001b[0;34m.\u001b[0m\u001b[0mextend\u001b[0m\u001b[0;34m(\u001b[0m\u001b[0mjob\u001b[0m\u001b[0;34m.\u001b[0m\u001b[0mget\u001b[0m\u001b[0;34m(\u001b[0m\u001b[0mtimeout\u001b[0m\u001b[0;34m=\u001b[0m\u001b[0mself\u001b[0m\u001b[0;34m.\u001b[0m\u001b[0mtimeout\u001b[0m\u001b[0;34m)\u001b[0m\u001b[0;34m)\u001b[0m\u001b[0;34m\u001b[0m\u001b[0;34m\u001b[0m\u001b[0m\n\u001b[0m\u001b[1;32m    936\u001b[0m                 \u001b[0;32melse\u001b[0m\u001b[0;34m:\u001b[0m\u001b[0;34m\u001b[0m\u001b[0;34m\u001b[0m\u001b[0m\n\u001b[1;32m    937\u001b[0m                     \u001b[0mself\u001b[0m\u001b[0;34m.\u001b[0m\u001b[0m_output\u001b[0m\u001b[0;34m.\u001b[0m\u001b[0mextend\u001b[0m\u001b[0;34m(\u001b[0m\u001b[0mjob\u001b[0m\u001b[0;34m.\u001b[0m\u001b[0mget\u001b[0m\u001b[0;34m(\u001b[0m\u001b[0;34m)\u001b[0m\u001b[0;34m)\u001b[0m\u001b[0;34m\u001b[0m\u001b[0;34m\u001b[0m\u001b[0m\n",
      "\u001b[0;32m/opt/anaconda3/envs/neuralnets/lib/python3.9/site-packages/joblib/_parallel_backends.py\u001b[0m in \u001b[0;36mwrap_future_result\u001b[0;34m(future, timeout)\u001b[0m\n\u001b[1;32m    540\u001b[0m         AsyncResults.get from multiprocessing.\"\"\"\n\u001b[1;32m    541\u001b[0m         \u001b[0;32mtry\u001b[0m\u001b[0;34m:\u001b[0m\u001b[0;34m\u001b[0m\u001b[0;34m\u001b[0m\u001b[0m\n\u001b[0;32m--> 542\u001b[0;31m             \u001b[0;32mreturn\u001b[0m \u001b[0mfuture\u001b[0m\u001b[0;34m.\u001b[0m\u001b[0mresult\u001b[0m\u001b[0;34m(\u001b[0m\u001b[0mtimeout\u001b[0m\u001b[0;34m=\u001b[0m\u001b[0mtimeout\u001b[0m\u001b[0;34m)\u001b[0m\u001b[0;34m\u001b[0m\u001b[0;34m\u001b[0m\u001b[0m\n\u001b[0m\u001b[1;32m    543\u001b[0m         \u001b[0;32mexcept\u001b[0m \u001b[0mCfTimeoutError\u001b[0m \u001b[0;32mas\u001b[0m \u001b[0me\u001b[0m\u001b[0;34m:\u001b[0m\u001b[0;34m\u001b[0m\u001b[0;34m\u001b[0m\u001b[0m\n\u001b[1;32m    544\u001b[0m             \u001b[0;32mraise\u001b[0m \u001b[0mTimeoutError\u001b[0m \u001b[0;32mfrom\u001b[0m \u001b[0me\u001b[0m\u001b[0;34m\u001b[0m\u001b[0;34m\u001b[0m\u001b[0m\n",
      "\u001b[0;32m/opt/anaconda3/envs/neuralnets/lib/python3.9/concurrent/futures/_base.py\u001b[0m in \u001b[0;36mresult\u001b[0;34m(self, timeout)\u001b[0m\n\u001b[1;32m    438\u001b[0m                     \u001b[0;32mreturn\u001b[0m \u001b[0mself\u001b[0m\u001b[0;34m.\u001b[0m\u001b[0m__get_result\u001b[0m\u001b[0;34m(\u001b[0m\u001b[0;34m)\u001b[0m\u001b[0;34m\u001b[0m\u001b[0;34m\u001b[0m\u001b[0m\n\u001b[1;32m    439\u001b[0m \u001b[0;34m\u001b[0m\u001b[0m\n\u001b[0;32m--> 440\u001b[0;31m                 \u001b[0mself\u001b[0m\u001b[0;34m.\u001b[0m\u001b[0m_condition\u001b[0m\u001b[0;34m.\u001b[0m\u001b[0mwait\u001b[0m\u001b[0;34m(\u001b[0m\u001b[0mtimeout\u001b[0m\u001b[0;34m)\u001b[0m\u001b[0;34m\u001b[0m\u001b[0;34m\u001b[0m\u001b[0m\n\u001b[0m\u001b[1;32m    441\u001b[0m \u001b[0;34m\u001b[0m\u001b[0m\n\u001b[1;32m    442\u001b[0m                 \u001b[0;32mif\u001b[0m \u001b[0mself\u001b[0m\u001b[0;34m.\u001b[0m\u001b[0m_state\u001b[0m \u001b[0;32min\u001b[0m \u001b[0;34m[\u001b[0m\u001b[0mCANCELLED\u001b[0m\u001b[0;34m,\u001b[0m \u001b[0mCANCELLED_AND_NOTIFIED\u001b[0m\u001b[0;34m]\u001b[0m\u001b[0;34m:\u001b[0m\u001b[0;34m\u001b[0m\u001b[0;34m\u001b[0m\u001b[0m\n",
      "\u001b[0;32m/opt/anaconda3/envs/neuralnets/lib/python3.9/threading.py\u001b[0m in \u001b[0;36mwait\u001b[0;34m(self, timeout)\u001b[0m\n\u001b[1;32m    310\u001b[0m         \u001b[0;32mtry\u001b[0m\u001b[0;34m:\u001b[0m    \u001b[0;31m# restore state no matter what (e.g., KeyboardInterrupt)\u001b[0m\u001b[0;34m\u001b[0m\u001b[0;34m\u001b[0m\u001b[0m\n\u001b[1;32m    311\u001b[0m             \u001b[0;32mif\u001b[0m \u001b[0mtimeout\u001b[0m \u001b[0;32mis\u001b[0m \u001b[0;32mNone\u001b[0m\u001b[0;34m:\u001b[0m\u001b[0;34m\u001b[0m\u001b[0;34m\u001b[0m\u001b[0m\n\u001b[0;32m--> 312\u001b[0;31m                 \u001b[0mwaiter\u001b[0m\u001b[0;34m.\u001b[0m\u001b[0macquire\u001b[0m\u001b[0;34m(\u001b[0m\u001b[0;34m)\u001b[0m\u001b[0;34m\u001b[0m\u001b[0;34m\u001b[0m\u001b[0m\n\u001b[0m\u001b[1;32m    313\u001b[0m                 \u001b[0mgotit\u001b[0m \u001b[0;34m=\u001b[0m \u001b[0;32mTrue\u001b[0m\u001b[0;34m\u001b[0m\u001b[0;34m\u001b[0m\u001b[0m\n\u001b[1;32m    314\u001b[0m             \u001b[0;32melse\u001b[0m\u001b[0;34m:\u001b[0m\u001b[0;34m\u001b[0m\u001b[0;34m\u001b[0m\u001b[0m\n",
      "\u001b[0;31mKeyboardInterrupt\u001b[0m: "
     ]
    }
   ],
   "source": [
    "kfold=10\n",
    "resultsClf0 = cross_val_score(clf0, oneHotDf, (static_metrics['K-Means = 4'] == 0).astype(int).values, cv=kfold)"
   ]
  },
  {
   "cell_type": "code",
   "execution_count": null,
   "metadata": {
    "execution": {
     "iopub.status.busy": "2022-01-26T09:45:41.631911Z",
     "iopub.status.idle": "2022-01-26T09:45:41.632113Z",
     "shell.execute_reply": "2022-01-26T09:45:41.632019Z",
     "shell.execute_reply.started": "2022-01-26T09:45:41.632008Z"
    },
    "tags": []
   },
   "outputs": [],
   "source": [
    "print(\"Accuracy: %.2f%% (%.2f%%)\" % (resultsClf0.mean()*100, resultsClf0.std()*100))"
   ]
  },
  {
   "cell_type": "code",
   "execution_count": null,
   "metadata": {
    "execution": {
     "iopub.status.busy": "2022-01-26T09:45:41.633266Z",
     "iopub.status.idle": "2022-01-26T09:45:41.633440Z",
     "shell.execute_reply": "2022-01-26T09:45:41.633357Z",
     "shell.execute_reply.started": "2022-01-26T09:45:41.633348Z"
    },
    "tags": []
   },
   "outputs": [],
   "source": [
    "recallClf0 = cross_val_score(clf0, oneHotDf, (static_metrics['K-Means = 4'] == 0).astype(int).values, cv=kfold, scoring='recall')"
   ]
  },
  {
   "cell_type": "code",
   "execution_count": null,
   "metadata": {
    "execution": {
     "iopub.status.busy": "2022-01-26T09:45:41.634075Z",
     "iopub.status.idle": "2022-01-26T09:45:41.634246Z",
     "shell.execute_reply": "2022-01-26T09:45:41.634163Z",
     "shell.execute_reply.started": "2022-01-26T09:45:41.634154Z"
    },
    "tags": []
   },
   "outputs": [],
   "source": [
    "print(\"Recall: %.2f%% (%.2f%%)\" % (recallClf0.mean() * 100, recallClf0.std()*100))"
   ]
  },
  {
   "cell_type": "code",
   "execution_count": null,
   "metadata": {
    "execution": {
     "iopub.status.busy": "2022-01-26T09:45:41.634793Z",
     "iopub.status.idle": "2022-01-26T09:45:41.634969Z",
     "shell.execute_reply": "2022-01-26T09:45:41.634882Z",
     "shell.execute_reply.started": "2022-01-26T09:45:41.634873Z"
    },
    "tags": []
   },
   "outputs": [],
   "source": [
    "precisionClf0 = cross_val_score(clf0, oneHotDf, (static_metrics['K-Means = 4'] == 0).astype(int).values, cv=kfold, scoring='precision')"
   ]
  },
  {
   "cell_type": "code",
   "execution_count": null,
   "metadata": {
    "execution": {
     "iopub.status.busy": "2022-01-26T09:45:41.635408Z",
     "iopub.status.idle": "2022-01-26T09:45:41.635575Z",
     "shell.execute_reply": "2022-01-26T09:45:41.635495Z",
     "shell.execute_reply.started": "2022-01-26T09:45:41.635486Z"
    },
    "tags": []
   },
   "outputs": [],
   "source": [
    "print(\"Precision: %.2f%% (%.2f%%)\" % (precisionClf0.mean() * 100, precisionClf0.std()*100))"
   ]
  },
  {
   "cell_type": "code",
   "execution_count": null,
   "metadata": {
    "execution": {
     "iopub.status.busy": "2022-01-26T09:45:41.636036Z",
     "iopub.status.idle": "2022-01-26T09:45:41.636205Z",
     "shell.execute_reply": "2022-01-26T09:45:41.636124Z",
     "shell.execute_reply.started": "2022-01-26T09:45:41.636115Z"
    },
    "tags": []
   },
   "outputs": [],
   "source": [
    "fscoreClf0 = cross_val_score(clf0, oneHotDf, (static_metrics['K-Means = 4'] == 0).astype(int).values, cv=kfold, scoring='f1_macro')"
   ]
  },
  {
   "cell_type": "code",
   "execution_count": null,
   "metadata": {
    "execution": {
     "iopub.status.busy": "2022-01-26T09:45:41.636604Z",
     "iopub.status.idle": "2022-01-26T09:45:41.636789Z",
     "shell.execute_reply": "2022-01-26T09:45:41.636692Z",
     "shell.execute_reply.started": "2022-01-26T09:45:41.636683Z"
    },
    "tags": []
   },
   "outputs": [],
   "source": [
    "print(\"F-score macro: %.2f%% (%.2f%%)\" % (fscoreClf0.mean() * 100, fscoreClf0.std()*100))"
   ]
  },
  {
   "cell_type": "code",
   "execution_count": null,
   "metadata": {
    "execution": {
     "iopub.status.busy": "2022-01-26T09:45:41.637464Z",
     "iopub.status.idle": "2022-01-26T09:45:41.637638Z",
     "shell.execute_reply": "2022-01-26T09:45:41.637554Z",
     "shell.execute_reply.started": "2022-01-26T09:45:41.637545Z"
    },
    "tags": []
   },
   "outputs": [],
   "source": [
    "fscoreWeightClf0 = cross_val_score(clf0, oneHotDf, (static_metrics['K-Means = 4'] == 0).astype(int).values, cv=kfold, scoring='f1_weighted')"
   ]
  },
  {
   "cell_type": "code",
   "execution_count": null,
   "metadata": {
    "execution": {
     "iopub.status.busy": "2022-01-26T09:45:41.638198Z",
     "iopub.status.idle": "2022-01-26T09:45:41.638372Z",
     "shell.execute_reply": "2022-01-26T09:45:41.638288Z",
     "shell.execute_reply.started": "2022-01-26T09:45:41.638279Z"
    },
    "tags": []
   },
   "outputs": [],
   "source": [
    "print(\"F-score weighted: %.2f%% (%.2f%%)\" % (fscoreWeightClf0.mean() * 100, fscoreWeightClf0.std()*100))"
   ]
  },
  {
   "cell_type": "code",
   "execution_count": null,
   "metadata": {
    "execution": {
     "iopub.status.busy": "2022-01-26T09:45:41.639070Z",
     "iopub.status.idle": "2022-01-26T09:45:41.639240Z",
     "shell.execute_reply": "2022-01-26T09:45:41.639157Z",
     "shell.execute_reply.started": "2022-01-26T09:45:41.639148Z"
    },
    "tags": []
   },
   "outputs": [],
   "source": [
    "# Index sort the most important features\n",
    "sorted_feature_weight_idxes = np.argsort(clf0.feature_importances_)[::-1] # Reverse sort"
   ]
  },
  {
   "cell_type": "code",
   "execution_count": null,
   "metadata": {
    "execution": {
     "iopub.status.busy": "2022-01-26T09:45:41.639727Z",
     "iopub.status.idle": "2022-01-26T09:45:41.639898Z",
     "shell.execute_reply": "2022-01-26T09:45:41.639816Z",
     "shell.execute_reply.started": "2022-01-26T09:45:41.639807Z"
    },
    "tags": []
   },
   "outputs": [],
   "source": [
    "# Get the most important features names and weights\n",
    "most_important_features = np.take_along_axis(\n",
    "    np.array(oneHotDf.columns.tolist()), \n",
    "    sorted_feature_weight_idxes, axis=0)\n",
    "most_important_weights = np.take_along_axis(\n",
    "    np.array(clf0.feature_importances_), \n",
    "    sorted_feature_weight_idxes, axis=0)"
   ]
  },
  {
   "cell_type": "code",
   "execution_count": null,
   "metadata": {
    "execution": {
     "iopub.status.busy": "2022-01-26T09:45:41.640439Z",
     "iopub.status.idle": "2022-01-26T09:45:41.640617Z",
     "shell.execute_reply": "2022-01-26T09:45:41.640525Z",
     "shell.execute_reply.started": "2022-01-26T09:45:41.640516Z"
    },
    "tags": []
   },
   "outputs": [],
   "source": [
    "# Show\n",
    "res = pd.DataFrame((zip(most_important_features, most_important_weights)), columns = [\"Feature\", \"Relevance\"])\n",
    "\n",
    "res.head(10)"
   ]
  },
  {
   "cell_type": "markdown",
   "metadata": {
    "tags": []
   },
   "source": [
    "#### K-Means 4 - cl.1"
   ]
  },
  {
   "cell_type": "code",
   "execution_count": null,
   "metadata": {
    "execution": {
     "iopub.status.busy": "2022-01-26T09:45:41.641226Z",
     "iopub.status.idle": "2022-01-26T09:45:41.641398Z",
     "shell.execute_reply": "2022-01-26T09:45:41.641314Z",
     "shell.execute_reply.started": "2022-01-26T09:45:41.641305Z"
    },
    "tags": []
   },
   "outputs": [],
   "source": [
    "clf1 = RandomForestClassifier(random_state=1, n_jobs=-1)\n",
    "clf1.fit(oneHotDf, (static_metrics['K-Means = 4'] == 1).astype(int).values)"
   ]
  },
  {
   "cell_type": "code",
   "execution_count": null,
   "metadata": {
    "execution": {
     "iopub.status.busy": "2022-01-26T09:45:41.641944Z",
     "iopub.status.idle": "2022-01-26T09:45:41.642112Z",
     "shell.execute_reply": "2022-01-26T09:45:41.642031Z",
     "shell.execute_reply.started": "2022-01-26T09:45:41.642022Z"
    },
    "tags": []
   },
   "outputs": [],
   "source": [
    "resultsClf1 = cross_val_score(clf1, oneHotDf, (static_metrics['K-Means = 4'] == 1).astype(int).values, cv=kfold)"
   ]
  },
  {
   "cell_type": "code",
   "execution_count": null,
   "metadata": {
    "execution": {
     "iopub.status.busy": "2022-01-26T09:45:41.642486Z",
     "iopub.status.idle": "2022-01-26T09:45:41.642651Z",
     "shell.execute_reply": "2022-01-26T09:45:41.642570Z",
     "shell.execute_reply.started": "2022-01-26T09:45:41.642561Z"
    },
    "tags": []
   },
   "outputs": [],
   "source": [
    "print(\"Accuracy: %.2f%% (%.2f%%)\" % (resultsClf1.mean()*100, resultsClf1.std()*100))"
   ]
  },
  {
   "cell_type": "code",
   "execution_count": null,
   "metadata": {
    "execution": {
     "iopub.status.busy": "2022-01-26T09:45:41.643120Z",
     "iopub.status.idle": "2022-01-26T09:45:41.643287Z",
     "shell.execute_reply": "2022-01-26T09:45:41.643206Z",
     "shell.execute_reply.started": "2022-01-26T09:45:41.643198Z"
    },
    "tags": []
   },
   "outputs": [],
   "source": [
    "fmacroClf1 = cross_val_score(clf1, oneHotDf, (static_metrics['K-Means = 4'] == 1).astype(int).values, cv=kfold, scoring='f1_macro')"
   ]
  },
  {
   "cell_type": "code",
   "execution_count": null,
   "metadata": {
    "execution": {
     "iopub.status.busy": "2022-01-26T09:45:41.643769Z",
     "iopub.status.idle": "2022-01-26T09:45:41.643937Z",
     "shell.execute_reply": "2022-01-26T09:45:41.643856Z",
     "shell.execute_reply.started": "2022-01-26T09:45:41.643847Z"
    },
    "tags": []
   },
   "outputs": [],
   "source": [
    "print(\"F-score macro: %.2f%% (%.2f%%)\" % (fmacroClf1.mean()*100, fmacroClf1.std()*100))"
   ]
  },
  {
   "cell_type": "code",
   "execution_count": null,
   "metadata": {
    "execution": {
     "iopub.status.busy": "2022-01-26T09:45:41.644434Z",
     "iopub.status.idle": "2022-01-26T09:45:41.644603Z",
     "shell.execute_reply": "2022-01-26T09:45:41.644519Z",
     "shell.execute_reply.started": "2022-01-26T09:45:41.644510Z"
    },
    "tags": []
   },
   "outputs": [],
   "source": [
    "fweightClf1 = cross_val_score(clf1, oneHotDf, (static_metrics['K-Means = 4'] == 1).astype(int).values, cv=kfold, scoring='f1_weighted')"
   ]
  },
  {
   "cell_type": "code",
   "execution_count": null,
   "metadata": {
    "execution": {
     "iopub.status.busy": "2022-01-26T09:45:41.645077Z",
     "iopub.status.idle": "2022-01-26T09:45:41.645250Z",
     "shell.execute_reply": "2022-01-26T09:45:41.645167Z",
     "shell.execute_reply.started": "2022-01-26T09:45:41.645158Z"
    },
    "tags": []
   },
   "outputs": [],
   "source": [
    "print(\"F-score weighted: %.2f%% (%.2f%%)\" % (fweightClf1.mean()*100, fweightClf1.std()*100))"
   ]
  },
  {
   "cell_type": "code",
   "execution_count": null,
   "metadata": {
    "execution": {
     "iopub.status.busy": "2022-01-26T09:45:41.645734Z",
     "iopub.status.idle": "2022-01-26T09:45:41.645901Z",
     "shell.execute_reply": "2022-01-26T09:45:41.645820Z",
     "shell.execute_reply.started": "2022-01-26T09:45:41.645810Z"
    },
    "tags": []
   },
   "outputs": [],
   "source": [
    "# Index sort the most important features\n",
    "sorted_feature_weight_idxes = np.argsort(clf1.feature_importances_)[::-1] # Reverse sort"
   ]
  },
  {
   "cell_type": "code",
   "execution_count": null,
   "metadata": {
    "execution": {
     "iopub.status.busy": "2022-01-26T09:45:41.646307Z",
     "iopub.status.idle": "2022-01-26T09:45:41.646474Z",
     "shell.execute_reply": "2022-01-26T09:45:41.646395Z",
     "shell.execute_reply.started": "2022-01-26T09:45:41.646385Z"
    },
    "tags": []
   },
   "outputs": [],
   "source": [
    "# Get the most important features names and weights\n",
    "most_important_features = np.take_along_axis(\n",
    "    np.array(oneHotDf.columns.tolist()), \n",
    "    sorted_feature_weight_idxes, axis=0)\n",
    "most_important_weights = np.take_along_axis(\n",
    "    np.array(clf1.feature_importances_), \n",
    "    sorted_feature_weight_idxes, axis=0)"
   ]
  },
  {
   "cell_type": "code",
   "execution_count": null,
   "metadata": {
    "execution": {
     "iopub.status.busy": "2022-01-26T09:45:41.647014Z",
     "iopub.status.idle": "2022-01-26T09:45:41.647184Z",
     "shell.execute_reply": "2022-01-26T09:45:41.647101Z",
     "shell.execute_reply.started": "2022-01-26T09:45:41.647091Z"
    },
    "tags": []
   },
   "outputs": [],
   "source": [
    "# Show\n",
    "res = pd.DataFrame((zip(most_important_features, most_important_weights)), columns = [\"Feature\", \"Relevance\"])\n",
    "\n",
    "res.head(10)"
   ]
  },
  {
   "cell_type": "markdown",
   "metadata": {
    "tags": []
   },
   "source": [
    "#### K-Means 4 - cl.2"
   ]
  },
  {
   "cell_type": "code",
   "execution_count": null,
   "metadata": {
    "execution": {
     "iopub.status.busy": "2022-01-26T09:45:41.647746Z",
     "iopub.status.idle": "2022-01-26T09:45:41.647918Z",
     "shell.execute_reply": "2022-01-26T09:45:41.647836Z",
     "shell.execute_reply.started": "2022-01-26T09:45:41.647827Z"
    },
    "tags": []
   },
   "outputs": [],
   "source": [
    "clf2 = RandomForestClassifier(random_state=1, n_jobs=-1)\n",
    "clf2.fit(oneHotDf, (static_metrics['K-Means = 4'] == 2).astype(int).values)"
   ]
  },
  {
   "cell_type": "code",
   "execution_count": null,
   "metadata": {
    "execution": {
     "iopub.status.busy": "2022-01-26T09:45:41.648457Z",
     "iopub.status.idle": "2022-01-26T09:45:41.648627Z",
     "shell.execute_reply": "2022-01-26T09:45:41.648544Z",
     "shell.execute_reply.started": "2022-01-26T09:45:41.648535Z"
    },
    "tags": []
   },
   "outputs": [],
   "source": [
    "resultsClf2 = cross_val_score(clf2, oneHotDf, (static_metrics['K-Means = 4'] == 2).astype(int).values, cv=kfold)"
   ]
  },
  {
   "cell_type": "code",
   "execution_count": null,
   "metadata": {
    "execution": {
     "iopub.status.busy": "2022-01-26T09:45:41.649137Z",
     "iopub.status.idle": "2022-01-26T09:45:41.649378Z",
     "shell.execute_reply": "2022-01-26T09:45:41.649223Z",
     "shell.execute_reply.started": "2022-01-26T09:45:41.649214Z"
    },
    "tags": []
   },
   "outputs": [],
   "source": [
    "print(\"Accuracy: %.2f%% (%.2f%%)\" % (resultsClf2.mean()*100, resultsClf2.std()*100))"
   ]
  },
  {
   "cell_type": "code",
   "execution_count": null,
   "metadata": {
    "execution": {
     "iopub.status.busy": "2022-01-26T09:45:41.649783Z",
     "iopub.status.idle": "2022-01-26T09:45:41.649952Z",
     "shell.execute_reply": "2022-01-26T09:45:41.649869Z",
     "shell.execute_reply.started": "2022-01-26T09:45:41.649860Z"
    },
    "tags": []
   },
   "outputs": [],
   "source": [
    "fmacroClf2 = cross_val_score(clf1, oneHotDf, (static_metrics['K-Means = 4'] == 2).astype(int).values, cv=kfold, scoring='f1_macro')"
   ]
  },
  {
   "cell_type": "code",
   "execution_count": null,
   "metadata": {
    "execution": {
     "iopub.status.busy": "2022-01-26T09:45:41.650457Z",
     "iopub.status.idle": "2022-01-26T09:45:41.650627Z",
     "shell.execute_reply": "2022-01-26T09:45:41.650543Z",
     "shell.execute_reply.started": "2022-01-26T09:45:41.650534Z"
    },
    "tags": []
   },
   "outputs": [],
   "source": [
    "print(\"F-score macro: %.2f%% (%.2f%%)\" % (fmacroClf2.mean()*100, fmacroClf2.std()*100))"
   ]
  },
  {
   "cell_type": "code",
   "execution_count": null,
   "metadata": {
    "execution": {
     "iopub.status.busy": "2022-01-26T09:45:41.651056Z",
     "iopub.status.idle": "2022-01-26T09:45:41.651229Z",
     "shell.execute_reply": "2022-01-26T09:45:41.651144Z",
     "shell.execute_reply.started": "2022-01-26T09:45:41.651135Z"
    },
    "tags": []
   },
   "outputs": [],
   "source": [
    "fweightClf2 = cross_val_score(clf2, oneHotDf, (static_metrics['K-Means = 4'] == 2).astype(int).values, cv=kfold, scoring='f1_weighted')"
   ]
  },
  {
   "cell_type": "code",
   "execution_count": null,
   "metadata": {
    "execution": {
     "iopub.status.busy": "2022-01-26T09:45:41.651648Z",
     "iopub.status.idle": "2022-01-26T09:45:41.651817Z",
     "shell.execute_reply": "2022-01-26T09:45:41.651736Z",
     "shell.execute_reply.started": "2022-01-26T09:45:41.651727Z"
    },
    "tags": []
   },
   "outputs": [],
   "source": [
    "print(\"F-score weighted: %.2f%% (%.2f%%)\" % (fweightClf2.mean()*100, fweightClf2.std()*100))"
   ]
  },
  {
   "cell_type": "code",
   "execution_count": null,
   "metadata": {
    "execution": {
     "iopub.status.busy": "2022-01-26T09:45:41.652233Z",
     "iopub.status.idle": "2022-01-26T09:45:41.652400Z",
     "shell.execute_reply": "2022-01-26T09:45:41.652319Z",
     "shell.execute_reply.started": "2022-01-26T09:45:41.652310Z"
    },
    "tags": []
   },
   "outputs": [],
   "source": [
    "# Index sort the most important features\n",
    "sorted_feature_weight_idxes = np.argsort(clf2.feature_importances_)[::-1] # Reverse sort"
   ]
  },
  {
   "cell_type": "code",
   "execution_count": null,
   "metadata": {
    "execution": {
     "iopub.status.busy": "2022-01-26T09:45:41.652879Z",
     "iopub.status.idle": "2022-01-26T09:45:41.653048Z",
     "shell.execute_reply": "2022-01-26T09:45:41.652967Z",
     "shell.execute_reply.started": "2022-01-26T09:45:41.652958Z"
    },
    "tags": []
   },
   "outputs": [],
   "source": [
    "# Get the most important features names and weights\n",
    "most_important_features = np.take_along_axis(\n",
    "    np.array(oneHotDf.columns.tolist()), \n",
    "    sorted_feature_weight_idxes, axis=0)\n",
    "most_important_weights = np.take_along_axis(\n",
    "    np.array(clf2.feature_importances_), \n",
    "    sorted_feature_weight_idxes, axis=0)"
   ]
  },
  {
   "cell_type": "code",
   "execution_count": null,
   "metadata": {
    "execution": {
     "iopub.status.busy": "2022-01-26T09:45:41.653512Z",
     "iopub.status.idle": "2022-01-26T09:45:41.653679Z",
     "shell.execute_reply": "2022-01-26T09:45:41.653598Z",
     "shell.execute_reply.started": "2022-01-26T09:45:41.653589Z"
    },
    "tags": []
   },
   "outputs": [],
   "source": [
    "# Show\n",
    "res = pd.DataFrame((zip(most_important_features, most_important_weights)), columns = [\"Feature\", \"Relevance\"])\n",
    "\n",
    "res.head(10)"
   ]
  },
  {
   "cell_type": "markdown",
   "metadata": {
    "tags": []
   },
   "source": [
    "#### K-Means 4 - cl.3"
   ]
  },
  {
   "cell_type": "code",
   "execution_count": null,
   "metadata": {
    "execution": {
     "iopub.status.busy": "2022-01-26T09:45:41.654148Z",
     "iopub.status.idle": "2022-01-26T09:45:41.654312Z",
     "shell.execute_reply": "2022-01-26T09:45:41.654232Z",
     "shell.execute_reply.started": "2022-01-26T09:45:41.654223Z"
    },
    "tags": []
   },
   "outputs": [],
   "source": [
    "clf3 = RandomForestClassifier(random_state=1, n_jobs=-1)\n",
    "clf3.fit(oneHotDf, (static_metrics['K-Means = 4'] == 3).astype(int).values)"
   ]
  },
  {
   "cell_type": "code",
   "execution_count": null,
   "metadata": {
    "execution": {
     "iopub.status.busy": "2022-01-26T09:45:41.654788Z",
     "iopub.status.idle": "2022-01-26T09:45:41.654958Z",
     "shell.execute_reply": "2022-01-26T09:45:41.654877Z",
     "shell.execute_reply.started": "2022-01-26T09:45:41.654868Z"
    },
    "tags": []
   },
   "outputs": [],
   "source": [
    "resultsClf3 = cross_val_score(clf3, oneHotDf, (static_metrics['K-Means = 4'] == 3).astype(int).values, cv=kfold)"
   ]
  },
  {
   "cell_type": "code",
   "execution_count": null,
   "metadata": {
    "execution": {
     "iopub.status.busy": "2022-01-26T09:45:41.655425Z",
     "iopub.status.idle": "2022-01-26T09:45:41.655593Z",
     "shell.execute_reply": "2022-01-26T09:45:41.655511Z",
     "shell.execute_reply.started": "2022-01-26T09:45:41.655502Z"
    },
    "tags": []
   },
   "outputs": [],
   "source": [
    "print(\"Accuracy: %.2f%% (%.2f%%)\" % (resultsClf3.mean()*100, resultsClf3.std()*100))"
   ]
  },
  {
   "cell_type": "code",
   "execution_count": null,
   "metadata": {
    "execution": {
     "iopub.status.busy": "2022-01-26T09:45:41.656033Z",
     "iopub.status.idle": "2022-01-26T09:45:41.656201Z",
     "shell.execute_reply": "2022-01-26T09:45:41.656119Z",
     "shell.execute_reply.started": "2022-01-26T09:45:41.656110Z"
    },
    "tags": []
   },
   "outputs": [],
   "source": [
    "fmacroClf3 = cross_val_score(clf1, oneHotDf, (static_metrics['K-Means = 4'] == 3).astype(int).values, cv=kfold, scoring='f1_macro')"
   ]
  },
  {
   "cell_type": "code",
   "execution_count": null,
   "metadata": {
    "execution": {
     "iopub.status.busy": "2022-01-26T09:45:41.656617Z",
     "iopub.status.idle": "2022-01-26T09:45:41.656794Z",
     "shell.execute_reply": "2022-01-26T09:45:41.656712Z",
     "shell.execute_reply.started": "2022-01-26T09:45:41.656699Z"
    },
    "tags": []
   },
   "outputs": [],
   "source": [
    "print(\"F-score macro: %.2f%% (%.2f%%)\" % (fmacroClf3.mean()*100, fmacroClf3.std()*100))"
   ]
  },
  {
   "cell_type": "code",
   "execution_count": null,
   "metadata": {
    "execution": {
     "iopub.status.busy": "2022-01-26T09:45:41.657403Z",
     "iopub.status.idle": "2022-01-26T09:45:41.657574Z",
     "shell.execute_reply": "2022-01-26T09:45:41.657490Z",
     "shell.execute_reply.started": "2022-01-26T09:45:41.657481Z"
    },
    "tags": []
   },
   "outputs": [],
   "source": [
    "fweightClf3 = cross_val_score(clf3, oneHotDf, (static_metrics['K-Means = 4'] == 3).astype(int).values, cv=kfold, scoring='f1_weighted')"
   ]
  },
  {
   "cell_type": "code",
   "execution_count": null,
   "metadata": {
    "execution": {
     "iopub.status.busy": "2022-01-26T09:45:41.657964Z",
     "iopub.status.idle": "2022-01-26T09:45:41.658131Z",
     "shell.execute_reply": "2022-01-26T09:45:41.658050Z",
     "shell.execute_reply.started": "2022-01-26T09:45:41.658040Z"
    },
    "tags": []
   },
   "outputs": [],
   "source": [
    "print(\"F-score weighted: %.2f%% (%.2f%%)\" % (fweightClf3.mean()*100, fweightClf3.std()*100))"
   ]
  },
  {
   "cell_type": "code",
   "execution_count": null,
   "metadata": {
    "execution": {
     "iopub.status.busy": "2022-01-26T09:45:41.658595Z",
     "iopub.status.idle": "2022-01-26T09:45:41.658770Z",
     "shell.execute_reply": "2022-01-26T09:45:41.658682Z",
     "shell.execute_reply.started": "2022-01-26T09:45:41.658673Z"
    },
    "tags": []
   },
   "outputs": [],
   "source": [
    "# Index sort the most important features\n",
    "sorted_feature_weight_idxes = np.argsort(clf3.feature_importances_)[::-1] # Reverse sort"
   ]
  },
  {
   "cell_type": "code",
   "execution_count": null,
   "metadata": {
    "execution": {
     "iopub.status.busy": "2022-01-26T09:45:41.659166Z",
     "iopub.status.idle": "2022-01-26T09:45:41.659331Z",
     "shell.execute_reply": "2022-01-26T09:45:41.659251Z",
     "shell.execute_reply.started": "2022-01-26T09:45:41.659242Z"
    },
    "tags": []
   },
   "outputs": [],
   "source": [
    "# Get the most important features names and weights\n",
    "most_important_features = np.take_along_axis(\n",
    "    np.array(oneHotDf.columns.tolist()), \n",
    "    sorted_feature_weight_idxes, axis=0)\n",
    "most_important_weights = np.take_along_axis(\n",
    "    np.array(clf3.feature_importances_), \n",
    "    sorted_feature_weight_idxes, axis=0)"
   ]
  },
  {
   "cell_type": "code",
   "execution_count": null,
   "metadata": {
    "execution": {
     "iopub.status.busy": "2022-01-26T09:45:41.659875Z",
     "iopub.status.idle": "2022-01-26T09:45:41.660046Z",
     "shell.execute_reply": "2022-01-26T09:45:41.659964Z",
     "shell.execute_reply.started": "2022-01-26T09:45:41.659955Z"
    },
    "tags": []
   },
   "outputs": [],
   "source": [
    "# Show\n",
    "res = pd.DataFrame((zip(most_important_features, most_important_weights)), columns = [\"Feature\", \"Relevance\"])\n",
    "\n",
    "res.head(10)"
   ]
  },
  {
   "cell_type": "markdown",
   "metadata": {
    "tags": []
   },
   "source": [
    "### XGBoost"
   ]
  },
  {
   "cell_type": "code",
   "execution_count": null,
   "metadata": {
    "execution": {
     "iopub.status.busy": "2022-01-26T09:45:41.660421Z",
     "iopub.status.idle": "2022-01-26T09:45:41.660586Z",
     "shell.execute_reply": "2022-01-26T09:45:41.660506Z",
     "shell.execute_reply.started": "2022-01-26T09:45:41.660497Z"
    },
    "tags": []
   },
   "outputs": [],
   "source": [
    "model = xgb.XGBClassifier(tree_method='gpu_hist')"
   ]
  },
  {
   "cell_type": "code",
   "execution_count": null,
   "metadata": {
    "execution": {
     "iopub.status.busy": "2022-01-26T09:45:41.661066Z",
     "iopub.status.idle": "2022-01-26T09:45:41.661232Z",
     "shell.execute_reply": "2022-01-26T09:45:41.661152Z",
     "shell.execute_reply.started": "2022-01-26T09:45:41.661143Z"
    },
    "tags": []
   },
   "outputs": [],
   "source": [
    "oneHotDf.columns = [col.replace('[', '').replace(']','').replace(',',' ').replace(' ', '_') for col in oneHotDf.columns]"
   ]
  },
  {
   "cell_type": "markdown",
   "metadata": {},
   "source": [
    "#### K-Means 4 - cl.0"
   ]
  },
  {
   "cell_type": "code",
   "execution_count": null,
   "metadata": {
    "execution": {
     "iopub.status.busy": "2022-01-26T09:45:41.661683Z",
     "iopub.status.idle": "2022-01-26T09:45:41.661852Z",
     "shell.execute_reply": "2022-01-26T09:45:41.661773Z",
     "shell.execute_reply.started": "2022-01-26T09:45:41.661764Z"
    },
    "tags": []
   },
   "outputs": [],
   "source": [
    "model.fit(oneHotDf, (static_metrics['K-Means = 4'] == 0).astype(int).values)"
   ]
  },
  {
   "cell_type": "code",
   "execution_count": null,
   "metadata": {
    "execution": {
     "iopub.status.busy": "2022-01-26T09:45:41.662371Z",
     "iopub.status.idle": "2022-01-26T09:45:41.662536Z",
     "shell.execute_reply": "2022-01-26T09:45:41.662455Z",
     "shell.execute_reply.started": "2022-01-26T09:45:41.662446Z"
    },
    "tags": []
   },
   "outputs": [],
   "source": [
    "model.get_booster().get_score(importance_type='gain')"
   ]
  },
  {
   "cell_type": "code",
   "execution_count": null,
   "metadata": {
    "execution": {
     "iopub.status.busy": "2022-01-26T09:45:41.663091Z",
     "iopub.status.idle": "2022-01-26T09:45:41.663265Z",
     "shell.execute_reply": "2022-01-26T09:45:41.663177Z",
     "shell.execute_reply.started": "2022-01-26T09:45:41.663168Z"
    },
    "tags": []
   },
   "outputs": [],
   "source": [
    "xgb.to_graphviz(model)"
   ]
  },
  {
   "cell_type": "code",
   "execution_count": null,
   "metadata": {
    "execution": {
     "iopub.status.busy": "2022-01-26T09:45:41.663752Z",
     "iopub.status.idle": "2022-01-26T09:45:41.663920Z",
     "shell.execute_reply": "2022-01-26T09:45:41.663838Z",
     "shell.execute_reply.started": "2022-01-26T09:45:41.663829Z"
    },
    "tags": []
   },
   "outputs": [],
   "source": [
    "scoring = {'acc': 'accuracy',\n",
    "           'f1_macro': 'f1_macro',\n",
    "           'f1_weight': 'f1_weighted'}"
   ]
  },
  {
   "cell_type": "code",
   "execution_count": null,
   "metadata": {
    "execution": {
     "iopub.status.busy": "2022-01-26T09:45:41.664541Z",
     "iopub.status.idle": "2022-01-26T09:45:41.664716Z",
     "shell.execute_reply": "2022-01-26T09:45:41.664628Z",
     "shell.execute_reply.started": "2022-01-26T09:45:41.664618Z"
    },
    "tags": []
   },
   "outputs": [],
   "source": [
    "kfold = KFold(n_splits=10)\n",
    "model0 = xgb.XGBClassifier(tree_method='gpu_hist', max_depth=6, min_child_weight=1, subsample=0.8879, eta=0.099)\n",
    "results0 = cross_validate(model0, oneHotDf, (static_metrics['K-Means = 4'] == 0).astype(int).values, scoring=scoring, cv=kfold)"
   ]
  },
  {
   "cell_type": "code",
   "execution_count": null,
   "metadata": {
    "execution": {
     "iopub.status.busy": "2022-01-26T09:45:41.665183Z",
     "iopub.status.idle": "2022-01-26T09:45:41.665350Z",
     "shell.execute_reply": "2022-01-26T09:45:41.665269Z",
     "shell.execute_reply.started": "2022-01-26T09:45:41.665260Z"
    },
    "tags": []
   },
   "outputs": [],
   "source": [
    "print(results0['test_acc'].mean()*100, results0['test_acc'].std()*100) "
   ]
  },
  {
   "cell_type": "code",
   "execution_count": null,
   "metadata": {
    "execution": {
     "iopub.status.busy": "2022-01-26T09:45:41.665792Z",
     "iopub.status.idle": "2022-01-26T09:45:41.665961Z",
     "shell.execute_reply": "2022-01-26T09:45:41.665880Z",
     "shell.execute_reply.started": "2022-01-26T09:45:41.665870Z"
    },
    "tags": []
   },
   "outputs": [],
   "source": [
    "print(results0['test_f1_macro'].mean()*100, results0['test_f1_macro'].std()*100) "
   ]
  },
  {
   "cell_type": "code",
   "execution_count": null,
   "metadata": {
    "execution": {
     "iopub.status.busy": "2022-01-26T09:45:41.666405Z",
     "iopub.status.idle": "2022-01-26T09:45:41.666572Z",
     "shell.execute_reply": "2022-01-26T09:45:41.666492Z",
     "shell.execute_reply.started": "2022-01-26T09:45:41.666483Z"
    },
    "tags": []
   },
   "outputs": [],
   "source": [
    "print(results0['test_f1_weight'].mean()*100, results0['test_f1_weight'].std()*100) "
   ]
  },
  {
   "cell_type": "code",
   "execution_count": null,
   "metadata": {
    "execution": {
     "iopub.status.busy": "2022-01-26T09:45:41.667118Z",
     "iopub.status.idle": "2022-01-26T09:45:41.667288Z",
     "shell.execute_reply": "2022-01-26T09:45:41.667205Z",
     "shell.execute_reply.started": "2022-01-26T09:45:41.667196Z"
    },
    "tags": []
   },
   "outputs": [],
   "source": [
    "print(\"Accuracy: %.2f%% (%.2f%%)\" % (results.mean()*100, results.std()*100))"
   ]
  },
  {
   "cell_type": "markdown",
   "metadata": {},
   "source": [
    "#### K-Means 4 -cl.1"
   ]
  },
  {
   "cell_type": "code",
   "execution_count": null,
   "metadata": {
    "execution": {
     "iopub.status.busy": "2022-01-26T09:45:41.667771Z",
     "iopub.status.idle": "2022-01-26T09:45:41.667943Z",
     "shell.execute_reply": "2022-01-26T09:45:41.667858Z",
     "shell.execute_reply.started": "2022-01-26T09:45:41.667849Z"
    },
    "tags": []
   },
   "outputs": [],
   "source": [
    "kfold = KFold(n_splits=10)\n",
    "model1 = xgb.XGBClassifier(tree_method='gpu_hist')\n",
    "results1 = cross_validate(model, oneHotDf, (static_metrics['K-Means = 4'] == 1).astype(int).values, scoring=scoring, cv=kfold)"
   ]
  },
  {
   "cell_type": "code",
   "execution_count": null,
   "metadata": {
    "execution": {
     "iopub.status.busy": "2022-01-26T09:45:41.668484Z",
     "iopub.status.idle": "2022-01-26T09:45:41.668652Z",
     "shell.execute_reply": "2022-01-26T09:45:41.668569Z",
     "shell.execute_reply.started": "2022-01-26T09:45:41.668560Z"
    },
    "tags": []
   },
   "outputs": [],
   "source": [
    "print(results1['test_acc'].mean()*100, results1['test_acc'].std()*100) "
   ]
  },
  {
   "cell_type": "code",
   "execution_count": null,
   "metadata": {
    "execution": {
     "iopub.status.busy": "2022-01-26T09:45:41.669132Z",
     "iopub.status.idle": "2022-01-26T09:45:41.669299Z",
     "shell.execute_reply": "2022-01-26T09:45:41.669219Z",
     "shell.execute_reply.started": "2022-01-26T09:45:41.669210Z"
    },
    "tags": []
   },
   "outputs": [],
   "source": [
    "print(results1['test_f1_macro'].mean()*100, results1['test_f1_macro'].std()*100) "
   ]
  },
  {
   "cell_type": "code",
   "execution_count": null,
   "metadata": {
    "execution": {
     "iopub.status.busy": "2022-01-26T09:45:41.669749Z",
     "iopub.status.idle": "2022-01-26T09:45:41.669924Z",
     "shell.execute_reply": "2022-01-26T09:45:41.669842Z",
     "shell.execute_reply.started": "2022-01-26T09:45:41.669833Z"
    },
    "tags": []
   },
   "outputs": [],
   "source": [
    "print(results1['test_f1_weight'].mean()*100, results1['test_f1_weight'].std()*100) "
   ]
  },
  {
   "cell_type": "code",
   "execution_count": null,
   "metadata": {
    "execution": {
     "iopub.status.busy": "2022-01-26T09:45:41.670458Z",
     "iopub.status.idle": "2022-01-26T09:45:41.670634Z",
     "shell.execute_reply": "2022-01-26T09:45:41.670545Z",
     "shell.execute_reply.started": "2022-01-26T09:45:41.670537Z"
    },
    "tags": []
   },
   "outputs": [],
   "source": [
    "print(\"Accuracy: %.2f%% (%.2f%%)\" % (results.mean()*100, results.std()*100))"
   ]
  },
  {
   "cell_type": "code",
   "execution_count": null,
   "metadata": {
    "execution": {
     "iopub.status.busy": "2022-01-26T09:45:41.671216Z",
     "iopub.status.idle": "2022-01-26T09:45:41.671387Z",
     "shell.execute_reply": "2022-01-26T09:45:41.671304Z",
     "shell.execute_reply.started": "2022-01-26T09:45:41.671295Z"
    },
    "tags": []
   },
   "outputs": [],
   "source": [
    "model1.fit(oneHotDf, (static_metrics['K-Means = 4'] == 1).astype(int).values)"
   ]
  },
  {
   "cell_type": "code",
   "execution_count": null,
   "metadata": {
    "execution": {
     "iopub.status.busy": "2022-01-26T09:45:41.672035Z",
     "iopub.status.idle": "2022-01-26T09:45:41.672207Z",
     "shell.execute_reply": "2022-01-26T09:45:41.672122Z",
     "shell.execute_reply.started": "2022-01-26T09:45:41.672113Z"
    },
    "tags": []
   },
   "outputs": [],
   "source": [
    "xgb.to_graphviz(model1)"
   ]
  },
  {
   "cell_type": "code",
   "execution_count": null,
   "metadata": {
    "execution": {
     "iopub.status.busy": "2022-01-26T09:45:41.672786Z",
     "iopub.status.idle": "2022-01-26T09:45:41.672961Z",
     "shell.execute_reply": "2022-01-26T09:45:41.672878Z",
     "shell.execute_reply.started": "2022-01-26T09:45:41.672869Z"
    },
    "tags": []
   },
   "outputs": [],
   "source": [
    "image = xgb.to_graphviz(model2)\n",
    "\n",
    "#Set a different dpi (work only if format == 'png')\n",
    "image.graph_attr = {'dpi':'400'}\n",
    "\n",
    "image.render('', format = format)"
   ]
  },
  {
   "cell_type": "markdown",
   "metadata": {},
   "source": [
    "#### K-Means 4 - cl.2"
   ]
  },
  {
   "cell_type": "code",
   "execution_count": null,
   "metadata": {
    "execution": {
     "iopub.status.busy": "2022-01-26T09:45:41.673498Z",
     "iopub.status.idle": "2022-01-26T09:45:41.673665Z",
     "shell.execute_reply": "2022-01-26T09:45:41.673584Z",
     "shell.execute_reply.started": "2022-01-26T09:45:41.673575Z"
    },
    "tags": []
   },
   "outputs": [],
   "source": [
    "kfold = KFold(n_splits=10)\n",
    "model2 = xgb.XGBClassifier(tree_method='gpu_hist')\n",
    "results2 = cross_validate(model2, oneHotDf, (static_metrics['K-Means = 4'] == 2).astype(int).values, scoring=scoring, cv=kfold)"
   ]
  },
  {
   "cell_type": "code",
   "execution_count": null,
   "metadata": {
    "execution": {
     "iopub.status.busy": "2022-01-26T09:45:41.674079Z",
     "iopub.status.idle": "2022-01-26T09:45:41.674247Z",
     "shell.execute_reply": "2022-01-26T09:45:41.674166Z",
     "shell.execute_reply.started": "2022-01-26T09:45:41.674156Z"
    },
    "tags": []
   },
   "outputs": [],
   "source": [
    "print(results2['test_acc'].mean()*100, results2['test_acc'].std()*100) "
   ]
  },
  {
   "cell_type": "code",
   "execution_count": null,
   "metadata": {
    "execution": {
     "iopub.status.busy": "2022-01-26T09:45:41.674727Z",
     "iopub.status.idle": "2022-01-26T09:45:41.674897Z",
     "shell.execute_reply": "2022-01-26T09:45:41.674816Z",
     "shell.execute_reply.started": "2022-01-26T09:45:41.674806Z"
    },
    "tags": []
   },
   "outputs": [],
   "source": [
    "print(results2['test_f1_macro'].mean()*100, results2['test_f1_macro'].std()*100) "
   ]
  },
  {
   "cell_type": "code",
   "execution_count": null,
   "metadata": {
    "execution": {
     "iopub.status.busy": "2022-01-26T09:45:41.675517Z",
     "iopub.status.idle": "2022-01-26T09:45:41.675683Z",
     "shell.execute_reply": "2022-01-26T09:45:41.675602Z",
     "shell.execute_reply.started": "2022-01-26T09:45:41.675594Z"
    },
    "tags": []
   },
   "outputs": [],
   "source": [
    "print(results2['test_f1_weight'].mean()*100, results2['test_f1_weight'].std()*100) "
   ]
  },
  {
   "cell_type": "code",
   "execution_count": null,
   "metadata": {
    "execution": {
     "iopub.status.busy": "2022-01-26T09:45:41.676135Z",
     "iopub.status.idle": "2022-01-26T09:45:41.676307Z",
     "shell.execute_reply": "2022-01-26T09:45:41.676221Z",
     "shell.execute_reply.started": "2022-01-26T09:45:41.676212Z"
    },
    "tags": []
   },
   "outputs": [],
   "source": [
    "print(\"Accuracy: %.2f%% (%.2f%%)\" % (results.mean()*100, results.std()*100))"
   ]
  },
  {
   "cell_type": "code",
   "execution_count": null,
   "metadata": {
    "execution": {
     "iopub.status.busy": "2022-01-26T09:45:41.676775Z",
     "iopub.status.idle": "2022-01-26T09:45:41.676944Z",
     "shell.execute_reply": "2022-01-26T09:45:41.676863Z",
     "shell.execute_reply.started": "2022-01-26T09:45:41.676854Z"
    },
    "tags": []
   },
   "outputs": [],
   "source": [
    "model2.fit(oneHotDf, (static_metrics['K-Means = 4'] == 2).astype(int).values)"
   ]
  },
  {
   "cell_type": "code",
   "execution_count": null,
   "metadata": {
    "execution": {
     "iopub.status.busy": "2022-01-26T09:45:41.677414Z",
     "iopub.status.idle": "2022-01-26T09:45:41.677586Z",
     "shell.execute_reply": "2022-01-26T09:45:41.677504Z",
     "shell.execute_reply.started": "2022-01-26T09:45:41.677494Z"
    },
    "tags": []
   },
   "outputs": [],
   "source": [
    "xgb.to_graphviz(model2)"
   ]
  },
  {
   "cell_type": "code",
   "execution_count": null,
   "metadata": {
    "execution": {
     "iopub.status.busy": "2022-01-26T09:45:41.678061Z",
     "iopub.status.idle": "2022-01-26T09:45:41.678234Z",
     "shell.execute_reply": "2022-01-26T09:45:41.678152Z",
     "shell.execute_reply.started": "2022-01-26T09:45:41.678143Z"
    },
    "tags": []
   },
   "outputs": [],
   "source": [
    "xgb.to_graphviz(model)"
   ]
  },
  {
   "cell_type": "markdown",
   "metadata": {},
   "source": [
    "Interpretation of the graph: https://stackoverflow.com/questions/40926340/what-does-the-value-of-leaf-in-the-following-xgboost-model-tree-diagram-means"
   ]
  },
  {
   "cell_type": "markdown",
   "metadata": {},
   "source": [
    "#### K-Means 4 - cl.3"
   ]
  },
  {
   "cell_type": "code",
   "execution_count": null,
   "metadata": {
    "execution": {
     "iopub.status.busy": "2022-01-26T09:45:41.678710Z",
     "iopub.status.idle": "2022-01-26T09:45:41.678884Z",
     "shell.execute_reply": "2022-01-26T09:45:41.678797Z",
     "shell.execute_reply.started": "2022-01-26T09:45:41.678788Z"
    },
    "tags": []
   },
   "outputs": [],
   "source": [
    "kfold = KFold(n_splits=10)\n",
    "model3 = xgb.XGBClassifier(tree_method='gpu_hist')\n",
    "results3 = cross_validate(model3, oneHotDf, (static_metrics['K-Means = 4'] == 3).astype(int).values, scoring=scoring, cv=kfold)"
   ]
  },
  {
   "cell_type": "code",
   "execution_count": null,
   "metadata": {
    "execution": {
     "iopub.status.busy": "2022-01-26T09:45:41.679377Z",
     "iopub.status.idle": "2022-01-26T09:45:41.679543Z",
     "shell.execute_reply": "2022-01-26T09:45:41.679463Z",
     "shell.execute_reply.started": "2022-01-26T09:45:41.679453Z"
    },
    "tags": []
   },
   "outputs": [],
   "source": [
    "print(results3['test_acc'].mean()*100, results3['test_acc'].std()*100) "
   ]
  },
  {
   "cell_type": "code",
   "execution_count": null,
   "metadata": {
    "execution": {
     "iopub.status.busy": "2022-01-26T09:45:41.680029Z",
     "iopub.status.idle": "2022-01-26T09:45:41.680202Z",
     "shell.execute_reply": "2022-01-26T09:45:41.680117Z",
     "shell.execute_reply.started": "2022-01-26T09:45:41.680107Z"
    },
    "tags": []
   },
   "outputs": [],
   "source": [
    "print(results3['test_f1_macro'].mean()*100, results3['test_f1_macro'].std()*100) "
   ]
  },
  {
   "cell_type": "code",
   "execution_count": null,
   "metadata": {
    "execution": {
     "iopub.status.busy": "2022-01-26T09:45:41.680719Z",
     "iopub.status.idle": "2022-01-26T09:45:41.680889Z",
     "shell.execute_reply": "2022-01-26T09:45:41.680809Z",
     "shell.execute_reply.started": "2022-01-26T09:45:41.680799Z"
    },
    "tags": []
   },
   "outputs": [],
   "source": [
    "print(results3['test_f1_weight'].mean()*100, results3['test_f1_weight'].std()*100) "
   ]
  },
  {
   "cell_type": "code",
   "execution_count": null,
   "metadata": {
    "execution": {
     "iopub.status.busy": "2022-01-26T09:45:41.681373Z",
     "iopub.status.idle": "2022-01-26T09:45:41.681539Z",
     "shell.execute_reply": "2022-01-26T09:45:41.681458Z",
     "shell.execute_reply.started": "2022-01-26T09:45:41.681449Z"
    },
    "tags": []
   },
   "outputs": [],
   "source": [
    "model3.fit(oneHotDf, (static_metrics['K-Means = 4'] == 3).astype(int).values)"
   ]
  },
  {
   "cell_type": "code",
   "execution_count": null,
   "metadata": {
    "execution": {
     "iopub.status.busy": "2022-01-26T09:45:41.682000Z",
     "iopub.status.idle": "2022-01-26T09:45:41.682170Z",
     "shell.execute_reply": "2022-01-26T09:45:41.682086Z",
     "shell.execute_reply.started": "2022-01-26T09:45:41.682077Z"
    },
    "tags": []
   },
   "outputs": [],
   "source": [
    "xgb.to_graphviz(model3)"
   ]
  },
  {
   "cell_type": "markdown",
   "metadata": {},
   "source": [
    "## \"Supervised\" explanation - reduced metadata"
   ]
  },
  {
   "cell_type": "code",
   "execution_count": null,
   "metadata": {
    "execution": {
     "iopub.status.busy": "2022-01-26T09:45:41.682642Z",
     "iopub.status.idle": "2022-01-26T09:45:41.682815Z",
     "shell.execute_reply": "2022-01-26T09:45:41.682733Z",
     "shell.execute_reply.started": "2022-01-26T09:45:41.682724Z"
    },
    "tags": []
   },
   "outputs": [],
   "source": [
    "cat_attribs=['different machines restriction', 'disk space request - Quartiles', 'memory request - Quartiles', 'CPU request - Quartiles']\n",
    "full_pipeline = ColumnTransformer([('cat', OneHotEncoder(handle_unknown='ignore'), cat_attribs)], remainder='passthrough')"
   ]
  },
  {
   "cell_type": "code",
   "execution_count": null,
   "metadata": {
    "execution": {
     "iopub.status.busy": "2022-01-26T09:45:41.683452Z",
     "iopub.status.idle": "2022-01-26T09:45:41.683627Z",
     "shell.execute_reply": "2022-01-26T09:45:41.683543Z",
     "shell.execute_reply.started": "2022-01-26T09:45:41.683534Z"
    },
    "tags": []
   },
   "outputs": [],
   "source": [
    "oneHotDfReduced = static_metrics[['different machines restriction', 'disk space request - Quartiles', 'memory request - Quartiles', 'CPU request - Quartiles', 'priority','scheduling class']]"
   ]
  },
  {
   "cell_type": "code",
   "execution_count": null,
   "metadata": {
    "execution": {
     "iopub.status.busy": "2022-01-26T09:45:41.684269Z",
     "iopub.status.idle": "2022-01-26T09:45:41.684439Z",
     "shell.execute_reply": "2022-01-26T09:45:41.684356Z",
     "shell.execute_reply.started": "2022-01-26T09:45:41.684347Z"
    },
    "tags": []
   },
   "outputs": [],
   "source": [
    "encoder = full_pipeline.fit(oneHotDfReduced)\n",
    "list_of_feature_names = ['different machines restriction', 'disk space request - Quartiles', 'memory request - Quartiles', 'CPU request - Quartiles', 'priority','scheduling class']\n",
    "x = encoder.get_feature_names_out(list_of_feature_names)\n",
    "oneHotDfReduced = encoder.transform(oneHotDfReduced)"
   ]
  },
  {
   "cell_type": "code",
   "execution_count": null,
   "metadata": {
    "execution": {
     "iopub.status.busy": "2022-01-26T09:45:41.685069Z",
     "iopub.status.idle": "2022-01-26T09:45:41.685241Z",
     "shell.execute_reply": "2022-01-26T09:45:41.685158Z",
     "shell.execute_reply.started": "2022-01-26T09:45:41.685148Z"
    },
    "tags": []
   },
   "outputs": [],
   "source": [
    "oneHotDfReduced = pd.DataFrame(oneHotDfReduced, columns=x)"
   ]
  },
  {
   "cell_type": "code",
   "execution_count": null,
   "metadata": {
    "execution": {
     "iopub.status.busy": "2022-01-26T09:45:41.685721Z",
     "iopub.status.idle": "2022-01-26T09:45:41.685890Z",
     "shell.execute_reply": "2022-01-26T09:45:41.685809Z",
     "shell.execute_reply.started": "2022-01-26T09:45:41.685800Z"
    },
    "tags": []
   },
   "outputs": [],
   "source": [
    "oneHotDfReduced"
   ]
  },
  {
   "cell_type": "markdown",
   "metadata": {
    "tags": []
   },
   "source": [
    "### XGBoost"
   ]
  },
  {
   "cell_type": "markdown",
   "metadata": {},
   "source": [
    "#### K-Means 4 - cl. 0"
   ]
  },
  {
   "cell_type": "code",
   "execution_count": null,
   "metadata": {
    "execution": {
     "iopub.status.busy": "2022-01-26T09:45:41.686382Z",
     "iopub.status.idle": "2022-01-26T09:45:41.686549Z",
     "shell.execute_reply": "2022-01-26T09:45:41.686469Z",
     "shell.execute_reply.started": "2022-01-26T09:45:41.686460Z"
    },
    "tags": []
   },
   "outputs": [],
   "source": [
    "model0Red = xgb.XGBClassifier(tree_method='gpu_hist')"
   ]
  },
  {
   "cell_type": "code",
   "execution_count": null,
   "metadata": {
    "execution": {
     "iopub.status.busy": "2022-01-26T09:45:41.686974Z",
     "iopub.status.idle": "2022-01-26T09:45:41.687142Z",
     "shell.execute_reply": "2022-01-26T09:45:41.687061Z",
     "shell.execute_reply.started": "2022-01-26T09:45:41.687052Z"
    },
    "tags": []
   },
   "outputs": [],
   "source": [
    "model0Red.fit(oneHotDfReduced, (static_metrics['K-Means = 4'] == 0).astype(int).values)"
   ]
  },
  {
   "cell_type": "code",
   "execution_count": null,
   "metadata": {
    "execution": {
     "iopub.status.busy": "2022-01-26T09:45:41.687677Z",
     "iopub.status.idle": "2022-01-26T09:45:41.687851Z",
     "shell.execute_reply": "2022-01-26T09:45:41.687770Z",
     "shell.execute_reply.started": "2022-01-26T09:45:41.687760Z"
    },
    "tags": []
   },
   "outputs": [],
   "source": [
    "model0Red.get_booster().get_score(importance_type='gain')"
   ]
  },
  {
   "cell_type": "code",
   "execution_count": null,
   "metadata": {
    "execution": {
     "iopub.status.busy": "2022-01-26T09:45:41.688323Z",
     "iopub.status.idle": "2022-01-26T09:45:41.688493Z",
     "shell.execute_reply": "2022-01-26T09:45:41.688410Z",
     "shell.execute_reply.started": "2022-01-26T09:45:41.688401Z"
    },
    "tags": []
   },
   "outputs": [],
   "source": [
    "xgb.to_graphviz(model0Red)"
   ]
  },
  {
   "cell_type": "code",
   "execution_count": null,
   "metadata": {
    "execution": {
     "iopub.status.busy": "2022-01-26T09:45:41.689051Z",
     "iopub.status.idle": "2022-01-26T09:45:41.689220Z",
     "shell.execute_reply": "2022-01-26T09:45:41.689137Z",
     "shell.execute_reply.started": "2022-01-26T09:45:41.689127Z"
    },
    "tags": []
   },
   "outputs": [],
   "source": [
    "sklearn.__version__"
   ]
  },
  {
   "cell_type": "code",
   "execution_count": null,
   "metadata": {
    "execution": {
     "iopub.status.busy": "2022-01-26T09:45:41.689740Z",
     "iopub.status.idle": "2022-01-26T09:45:41.689916Z",
     "shell.execute_reply": "2022-01-26T09:45:41.689827Z",
     "shell.execute_reply.started": "2022-01-26T09:45:41.689818Z"
    },
    "tags": []
   },
   "outputs": [],
   "source": [
    "scoring = {'acc': 'accuracy',\n",
    "           'f1_macro': 'f1_macro',\n",
    "           'f1_weight': 'f1_weighted'}"
   ]
  },
  {
   "cell_type": "code",
   "execution_count": null,
   "metadata": {
    "execution": {
     "iopub.status.busy": "2022-01-26T09:45:41.690436Z",
     "iopub.status.idle": "2022-01-26T09:45:41.690609Z",
     "shell.execute_reply": "2022-01-26T09:45:41.690522Z",
     "shell.execute_reply.started": "2022-01-26T09:45:41.690512Z"
    },
    "tags": []
   },
   "outputs": [],
   "source": [
    "kfold = KFold(n_splits=10)\n",
    "#model0Red = xgb.XGBClassifier(tree_method='gpu_hist', max_depth=6, min_child_weight=1, subsample=0.8879, eta=0.099)\n",
    "results0Red = cross_validate(model0Red, oneHotDfReduced, (static_metrics['K-Means = 4'] == 0).astype(int).values, scoring=scoring, cv=kfold)"
   ]
  },
  {
   "cell_type": "code",
   "execution_count": null,
   "metadata": {
    "execution": {
     "iopub.status.busy": "2022-01-26T09:45:41.691216Z",
     "iopub.status.idle": "2022-01-26T09:45:41.691387Z",
     "shell.execute_reply": "2022-01-26T09:45:41.691304Z",
     "shell.execute_reply.started": "2022-01-26T09:45:41.691294Z"
    },
    "tags": []
   },
   "outputs": [],
   "source": [
    "print(results0Red['test_acc'].mean()*100, results0Red['test_acc'].std()*100) "
   ]
  },
  {
   "cell_type": "code",
   "execution_count": null,
   "metadata": {
    "execution": {
     "iopub.status.busy": "2022-01-26T09:45:41.691765Z",
     "iopub.status.idle": "2022-01-26T09:45:41.691932Z",
     "shell.execute_reply": "2022-01-26T09:45:41.691851Z",
     "shell.execute_reply.started": "2022-01-26T09:45:41.691842Z"
    },
    "tags": []
   },
   "outputs": [],
   "source": [
    "print(results0Red['test_f1_macro'].mean()*100, results0Red['test_f1_macro'].std()*100) "
   ]
  },
  {
   "cell_type": "code",
   "execution_count": null,
   "metadata": {
    "execution": {
     "iopub.status.busy": "2022-01-26T09:45:41.692398Z",
     "iopub.status.idle": "2022-01-26T09:45:41.692565Z",
     "shell.execute_reply": "2022-01-26T09:45:41.692483Z",
     "shell.execute_reply.started": "2022-01-26T09:45:41.692474Z"
    },
    "tags": []
   },
   "outputs": [],
   "source": [
    "print(results0Red['test_f1_weight'].mean()*100, results0Red['test_f1_weight'].std()*100) "
   ]
  },
  {
   "cell_type": "markdown",
   "metadata": {},
   "source": [
    "#### K-Means 4 -cl.1"
   ]
  },
  {
   "cell_type": "code",
   "execution_count": null,
   "metadata": {
    "execution": {
     "iopub.status.busy": "2022-01-26T09:45:41.692964Z",
     "iopub.status.idle": "2022-01-26T09:45:41.693133Z",
     "shell.execute_reply": "2022-01-26T09:45:41.693052Z",
     "shell.execute_reply.started": "2022-01-26T09:45:41.693043Z"
    },
    "tags": []
   },
   "outputs": [],
   "source": [
    "kfold = KFold(n_splits=10)\n",
    "model1Red = xgb.XGBClassifier(tree_method='gpu_hist')\n",
    "results1Red = cross_validate(model1Red, oneHotDfReduced, (static_metrics['K-Means = 4'] == 1).astype(int).values, scoring=scoring, cv=kfold)"
   ]
  },
  {
   "cell_type": "code",
   "execution_count": null,
   "metadata": {
    "execution": {
     "iopub.status.busy": "2022-01-26T09:45:41.693575Z",
     "iopub.status.idle": "2022-01-26T09:45:41.693748Z",
     "shell.execute_reply": "2022-01-26T09:45:41.693660Z",
     "shell.execute_reply.started": "2022-01-26T09:45:41.693651Z"
    },
    "tags": []
   },
   "outputs": [],
   "source": [
    "print(results1Red['test_acc'].mean()*100, results1Red['test_acc'].std()*100) "
   ]
  },
  {
   "cell_type": "code",
   "execution_count": null,
   "metadata": {
    "execution": {
     "iopub.status.busy": "2022-01-26T09:45:41.694141Z",
     "iopub.status.idle": "2022-01-26T09:45:41.694306Z",
     "shell.execute_reply": "2022-01-26T09:45:41.694226Z",
     "shell.execute_reply.started": "2022-01-26T09:45:41.694217Z"
    },
    "tags": []
   },
   "outputs": [],
   "source": [
    "print(results1Red['test_f1_macro'].mean()*100, results1Red['test_f1_macro'].std()*100) "
   ]
  },
  {
   "cell_type": "code",
   "execution_count": null,
   "metadata": {
    "execution": {
     "iopub.status.busy": "2022-01-26T09:45:41.694753Z",
     "iopub.status.idle": "2022-01-26T09:45:41.694924Z",
     "shell.execute_reply": "2022-01-26T09:45:41.694839Z",
     "shell.execute_reply.started": "2022-01-26T09:45:41.694830Z"
    },
    "tags": []
   },
   "outputs": [],
   "source": [
    "print(results1Red['test_f1_weight'].mean()*100, results1Red['test_f1_weight'].std()*100) "
   ]
  },
  {
   "cell_type": "code",
   "execution_count": null,
   "metadata": {
    "execution": {
     "iopub.status.busy": "2022-01-26T09:45:41.695321Z",
     "iopub.status.idle": "2022-01-26T09:45:41.695484Z",
     "shell.execute_reply": "2022-01-26T09:45:41.695405Z",
     "shell.execute_reply.started": "2022-01-26T09:45:41.695396Z"
    },
    "tags": []
   },
   "outputs": [],
   "source": [
    "model1Red.fit(oneHotDfReduced, (static_metrics['K-Means = 4'] == 1).astype(int).values)"
   ]
  },
  {
   "cell_type": "code",
   "execution_count": null,
   "metadata": {
    "execution": {
     "iopub.status.busy": "2022-01-26T09:45:41.695986Z",
     "iopub.status.idle": "2022-01-26T09:45:41.696162Z",
     "shell.execute_reply": "2022-01-26T09:45:41.696075Z",
     "shell.execute_reply.started": "2022-01-26T09:45:41.696066Z"
    },
    "tags": []
   },
   "outputs": [],
   "source": [
    "xgb.to_graphviz(model1Red)"
   ]
  },
  {
   "cell_type": "markdown",
   "metadata": {},
   "source": [
    "#### K-Means 4 - cl.2"
   ]
  },
  {
   "cell_type": "code",
   "execution_count": null,
   "metadata": {
    "execution": {
     "iopub.status.busy": "2022-01-26T09:45:41.696545Z",
     "iopub.status.idle": "2022-01-26T09:45:41.696719Z",
     "shell.execute_reply": "2022-01-26T09:45:41.696634Z",
     "shell.execute_reply.started": "2022-01-26T09:45:41.696625Z"
    },
    "tags": []
   },
   "outputs": [],
   "source": [
    "kfold = KFold(n_splits=10)\n",
    "model2Red = xgb.XGBClassifier(tree_method='gpu_hist')\n",
    "results2Red = cross_validate(model2Red, oneHotDfReduced, (static_metrics['K-Means = 4'] == 2).astype(int).values, scoring=scoring, cv=kfold)"
   ]
  },
  {
   "cell_type": "code",
   "execution_count": null,
   "metadata": {
    "execution": {
     "iopub.status.busy": "2022-01-26T09:45:41.697144Z",
     "iopub.status.idle": "2022-01-26T09:45:41.697309Z",
     "shell.execute_reply": "2022-01-26T09:45:41.697229Z",
     "shell.execute_reply.started": "2022-01-26T09:45:41.697220Z"
    },
    "tags": []
   },
   "outputs": [],
   "source": [
    "print(results2Red['test_acc'].mean()*100, results2Red['test_acc'].std()*100) "
   ]
  },
  {
   "cell_type": "code",
   "execution_count": null,
   "metadata": {
    "execution": {
     "iopub.status.busy": "2022-01-26T09:45:41.697686Z",
     "iopub.status.idle": "2022-01-26T09:45:41.697863Z",
     "shell.execute_reply": "2022-01-26T09:45:41.697779Z",
     "shell.execute_reply.started": "2022-01-26T09:45:41.697770Z"
    },
    "tags": []
   },
   "outputs": [],
   "source": [
    "print(results2Red['test_f1_macro'].mean()*100, results2Red['test_f1_macro'].std()*100) "
   ]
  },
  {
   "cell_type": "code",
   "execution_count": null,
   "metadata": {
    "execution": {
     "iopub.status.busy": "2022-01-26T09:45:41.698473Z",
     "iopub.status.idle": "2022-01-26T09:45:41.698642Z",
     "shell.execute_reply": "2022-01-26T09:45:41.698560Z",
     "shell.execute_reply.started": "2022-01-26T09:45:41.698551Z"
    },
    "tags": []
   },
   "outputs": [],
   "source": [
    "print(results2Red['test_f1_weight'].mean()*100, results2Red['test_f1_weight'].std()*100) "
   ]
  },
  {
   "cell_type": "code",
   "execution_count": null,
   "metadata": {
    "execution": {
     "iopub.status.busy": "2022-01-26T09:45:41.699112Z",
     "iopub.status.idle": "2022-01-26T09:45:41.699278Z",
     "shell.execute_reply": "2022-01-26T09:45:41.699197Z",
     "shell.execute_reply.started": "2022-01-26T09:45:41.699188Z"
    },
    "tags": []
   },
   "outputs": [],
   "source": [
    "model2Red.fit(oneHotDfReduced, (static_metrics['K-Means = 4'] == 2).astype(int).values)"
   ]
  },
  {
   "cell_type": "code",
   "execution_count": null,
   "metadata": {
    "execution": {
     "iopub.status.busy": "2022-01-26T09:45:41.699784Z",
     "iopub.status.idle": "2022-01-26T09:45:41.699950Z",
     "shell.execute_reply": "2022-01-26T09:45:41.699870Z",
     "shell.execute_reply.started": "2022-01-26T09:45:41.699861Z"
    },
    "tags": []
   },
   "outputs": [],
   "source": [
    "xgb.to_graphviz(model2Red)"
   ]
  },
  {
   "cell_type": "markdown",
   "metadata": {},
   "source": [
    "Interpretation of the graph: https://stackoverflow.com/questions/40926340/what-does-the-value-of-leaf-in-the-following-xgboost-model-tree-diagram-means"
   ]
  },
  {
   "cell_type": "markdown",
   "metadata": {},
   "source": [
    "#### K-Means 4 - cl.3"
   ]
  },
  {
   "cell_type": "code",
   "execution_count": null,
   "metadata": {
    "execution": {
     "iopub.status.busy": "2022-01-26T09:45:41.700356Z",
     "iopub.status.idle": "2022-01-26T09:45:41.700523Z",
     "shell.execute_reply": "2022-01-26T09:45:41.700442Z",
     "shell.execute_reply.started": "2022-01-26T09:45:41.700433Z"
    },
    "tags": []
   },
   "outputs": [],
   "source": [
    "kfold = KFold(n_splits=10,)\n",
    "model3Red = xgb.XGBClassifier(tree_method='gpu_hist')\n",
    "results3Red = cross_validate(model3Red, oneHotDfReduced, (static_metrics['K-Means = 4'] == 3).astype(int).values, scoring=scoring, cv=kfold)"
   ]
  },
  {
   "cell_type": "code",
   "execution_count": null,
   "metadata": {
    "execution": {
     "iopub.status.busy": "2022-01-26T09:45:41.701158Z",
     "iopub.status.idle": "2022-01-26T09:45:41.701328Z",
     "shell.execute_reply": "2022-01-26T09:45:41.701245Z",
     "shell.execute_reply.started": "2022-01-26T09:45:41.701235Z"
    },
    "tags": []
   },
   "outputs": [],
   "source": [
    "print(results3Red['test_acc'].mean()*100, results3Red['test_acc'].std()*100) "
   ]
  },
  {
   "cell_type": "code",
   "execution_count": null,
   "metadata": {
    "execution": {
     "iopub.status.busy": "2022-01-26T09:45:41.701769Z",
     "iopub.status.idle": "2022-01-26T09:45:41.701938Z",
     "shell.execute_reply": "2022-01-26T09:45:41.701857Z",
     "shell.execute_reply.started": "2022-01-26T09:45:41.701847Z"
    },
    "tags": []
   },
   "outputs": [],
   "source": [
    "print(results3Red['test_f1_macro'].mean()*100, results3Red['test_f1_macro'].std()*100) "
   ]
  },
  {
   "cell_type": "code",
   "execution_count": null,
   "metadata": {
    "execution": {
     "iopub.status.busy": "2022-01-26T09:45:41.702519Z",
     "iopub.status.idle": "2022-01-26T09:45:41.702686Z",
     "shell.execute_reply": "2022-01-26T09:45:41.702605Z",
     "shell.execute_reply.started": "2022-01-26T09:45:41.702596Z"
    },
    "tags": []
   },
   "outputs": [],
   "source": [
    "print(results3Red['test_f1_weight'].mean()*100, results3Red['test_f1_weight'].std()*100) "
   ]
  },
  {
   "cell_type": "code",
   "execution_count": null,
   "metadata": {
    "execution": {
     "iopub.status.busy": "2022-01-26T09:45:41.703170Z",
     "iopub.status.idle": "2022-01-26T09:45:41.703339Z",
     "shell.execute_reply": "2022-01-26T09:45:41.703256Z",
     "shell.execute_reply.started": "2022-01-26T09:45:41.703247Z"
    },
    "tags": []
   },
   "outputs": [],
   "source": [
    "model3Red.fit(oneHotDfReduced, (static_metrics['K-Means = 4'] == 3).astype(int).values)"
   ]
  },
  {
   "cell_type": "code",
   "execution_count": null,
   "metadata": {
    "execution": {
     "iopub.status.busy": "2022-01-26T09:45:41.703919Z",
     "iopub.status.idle": "2022-01-26T09:45:41.704086Z",
     "shell.execute_reply": "2022-01-26T09:45:41.704005Z",
     "shell.execute_reply.started": "2022-01-26T09:45:41.703996Z"
    },
    "tags": []
   },
   "outputs": [],
   "source": [
    "xgb.to_graphviz(model3Red)"
   ]
  },
  {
   "cell_type": "markdown",
   "metadata": {
    "tags": []
   },
   "source": [
    "## Test set"
   ]
  },
  {
   "cell_type": "code",
   "execution_count": null,
   "metadata": {
    "execution": {
     "iopub.status.busy": "2022-01-26T09:45:41.704512Z",
     "iopub.status.idle": "2022-01-26T09:45:41.704677Z",
     "shell.execute_reply": "2022-01-26T09:45:41.704598Z",
     "shell.execute_reply.started": "2022-01-26T09:45:41.704589Z"
    },
    "tags": []
   },
   "outputs": [],
   "source": [
    "readings_task_usage_df = pd.read_csv(\"data/sample_jobs_summary.csv\", header=[0,1], index_col=[0])"
   ]
  },
  {
   "cell_type": "code",
   "execution_count": null,
   "metadata": {
    "execution": {
     "iopub.status.busy": "2022-01-26T09:45:41.705154Z",
     "iopub.status.idle": "2022-01-26T09:45:41.705320Z",
     "shell.execute_reply": "2022-01-26T09:45:41.705241Z",
     "shell.execute_reply.started": "2022-01-26T09:45:41.705232Z"
    },
    "tags": []
   },
   "outputs": [],
   "source": [
    "data_path = \"/data/cloud_data/Google-clusterdata-2011-2/clusterdata-2011-2/\""
   ]
  },
  {
   "cell_type": "code",
   "execution_count": null,
   "metadata": {
    "execution": {
     "iopub.status.busy": "2022-01-26T09:45:41.705720Z",
     "iopub.status.idle": "2022-01-26T09:45:41.705885Z",
     "shell.execute_reply": "2022-01-26T09:45:41.705805Z",
     "shell.execute_reply.started": "2022-01-26T09:45:41.705796Z"
    },
    "tags": []
   },
   "outputs": [],
   "source": [
    "#job_events_files = [\n",
    "#    os.path.join(data_path, 'job_events/part-00' + str(v).zfill(3) + '-of-00500.csv.gz')\n",
    "#    for v in range(500)]\n",
    "#cols_job_events = df_schema[df_schema['file pattern'] == 'job_events/part-?????-of-?????.csv.gz'].content.values\n",
    "#\n",
    "#dfs_job_events = [delayed(pd.read_csv)(fn, header=None, index_col=False, names=cols_job_events, delimiter=',') for fn\n",
    "#                   in\n",
    "#                   job_events_files]"
   ]
  },
  {
   "cell_type": "code",
   "execution_count": null,
   "metadata": {
    "execution": {
     "iopub.status.busy": "2022-01-26T09:45:41.706331Z",
     "iopub.status.idle": "2022-01-26T09:45:41.706493Z",
     "shell.execute_reply": "2022-01-26T09:45:41.706414Z",
     "shell.execute_reply.started": "2022-01-26T09:45:41.706405Z"
    },
    "tags": []
   },
   "outputs": [],
   "source": [
    "readings_job_events_df = dd.from_delayed(dfs_job_events)\n",
    "jobs_metadata = readings_job_events_df[readings_job_events_df[\"job ID\"].isin(readings_task_usage_df.index)].groupby([\"job ID\", \"user\", \"logical job name\"])[\"scheduling class\"].mean().compute().reset_index()\n"
   ]
  },
  {
   "cell_type": "code",
   "execution_count": null,
   "metadata": {
    "execution": {
     "iopub.status.busy": "2022-01-26T09:45:41.707025Z",
     "iopub.status.idle": "2022-01-26T09:45:41.707193Z",
     "shell.execute_reply": "2022-01-26T09:45:41.707112Z",
     "shell.execute_reply.started": "2022-01-26T09:45:41.707102Z"
    },
    "tags": []
   },
   "outputs": [],
   "source": [
    "jobs_metadata"
   ]
  },
  {
   "cell_type": "code",
   "execution_count": null,
   "metadata": {
    "execution": {
     "iopub.status.busy": "2022-01-26T09:45:41.707744Z",
     "iopub.status.idle": "2022-01-26T09:45:41.707983Z",
     "shell.execute_reply": "2022-01-26T09:45:41.707832Z",
     "shell.execute_reply.started": "2022-01-26T09:45:41.707823Z"
    },
    "tags": []
   },
   "outputs": [],
   "source": [
    "jobs_metadata[\"scheduling class\"].value_counts()"
   ]
  },
  {
   "cell_type": "code",
   "execution_count": null,
   "metadata": {
    "execution": {
     "iopub.status.busy": "2022-01-26T09:45:41.708453Z",
     "iopub.status.idle": "2022-01-26T09:45:41.708621Z",
     "shell.execute_reply": "2022-01-26T09:45:41.708539Z",
     "shell.execute_reply.started": "2022-01-26T09:45:41.708530Z"
    },
    "tags": []
   },
   "outputs": [],
   "source": [
    "cols_task_events = df_schema[df_schema['file pattern'] == 'task_events/part-?????-of-?????.csv.gz'].content.values\n",
    "task_events_files = [os.path.join(data_path, 'task_events','part-00'+ str(v).zfill(3)+'-of-00500.csv.gz')\n",
    "                        for v in range(0, 500)]\n",
    "\n",
    "dfs_task_events = [delayed(pd.read_csv)(fn, header=None, index_col=False, names=cols_task_events, delimiter=',') for fn in\n",
    "           task_events_files]\n",
    "readings_task_events_df = dd.from_delayed(dfs_task_events)\n",
    "readings_task_events_df = readings_task_events_df[readings_task_events_df['job ID'].isin(readings_task_usage_df.index)].groupby([\"job ID\"])[\"priority\", \"CPU request\", \"memory request\", \"disk space request\", \"different machines restriction\"].mean().compute().reset_index()"
   ]
  },
  {
   "cell_type": "code",
   "execution_count": null,
   "metadata": {
    "execution": {
     "iopub.status.busy": "2022-01-26T09:45:41.709072Z",
     "iopub.status.idle": "2022-01-26T09:45:41.709241Z",
     "shell.execute_reply": "2022-01-26T09:45:41.709156Z",
     "shell.execute_reply.started": "2022-01-26T09:45:41.709147Z"
    },
    "tags": []
   },
   "outputs": [],
   "source": [
    "readings_task_events_df "
   ]
  },
  {
   "cell_type": "markdown",
   "metadata": {},
   "source": [
    "**TODO**: Do one-hot encoding\n",
    "- https://pandas.pydata.org/pandas-docs/stable/reference/api/pandas.get_dummies.html\n",
    "- https://towardsdatascience.com/what-is-one-hot-encoding-and-how-to-use-pandas-get-dummies-function-922eb9bd4970\n"
   ]
  },
  {
   "cell_type": "code",
   "execution_count": null,
   "metadata": {
    "execution": {
     "iopub.status.busy": "2022-01-26T09:45:41.709721Z",
     "iopub.status.idle": "2022-01-26T09:45:41.709889Z",
     "shell.execute_reply": "2022-01-26T09:45:41.709808Z",
     "shell.execute_reply.started": "2022-01-26T09:45:41.709798Z"
    },
    "tags": []
   },
   "outputs": [],
   "source": [
    "def extract_quartiles(df: pd.DataFrame, column: str):\n",
    "    q25_val = df[column].quantile(0.25)\n",
    "    median_val = df[column].median()\n",
    "    q75_val = df[column].quantile(0.75)\n",
    "    max_val = df[column].max()\n",
    "    df[column+\" - Q1\"] = 0\n",
    "    df[column+\" - Q2\"] = 0\n",
    "    df[column+\" - Q3\"] = 0\n",
    "    df[column+\" - Q4\"] = 0\n",
    "    df.loc[df[column] <=q25_val, f\"{column} - Q1\"] = 1\n",
    "    df.loc[(q25_val < df[column]) & (df[column] <=median_val) , f\"{column} - Q2\"] = 1\n",
    "    df.loc[(median_val < df[column]) & (df[column] <=q75_val) , f\"{column} - Q3\"] = 1\n",
    "    df.loc[(q75_val < df[column]) & (df[column] <=max_val) , f\"{column} - Q4\"] = 1\n",
    "    df.loc[df[column] <=q25_val, f\"{column} - Quartiles\"] = 'Q1'\n",
    "    df.loc[(q25_val < df[column]) & (df[column] <=median_val) , f\"{column} - Quartiles\"] = 'Q2'\n",
    "    df.loc[(median_val < df[column]) & (df[column] <=q75_val) , f\"{column} - Quartiles\"] = 'Q3'\n",
    "    df.loc[(q75_val < df[column]) & (df[column] <=max_val) , f\"{column} - Quartiles\"] = 'Q4'\n"
   ]
  },
  {
   "cell_type": "code",
   "execution_count": null,
   "metadata": {
    "execution": {
     "iopub.status.busy": "2022-01-26T09:45:41.710787Z",
     "iopub.status.idle": "2022-01-26T09:45:41.710961Z",
     "shell.execute_reply": "2022-01-26T09:45:41.710878Z",
     "shell.execute_reply.started": "2022-01-26T09:45:41.710868Z"
    },
    "tags": []
   },
   "outputs": [],
   "source": [
    "def extract_priority(df: pd.DataFrame, column='priority'):\n",
    "    df.loc[(0 <= df[column]) & (df[column] <= 1), 'priority labels'] = 'Free [0,1]'\n",
    "    df.loc[(2 <= df[column]) & (df[column] <= 8) , 'priority labels'] = 'Other [2,8]'\n",
    "    df.loc[(df[column] == 9) , 'priority labels'] = 'Production [9]'\n",
    "    df.loc[(df[column] == 10), 'priority labels'] = 'Monitoring [10]'\n",
    "    df.loc[(df[column] == 11), 'priority labels'] = 'Infrastructure [11]'"
   ]
  },
  {
   "cell_type": "code",
   "execution_count": null,
   "metadata": {
    "execution": {
     "iopub.status.busy": "2022-01-26T09:45:41.711399Z",
     "iopub.status.idle": "2022-01-26T09:45:41.711565Z",
     "shell.execute_reply": "2022-01-26T09:45:41.711484Z",
     "shell.execute_reply.started": "2022-01-26T09:45:41.711475Z"
    },
    "tags": []
   },
   "outputs": [],
   "source": [
    "extract_quartiles(readings_task_events_df, \"disk space request\")"
   ]
  },
  {
   "cell_type": "code",
   "execution_count": null,
   "metadata": {
    "execution": {
     "iopub.status.busy": "2022-01-26T09:45:41.711982Z",
     "iopub.status.idle": "2022-01-26T09:45:41.712147Z",
     "shell.execute_reply": "2022-01-26T09:45:41.712068Z",
     "shell.execute_reply.started": "2022-01-26T09:45:41.712059Z"
    },
    "tags": []
   },
   "outputs": [],
   "source": [
    "extract_quartiles(readings_task_events_df, \"memory request\")"
   ]
  },
  {
   "cell_type": "code",
   "execution_count": null,
   "metadata": {
    "execution": {
     "iopub.status.busy": "2022-01-26T09:45:41.712622Z",
     "iopub.status.idle": "2022-01-26T09:45:41.712795Z",
     "shell.execute_reply": "2022-01-26T09:45:41.712713Z",
     "shell.execute_reply.started": "2022-01-26T09:45:41.712700Z"
    },
    "tags": []
   },
   "outputs": [],
   "source": [
    "extract_quartiles(readings_task_events_df, \"CPU request\")"
   ]
  },
  {
   "cell_type": "code",
   "execution_count": null,
   "metadata": {
    "execution": {
     "iopub.status.busy": "2022-01-26T09:45:41.713329Z",
     "iopub.status.idle": "2022-01-26T09:45:41.713495Z",
     "shell.execute_reply": "2022-01-26T09:45:41.713414Z",
     "shell.execute_reply.started": "2022-01-26T09:45:41.713405Z"
    },
    "tags": []
   },
   "outputs": [],
   "source": [
    "extract_priority(readings_task_events_df)"
   ]
  },
  {
   "cell_type": "code",
   "execution_count": null,
   "metadata": {
    "execution": {
     "iopub.status.busy": "2022-01-26T09:45:41.714010Z",
     "iopub.status.idle": "2022-01-26T09:45:41.714178Z",
     "shell.execute_reply": "2022-01-26T09:45:41.714097Z",
     "shell.execute_reply.started": "2022-01-26T09:45:41.714087Z"
    },
    "tags": []
   },
   "outputs": [],
   "source": [
    "readings_task_events_df"
   ]
  },
  {
   "cell_type": "code",
   "execution_count": null,
   "metadata": {
    "execution": {
     "iopub.status.busy": "2022-01-26T09:45:41.714767Z",
     "iopub.status.idle": "2022-01-26T09:45:41.714935Z",
     "shell.execute_reply": "2022-01-26T09:45:41.714854Z",
     "shell.execute_reply.started": "2022-01-26T09:45:41.714845Z"
    },
    "tags": []
   },
   "outputs": [],
   "source": [
    "readings_task_events_df_final = readings_task_events_df.drop(columns=['CPU request', 'memory request', 'disk space request'])"
   ]
  },
  {
   "cell_type": "code",
   "execution_count": null,
   "metadata": {
    "execution": {
     "iopub.status.busy": "2022-01-26T09:45:41.715407Z",
     "iopub.status.idle": "2022-01-26T09:45:41.715580Z",
     "shell.execute_reply": "2022-01-26T09:45:41.715493Z",
     "shell.execute_reply.started": "2022-01-26T09:45:41.715484Z"
    },
    "tags": []
   },
   "outputs": [],
   "source": [
    "static_metrics_test = readings_task_events_df_final.set_index(\"job ID\").join(jobs_metadata.set_index('job ID'))"
   ]
  },
  {
   "cell_type": "code",
   "execution_count": null,
   "metadata": {
    "execution": {
     "iopub.status.busy": "2022-01-26T09:45:41.716004Z",
     "iopub.status.idle": "2022-01-26T09:45:41.716173Z",
     "shell.execute_reply": "2022-01-26T09:45:41.716092Z",
     "shell.execute_reply.started": "2022-01-26T09:45:41.716083Z"
    },
    "tags": []
   },
   "outputs": [],
   "source": [
    "extract_priority(static_metrics_test)"
   ]
  },
  {
   "cell_type": "code",
   "execution_count": null,
   "metadata": {
    "execution": {
     "iopub.status.busy": "2022-01-26T09:45:41.716570Z",
     "iopub.status.idle": "2022-01-26T09:45:41.716740Z",
     "shell.execute_reply": "2022-01-26T09:45:41.716656Z",
     "shell.execute_reply.started": "2022-01-26T09:45:41.716647Z"
    },
    "tags": []
   },
   "outputs": [],
   "source": [
    "static_metrics_test"
   ]
  },
  {
   "cell_type": "code",
   "execution_count": null,
   "metadata": {
    "execution": {
     "iopub.status.busy": "2022-01-26T09:45:41.717268Z",
     "iopub.status.idle": "2022-01-26T09:45:41.717444Z",
     "shell.execute_reply": "2022-01-26T09:45:41.717360Z",
     "shell.execute_reply.started": "2022-01-26T09:45:41.717351Z"
    },
    "tags": []
   },
   "outputs": [],
   "source": [
    "static_metrics_test['priority'] = static_metrics_test['priority'].astype(int)\n",
    "static_metrics_test['different machines restriction'] = static_metrics_test['different machines restriction'].astype(int)\n",
    "static_metrics_test['scheduling class'] = static_metrics_test['scheduling class'].astype(int)"
   ]
  },
  {
   "cell_type": "code",
   "execution_count": null,
   "metadata": {
    "execution": {
     "iopub.status.busy": "2022-01-26T09:45:41.717953Z",
     "iopub.status.idle": "2022-01-26T09:45:41.718127Z",
     "shell.execute_reply": "2022-01-26T09:45:41.718045Z",
     "shell.execute_reply.started": "2022-01-26T09:45:41.718036Z"
    },
    "tags": []
   },
   "outputs": [],
   "source": [
    "static_metrics_test.to_csv('data/static_metrics_test.csv')"
   ]
  },
  {
   "cell_type": "code",
   "execution_count": null,
   "metadata": {
    "execution": {
     "iopub.status.busy": "2022-01-26T09:45:41.718543Z",
     "iopub.status.idle": "2022-01-26T09:45:41.718719Z",
     "shell.execute_reply": "2022-01-26T09:45:41.718629Z",
     "shell.execute_reply.started": "2022-01-26T09:45:41.718619Z"
    },
    "tags": []
   },
   "outputs": [],
   "source": [
    "static_metrics_test = pd.read_csv('data/static_metrics_test.csv')"
   ]
  },
  {
   "cell_type": "code",
   "execution_count": null,
   "metadata": {
    "execution": {
     "iopub.status.busy": "2022-01-26T09:45:41.719188Z",
     "iopub.status.idle": "2022-01-26T09:45:41.719421Z",
     "shell.execute_reply": "2022-01-26T09:45:41.719274Z",
     "shell.execute_reply.started": "2022-01-26T09:45:41.719265Z"
    },
    "tags": []
   },
   "outputs": [],
   "source": [
    "oneHotDfTest = static_metrics[['different machines restriction', 'disk space request - Quartiles', 'memory request - Quartiles', 'CPU request - Quartiles', 'priority labels', 'user', 'logical job name', 'scheduling class']]"
   ]
  },
  {
   "cell_type": "code",
   "execution_count": null,
   "metadata": {
    "execution": {
     "iopub.status.busy": "2022-01-26T09:45:41.719892Z",
     "iopub.status.idle": "2022-01-26T09:45:41.720060Z",
     "shell.execute_reply": "2022-01-26T09:45:41.719979Z",
     "shell.execute_reply.started": "2022-01-26T09:45:41.719969Z"
    },
    "tags": []
   },
   "outputs": [],
   "source": [
    "oneHotDfTest = pd.get_dummies(oneHotDfTest)"
   ]
  },
  {
   "cell_type": "code",
   "execution_count": null,
   "metadata": {
    "execution": {
     "iopub.status.busy": "2022-01-26T09:45:41.720464Z",
     "iopub.status.idle": "2022-01-26T09:45:41.720630Z",
     "shell.execute_reply": "2022-01-26T09:45:41.720550Z",
     "shell.execute_reply.started": "2022-01-26T09:45:41.720541Z"
    },
    "tags": []
   },
   "outputs": [],
   "source": [
    "oneHotDfTest.columns = [col.replace('[', '').replace(']','').replace(',',' ').replace(' ', '_') for col in oneHotDfTest.columns]"
   ]
  },
  {
   "cell_type": "code",
   "execution_count": null,
   "metadata": {
    "execution": {
     "iopub.status.busy": "2022-01-26T09:45:41.721089Z",
     "iopub.status.idle": "2022-01-26T09:45:41.721261Z",
     "shell.execute_reply": "2022-01-26T09:45:41.721179Z",
     "shell.execute_reply.started": "2022-01-26T09:45:41.721170Z"
    },
    "tags": []
   },
   "outputs": [],
   "source": [
    "oneHotDfTestReduced = static_metrics_test[['different machines restriction', 'disk space request - Quartiles', 'memory request - Quartiles', 'CPU request - Quartiles', 'priority', 'scheduling class']]"
   ]
  },
  {
   "cell_type": "code",
   "execution_count": null,
   "metadata": {
    "execution": {
     "iopub.status.busy": "2022-01-26T09:45:41.721675Z",
     "iopub.status.idle": "2022-01-26T09:45:41.721849Z",
     "shell.execute_reply": "2022-01-26T09:45:41.721764Z",
     "shell.execute_reply.started": "2022-01-26T09:45:41.721755Z"
    },
    "tags": []
   },
   "outputs": [],
   "source": [
    "oneHotDfTestReduced = encoder.transform(oneHotDfTestReduced)"
   ]
  },
  {
   "cell_type": "code",
   "execution_count": null,
   "metadata": {
    "execution": {
     "iopub.status.busy": "2022-01-26T09:45:41.722262Z",
     "iopub.status.idle": "2022-01-26T09:45:41.722426Z",
     "shell.execute_reply": "2022-01-26T09:45:41.722346Z",
     "shell.execute_reply.started": "2022-01-26T09:45:41.722337Z"
    },
    "tags": []
   },
   "outputs": [],
   "source": [
    "oneHotDfTestReduced.columns = [col.replace('[', '').replace(']','').replace(',',' ').replace(' ', '_') for col in oneHotDfTestReduced.columns]"
   ]
  },
  {
   "cell_type": "code",
   "execution_count": null,
   "metadata": {
    "execution": {
     "iopub.status.busy": "2022-01-26T09:45:41.722890Z",
     "iopub.status.idle": "2022-01-26T09:45:41.723058Z",
     "shell.execute_reply": "2022-01-26T09:45:41.722975Z",
     "shell.execute_reply.started": "2022-01-26T09:45:41.722966Z"
    },
    "tags": []
   },
   "outputs": [],
   "source": [
    "resTest0 = model0Red.predict_proba(oneHotDfTestReduced)"
   ]
  },
  {
   "cell_type": "code",
   "execution_count": null,
   "metadata": {
    "execution": {
     "iopub.status.busy": "2022-01-26T09:45:41.723540Z",
     "iopub.status.idle": "2022-01-26T09:45:41.723713Z",
     "shell.execute_reply": "2022-01-26T09:45:41.723628Z",
     "shell.execute_reply.started": "2022-01-26T09:45:41.723619Z"
    },
    "tags": []
   },
   "outputs": [],
   "source": [
    "resTest1 = model1Red.predict_proba(oneHotDfTestReduced)"
   ]
  },
  {
   "cell_type": "code",
   "execution_count": null,
   "metadata": {
    "execution": {
     "iopub.status.busy": "2022-01-26T09:45:41.724148Z",
     "iopub.status.idle": "2022-01-26T09:45:41.724313Z",
     "shell.execute_reply": "2022-01-26T09:45:41.724233Z",
     "shell.execute_reply.started": "2022-01-26T09:45:41.724224Z"
    },
    "tags": []
   },
   "outputs": [],
   "source": [
    "resTest2 = model2Red.predict_proba(oneHotDfTestReduced)"
   ]
  },
  {
   "cell_type": "code",
   "execution_count": null,
   "metadata": {
    "execution": {
     "iopub.status.busy": "2022-01-26T09:45:41.724733Z",
     "iopub.status.idle": "2022-01-26T09:45:41.724905Z",
     "shell.execute_reply": "2022-01-26T09:45:41.724820Z",
     "shell.execute_reply.started": "2022-01-26T09:45:41.724811Z"
    },
    "tags": []
   },
   "outputs": [],
   "source": [
    "resTest3 = model3Red.predict_proba(oneHotDfTestReduced)"
   ]
  },
  {
   "cell_type": "code",
   "execution_count": null,
   "metadata": {
    "execution": {
     "iopub.status.busy": "2022-01-26T09:45:41.725363Z",
     "iopub.status.idle": "2022-01-26T09:45:41.725529Z",
     "shell.execute_reply": "2022-01-26T09:45:41.725448Z",
     "shell.execute_reply.started": "2022-01-26T09:45:41.725439Z"
    },
    "tags": []
   },
   "outputs": [],
   "source": [
    "resTestDict = dict()"
   ]
  },
  {
   "cell_type": "code",
   "execution_count": null,
   "metadata": {
    "execution": {
     "iopub.status.busy": "2022-01-26T09:45:41.726007Z",
     "iopub.status.idle": "2022-01-26T09:45:41.726174Z",
     "shell.execute_reply": "2022-01-26T09:45:41.726094Z",
     "shell.execute_reply.started": "2022-01-26T09:45:41.726085Z"
    },
    "tags": []
   },
   "outputs": [],
   "source": [
    "resTestDict['cl 0'] = [x[1] for x in resTest0]\n",
    "resTestDict['cl 1'] = [x[1] for x in resTest1]\n",
    "resTestDict['cl 2'] = [x[1] for x in resTest2]\n",
    "resTestDict['cl 3'] = [x[1] for x in resTest3]"
   ]
  },
  {
   "cell_type": "code",
   "execution_count": null,
   "metadata": {
    "execution": {
     "iopub.status.busy": "2022-01-26T09:45:41.726638Z",
     "iopub.status.idle": "2022-01-26T09:45:41.726810Z",
     "shell.execute_reply": "2022-01-26T09:45:41.726729Z",
     "shell.execute_reply.started": "2022-01-26T09:45:41.726720Z"
    },
    "tags": []
   },
   "outputs": [],
   "source": [
    "resTestDf = pd.DataFrame(resTestDict)"
   ]
  },
  {
   "cell_type": "code",
   "execution_count": null,
   "metadata": {
    "execution": {
     "iopub.status.busy": "2022-01-26T09:45:41.727289Z",
     "iopub.status.idle": "2022-01-26T09:45:41.727454Z",
     "shell.execute_reply": "2022-01-26T09:45:41.727373Z",
     "shell.execute_reply.started": "2022-01-26T09:45:41.727364Z"
    },
    "tags": []
   },
   "outputs": [],
   "source": [
    "resTestDf"
   ]
  },
  {
   "cell_type": "code",
   "execution_count": null,
   "metadata": {
    "execution": {
     "iopub.status.busy": "2022-01-26T09:45:41.727944Z",
     "iopub.status.idle": "2022-01-26T09:45:41.728111Z",
     "shell.execute_reply": "2022-01-26T09:45:41.728030Z",
     "shell.execute_reply.started": "2022-01-26T09:45:41.728021Z"
    },
    "tags": []
   },
   "outputs": [],
   "source": [
    "resTestDf['final label'] = resTestDf.idxmax(axis=1)"
   ]
  },
  {
   "cell_type": "code",
   "execution_count": null,
   "metadata": {
    "execution": {
     "iopub.status.busy": "2022-01-26T09:45:41.728793Z",
     "iopub.status.idle": "2022-01-26T09:45:41.728965Z",
     "shell.execute_reply": "2022-01-26T09:45:41.728879Z",
     "shell.execute_reply.started": "2022-01-26T09:45:41.728870Z"
    },
    "tags": []
   },
   "outputs": [],
   "source": [
    "resTestDf['final label'].value_counts()"
   ]
  },
  {
   "cell_type": "code",
   "execution_count": null,
   "metadata": {
    "execution": {
     "iopub.status.busy": "2022-01-26T09:45:41.729381Z",
     "iopub.status.idle": "2022-01-26T09:45:41.729551Z",
     "shell.execute_reply": "2022-01-26T09:45:41.729466Z",
     "shell.execute_reply.started": "2022-01-26T09:45:41.729457Z"
    },
    "tags": []
   },
   "outputs": [],
   "source": [
    "resTestDf['max proba'] = resTestDf.max(axis=1)"
   ]
  },
  {
   "cell_type": "code",
   "execution_count": null,
   "metadata": {
    "execution": {
     "iopub.status.busy": "2022-01-26T09:45:41.729961Z",
     "iopub.status.idle": "2022-01-26T09:45:41.730125Z",
     "shell.execute_reply": "2022-01-26T09:45:41.730046Z",
     "shell.execute_reply.started": "2022-01-26T09:45:41.730037Z"
    },
    "tags": []
   },
   "outputs": [],
   "source": [
    "resTestDf"
   ]
  },
  {
   "cell_type": "code",
   "execution_count": null,
   "metadata": {
    "execution": {
     "iopub.status.busy": "2022-01-26T09:45:41.730660Z",
     "iopub.status.idle": "2022-01-26T09:45:41.730832Z",
     "shell.execute_reply": "2022-01-26T09:45:41.730751Z",
     "shell.execute_reply.started": "2022-01-26T09:45:41.730742Z"
    },
    "tags": []
   },
   "outputs": [],
   "source": [
    "resTestDf['final label'].value_counts()"
   ]
  },
  {
   "cell_type": "code",
   "execution_count": null,
   "metadata": {
    "execution": {
     "iopub.status.busy": "2022-01-26T09:45:41.731311Z",
     "iopub.status.idle": "2022-01-26T09:45:41.731480Z",
     "shell.execute_reply": "2022-01-26T09:45:41.731400Z",
     "shell.execute_reply.started": "2022-01-26T09:45:41.731390Z"
    },
    "tags": []
   },
   "outputs": [],
   "source": [
    "\n",
    "\n",
    "ecdf_summary = sns.ecdfplot(x='max proba', data=resTestDf, complementary=False) \n",
    "plt.gca().yaxis.set_major_formatter(PercentFormatter(1))\n",
    "plt.xlabel(\"max probability\")\n",
    "plt.title(\"CDF prediction probability\")"
   ]
  },
  {
   "cell_type": "markdown",
   "metadata": {},
   "source": [
    "## Watermark"
   ]
  },
  {
   "cell_type": "code",
   "execution_count": null,
   "metadata": {
    "execution": {
     "iopub.status.busy": "2022-01-26T09:45:41.731865Z",
     "iopub.status.idle": "2022-01-26T09:45:41.732032Z",
     "shell.execute_reply": "2022-01-26T09:45:41.731951Z",
     "shell.execute_reply.started": "2022-01-26T09:45:41.731942Z"
    },
    "tags": []
   },
   "outputs": [],
   "source": [
    "%load_ext watermark\n",
    "%watermark\n",
    "%watermark --iversions"
   ]
  }
 ],
 "metadata": {
  "kernelspec": {
   "display_name": "neuralnets_krnl-2.0",
   "language": "python",
   "name": "neuralnets_krnl-2.0"
  },
  "language_info": {
   "codemirror_mode": {
    "name": "ipython",
    "version": 3
   },
   "file_extension": ".py",
   "mimetype": "text/x-python",
   "name": "python",
   "nbconvert_exporter": "python",
   "pygments_lexer": "ipython3",
   "version": "3.9.7"
  }
 },
 "nbformat": 4,
 "nbformat_minor": 4
}
