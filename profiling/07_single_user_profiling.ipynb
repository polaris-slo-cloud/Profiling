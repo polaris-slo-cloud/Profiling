{
 "cells": [
  {
   "cell_type": "markdown",
   "id": "32526007-579c-43af-8c25-fd073b50a852",
   "metadata": {},
   "source": [
    "# Single user profiling"
   ]
  },
  {
   "cell_type": "markdown",
   "id": "ceee8979-8c26-4ce6-940c-d9ddd2b4d66f",
   "metadata": {},
   "source": [
    "In this notebook, we analyze the process chosen for profiling, with a single user. This study goes in the direction of exploring the potential of the proposed approach in extracting profiles in a hierarchical way."
   ]
  },
  {
   "cell_type": "markdown",
   "id": "5fa778ce-5b7a-4a7c-9e3d-f02f5fc05642",
   "metadata": {},
   "source": [
    "## Imports"
   ]
  },
  {
   "cell_type": "code",
   "execution_count": 1,
   "id": "bf0b1064-2d5f-404b-a6b8-4992ed9fba08",
   "metadata": {
    "execution": {
     "iopub.execute_input": "2022-01-26T09:32:11.378957Z",
     "iopub.status.busy": "2022-01-26T09:32:11.378509Z",
     "iopub.status.idle": "2022-01-26T09:32:12.307334Z",
     "shell.execute_reply": "2022-01-26T09:32:12.306790Z",
     "shell.execute_reply.started": "2022-01-26T09:32:11.378830Z"
    },
    "tags": []
   },
   "outputs": [],
   "source": [
    "import pandas as pd\n",
    "\n",
    "import numpy as np\n",
    "import random\n",
    "\n",
    "import os\n",
    "from collections import Counter\n",
    "import pickle\n",
    "\n",
    "import matplotlib.pyplot as plt\n",
    "import matplotlib.cm as cm\n",
    "import numpy as np\n",
    "\n",
    "import seaborn as sns\n",
    "\n",
    "from sklearn.cluster import KMeans\n",
    "\n",
    "from sklearn.decomposition import PCA\n",
    "from sklearn.preprocessing import StandardScaler\n",
    "from sklearn.preprocessing import MinMaxScaler\n",
    "from sklearn.pipeline import make_pipeline\n",
    "from sklearn import metrics\n",
    "from sklearn.metrics import silhouette_samples, silhouette_score\n",
    "from sklearn.ensemble import RandomForestClassifier\n",
    "from sklearn.model_selection import KFold\n",
    "from sklearn.model_selection import cross_val_score\n",
    "from sklearn.model_selection import cross_validate\n",
    "from sklearn.compose import ColumnTransformer\n",
    "from sklearn.preprocessing import OneHotEncoder\n",
    "\n",
    "import xgboost as xgb\n",
    "\n",
    "from time import time\n",
    "\n",
    "from gcd_dask_mgmt import extract_delayed_dask_dataframe\n",
    "\n",
    "from clustering_functions import extract_kmeans_stats\n",
    "\n",
    "from plot_functions import plot_silhouette_results\n",
    "from plot_functions import plot_feature_scatter"
   ]
  },
  {
   "cell_type": "markdown",
   "id": "b5ed9c3b-5ecd-4f64-b44d-2977baae9626",
   "metadata": {},
   "source": [
    "## Load data"
   ]
  },
  {
   "cell_type": "code",
   "execution_count": 2,
   "id": "abdec56a-a137-4344-92c6-e7e2981c0916",
   "metadata": {
    "execution": {
     "iopub.execute_input": "2022-01-26T09:32:12.308281Z",
     "iopub.status.busy": "2022-01-26T09:32:12.308152Z",
     "iopub.status.idle": "2022-01-26T09:32:12.380272Z",
     "shell.execute_reply": "2022-01-26T09:32:12.379124Z",
     "shell.execute_reply.started": "2022-01-26T09:32:12.308265Z"
    }
   },
   "outputs": [],
   "source": [
    "readings_task_usage_df = pd.read_csv(\"data/sample_jobs_summary_10perc.csv\", header=[0,1], index_col=[0])"
   ]
  },
  {
   "cell_type": "code",
   "execution_count": 3,
   "id": "41461e26-2cf3-4da2-adc6-f84be77eb0b6",
   "metadata": {
    "execution": {
     "iopub.execute_input": "2022-01-26T09:32:12.382541Z",
     "iopub.status.busy": "2022-01-26T09:32:12.382307Z",
     "iopub.status.idle": "2022-01-26T09:32:12.491636Z",
     "shell.execute_reply": "2022-01-26T09:32:12.490511Z",
     "shell.execute_reply.started": "2022-01-26T09:32:12.382513Z"
    }
   },
   "outputs": [],
   "source": [
    "static_metrics = pd.read_csv('data/static_metrics_and_kmeans.csv')"
   ]
  },
  {
   "cell_type": "code",
   "execution_count": 4,
   "id": "105c140b-cfb6-4686-a503-24e58a930045",
   "metadata": {
    "execution": {
     "iopub.execute_input": "2022-01-26T09:32:12.492925Z",
     "iopub.status.busy": "2022-01-26T09:32:12.492712Z",
     "iopub.status.idle": "2022-01-26T09:32:12.516211Z",
     "shell.execute_reply": "2022-01-26T09:32:12.515719Z",
     "shell.execute_reply.started": "2022-01-26T09:32:12.492898Z"
    },
    "tags": []
   },
   "outputs": [],
   "source": [
    "users_analysis = static_metrics.groupby([\"user\"])[\"logical job name\"].nunique()"
   ]
  },
  {
   "cell_type": "code",
   "execution_count": 5,
   "id": "f52ff39c-862f-46bb-b9b1-89fb1b4518c0",
   "metadata": {
    "execution": {
     "iopub.execute_input": "2022-01-26T09:32:12.516915Z",
     "iopub.status.busy": "2022-01-26T09:32:12.516797Z",
     "iopub.status.idle": "2022-01-26T09:32:12.524753Z",
     "shell.execute_reply": "2022-01-26T09:32:12.524137Z",
     "shell.execute_reply.started": "2022-01-26T09:32:12.516901Z"
    },
    "tags": []
   },
   "outputs": [
    {
     "data": {
      "text/plain": [
       "user\n",
       "Nugr6rX+U6WELDvGY6ars76339mw/Uc2fgD1/rZ6fkA=    97\n",
       "Op11yM+i4aMyxMb8N6hFedpCfOPvx2DrE+hMR89KQhM=    95\n",
       "JbqRxZYX7GvL8n1DA2FRayE2ZzbB9bFinfQtV/GwKDM=    92\n",
       "vXgLfCPJ4LrZfulMjeDWkrZt6QtgdPccp2zduVjmyYQ=    87\n",
       "XXdY557FQk791swgplLkVfyX7Vr1lIHuSKR+pnbZWR8=    86\n",
       "AeI72OXfCjMJ4HAzwOV8am5Nt8EySEb8mNMsXdrC/GM=    79\n",
       "r/Al6kYJOwZITr6wi4pAlEwyGv5TM2EkJ8woA5hszeA=    75\n",
       "f7F3iYlP9QqyuUyW8v/H8sCjOf6XEy+lP3bzejIRLK0=    75\n",
       "tbZPogOJtA44Ygqw4BwvPZtCKXXYfYruoPdw46vu4hs=    72\n",
       "z53fq865Ppz6aKpoOhT+MxI8GoIW6WMVzWwaseVvYW0=    66\n",
       "Name: logical job name, dtype: int64"
      ]
     },
     "execution_count": 5,
     "metadata": {},
     "output_type": "execute_result"
    }
   ],
   "source": [
    "users_analysis[(users_analysis > 10) & (users_analysis < 100)].sort_values(ascending=False).head(10)"
   ]
  },
  {
   "cell_type": "code",
   "execution_count": 6,
   "id": "3d8aebec-81eb-42f4-b4e5-e2e5b4501e7e",
   "metadata": {
    "execution": {
     "iopub.execute_input": "2022-01-26T09:32:12.525641Z",
     "iopub.status.busy": "2022-01-26T09:32:12.525531Z",
     "iopub.status.idle": "2022-01-26T09:32:12.528583Z",
     "shell.execute_reply": "2022-01-26T09:32:12.528125Z",
     "shell.execute_reply.started": "2022-01-26T09:32:12.525628Z"
    },
    "tags": []
   },
   "outputs": [],
   "source": [
    "SELECTED_USER = \"Nugr6rX+U6WELDvGY6ars76339mw/Uc2fgD1/rZ6fkA=\""
   ]
  },
  {
   "cell_type": "code",
   "execution_count": 7,
   "id": "b978b53f-124e-4fe6-8d63-45a6dce864ab",
   "metadata": {
    "execution": {
     "iopub.execute_input": "2022-01-26T09:32:12.529347Z",
     "iopub.status.busy": "2022-01-26T09:32:12.529237Z",
     "iopub.status.idle": "2022-01-26T09:32:12.533508Z",
     "shell.execute_reply": "2022-01-26T09:32:12.532952Z",
     "shell.execute_reply.started": "2022-01-26T09:32:12.529334Z"
    }
   },
   "outputs": [
    {
     "data": {
      "text/plain": [
       "'Nugr6rX+U6WELDvGY6ars76339mw/Uc2fgD1/rZ6fkA='"
      ]
     },
     "execution_count": 7,
     "metadata": {},
     "output_type": "execute_result"
    }
   ],
   "source": [
    "SELECTED_USER"
   ]
  },
  {
   "cell_type": "code",
   "execution_count": 8,
   "id": "fdc3d88e-c995-4e91-bb5f-eb1714a53f8c",
   "metadata": {
    "execution": {
     "iopub.execute_input": "2022-01-26T09:32:12.534204Z",
     "iopub.status.busy": "2022-01-26T09:32:12.534098Z",
     "iopub.status.idle": "2022-01-26T09:32:12.566714Z",
     "shell.execute_reply": "2022-01-26T09:32:12.566224Z",
     "shell.execute_reply.started": "2022-01-26T09:32:12.534191Z"
    },
    "tags": []
   },
   "outputs": [
    {
     "data": {
      "text/html": [
       "<div>\n",
       "<style scoped>\n",
       "    .dataframe tbody tr th:only-of-type {\n",
       "        vertical-align: middle;\n",
       "    }\n",
       "\n",
       "    .dataframe tbody tr th {\n",
       "        vertical-align: top;\n",
       "    }\n",
       "\n",
       "    .dataframe thead th {\n",
       "        text-align: right;\n",
       "    }\n",
       "</style>\n",
       "<table border=\"1\" class=\"dataframe\">\n",
       "  <thead>\n",
       "    <tr style=\"text-align: right;\">\n",
       "      <th></th>\n",
       "      <th>job ID</th>\n",
       "      <th>priority</th>\n",
       "      <th>different machines restriction</th>\n",
       "      <th>disk space request - Q1</th>\n",
       "      <th>disk space request - Q2</th>\n",
       "      <th>disk space request - Q3</th>\n",
       "      <th>disk space request - Q4</th>\n",
       "      <th>disk space request - Quartiles</th>\n",
       "      <th>memory request - Q1</th>\n",
       "      <th>memory request - Q2</th>\n",
       "      <th>...</th>\n",
       "      <th>CPU request - Quartiles</th>\n",
       "      <th>priority labels</th>\n",
       "      <th>user</th>\n",
       "      <th>logical job name</th>\n",
       "      <th>scheduling class</th>\n",
       "      <th>K-Means = 2</th>\n",
       "      <th>K-Means = 4</th>\n",
       "      <th>K-Means = 6</th>\n",
       "      <th>K-Means = 8</th>\n",
       "      <th>K-Means = 10</th>\n",
       "    </tr>\n",
       "  </thead>\n",
       "  <tbody>\n",
       "    <tr>\n",
       "      <th>0</th>\n",
       "      <td>3418356</td>\n",
       "      <td>9</td>\n",
       "      <td>0</td>\n",
       "      <td>0</td>\n",
       "      <td>0</td>\n",
       "      <td>0</td>\n",
       "      <td>1</td>\n",
       "      <td>Q4</td>\n",
       "      <td>0</td>\n",
       "      <td>0</td>\n",
       "      <td>...</td>\n",
       "      <td>Q4</td>\n",
       "      <td>Production [9]</td>\n",
       "      <td>70s3v5qRyCO/1PCdI6fVXnrW8FU/w+5CKRSa72xgcIo=</td>\n",
       "      <td>fGRnr2XEPDr3kQsPccU/k1LELeeQonkj6hDpTP7ALkg=</td>\n",
       "      <td>3</td>\n",
       "      <td>0</td>\n",
       "      <td>1</td>\n",
       "      <td>1</td>\n",
       "      <td>1</td>\n",
       "      <td>1</td>\n",
       "    </tr>\n",
       "    <tr>\n",
       "      <th>1</th>\n",
       "      <td>3418405</td>\n",
       "      <td>9</td>\n",
       "      <td>0</td>\n",
       "      <td>0</td>\n",
       "      <td>0</td>\n",
       "      <td>0</td>\n",
       "      <td>1</td>\n",
       "      <td>Q4</td>\n",
       "      <td>0</td>\n",
       "      <td>0</td>\n",
       "      <td>...</td>\n",
       "      <td>Q4</td>\n",
       "      <td>Production [9]</td>\n",
       "      <td>70s3v5qRyCO/1PCdI6fVXnrW8FU/w+5CKRSa72xgcIo=</td>\n",
       "      <td>q6nwarTUw/Xct0ONQEdblvVhW8uWTquTp8C5la5YfRE=</td>\n",
       "      <td>3</td>\n",
       "      <td>0</td>\n",
       "      <td>1</td>\n",
       "      <td>1</td>\n",
       "      <td>1</td>\n",
       "      <td>1</td>\n",
       "    </tr>\n",
       "    <tr>\n",
       "      <th>2</th>\n",
       "      <td>6724949</td>\n",
       "      <td>9</td>\n",
       "      <td>0</td>\n",
       "      <td>0</td>\n",
       "      <td>0</td>\n",
       "      <td>0</td>\n",
       "      <td>1</td>\n",
       "      <td>Q4</td>\n",
       "      <td>0</td>\n",
       "      <td>0</td>\n",
       "      <td>...</td>\n",
       "      <td>Q4</td>\n",
       "      <td>Production [9]</td>\n",
       "      <td>70s3v5qRyCO/1PCdI6fVXnrW8FU/w+5CKRSa72xgcIo=</td>\n",
       "      <td>4my5Elvc5RumesxoVeuFovkoS28KYA9C3pIBi2bY5Io=</td>\n",
       "      <td>3</td>\n",
       "      <td>0</td>\n",
       "      <td>1</td>\n",
       "      <td>1</td>\n",
       "      <td>1</td>\n",
       "      <td>1</td>\n",
       "    </tr>\n",
       "    <tr>\n",
       "      <th>3</th>\n",
       "      <td>28185708</td>\n",
       "      <td>1</td>\n",
       "      <td>0</td>\n",
       "      <td>1</td>\n",
       "      <td>0</td>\n",
       "      <td>0</td>\n",
       "      <td>0</td>\n",
       "      <td>Q1</td>\n",
       "      <td>0</td>\n",
       "      <td>1</td>\n",
       "      <td>...</td>\n",
       "      <td>Q3</td>\n",
       "      <td>Free [0,1]</td>\n",
       "      <td>WVtO5qw3sNnP4MeiRUnqr07CekrYMU12Mc7GbsgnjhQ=</td>\n",
       "      <td>JGBCBdeRFciFaU6LrbO9Y5w1lBoZ1MyX5Pnx4m05HK8=</td>\n",
       "      <td>2</td>\n",
       "      <td>0</td>\n",
       "      <td>1</td>\n",
       "      <td>1</td>\n",
       "      <td>1</td>\n",
       "      <td>1</td>\n",
       "    </tr>\n",
       "    <tr>\n",
       "      <th>4</th>\n",
       "      <td>124371644</td>\n",
       "      <td>9</td>\n",
       "      <td>0</td>\n",
       "      <td>0</td>\n",
       "      <td>0</td>\n",
       "      <td>0</td>\n",
       "      <td>1</td>\n",
       "      <td>Q4</td>\n",
       "      <td>0</td>\n",
       "      <td>0</td>\n",
       "      <td>...</td>\n",
       "      <td>Q3</td>\n",
       "      <td>Production [9]</td>\n",
       "      <td>70s3v5qRyCO/1PCdI6fVXnrW8FU/w+5CKRSa72xgcIo=</td>\n",
       "      <td>HcYZ4RNZRxmh/W+WuzNBOVk4sOCdDshVEB/McWxfyyk=</td>\n",
       "      <td>3</td>\n",
       "      <td>0</td>\n",
       "      <td>1</td>\n",
       "      <td>1</td>\n",
       "      <td>1</td>\n",
       "      <td>1</td>\n",
       "    </tr>\n",
       "    <tr>\n",
       "      <th>...</th>\n",
       "      <td>...</td>\n",
       "      <td>...</td>\n",
       "      <td>...</td>\n",
       "      <td>...</td>\n",
       "      <td>...</td>\n",
       "      <td>...</td>\n",
       "      <td>...</td>\n",
       "      <td>...</td>\n",
       "      <td>...</td>\n",
       "      <td>...</td>\n",
       "      <td>...</td>\n",
       "      <td>...</td>\n",
       "      <td>...</td>\n",
       "      <td>...</td>\n",
       "      <td>...</td>\n",
       "      <td>...</td>\n",
       "      <td>...</td>\n",
       "      <td>...</td>\n",
       "      <td>...</td>\n",
       "      <td>...</td>\n",
       "      <td>...</td>\n",
       "    </tr>\n",
       "    <tr>\n",
       "      <th>64928</th>\n",
       "      <td>6486612269</td>\n",
       "      <td>1</td>\n",
       "      <td>0</td>\n",
       "      <td>0</td>\n",
       "      <td>1</td>\n",
       "      <td>0</td>\n",
       "      <td>0</td>\n",
       "      <td>Q2</td>\n",
       "      <td>0</td>\n",
       "      <td>0</td>\n",
       "      <td>...</td>\n",
       "      <td>Q3</td>\n",
       "      <td>Free [0,1]</td>\n",
       "      <td>E+9U+J1Dicd5PJklbq2e5THQ29X6D8jmqQ0Zu53Kc+o=</td>\n",
       "      <td>QZm5VyyEiL9TpVhasvtcMxPxENJqlNX4Fn2LdEe+Ff0=</td>\n",
       "      <td>1</td>\n",
       "      <td>1</td>\n",
       "      <td>0</td>\n",
       "      <td>0</td>\n",
       "      <td>0</td>\n",
       "      <td>0</td>\n",
       "    </tr>\n",
       "    <tr>\n",
       "      <th>64929</th>\n",
       "      <td>6486612710</td>\n",
       "      <td>4</td>\n",
       "      <td>0</td>\n",
       "      <td>0</td>\n",
       "      <td>0</td>\n",
       "      <td>0</td>\n",
       "      <td>1</td>\n",
       "      <td>Q4</td>\n",
       "      <td>0</td>\n",
       "      <td>0</td>\n",
       "      <td>...</td>\n",
       "      <td>Q2</td>\n",
       "      <td>Other [2,8]</td>\n",
       "      <td>HxdST/yDI1TlIkr0Povf9KaXGGG8x4iVXX6o/iSIghM=</td>\n",
       "      <td>YI5372ouHbbTv6b594D2bDWC283uv6QcuE41Mst3BFk=</td>\n",
       "      <td>0</td>\n",
       "      <td>1</td>\n",
       "      <td>3</td>\n",
       "      <td>5</td>\n",
       "      <td>5</td>\n",
       "      <td>4</td>\n",
       "    </tr>\n",
       "    <tr>\n",
       "      <th>64930</th>\n",
       "      <td>6486630408</td>\n",
       "      <td>4</td>\n",
       "      <td>0</td>\n",
       "      <td>0</td>\n",
       "      <td>1</td>\n",
       "      <td>0</td>\n",
       "      <td>0</td>\n",
       "      <td>Q2</td>\n",
       "      <td>1</td>\n",
       "      <td>0</td>\n",
       "      <td>...</td>\n",
       "      <td>Q3</td>\n",
       "      <td>Other [2,8]</td>\n",
       "      <td>fJeARInTaIjFrdXGqxap6x2T3TpJB84y9zvFsoGGhjk=</td>\n",
       "      <td>ZoHIMIMjYenKtCPq0iy70XUxyF0JDf1HuW6yUzS4dBM=</td>\n",
       "      <td>0</td>\n",
       "      <td>1</td>\n",
       "      <td>0</td>\n",
       "      <td>0</td>\n",
       "      <td>0</td>\n",
       "      <td>0</td>\n",
       "    </tr>\n",
       "    <tr>\n",
       "      <th>64931</th>\n",
       "      <td>6486631154</td>\n",
       "      <td>8</td>\n",
       "      <td>0</td>\n",
       "      <td>0</td>\n",
       "      <td>1</td>\n",
       "      <td>0</td>\n",
       "      <td>0</td>\n",
       "      <td>Q2</td>\n",
       "      <td>0</td>\n",
       "      <td>1</td>\n",
       "      <td>...</td>\n",
       "      <td>Q2</td>\n",
       "      <td>Other [2,8]</td>\n",
       "      <td>fJeARInTaIjFrdXGqxap6x2T3TpJB84y9zvFsoGGhjk=</td>\n",
       "      <td>cLRsAgA+ajg6giausco6dsV5PxWsqEJZDLdHWhd6v0E=</td>\n",
       "      <td>2</td>\n",
       "      <td>1</td>\n",
       "      <td>0</td>\n",
       "      <td>0</td>\n",
       "      <td>0</td>\n",
       "      <td>0</td>\n",
       "    </tr>\n",
       "    <tr>\n",
       "      <th>64932</th>\n",
       "      <td>6486631394</td>\n",
       "      <td>0</td>\n",
       "      <td>0</td>\n",
       "      <td>0</td>\n",
       "      <td>1</td>\n",
       "      <td>0</td>\n",
       "      <td>0</td>\n",
       "      <td>Q2</td>\n",
       "      <td>0</td>\n",
       "      <td>1</td>\n",
       "      <td>...</td>\n",
       "      <td>Q1</td>\n",
       "      <td>Free [0,1]</td>\n",
       "      <td>fJeARInTaIjFrdXGqxap6x2T3TpJB84y9zvFsoGGhjk=</td>\n",
       "      <td>qScCQcMQhU296kH9oZSt8WJOwmgoO8LjakbqsWAyX1c=</td>\n",
       "      <td>2</td>\n",
       "      <td>1</td>\n",
       "      <td>0</td>\n",
       "      <td>0</td>\n",
       "      <td>0</td>\n",
       "      <td>0</td>\n",
       "    </tr>\n",
       "  </tbody>\n",
       "</table>\n",
       "<p>64933 rows × 27 columns</p>\n",
       "</div>"
      ],
      "text/plain": [
       "           job ID  priority  different machines restriction  \\\n",
       "0         3418356         9                               0   \n",
       "1         3418405         9                               0   \n",
       "2         6724949         9                               0   \n",
       "3        28185708         1                               0   \n",
       "4       124371644         9                               0   \n",
       "...           ...       ...                             ...   \n",
       "64928  6486612269         1                               0   \n",
       "64929  6486612710         4                               0   \n",
       "64930  6486630408         4                               0   \n",
       "64931  6486631154         8                               0   \n",
       "64932  6486631394         0                               0   \n",
       "\n",
       "       disk space request - Q1  disk space request - Q2  \\\n",
       "0                            0                        0   \n",
       "1                            0                        0   \n",
       "2                            0                        0   \n",
       "3                            1                        0   \n",
       "4                            0                        0   \n",
       "...                        ...                      ...   \n",
       "64928                        0                        1   \n",
       "64929                        0                        0   \n",
       "64930                        0                        1   \n",
       "64931                        0                        1   \n",
       "64932                        0                        1   \n",
       "\n",
       "       disk space request - Q3  disk space request - Q4  \\\n",
       "0                            0                        1   \n",
       "1                            0                        1   \n",
       "2                            0                        1   \n",
       "3                            0                        0   \n",
       "4                            0                        1   \n",
       "...                        ...                      ...   \n",
       "64928                        0                        0   \n",
       "64929                        0                        1   \n",
       "64930                        0                        0   \n",
       "64931                        0                        0   \n",
       "64932                        0                        0   \n",
       "\n",
       "      disk space request - Quartiles  memory request - Q1  \\\n",
       "0                                 Q4                    0   \n",
       "1                                 Q4                    0   \n",
       "2                                 Q4                    0   \n",
       "3                                 Q1                    0   \n",
       "4                                 Q4                    0   \n",
       "...                              ...                  ...   \n",
       "64928                             Q2                    0   \n",
       "64929                             Q4                    0   \n",
       "64930                             Q2                    1   \n",
       "64931                             Q2                    0   \n",
       "64932                             Q2                    0   \n",
       "\n",
       "       memory request - Q2  ...  CPU request - Quartiles  priority labels  \\\n",
       "0                        0  ...                       Q4   Production [9]   \n",
       "1                        0  ...                       Q4   Production [9]   \n",
       "2                        0  ...                       Q4   Production [9]   \n",
       "3                        1  ...                       Q3       Free [0,1]   \n",
       "4                        0  ...                       Q3   Production [9]   \n",
       "...                    ...  ...                      ...              ...   \n",
       "64928                    0  ...                       Q3       Free [0,1]   \n",
       "64929                    0  ...                       Q2      Other [2,8]   \n",
       "64930                    0  ...                       Q3      Other [2,8]   \n",
       "64931                    1  ...                       Q2      Other [2,8]   \n",
       "64932                    1  ...                       Q1       Free [0,1]   \n",
       "\n",
       "                                               user  \\\n",
       "0      70s3v5qRyCO/1PCdI6fVXnrW8FU/w+5CKRSa72xgcIo=   \n",
       "1      70s3v5qRyCO/1PCdI6fVXnrW8FU/w+5CKRSa72xgcIo=   \n",
       "2      70s3v5qRyCO/1PCdI6fVXnrW8FU/w+5CKRSa72xgcIo=   \n",
       "3      WVtO5qw3sNnP4MeiRUnqr07CekrYMU12Mc7GbsgnjhQ=   \n",
       "4      70s3v5qRyCO/1PCdI6fVXnrW8FU/w+5CKRSa72xgcIo=   \n",
       "...                                             ...   \n",
       "64928  E+9U+J1Dicd5PJklbq2e5THQ29X6D8jmqQ0Zu53Kc+o=   \n",
       "64929  HxdST/yDI1TlIkr0Povf9KaXGGG8x4iVXX6o/iSIghM=   \n",
       "64930  fJeARInTaIjFrdXGqxap6x2T3TpJB84y9zvFsoGGhjk=   \n",
       "64931  fJeARInTaIjFrdXGqxap6x2T3TpJB84y9zvFsoGGhjk=   \n",
       "64932  fJeARInTaIjFrdXGqxap6x2T3TpJB84y9zvFsoGGhjk=   \n",
       "\n",
       "                                   logical job name  scheduling class  \\\n",
       "0      fGRnr2XEPDr3kQsPccU/k1LELeeQonkj6hDpTP7ALkg=                 3   \n",
       "1      q6nwarTUw/Xct0ONQEdblvVhW8uWTquTp8C5la5YfRE=                 3   \n",
       "2      4my5Elvc5RumesxoVeuFovkoS28KYA9C3pIBi2bY5Io=                 3   \n",
       "3      JGBCBdeRFciFaU6LrbO9Y5w1lBoZ1MyX5Pnx4m05HK8=                 2   \n",
       "4      HcYZ4RNZRxmh/W+WuzNBOVk4sOCdDshVEB/McWxfyyk=                 3   \n",
       "...                                             ...               ...   \n",
       "64928  QZm5VyyEiL9TpVhasvtcMxPxENJqlNX4Fn2LdEe+Ff0=                 1   \n",
       "64929  YI5372ouHbbTv6b594D2bDWC283uv6QcuE41Mst3BFk=                 0   \n",
       "64930  ZoHIMIMjYenKtCPq0iy70XUxyF0JDf1HuW6yUzS4dBM=                 0   \n",
       "64931  cLRsAgA+ajg6giausco6dsV5PxWsqEJZDLdHWhd6v0E=                 2   \n",
       "64932  qScCQcMQhU296kH9oZSt8WJOwmgoO8LjakbqsWAyX1c=                 2   \n",
       "\n",
       "       K-Means = 2  K-Means = 4 K-Means = 6 K-Means = 8 K-Means = 10  \n",
       "0                0            1           1           1            1  \n",
       "1                0            1           1           1            1  \n",
       "2                0            1           1           1            1  \n",
       "3                0            1           1           1            1  \n",
       "4                0            1           1           1            1  \n",
       "...            ...          ...         ...         ...          ...  \n",
       "64928            1            0           0           0            0  \n",
       "64929            1            3           5           5            4  \n",
       "64930            1            0           0           0            0  \n",
       "64931            1            0           0           0            0  \n",
       "64932            1            0           0           0            0  \n",
       "\n",
       "[64933 rows x 27 columns]"
      ]
     },
     "execution_count": 8,
     "metadata": {},
     "output_type": "execute_result"
    }
   ],
   "source": [
    "static_metrics"
   ]
  },
  {
   "cell_type": "code",
   "execution_count": 9,
   "id": "aff24bd6-81f4-4cf5-9d73-12d27a678283",
   "metadata": {
    "execution": {
     "iopub.execute_input": "2022-01-26T09:32:12.567694Z",
     "iopub.status.busy": "2022-01-26T09:32:12.567574Z",
     "iopub.status.idle": "2022-01-26T09:32:12.575027Z",
     "shell.execute_reply": "2022-01-26T09:32:12.574535Z",
     "shell.execute_reply.started": "2022-01-26T09:32:12.567679Z"
    },
    "tags": []
   },
   "outputs": [],
   "source": [
    "user_metadata = static_metrics[static_metrics[\"user\"] == SELECTED_USER]"
   ]
  },
  {
   "cell_type": "code",
   "execution_count": 10,
   "id": "86f431ef-8a18-4be3-817d-cee991068ff4",
   "metadata": {
    "execution": {
     "iopub.execute_input": "2022-01-26T09:32:12.575646Z",
     "iopub.status.busy": "2022-01-26T09:32:12.575538Z",
     "iopub.status.idle": "2022-01-26T09:32:12.590686Z",
     "shell.execute_reply": "2022-01-26T09:32:12.590221Z",
     "shell.execute_reply.started": "2022-01-26T09:32:12.575632Z"
    },
    "tags": []
   },
   "outputs": [
    {
     "data": {
      "text/html": [
       "<div>\n",
       "<style scoped>\n",
       "    .dataframe tbody tr th:only-of-type {\n",
       "        vertical-align: middle;\n",
       "    }\n",
       "\n",
       "    .dataframe tbody tr th {\n",
       "        vertical-align: top;\n",
       "    }\n",
       "\n",
       "    .dataframe thead th {\n",
       "        text-align: right;\n",
       "    }\n",
       "</style>\n",
       "<table border=\"1\" class=\"dataframe\">\n",
       "  <thead>\n",
       "    <tr style=\"text-align: right;\">\n",
       "      <th></th>\n",
       "      <th>job ID</th>\n",
       "      <th>priority</th>\n",
       "      <th>different machines restriction</th>\n",
       "      <th>disk space request - Q1</th>\n",
       "      <th>disk space request - Q2</th>\n",
       "      <th>disk space request - Q3</th>\n",
       "      <th>disk space request - Q4</th>\n",
       "      <th>disk space request - Quartiles</th>\n",
       "      <th>memory request - Q1</th>\n",
       "      <th>memory request - Q2</th>\n",
       "      <th>...</th>\n",
       "      <th>CPU request - Quartiles</th>\n",
       "      <th>priority labels</th>\n",
       "      <th>user</th>\n",
       "      <th>logical job name</th>\n",
       "      <th>scheduling class</th>\n",
       "      <th>K-Means = 2</th>\n",
       "      <th>K-Means = 4</th>\n",
       "      <th>K-Means = 6</th>\n",
       "      <th>K-Means = 8</th>\n",
       "      <th>K-Means = 10</th>\n",
       "    </tr>\n",
       "  </thead>\n",
       "  <tbody>\n",
       "    <tr>\n",
       "      <th>321</th>\n",
       "      <td>6215446276</td>\n",
       "      <td>0</td>\n",
       "      <td>0</td>\n",
       "      <td>0</td>\n",
       "      <td>1</td>\n",
       "      <td>0</td>\n",
       "      <td>0</td>\n",
       "      <td>Q2</td>\n",
       "      <td>0</td>\n",
       "      <td>1</td>\n",
       "      <td>...</td>\n",
       "      <td>Q1</td>\n",
       "      <td>Free [0,1]</td>\n",
       "      <td>Nugr6rX+U6WELDvGY6ars76339mw/Uc2fgD1/rZ6fkA=</td>\n",
       "      <td>/xzn5vjqfaX7Jp9jfsGwCSECWwqC5hCUwgrjpLalXiM=</td>\n",
       "      <td>2</td>\n",
       "      <td>0</td>\n",
       "      <td>1</td>\n",
       "      <td>1</td>\n",
       "      <td>1</td>\n",
       "      <td>1</td>\n",
       "    </tr>\n",
       "    <tr>\n",
       "      <th>1015</th>\n",
       "      <td>6253345267</td>\n",
       "      <td>0</td>\n",
       "      <td>0</td>\n",
       "      <td>0</td>\n",
       "      <td>1</td>\n",
       "      <td>0</td>\n",
       "      <td>0</td>\n",
       "      <td>Q2</td>\n",
       "      <td>0</td>\n",
       "      <td>0</td>\n",
       "      <td>...</td>\n",
       "      <td>Q1</td>\n",
       "      <td>Free [0,1]</td>\n",
       "      <td>Nugr6rX+U6WELDvGY6ars76339mw/Uc2fgD1/rZ6fkA=</td>\n",
       "      <td>XyGBUGoaLiiOp7zVyDHjGehArmRo/fLOKXzPIdvB/A4=</td>\n",
       "      <td>2</td>\n",
       "      <td>1</td>\n",
       "      <td>0</td>\n",
       "      <td>0</td>\n",
       "      <td>3</td>\n",
       "      <td>3</td>\n",
       "    </tr>\n",
       "    <tr>\n",
       "      <th>1559</th>\n",
       "      <td>6255332185</td>\n",
       "      <td>0</td>\n",
       "      <td>0</td>\n",
       "      <td>1</td>\n",
       "      <td>0</td>\n",
       "      <td>0</td>\n",
       "      <td>0</td>\n",
       "      <td>Q1</td>\n",
       "      <td>0</td>\n",
       "      <td>1</td>\n",
       "      <td>...</td>\n",
       "      <td>Q2</td>\n",
       "      <td>Free [0,1]</td>\n",
       "      <td>Nugr6rX+U6WELDvGY6ars76339mw/Uc2fgD1/rZ6fkA=</td>\n",
       "      <td>s00djJoN1z08al7jw71EcGSFsIvIY4DKq8m3nOb9yyU=</td>\n",
       "      <td>0</td>\n",
       "      <td>1</td>\n",
       "      <td>0</td>\n",
       "      <td>0</td>\n",
       "      <td>0</td>\n",
       "      <td>0</td>\n",
       "    </tr>\n",
       "    <tr>\n",
       "      <th>1560</th>\n",
       "      <td>6255332896</td>\n",
       "      <td>0</td>\n",
       "      <td>0</td>\n",
       "      <td>0</td>\n",
       "      <td>1</td>\n",
       "      <td>0</td>\n",
       "      <td>0</td>\n",
       "      <td>Q2</td>\n",
       "      <td>0</td>\n",
       "      <td>1</td>\n",
       "      <td>...</td>\n",
       "      <td>Q1</td>\n",
       "      <td>Free [0,1]</td>\n",
       "      <td>Nugr6rX+U6WELDvGY6ars76339mw/Uc2fgD1/rZ6fkA=</td>\n",
       "      <td>/QJznBnrlEeh/yWbEg+oDn0qabGBitjQsjA81fBBW9g=</td>\n",
       "      <td>2</td>\n",
       "      <td>1</td>\n",
       "      <td>0</td>\n",
       "      <td>3</td>\n",
       "      <td>5</td>\n",
       "      <td>5</td>\n",
       "    </tr>\n",
       "    <tr>\n",
       "      <th>1922</th>\n",
       "      <td>6256521473</td>\n",
       "      <td>0</td>\n",
       "      <td>0</td>\n",
       "      <td>0</td>\n",
       "      <td>1</td>\n",
       "      <td>0</td>\n",
       "      <td>0</td>\n",
       "      <td>Q2</td>\n",
       "      <td>0</td>\n",
       "      <td>1</td>\n",
       "      <td>...</td>\n",
       "      <td>Q1</td>\n",
       "      <td>Free [0,1]</td>\n",
       "      <td>Nugr6rX+U6WELDvGY6ars76339mw/Uc2fgD1/rZ6fkA=</td>\n",
       "      <td>/QJznBnrlEeh/yWbEg+oDn0qabGBitjQsjA81fBBW9g=</td>\n",
       "      <td>2</td>\n",
       "      <td>1</td>\n",
       "      <td>0</td>\n",
       "      <td>3</td>\n",
       "      <td>5</td>\n",
       "      <td>5</td>\n",
       "    </tr>\n",
       "    <tr>\n",
       "      <th>...</th>\n",
       "      <td>...</td>\n",
       "      <td>...</td>\n",
       "      <td>...</td>\n",
       "      <td>...</td>\n",
       "      <td>...</td>\n",
       "      <td>...</td>\n",
       "      <td>...</td>\n",
       "      <td>...</td>\n",
       "      <td>...</td>\n",
       "      <td>...</td>\n",
       "      <td>...</td>\n",
       "      <td>...</td>\n",
       "      <td>...</td>\n",
       "      <td>...</td>\n",
       "      <td>...</td>\n",
       "      <td>...</td>\n",
       "      <td>...</td>\n",
       "      <td>...</td>\n",
       "      <td>...</td>\n",
       "      <td>...</td>\n",
       "      <td>...</td>\n",
       "    </tr>\n",
       "    <tr>\n",
       "      <th>64612</th>\n",
       "      <td>6484891869</td>\n",
       "      <td>1</td>\n",
       "      <td>0</td>\n",
       "      <td>0</td>\n",
       "      <td>1</td>\n",
       "      <td>0</td>\n",
       "      <td>0</td>\n",
       "      <td>Q2</td>\n",
       "      <td>0</td>\n",
       "      <td>1</td>\n",
       "      <td>...</td>\n",
       "      <td>Q4</td>\n",
       "      <td>Free [0,1]</td>\n",
       "      <td>Nugr6rX+U6WELDvGY6ars76339mw/Uc2fgD1/rZ6fkA=</td>\n",
       "      <td>H//4nsjSXqYRVoUKt3tpVx6lWsjcITZuqblmbv7XkOY=</td>\n",
       "      <td>2</td>\n",
       "      <td>1</td>\n",
       "      <td>0</td>\n",
       "      <td>3</td>\n",
       "      <td>5</td>\n",
       "      <td>5</td>\n",
       "    </tr>\n",
       "    <tr>\n",
       "      <th>64613</th>\n",
       "      <td>6484891892</td>\n",
       "      <td>1</td>\n",
       "      <td>0</td>\n",
       "      <td>0</td>\n",
       "      <td>1</td>\n",
       "      <td>0</td>\n",
       "      <td>0</td>\n",
       "      <td>Q2</td>\n",
       "      <td>0</td>\n",
       "      <td>1</td>\n",
       "      <td>...</td>\n",
       "      <td>Q3</td>\n",
       "      <td>Free [0,1]</td>\n",
       "      <td>Nugr6rX+U6WELDvGY6ars76339mw/Uc2fgD1/rZ6fkA=</td>\n",
       "      <td>rsy/Jo2Au/c5VHFUzPaq9rdfLsSIhHjv6RJHJL50FNk=</td>\n",
       "      <td>2</td>\n",
       "      <td>1</td>\n",
       "      <td>3</td>\n",
       "      <td>5</td>\n",
       "      <td>4</td>\n",
       "      <td>4</td>\n",
       "    </tr>\n",
       "    <tr>\n",
       "      <th>64648</th>\n",
       "      <td>6485149338</td>\n",
       "      <td>1</td>\n",
       "      <td>0</td>\n",
       "      <td>0</td>\n",
       "      <td>1</td>\n",
       "      <td>0</td>\n",
       "      <td>0</td>\n",
       "      <td>Q2</td>\n",
       "      <td>0</td>\n",
       "      <td>1</td>\n",
       "      <td>...</td>\n",
       "      <td>Q3</td>\n",
       "      <td>Free [0,1]</td>\n",
       "      <td>Nugr6rX+U6WELDvGY6ars76339mw/Uc2fgD1/rZ6fkA=</td>\n",
       "      <td>yVIRahrv8Z2KjOxCDQb3Y6flkxNj/h+w2fRbjVEk2BE=</td>\n",
       "      <td>2</td>\n",
       "      <td>1</td>\n",
       "      <td>0</td>\n",
       "      <td>0</td>\n",
       "      <td>0</td>\n",
       "      <td>0</td>\n",
       "    </tr>\n",
       "    <tr>\n",
       "      <th>64685</th>\n",
       "      <td>6485303379</td>\n",
       "      <td>1</td>\n",
       "      <td>0</td>\n",
       "      <td>0</td>\n",
       "      <td>1</td>\n",
       "      <td>0</td>\n",
       "      <td>0</td>\n",
       "      <td>Q2</td>\n",
       "      <td>0</td>\n",
       "      <td>1</td>\n",
       "      <td>...</td>\n",
       "      <td>Q3</td>\n",
       "      <td>Free [0,1]</td>\n",
       "      <td>Nugr6rX+U6WELDvGY6ars76339mw/Uc2fgD1/rZ6fkA=</td>\n",
       "      <td>WymlM+Yf9wi/If99/A+HU4QwS84W0P268hGHbSAP3mY=</td>\n",
       "      <td>2</td>\n",
       "      <td>1</td>\n",
       "      <td>0</td>\n",
       "      <td>0</td>\n",
       "      <td>0</td>\n",
       "      <td>0</td>\n",
       "    </tr>\n",
       "    <tr>\n",
       "      <th>64852</th>\n",
       "      <td>6486214208</td>\n",
       "      <td>0</td>\n",
       "      <td>0</td>\n",
       "      <td>1</td>\n",
       "      <td>0</td>\n",
       "      <td>0</td>\n",
       "      <td>0</td>\n",
       "      <td>Q1</td>\n",
       "      <td>0</td>\n",
       "      <td>1</td>\n",
       "      <td>...</td>\n",
       "      <td>Q2</td>\n",
       "      <td>Free [0,1]</td>\n",
       "      <td>Nugr6rX+U6WELDvGY6ars76339mw/Uc2fgD1/rZ6fkA=</td>\n",
       "      <td>rLqKj8VkySFX2JDNb/zg6Ok/QuLfdZqvyH89kGgA2W4=</td>\n",
       "      <td>2</td>\n",
       "      <td>1</td>\n",
       "      <td>0</td>\n",
       "      <td>0</td>\n",
       "      <td>0</td>\n",
       "      <td>0</td>\n",
       "    </tr>\n",
       "  </tbody>\n",
       "</table>\n",
       "<p>190 rows × 27 columns</p>\n",
       "</div>"
      ],
      "text/plain": [
       "           job ID  priority  different machines restriction  \\\n",
       "321    6215446276         0                               0   \n",
       "1015   6253345267         0                               0   \n",
       "1559   6255332185         0                               0   \n",
       "1560   6255332896         0                               0   \n",
       "1922   6256521473         0                               0   \n",
       "...           ...       ...                             ...   \n",
       "64612  6484891869         1                               0   \n",
       "64613  6484891892         1                               0   \n",
       "64648  6485149338         1                               0   \n",
       "64685  6485303379         1                               0   \n",
       "64852  6486214208         0                               0   \n",
       "\n",
       "       disk space request - Q1  disk space request - Q2  \\\n",
       "321                          0                        1   \n",
       "1015                         0                        1   \n",
       "1559                         1                        0   \n",
       "1560                         0                        1   \n",
       "1922                         0                        1   \n",
       "...                        ...                      ...   \n",
       "64612                        0                        1   \n",
       "64613                        0                        1   \n",
       "64648                        0                        1   \n",
       "64685                        0                        1   \n",
       "64852                        1                        0   \n",
       "\n",
       "       disk space request - Q3  disk space request - Q4  \\\n",
       "321                          0                        0   \n",
       "1015                         0                        0   \n",
       "1559                         0                        0   \n",
       "1560                         0                        0   \n",
       "1922                         0                        0   \n",
       "...                        ...                      ...   \n",
       "64612                        0                        0   \n",
       "64613                        0                        0   \n",
       "64648                        0                        0   \n",
       "64685                        0                        0   \n",
       "64852                        0                        0   \n",
       "\n",
       "      disk space request - Quartiles  memory request - Q1  \\\n",
       "321                               Q2                    0   \n",
       "1015                              Q2                    0   \n",
       "1559                              Q1                    0   \n",
       "1560                              Q2                    0   \n",
       "1922                              Q2                    0   \n",
       "...                              ...                  ...   \n",
       "64612                             Q2                    0   \n",
       "64613                             Q2                    0   \n",
       "64648                             Q2                    0   \n",
       "64685                             Q2                    0   \n",
       "64852                             Q1                    0   \n",
       "\n",
       "       memory request - Q2  ...  CPU request - Quartiles  priority labels  \\\n",
       "321                      1  ...                       Q1       Free [0,1]   \n",
       "1015                     0  ...                       Q1       Free [0,1]   \n",
       "1559                     1  ...                       Q2       Free [0,1]   \n",
       "1560                     1  ...                       Q1       Free [0,1]   \n",
       "1922                     1  ...                       Q1       Free [0,1]   \n",
       "...                    ...  ...                      ...              ...   \n",
       "64612                    1  ...                       Q4       Free [0,1]   \n",
       "64613                    1  ...                       Q3       Free [0,1]   \n",
       "64648                    1  ...                       Q3       Free [0,1]   \n",
       "64685                    1  ...                       Q3       Free [0,1]   \n",
       "64852                    1  ...                       Q2       Free [0,1]   \n",
       "\n",
       "                                               user  \\\n",
       "321    Nugr6rX+U6WELDvGY6ars76339mw/Uc2fgD1/rZ6fkA=   \n",
       "1015   Nugr6rX+U6WELDvGY6ars76339mw/Uc2fgD1/rZ6fkA=   \n",
       "1559   Nugr6rX+U6WELDvGY6ars76339mw/Uc2fgD1/rZ6fkA=   \n",
       "1560   Nugr6rX+U6WELDvGY6ars76339mw/Uc2fgD1/rZ6fkA=   \n",
       "1922   Nugr6rX+U6WELDvGY6ars76339mw/Uc2fgD1/rZ6fkA=   \n",
       "...                                             ...   \n",
       "64612  Nugr6rX+U6WELDvGY6ars76339mw/Uc2fgD1/rZ6fkA=   \n",
       "64613  Nugr6rX+U6WELDvGY6ars76339mw/Uc2fgD1/rZ6fkA=   \n",
       "64648  Nugr6rX+U6WELDvGY6ars76339mw/Uc2fgD1/rZ6fkA=   \n",
       "64685  Nugr6rX+U6WELDvGY6ars76339mw/Uc2fgD1/rZ6fkA=   \n",
       "64852  Nugr6rX+U6WELDvGY6ars76339mw/Uc2fgD1/rZ6fkA=   \n",
       "\n",
       "                                   logical job name  scheduling class  \\\n",
       "321    /xzn5vjqfaX7Jp9jfsGwCSECWwqC5hCUwgrjpLalXiM=                 2   \n",
       "1015   XyGBUGoaLiiOp7zVyDHjGehArmRo/fLOKXzPIdvB/A4=                 2   \n",
       "1559   s00djJoN1z08al7jw71EcGSFsIvIY4DKq8m3nOb9yyU=                 0   \n",
       "1560   /QJznBnrlEeh/yWbEg+oDn0qabGBitjQsjA81fBBW9g=                 2   \n",
       "1922   /QJznBnrlEeh/yWbEg+oDn0qabGBitjQsjA81fBBW9g=                 2   \n",
       "...                                             ...               ...   \n",
       "64612  H//4nsjSXqYRVoUKt3tpVx6lWsjcITZuqblmbv7XkOY=                 2   \n",
       "64613  rsy/Jo2Au/c5VHFUzPaq9rdfLsSIhHjv6RJHJL50FNk=                 2   \n",
       "64648  yVIRahrv8Z2KjOxCDQb3Y6flkxNj/h+w2fRbjVEk2BE=                 2   \n",
       "64685  WymlM+Yf9wi/If99/A+HU4QwS84W0P268hGHbSAP3mY=                 2   \n",
       "64852  rLqKj8VkySFX2JDNb/zg6Ok/QuLfdZqvyH89kGgA2W4=                 2   \n",
       "\n",
       "       K-Means = 2  K-Means = 4 K-Means = 6 K-Means = 8 K-Means = 10  \n",
       "321              0            1           1           1            1  \n",
       "1015             1            0           0           3            3  \n",
       "1559             1            0           0           0            0  \n",
       "1560             1            0           3           5            5  \n",
       "1922             1            0           3           5            5  \n",
       "...            ...          ...         ...         ...          ...  \n",
       "64612            1            0           3           5            5  \n",
       "64613            1            3           5           4            4  \n",
       "64648            1            0           0           0            0  \n",
       "64685            1            0           0           0            0  \n",
       "64852            1            0           0           0            0  \n",
       "\n",
       "[190 rows x 27 columns]"
      ]
     },
     "execution_count": 10,
     "metadata": {},
     "output_type": "execute_result"
    }
   ],
   "source": [
    "user_metadata"
   ]
  },
  {
   "cell_type": "code",
   "execution_count": 11,
   "id": "fa5e59b3-02d9-45eb-bf86-0c1c45b8e396",
   "metadata": {
    "execution": {
     "iopub.execute_input": "2022-01-26T09:32:12.591370Z",
     "iopub.status.busy": "2022-01-26T09:32:12.591264Z",
     "iopub.status.idle": "2022-01-26T09:32:12.596153Z",
     "shell.execute_reply": "2022-01-26T09:32:12.595708Z",
     "shell.execute_reply.started": "2022-01-26T09:32:12.591357Z"
    },
    "tags": []
   },
   "outputs": [
    {
     "data": {
      "text/plain": [
       "0    147\n",
       "3     38\n",
       "2      4\n",
       "1      1\n",
       "Name: K-Means = 4, dtype: int64"
      ]
     },
     "execution_count": 11,
     "metadata": {},
     "output_type": "execute_result"
    }
   ],
   "source": [
    "user_metadata[\"K-Means = 4\"].value_counts()"
   ]
  },
  {
   "cell_type": "code",
   "execution_count": 12,
   "id": "1195f8ad-0891-43dc-b510-35bcfe337bcd",
   "metadata": {
    "execution": {
     "iopub.execute_input": "2022-01-26T09:32:12.599239Z",
     "iopub.status.busy": "2022-01-26T09:32:12.599001Z",
     "iopub.status.idle": "2022-01-26T09:32:12.603610Z",
     "shell.execute_reply": "2022-01-26T09:32:12.603142Z",
     "shell.execute_reply.started": "2022-01-26T09:32:12.599225Z"
    },
    "tags": []
   },
   "outputs": [],
   "source": [
    "user_task_usage_df = readings_task_usage_df.filter(items = user_metadata[user_metadata[\"user\"] == SELECTED_USER][\"job ID\"], axis=0)"
   ]
  },
  {
   "cell_type": "code",
   "execution_count": 13,
   "id": "c98b6c8c-3609-4557-b975-2b5e69b75ee1",
   "metadata": {
    "execution": {
     "iopub.execute_input": "2022-01-26T09:32:12.604217Z",
     "iopub.status.busy": "2022-01-26T09:32:12.604110Z",
     "iopub.status.idle": "2022-01-26T09:32:12.608533Z",
     "shell.execute_reply": "2022-01-26T09:32:12.607900Z",
     "shell.execute_reply.started": "2022-01-26T09:32:12.604203Z"
    },
    "tags": []
   },
   "outputs": [],
   "source": [
    "user_task_usage_df.dropna(inplace=True)"
   ]
  },
  {
   "cell_type": "code",
   "execution_count": 14,
   "id": "c874b887-8a5f-4391-9550-38dcf6856f2f",
   "metadata": {
    "execution": {
     "iopub.execute_input": "2022-01-26T09:32:12.609245Z",
     "iopub.status.busy": "2022-01-26T09:32:12.609138Z",
     "iopub.status.idle": "2022-01-26T09:32:12.623310Z",
     "shell.execute_reply": "2022-01-26T09:32:12.622851Z",
     "shell.execute_reply.started": "2022-01-26T09:32:12.609232Z"
    },
    "tags": []
   },
   "outputs": [
    {
     "data": {
      "text/html": [
       "<div>\n",
       "<style scoped>\n",
       "    .dataframe tbody tr th:only-of-type {\n",
       "        vertical-align: middle;\n",
       "    }\n",
       "\n",
       "    .dataframe tbody tr th {\n",
       "        vertical-align: top;\n",
       "    }\n",
       "\n",
       "    .dataframe thead tr th {\n",
       "        text-align: left;\n",
       "    }\n",
       "\n",
       "    .dataframe thead tr:last-of-type th {\n",
       "        text-align: right;\n",
       "    }\n",
       "</style>\n",
       "<table border=\"1\" class=\"dataframe\">\n",
       "  <thead>\n",
       "    <tr>\n",
       "      <th></th>\n",
       "      <th colspan=\"2\" halign=\"left\">CPU rate</th>\n",
       "      <th colspan=\"2\" halign=\"left\">canonical memory usage</th>\n",
       "      <th colspan=\"2\" halign=\"left\">local disk space usage</th>\n",
       "      <th colspan=\"2\" halign=\"left\">active tasks</th>\n",
       "      <th>job runtime</th>\n",
       "    </tr>\n",
       "    <tr>\n",
       "      <th></th>\n",
       "      <th>mean</th>\n",
       "      <th>std</th>\n",
       "      <th>mean</th>\n",
       "      <th>std</th>\n",
       "      <th>mean</th>\n",
       "      <th>std</th>\n",
       "      <th>mean</th>\n",
       "      <th>std</th>\n",
       "      <th>vals</th>\n",
       "    </tr>\n",
       "    <tr>\n",
       "      <th>job ID</th>\n",
       "      <th></th>\n",
       "      <th></th>\n",
       "      <th></th>\n",
       "      <th></th>\n",
       "      <th></th>\n",
       "      <th></th>\n",
       "      <th></th>\n",
       "      <th></th>\n",
       "      <th></th>\n",
       "    </tr>\n",
       "  </thead>\n",
       "  <tbody>\n",
       "    <tr>\n",
       "      <th>6215446276</th>\n",
       "      <td>0.000046</td>\n",
       "      <td>0.000189</td>\n",
       "      <td>0.000224</td>\n",
       "      <td>0.000100</td>\n",
       "      <td>0.000000e+00</td>\n",
       "      <td>0.000000e+00</td>\n",
       "      <td>1.000113</td>\n",
       "      <td>0.010642</td>\n",
       "      <td>2505600000000</td>\n",
       "    </tr>\n",
       "    <tr>\n",
       "      <th>6253345267</th>\n",
       "      <td>0.001090</td>\n",
       "      <td>0.001156</td>\n",
       "      <td>0.017890</td>\n",
       "      <td>0.008363</td>\n",
       "      <td>0.000000e+00</td>\n",
       "      <td>0.000000e+00</td>\n",
       "      <td>1.000000</td>\n",
       "      <td>0.000000</td>\n",
       "      <td>4938000000</td>\n",
       "    </tr>\n",
       "    <tr>\n",
       "      <th>6255332185</th>\n",
       "      <td>0.003274</td>\n",
       "      <td>0.006029</td>\n",
       "      <td>0.000575</td>\n",
       "      <td>0.000999</td>\n",
       "      <td>0.000000e+00</td>\n",
       "      <td>0.000000e+00</td>\n",
       "      <td>5.226190</td>\n",
       "      <td>5.362411</td>\n",
       "      <td>139000000</td>\n",
       "    </tr>\n",
       "    <tr>\n",
       "      <th>6255332896</th>\n",
       "      <td>0.000304</td>\n",
       "      <td>0.000406</td>\n",
       "      <td>0.000382</td>\n",
       "      <td>0.000442</td>\n",
       "      <td>0.000000e+00</td>\n",
       "      <td>0.000000e+00</td>\n",
       "      <td>1.000000</td>\n",
       "      <td>0.000000</td>\n",
       "      <td>119000000</td>\n",
       "    </tr>\n",
       "    <tr>\n",
       "      <th>6256521473</th>\n",
       "      <td>0.000233</td>\n",
       "      <td>0.000362</td>\n",
       "      <td>0.000192</td>\n",
       "      <td>0.000299</td>\n",
       "      <td>0.000000e+00</td>\n",
       "      <td>0.000000e+00</td>\n",
       "      <td>1.000000</td>\n",
       "      <td>0.000000</td>\n",
       "      <td>112000000</td>\n",
       "    </tr>\n",
       "    <tr>\n",
       "      <th>...</th>\n",
       "      <td>...</td>\n",
       "      <td>...</td>\n",
       "      <td>...</td>\n",
       "      <td>...</td>\n",
       "      <td>...</td>\n",
       "      <td>...</td>\n",
       "      <td>...</td>\n",
       "      <td>...</td>\n",
       "      <td>...</td>\n",
       "    </tr>\n",
       "    <tr>\n",
       "      <th>6484891869</th>\n",
       "      <td>0.007104</td>\n",
       "      <td>0.006158</td>\n",
       "      <td>0.002219</td>\n",
       "      <td>0.001923</td>\n",
       "      <td>3.147550e-06</td>\n",
       "      <td>4.906160e-06</td>\n",
       "      <td>1.000000</td>\n",
       "      <td>0.000000</td>\n",
       "      <td>1331000000</td>\n",
       "    </tr>\n",
       "    <tr>\n",
       "      <th>6484891892</th>\n",
       "      <td>0.024725</td>\n",
       "      <td>0.020220</td>\n",
       "      <td>0.002516</td>\n",
       "      <td>0.001903</td>\n",
       "      <td>2.907984e-08</td>\n",
       "      <td>1.639835e-07</td>\n",
       "      <td>72.496241</td>\n",
       "      <td>187.186248</td>\n",
       "      <td>1404000000</td>\n",
       "    </tr>\n",
       "    <tr>\n",
       "      <th>6485149338</th>\n",
       "      <td>0.021745</td>\n",
       "      <td>0.021996</td>\n",
       "      <td>0.001937</td>\n",
       "      <td>0.001631</td>\n",
       "      <td>1.829640e-08</td>\n",
       "      <td>1.308356e-07</td>\n",
       "      <td>43.513043</td>\n",
       "      <td>102.100945</td>\n",
       "      <td>1614000000</td>\n",
       "    </tr>\n",
       "    <tr>\n",
       "      <th>6485303379</th>\n",
       "      <td>0.001103</td>\n",
       "      <td>0.002649</td>\n",
       "      <td>0.000791</td>\n",
       "      <td>0.000564</td>\n",
       "      <td>1.748083e-06</td>\n",
       "      <td>5.505035e-07</td>\n",
       "      <td>1.000000</td>\n",
       "      <td>0.000000</td>\n",
       "      <td>2588000000</td>\n",
       "    </tr>\n",
       "    <tr>\n",
       "      <th>6486214208</th>\n",
       "      <td>0.001712</td>\n",
       "      <td>0.002224</td>\n",
       "      <td>0.000634</td>\n",
       "      <td>0.000869</td>\n",
       "      <td>0.000000e+00</td>\n",
       "      <td>0.000000e+00</td>\n",
       "      <td>1.000000</td>\n",
       "      <td>0.000000</td>\n",
       "      <td>341000000</td>\n",
       "    </tr>\n",
       "  </tbody>\n",
       "</table>\n",
       "<p>190 rows × 9 columns</p>\n",
       "</div>"
      ],
      "text/plain": [
       "            CPU rate           canonical memory usage            \\\n",
       "                mean       std                   mean       std   \n",
       "job ID                                                            \n",
       "6215446276  0.000046  0.000189               0.000224  0.000100   \n",
       "6253345267  0.001090  0.001156               0.017890  0.008363   \n",
       "6255332185  0.003274  0.006029               0.000575  0.000999   \n",
       "6255332896  0.000304  0.000406               0.000382  0.000442   \n",
       "6256521473  0.000233  0.000362               0.000192  0.000299   \n",
       "...              ...       ...                    ...       ...   \n",
       "6484891869  0.007104  0.006158               0.002219  0.001923   \n",
       "6484891892  0.024725  0.020220               0.002516  0.001903   \n",
       "6485149338  0.021745  0.021996               0.001937  0.001631   \n",
       "6485303379  0.001103  0.002649               0.000791  0.000564   \n",
       "6486214208  0.001712  0.002224               0.000634  0.000869   \n",
       "\n",
       "           local disk space usage               active tasks              \\\n",
       "                             mean           std         mean         std   \n",
       "job ID                                                                     \n",
       "6215446276           0.000000e+00  0.000000e+00     1.000113    0.010642   \n",
       "6253345267           0.000000e+00  0.000000e+00     1.000000    0.000000   \n",
       "6255332185           0.000000e+00  0.000000e+00     5.226190    5.362411   \n",
       "6255332896           0.000000e+00  0.000000e+00     1.000000    0.000000   \n",
       "6256521473           0.000000e+00  0.000000e+00     1.000000    0.000000   \n",
       "...                           ...           ...          ...         ...   \n",
       "6484891869           3.147550e-06  4.906160e-06     1.000000    0.000000   \n",
       "6484891892           2.907984e-08  1.639835e-07    72.496241  187.186248   \n",
       "6485149338           1.829640e-08  1.308356e-07    43.513043  102.100945   \n",
       "6485303379           1.748083e-06  5.505035e-07     1.000000    0.000000   \n",
       "6486214208           0.000000e+00  0.000000e+00     1.000000    0.000000   \n",
       "\n",
       "              job runtime  \n",
       "                     vals  \n",
       "job ID                     \n",
       "6215446276  2505600000000  \n",
       "6253345267     4938000000  \n",
       "6255332185      139000000  \n",
       "6255332896      119000000  \n",
       "6256521473      112000000  \n",
       "...                   ...  \n",
       "6484891869     1331000000  \n",
       "6484891892     1404000000  \n",
       "6485149338     1614000000  \n",
       "6485303379     2588000000  \n",
       "6486214208      341000000  \n",
       "\n",
       "[190 rows x 9 columns]"
      ]
     },
     "execution_count": 14,
     "metadata": {},
     "output_type": "execute_result"
    }
   ],
   "source": [
    "user_task_usage_df"
   ]
  },
  {
   "cell_type": "markdown",
   "id": "deb20341-5dfa-4457-80ee-0836b8e2dc20",
   "metadata": {},
   "source": [
    "## Perform clustering"
   ]
  },
  {
   "cell_type": "code",
   "execution_count": 15,
   "id": "bddbe883-085f-449b-ab11-f3367cc552f5",
   "metadata": {
    "execution": {
     "iopub.execute_input": "2022-01-26T09:32:12.624046Z",
     "iopub.status.busy": "2022-01-26T09:32:12.623938Z",
     "iopub.status.idle": "2022-01-26T09:32:12.626847Z",
     "shell.execute_reply": "2022-01-26T09:32:12.626383Z",
     "shell.execute_reply.started": "2022-01-26T09:32:12.624033Z"
    },
    "tags": []
   },
   "outputs": [],
   "source": [
    "scaler = MinMaxScaler()"
   ]
  },
  {
   "cell_type": "code",
   "execution_count": 16,
   "id": "9ee2e74d-ead2-43c0-bb7f-4a99ea0a82f2",
   "metadata": {
    "execution": {
     "iopub.execute_input": "2022-01-26T09:32:12.627654Z",
     "iopub.status.busy": "2022-01-26T09:32:12.627549Z",
     "iopub.status.idle": "2022-01-26T09:32:12.634493Z",
     "shell.execute_reply": "2022-01-26T09:32:12.633994Z",
     "shell.execute_reply.started": "2022-01-26T09:32:12.627641Z"
    },
    "tags": []
   },
   "outputs": [
    {
     "name": "stderr",
     "output_type": "stream",
     "text": [
      "/opt/anaconda3/envs/neuralnets/lib/python3.9/site-packages/sklearn/utils/validation.py:1688: FutureWarning: Feature names only support names that are all strings. Got feature names with dtypes: ['tuple']. An error will be raised in 1.2.\n",
      "  warnings.warn(\n",
      "/opt/anaconda3/envs/neuralnets/lib/python3.9/site-packages/sklearn/utils/validation.py:1688: FutureWarning: Feature names only support names that are all strings. Got feature names with dtypes: ['tuple']. An error will be raised in 1.2.\n",
      "  warnings.warn(\n"
     ]
    }
   ],
   "source": [
    "scaled = scaler.fit_transform(user_task_usage_df)"
   ]
  },
  {
   "cell_type": "code",
   "execution_count": 17,
   "id": "9158dbad-c5b9-4c80-9677-57fca0107adf",
   "metadata": {
    "execution": {
     "iopub.execute_input": "2022-01-26T09:32:12.635286Z",
     "iopub.status.busy": "2022-01-26T09:32:12.635181Z",
     "iopub.status.idle": "2022-01-26T09:32:12.802033Z",
     "shell.execute_reply": "2022-01-26T09:32:12.801516Z",
     "shell.execute_reply.started": "2022-01-26T09:32:12.635273Z"
    },
    "tags": []
   },
   "outputs": [
    {
     "name": "stdout",
     "output_type": "stream",
     "text": [
      "For n_clusters = 4 The average silhouette_score is : 0.4913375805631962\n"
     ]
    }
   ],
   "source": [
    "clusterer, cluster_labels, silhouette_avg, sample_silhouette_values = extract_kmeans_stats(scaled, 4)"
   ]
  },
  {
   "cell_type": "code",
   "execution_count": 18,
   "id": "cdd265de-ef77-4415-84a6-5d3847a7ee57",
   "metadata": {
    "execution": {
     "iopub.execute_input": "2022-01-26T09:32:12.803020Z",
     "iopub.status.busy": "2022-01-26T09:32:12.802826Z",
     "iopub.status.idle": "2022-01-26T09:32:12.810171Z",
     "shell.execute_reply": "2022-01-26T09:32:12.808763Z",
     "shell.execute_reply.started": "2022-01-26T09:32:12.802995Z"
    },
    "tags": []
   },
   "outputs": [
    {
     "name": "stdout",
     "output_type": "stream",
     "text": [
      "0 28\n",
      "1 24\n",
      "2 117\n",
      "3 21\n"
     ]
    }
   ],
   "source": [
    "x = Counter(cluster_labels)\n",
    "for i in range(4):\n",
    "    print(i, x[i])"
   ]
  },
  {
   "cell_type": "code",
   "execution_count": 19,
   "id": "434c6d4b-e3ea-487b-8620-a72b43de73d8",
   "metadata": {
    "execution": {
     "iopub.execute_input": "2022-01-26T09:32:12.811287Z",
     "iopub.status.busy": "2022-01-26T09:32:12.811106Z",
     "iopub.status.idle": "2022-01-26T09:32:12.817233Z",
     "shell.execute_reply": "2022-01-26T09:32:12.816560Z",
     "shell.execute_reply.started": "2022-01-26T09:32:12.811264Z"
    },
    "tags": []
   },
   "outputs": [
    {
     "data": {
      "text/plain": [
       "Counter({2: 117, 3: 21, 0: 28, 1: 24})"
      ]
     },
     "execution_count": 19,
     "metadata": {},
     "output_type": "execute_result"
    }
   ],
   "source": [
    "Counter(cluster_labels)"
   ]
  },
  {
   "cell_type": "code",
   "execution_count": 20,
   "id": "4fbf3754-840b-4b80-8d9c-250ed08b98f8",
   "metadata": {
    "execution": {
     "iopub.execute_input": "2022-01-26T09:32:12.818702Z",
     "iopub.status.busy": "2022-01-26T09:32:12.818169Z",
     "iopub.status.idle": "2022-01-26T09:32:12.979286Z",
     "shell.execute_reply": "2022-01-26T09:32:12.978712Z",
     "shell.execute_reply.started": "2022-01-26T09:32:12.818676Z"
    },
    "tags": []
   },
   "outputs": [
    {
     "data": {
      "image/png": "[encoded data removed]",
      "text/plain": [
       "<Figure size 864x864 with 1 Axes>"
      ]
     },
     "metadata": {
      "needs_background": "light"
     },
     "output_type": "display_data"
    }
   ],
   "source": [
    "plot_silhouette_results(cluster_labels, silhouette_avg, sample_silhouette_values, 4, multiplier=10)"
   ]
  },
  {
   "cell_type": "code",
   "execution_count": 21,
   "id": "52ac0e29-a1e3-46f2-9445-18c534ba56a4",
   "metadata": {
    "execution": {
     "iopub.execute_input": "2022-01-26T09:32:12.980567Z",
     "iopub.status.busy": "2022-01-26T09:32:12.980228Z",
     "iopub.status.idle": "2022-01-26T09:32:13.330574Z",
     "shell.execute_reply": "2022-01-26T09:32:13.329161Z",
     "shell.execute_reply.started": "2022-01-26T09:32:12.980550Z"
    },
    "tags": []
   },
   "outputs": [
    {
     "data": {
      "text/plain": [
       "Text(0.5, 0.98, 'CPU rate analysis for KMeans clustering on sample data with n_clusters = 4')"
      ]
     },
     "execution_count": 21,
     "metadata": {},
     "output_type": "execute_result"
    },
    {
     "data": {
      "image/png": "[encoded data removed]",
      "text/plain": [
       "<Figure size 1944x792 with 2 Axes>"
      ]
     },
     "metadata": {
      "needs_background": "light"
     },
     "output_type": "display_data"
    }
   ],
   "source": [
    "n_clusters = 4\n",
    "\n",
    "feature = \"CPU rate\"\n",
    "\n",
    "fig, (ax1, ax2) = plt.subplots(1, 2)\n",
    "fig.set_size_inches(27, 11)\n",
    "\n",
    "plot_feature_scatter(ax1, scaled, clusterer, cluster_labels, feature, 0, 1, \"scaled\", n_clusters)\n",
    "\n",
    "plot_feature_scatter(ax2, user_task_usage_df.values, clusterer, cluster_labels, feature, 0, 1, \"original\", n_clusters)\n",
    "\n",
    "plt.suptitle((\"{feature} analysis for KMeans clustering on sample data with n_clusters = {n_clusters}\".format(feature=feature, \n",
    "                                                                                                              n_clusters=n_clusters)),\n",
    "             fontsize=14, fontweight='bold')"
   ]
  },
  {
   "cell_type": "code",
   "execution_count": 22,
   "id": "cca142fa-13fe-4c7b-92cd-3ee49a65c9e8",
   "metadata": {
    "execution": {
     "iopub.execute_input": "2022-01-26T09:32:13.331459Z",
     "iopub.status.busy": "2022-01-26T09:32:13.331349Z",
     "iopub.status.idle": "2022-01-26T09:32:13.612223Z",
     "shell.execute_reply": "2022-01-26T09:32:13.611446Z",
     "shell.execute_reply.started": "2022-01-26T09:32:13.331445Z"
    },
    "tags": []
   },
   "outputs": [
    {
     "data": {
      "text/plain": [
       "Text(0.5, 0.98, 'canonical memory usage analysis for KMeans clustering on sample data with n_clusters = 4')"
      ]
     },
     "execution_count": 22,
     "metadata": {},
     "output_type": "execute_result"
    },
    {
     "data": {
      "image/png": "[encoded data removed]",
      "text/plain": [
       "<Figure size 1944x792 with 2 Axes>"
      ]
     },
     "metadata": {
      "needs_background": "light"
     },
     "output_type": "display_data"
    }
   ],
   "source": [
    "feature = \"canonical memory usage\"\n",
    "\n",
    "dim_1 = 2\n",
    "dim_2 = 3\n",
    "\n",
    "fig, (ax1, ax2) = plt.subplots(1, 2)\n",
    "fig.set_size_inches(27, 11)\n",
    "\n",
    "plot_feature_scatter(ax1, scaled, clusterer, cluster_labels, feature, dim_1, dim_2, \"scaled\", n_clusters)\n",
    "\n",
    "plot_feature_scatter(ax2, user_task_usage_df.values, clusterer, cluster_labels, feature, dim_1, dim_2, \"original\", n_clusters)\n",
    "\n",
    "plt.suptitle((\"{feature} analysis for KMeans clustering on sample data with n_clusters = {n_clusters}\".format(feature=feature, \n",
    "                                                                                                              n_clusters=n_clusters)),\n",
    "             fontsize=14, fontweight='bold')"
   ]
  },
  {
   "cell_type": "code",
   "execution_count": 23,
   "id": "7208b4da-cc1c-4eae-934d-0c189de93666",
   "metadata": {
    "execution": {
     "iopub.execute_input": "2022-01-26T09:32:13.612959Z",
     "iopub.status.busy": "2022-01-26T09:32:13.612847Z",
     "iopub.status.idle": "2022-01-26T09:32:13.974508Z",
     "shell.execute_reply": "2022-01-26T09:32:13.973409Z",
     "shell.execute_reply.started": "2022-01-26T09:32:13.612945Z"
    },
    "tags": []
   },
   "outputs": [
    {
     "data": {
      "text/plain": [
       "Text(0.5, 0.98, 'disk usage analysis for KMeans clustering on sample data with n_clusters = 4')"
      ]
     },
     "execution_count": 23,
     "metadata": {},
     "output_type": "execute_result"
    },
    {
     "data": {
      "image/png": "[encoded data removed]",
      "text/plain": [
       "<Figure size 1944x792 with 2 Axes>"
      ]
     },
     "metadata": {
      "needs_background": "light"
     },
     "output_type": "display_data"
    }
   ],
   "source": [
    "feature = \"disk usage\"\n",
    "\n",
    "dim_1 = 4\n",
    "dim_2 = 5\n",
    "\n",
    "fig, (ax1, ax2) = plt.subplots(1, 2)\n",
    "fig.set_size_inches(27, 11)\n",
    "\n",
    "plot_feature_scatter(ax1, scaled, clusterer, cluster_labels, feature, dim_1, dim_2, \"scaled\", n_clusters)\n",
    "\n",
    "plot_feature_scatter(ax2, user_task_usage_df.values, clusterer, cluster_labels, feature, dim_1, dim_2, \"original\", n_clusters)\n",
    "\n",
    "plt.suptitle((\"{feature} analysis for KMeans clustering on sample data with n_clusters = {n_clusters}\".format(feature=feature, \n",
    "                                                                                                              n_clusters=n_clusters)),\n",
    "             fontsize=14, fontweight='bold')"
   ]
  },
  {
   "cell_type": "code",
   "execution_count": 24,
   "id": "997064c8-a28d-456e-ae5c-53707572b759",
   "metadata": {
    "execution": {
     "iopub.execute_input": "2022-01-26T09:32:13.975391Z",
     "iopub.status.busy": "2022-01-26T09:32:13.975273Z",
     "iopub.status.idle": "2022-01-26T09:32:14.260698Z",
     "shell.execute_reply": "2022-01-26T09:32:14.260138Z",
     "shell.execute_reply.started": "2022-01-26T09:32:13.975376Z"
    },
    "tags": []
   },
   "outputs": [
    {
     "data": {
      "text/plain": [
       "Text(0.5, 0.98, 'active tasks analysis for KMeans clustering on sample data with n_clusters = 4')"
      ]
     },
     "execution_count": 24,
     "metadata": {},
     "output_type": "execute_result"
    },
    {
     "data": {
      "image/png": "[encoded data removed]",
      "text/plain": [
       "<Figure size 1944x792 with 2 Axes>"
      ]
     },
     "metadata": {
      "needs_background": "light"
     },
     "output_type": "display_data"
    }
   ],
   "source": [
    "feature = \"active tasks\"\n",
    "\n",
    "dim_1 = 6\n",
    "dim_2 = 7\n",
    "\n",
    "fig, (ax1, ax2) = plt.subplots(1, 2)\n",
    "fig.set_size_inches(27, 11)\n",
    "\n",
    "plot_feature_scatter(ax1, scaled, clusterer, cluster_labels, feature, dim_1, dim_2, \"scaled\", n_clusters)\n",
    "\n",
    "plot_feature_scatter(ax2, user_task_usage_df.values, clusterer, cluster_labels, feature, dim_1, dim_2, \"original\", n_clusters)\n",
    "\n",
    "plt.suptitle((\"{feature} analysis for KMeans clustering on sample data with n_clusters = {n_clusters}\".format(feature=feature, \n",
    "                                                                                                              n_clusters=n_clusters)),\n",
    "             fontsize=14, fontweight='bold')"
   ]
  },
  {
   "cell_type": "code",
   "execution_count": 25,
   "id": "98020f1c-6a6b-4556-b23a-85981b8c9847",
   "metadata": {
    "execution": {
     "iopub.execute_input": "2022-01-26T09:32:14.261670Z",
     "iopub.status.busy": "2022-01-26T09:32:14.261545Z",
     "iopub.status.idle": "2022-01-26T09:32:14.524279Z",
     "shell.execute_reply": "2022-01-26T09:32:14.523805Z",
     "shell.execute_reply.started": "2022-01-26T09:32:14.261655Z"
    },
    "tags": []
   },
   "outputs": [
    {
     "data": {
      "text/plain": [
       "Text(0.5, 0.98, 'runtime analysis for KMeans clustering on sample data with n_clusters = 4')"
      ]
     },
     "execution_count": 25,
     "metadata": {},
     "output_type": "execute_result"
    },
    {
     "data": {
      "image/png": "[encoded data removed]",
      "text/plain": [
       "<Figure size 1944x792 with 2 Axes>"
      ]
     },
     "metadata": {
      "needs_background": "light"
     },
     "output_type": "display_data"
    }
   ],
   "source": [
    "feature = \"runtime\"\n",
    "\n",
    "dim_1 = 8\n",
    "dim_2 = 8\n",
    "\n",
    "# 2nd Plot showing the actual clusters formed - scaled\n",
    "#plt.figure(figsize=(12,12))\n",
    "fig, (ax1, ax2) = plt.subplots(1, 2)\n",
    "fig.set_size_inches(27, 11)\n",
    "\n",
    "plot_feature_scatter(ax1, scaled, clusterer, cluster_labels, feature, dim_1, dim_2, \"scaled\", n_clusters)\n",
    "\n",
    "plot_feature_scatter(ax2, user_task_usage_df.values, clusterer, cluster_labels, feature, dim_1, dim_2, \"original\", n_clusters)\n",
    "\n",
    "plt.suptitle((\"{feature} analysis for KMeans clustering on sample data with n_clusters = {n_clusters}\".format(feature=feature, \n",
    "                                                                                                              n_clusters=n_clusters)),\n",
    "             fontsize=14, fontweight='bold')"
   ]
  },
  {
   "cell_type": "markdown",
   "id": "0fca02d9-a6d5-4bbf-9aaa-95f65ba40a9d",
   "metadata": {},
   "source": [
    "## Update"
   ]
  },
  {
   "cell_type": "code",
   "execution_count": 26,
   "id": "f984c4d3-3dbb-43d2-81bc-8a8c9960573a",
   "metadata": {
    "execution": {
     "iopub.execute_input": "2022-01-26T09:32:14.525094Z",
     "iopub.status.busy": "2022-01-26T09:32:14.524980Z",
     "iopub.status.idle": "2022-01-26T09:32:14.529311Z",
     "shell.execute_reply": "2022-01-26T09:32:14.528854Z",
     "shell.execute_reply.started": "2022-01-26T09:32:14.525079Z"
    }
   },
   "outputs": [
    {
     "name": "stderr",
     "output_type": "stream",
     "text": [
      "/tmp/ipykernel_68293/3248496046.py:1: SettingWithCopyWarning: \n",
      "A value is trying to be set on a copy of a slice from a DataFrame.\n",
      "Try using .loc[row_indexer,col_indexer] = value instead\n",
      "\n",
      "See the caveats in the documentation: https://pandas.pydata.org/pandas-docs/stable/user_guide/indexing.html#returning-a-view-versus-a-copy\n",
      "  user_metadata[\"K-Means = 4 new\"] = cluster_labels\n"
     ]
    }
   ],
   "source": [
    "user_metadata[\"K-Means = 4 new\"] = cluster_labels"
   ]
  },
  {
   "cell_type": "markdown",
   "id": "2d464e1f-9171-4bd4-bb58-b88216fd5e40",
   "metadata": {},
   "source": [
    "## Create oneHot encoding"
   ]
  },
  {
   "cell_type": "code",
   "execution_count": 27,
   "id": "c40441d4-f46e-4c67-81da-78ae3b88771b",
   "metadata": {
    "execution": {
     "iopub.execute_input": "2022-01-26T09:32:14.529989Z",
     "iopub.status.busy": "2022-01-26T09:32:14.529866Z",
     "iopub.status.idle": "2022-01-26T09:32:14.534394Z",
     "shell.execute_reply": "2022-01-26T09:32:14.533932Z",
     "shell.execute_reply.started": "2022-01-26T09:32:14.529975Z"
    },
    "tags": []
   },
   "outputs": [],
   "source": [
    "oneHotDf = user_metadata[['different machines restriction', 'disk space request - Quartiles', 'memory request - Quartiles', 'CPU request - Quartiles', 'priority labels', 'user', 'logical job name', 'scheduling class']]"
   ]
  },
  {
   "cell_type": "code",
   "execution_count": 28,
   "id": "4703d06e-0b51-4ecf-9c6d-0c6e670d9272",
   "metadata": {
    "execution": {
     "iopub.execute_input": "2022-01-26T09:32:14.535259Z",
     "iopub.status.busy": "2022-01-26T09:32:14.535150Z",
     "iopub.status.idle": "2022-01-26T09:32:14.543613Z",
     "shell.execute_reply": "2022-01-26T09:32:14.543159Z",
     "shell.execute_reply.started": "2022-01-26T09:32:14.535245Z"
    },
    "tags": []
   },
   "outputs": [],
   "source": [
    "oneHotDf = pd.get_dummies(oneHotDf)"
   ]
  },
  {
   "cell_type": "code",
   "execution_count": 29,
   "id": "958e3ef1-68f3-412a-97f1-8e9154908a23",
   "metadata": {
    "execution": {
     "iopub.execute_input": "2022-01-26T09:32:14.544210Z",
     "iopub.status.busy": "2022-01-26T09:32:14.544103Z",
     "iopub.status.idle": "2022-01-26T09:32:14.557915Z",
     "shell.execute_reply": "2022-01-26T09:32:14.557427Z",
     "shell.execute_reply.started": "2022-01-26T09:32:14.544196Z"
    },
    "tags": []
   },
   "outputs": [
    {
     "data": {
      "text/html": [
       "<div>\n",
       "<style scoped>\n",
       "    .dataframe tbody tr th:only-of-type {\n",
       "        vertical-align: middle;\n",
       "    }\n",
       "\n",
       "    .dataframe tbody tr th {\n",
       "        vertical-align: top;\n",
       "    }\n",
       "\n",
       "    .dataframe thead th {\n",
       "        text-align: right;\n",
       "    }\n",
       "</style>\n",
       "<table border=\"1\" class=\"dataframe\">\n",
       "  <thead>\n",
       "    <tr style=\"text-align: right;\">\n",
       "      <th></th>\n",
       "      <th>different machines restriction</th>\n",
       "      <th>scheduling class</th>\n",
       "      <th>disk space request - Quartiles_Q1</th>\n",
       "      <th>disk space request - Quartiles_Q2</th>\n",
       "      <th>disk space request - Quartiles_Q4</th>\n",
       "      <th>memory request - Quartiles_Q1</th>\n",
       "      <th>memory request - Quartiles_Q2</th>\n",
       "      <th>memory request - Quartiles_Q3</th>\n",
       "      <th>memory request - Quartiles_Q4</th>\n",
       "      <th>CPU request - Quartiles_Q1</th>\n",
       "      <th>...</th>\n",
       "      <th>logical job name_s0nFxuvXLxQXqQtPB0/DGtQ4s5qZ7v5klus0dAiwkO4=</th>\n",
       "      <th>logical job name_sh2+azqnWz5wf8ZmJsTBMth0xAQkyNGaUlK2s3uq50c=</th>\n",
       "      <th>logical job name_swBGfKKOxXrHehHaPw6t/2EfPLVi4GJzIgQcDb/6KWM=</th>\n",
       "      <th>logical job name_uxJBwn4+Ue4VL/HIi7a+0MfIcUlhRVpKwDdn5iPN1R8=</th>\n",
       "      <th>logical job name_vEZciGV61AjVZX9L83VJr8O3rT1DP094e2uHbksUjxs=</th>\n",
       "      <th>logical job name_yUcoKNSDOcjVXBq4jjc9G7WSztqiG4rp3PIHlfKAgBA=</th>\n",
       "      <th>logical job name_yVIRahrv8Z2KjOxCDQb3Y6flkxNj/h+w2fRbjVEk2BE=</th>\n",
       "      <th>logical job name_zJZMGR20g6eKwI7qa/4PXk8u1Q+keq0asAokMG/Gy8k=</th>\n",
       "      <th>logical job name_zQSNnHa/M/Mz9atyv0jkyDeloLh4SC/vumFDjkeaxrQ=</th>\n",
       "      <th>logical job name_zjs21/6QU0kMUI44u8XOi4vvdsxS49aw3IFUXhFf0M8=</th>\n",
       "    </tr>\n",
       "  </thead>\n",
       "  <tbody>\n",
       "    <tr>\n",
       "      <th>321</th>\n",
       "      <td>0</td>\n",
       "      <td>2</td>\n",
       "      <td>0</td>\n",
       "      <td>1</td>\n",
       "      <td>0</td>\n",
       "      <td>0</td>\n",
       "      <td>1</td>\n",
       "      <td>0</td>\n",
       "      <td>0</td>\n",
       "      <td>1</td>\n",
       "      <td>...</td>\n",
       "      <td>0</td>\n",
       "      <td>0</td>\n",
       "      <td>0</td>\n",
       "      <td>0</td>\n",
       "      <td>0</td>\n",
       "      <td>0</td>\n",
       "      <td>0</td>\n",
       "      <td>0</td>\n",
       "      <td>0</td>\n",
       "      <td>0</td>\n",
       "    </tr>\n",
       "    <tr>\n",
       "      <th>1015</th>\n",
       "      <td>0</td>\n",
       "      <td>2</td>\n",
       "      <td>0</td>\n",
       "      <td>1</td>\n",
       "      <td>0</td>\n",
       "      <td>0</td>\n",
       "      <td>0</td>\n",
       "      <td>0</td>\n",
       "      <td>1</td>\n",
       "      <td>1</td>\n",
       "      <td>...</td>\n",
       "      <td>0</td>\n",
       "      <td>0</td>\n",
       "      <td>0</td>\n",
       "      <td>0</td>\n",
       "      <td>0</td>\n",
       "      <td>0</td>\n",
       "      <td>0</td>\n",
       "      <td>0</td>\n",
       "      <td>0</td>\n",
       "      <td>0</td>\n",
       "    </tr>\n",
       "    <tr>\n",
       "      <th>1559</th>\n",
       "      <td>0</td>\n",
       "      <td>0</td>\n",
       "      <td>1</td>\n",
       "      <td>0</td>\n",
       "      <td>0</td>\n",
       "      <td>0</td>\n",
       "      <td>1</td>\n",
       "      <td>0</td>\n",
       "      <td>0</td>\n",
       "      <td>0</td>\n",
       "      <td>...</td>\n",
       "      <td>0</td>\n",
       "      <td>0</td>\n",
       "      <td>0</td>\n",
       "      <td>0</td>\n",
       "      <td>0</td>\n",
       "      <td>0</td>\n",
       "      <td>0</td>\n",
       "      <td>0</td>\n",
       "      <td>0</td>\n",
       "      <td>0</td>\n",
       "    </tr>\n",
       "    <tr>\n",
       "      <th>1560</th>\n",
       "      <td>0</td>\n",
       "      <td>2</td>\n",
       "      <td>0</td>\n",
       "      <td>1</td>\n",
       "      <td>0</td>\n",
       "      <td>0</td>\n",
       "      <td>1</td>\n",
       "      <td>0</td>\n",
       "      <td>0</td>\n",
       "      <td>1</td>\n",
       "      <td>...</td>\n",
       "      <td>0</td>\n",
       "      <td>0</td>\n",
       "      <td>0</td>\n",
       "      <td>0</td>\n",
       "      <td>0</td>\n",
       "      <td>0</td>\n",
       "      <td>0</td>\n",
       "      <td>0</td>\n",
       "      <td>0</td>\n",
       "      <td>0</td>\n",
       "    </tr>\n",
       "    <tr>\n",
       "      <th>1922</th>\n",
       "      <td>0</td>\n",
       "      <td>2</td>\n",
       "      <td>0</td>\n",
       "      <td>1</td>\n",
       "      <td>0</td>\n",
       "      <td>0</td>\n",
       "      <td>1</td>\n",
       "      <td>0</td>\n",
       "      <td>0</td>\n",
       "      <td>1</td>\n",
       "      <td>...</td>\n",
       "      <td>0</td>\n",
       "      <td>0</td>\n",
       "      <td>0</td>\n",
       "      <td>0</td>\n",
       "      <td>0</td>\n",
       "      <td>0</td>\n",
       "      <td>0</td>\n",
       "      <td>0</td>\n",
       "      <td>0</td>\n",
       "      <td>0</td>\n",
       "    </tr>\n",
       "    <tr>\n",
       "      <th>...</th>\n",
       "      <td>...</td>\n",
       "      <td>...</td>\n",
       "      <td>...</td>\n",
       "      <td>...</td>\n",
       "      <td>...</td>\n",
       "      <td>...</td>\n",
       "      <td>...</td>\n",
       "      <td>...</td>\n",
       "      <td>...</td>\n",
       "      <td>...</td>\n",
       "      <td>...</td>\n",
       "      <td>...</td>\n",
       "      <td>...</td>\n",
       "      <td>...</td>\n",
       "      <td>...</td>\n",
       "      <td>...</td>\n",
       "      <td>...</td>\n",
       "      <td>...</td>\n",
       "      <td>...</td>\n",
       "      <td>...</td>\n",
       "      <td>...</td>\n",
       "    </tr>\n",
       "    <tr>\n",
       "      <th>64612</th>\n",
       "      <td>0</td>\n",
       "      <td>2</td>\n",
       "      <td>0</td>\n",
       "      <td>1</td>\n",
       "      <td>0</td>\n",
       "      <td>0</td>\n",
       "      <td>1</td>\n",
       "      <td>0</td>\n",
       "      <td>0</td>\n",
       "      <td>0</td>\n",
       "      <td>...</td>\n",
       "      <td>0</td>\n",
       "      <td>0</td>\n",
       "      <td>0</td>\n",
       "      <td>0</td>\n",
       "      <td>0</td>\n",
       "      <td>0</td>\n",
       "      <td>0</td>\n",
       "      <td>0</td>\n",
       "      <td>0</td>\n",
       "      <td>0</td>\n",
       "    </tr>\n",
       "    <tr>\n",
       "      <th>64613</th>\n",
       "      <td>0</td>\n",
       "      <td>2</td>\n",
       "      <td>0</td>\n",
       "      <td>1</td>\n",
       "      <td>0</td>\n",
       "      <td>0</td>\n",
       "      <td>1</td>\n",
       "      <td>0</td>\n",
       "      <td>0</td>\n",
       "      <td>0</td>\n",
       "      <td>...</td>\n",
       "      <td>0</td>\n",
       "      <td>0</td>\n",
       "      <td>0</td>\n",
       "      <td>0</td>\n",
       "      <td>0</td>\n",
       "      <td>0</td>\n",
       "      <td>0</td>\n",
       "      <td>0</td>\n",
       "      <td>0</td>\n",
       "      <td>0</td>\n",
       "    </tr>\n",
       "    <tr>\n",
       "      <th>64648</th>\n",
       "      <td>0</td>\n",
       "      <td>2</td>\n",
       "      <td>0</td>\n",
       "      <td>1</td>\n",
       "      <td>0</td>\n",
       "      <td>0</td>\n",
       "      <td>1</td>\n",
       "      <td>0</td>\n",
       "      <td>0</td>\n",
       "      <td>0</td>\n",
       "      <td>...</td>\n",
       "      <td>0</td>\n",
       "      <td>0</td>\n",
       "      <td>0</td>\n",
       "      <td>0</td>\n",
       "      <td>0</td>\n",
       "      <td>0</td>\n",
       "      <td>1</td>\n",
       "      <td>0</td>\n",
       "      <td>0</td>\n",
       "      <td>0</td>\n",
       "    </tr>\n",
       "    <tr>\n",
       "      <th>64685</th>\n",
       "      <td>0</td>\n",
       "      <td>2</td>\n",
       "      <td>0</td>\n",
       "      <td>1</td>\n",
       "      <td>0</td>\n",
       "      <td>0</td>\n",
       "      <td>1</td>\n",
       "      <td>0</td>\n",
       "      <td>0</td>\n",
       "      <td>0</td>\n",
       "      <td>...</td>\n",
       "      <td>0</td>\n",
       "      <td>0</td>\n",
       "      <td>0</td>\n",
       "      <td>0</td>\n",
       "      <td>0</td>\n",
       "      <td>0</td>\n",
       "      <td>0</td>\n",
       "      <td>0</td>\n",
       "      <td>0</td>\n",
       "      <td>0</td>\n",
       "    </tr>\n",
       "    <tr>\n",
       "      <th>64852</th>\n",
       "      <td>0</td>\n",
       "      <td>2</td>\n",
       "      <td>1</td>\n",
       "      <td>0</td>\n",
       "      <td>0</td>\n",
       "      <td>0</td>\n",
       "      <td>1</td>\n",
       "      <td>0</td>\n",
       "      <td>0</td>\n",
       "      <td>0</td>\n",
       "      <td>...</td>\n",
       "      <td>0</td>\n",
       "      <td>0</td>\n",
       "      <td>0</td>\n",
       "      <td>0</td>\n",
       "      <td>0</td>\n",
       "      <td>0</td>\n",
       "      <td>0</td>\n",
       "      <td>0</td>\n",
       "      <td>0</td>\n",
       "      <td>0</td>\n",
       "    </tr>\n",
       "  </tbody>\n",
       "</table>\n",
       "<p>190 rows × 113 columns</p>\n",
       "</div>"
      ],
      "text/plain": [
       "       different machines restriction  scheduling class  \\\n",
       "321                                 0                 2   \n",
       "1015                                0                 2   \n",
       "1559                                0                 0   \n",
       "1560                                0                 2   \n",
       "1922                                0                 2   \n",
       "...                               ...               ...   \n",
       "64612                               0                 2   \n",
       "64613                               0                 2   \n",
       "64648                               0                 2   \n",
       "64685                               0                 2   \n",
       "64852                               0                 2   \n",
       "\n",
       "       disk space request - Quartiles_Q1  disk space request - Quartiles_Q2  \\\n",
       "321                                    0                                  1   \n",
       "1015                                   0                                  1   \n",
       "1559                                   1                                  0   \n",
       "1560                                   0                                  1   \n",
       "1922                                   0                                  1   \n",
       "...                                  ...                                ...   \n",
       "64612                                  0                                  1   \n",
       "64613                                  0                                  1   \n",
       "64648                                  0                                  1   \n",
       "64685                                  0                                  1   \n",
       "64852                                  1                                  0   \n",
       "\n",
       "       disk space request - Quartiles_Q4  memory request - Quartiles_Q1  \\\n",
       "321                                    0                              0   \n",
       "1015                                   0                              0   \n",
       "1559                                   0                              0   \n",
       "1560                                   0                              0   \n",
       "1922                                   0                              0   \n",
       "...                                  ...                            ...   \n",
       "64612                                  0                              0   \n",
       "64613                                  0                              0   \n",
       "64648                                  0                              0   \n",
       "64685                                  0                              0   \n",
       "64852                                  0                              0   \n",
       "\n",
       "       memory request - Quartiles_Q2  memory request - Quartiles_Q3  \\\n",
       "321                                1                              0   \n",
       "1015                               0                              0   \n",
       "1559                               1                              0   \n",
       "1560                               1                              0   \n",
       "1922                               1                              0   \n",
       "...                              ...                            ...   \n",
       "64612                              1                              0   \n",
       "64613                              1                              0   \n",
       "64648                              1                              0   \n",
       "64685                              1                              0   \n",
       "64852                              1                              0   \n",
       "\n",
       "       memory request - Quartiles_Q4  CPU request - Quartiles_Q1  ...  \\\n",
       "321                                0                           1  ...   \n",
       "1015                               1                           1  ...   \n",
       "1559                               0                           0  ...   \n",
       "1560                               0                           1  ...   \n",
       "1922                               0                           1  ...   \n",
       "...                              ...                         ...  ...   \n",
       "64612                              0                           0  ...   \n",
       "64613                              0                           0  ...   \n",
       "64648                              0                           0  ...   \n",
       "64685                              0                           0  ...   \n",
       "64852                              0                           0  ...   \n",
       "\n",
       "       logical job name_s0nFxuvXLxQXqQtPB0/DGtQ4s5qZ7v5klus0dAiwkO4=  \\\n",
       "321                                                    0               \n",
       "1015                                                   0               \n",
       "1559                                                   0               \n",
       "1560                                                   0               \n",
       "1922                                                   0               \n",
       "...                                                  ...               \n",
       "64612                                                  0               \n",
       "64613                                                  0               \n",
       "64648                                                  0               \n",
       "64685                                                  0               \n",
       "64852                                                  0               \n",
       "\n",
       "       logical job name_sh2+azqnWz5wf8ZmJsTBMth0xAQkyNGaUlK2s3uq50c=  \\\n",
       "321                                                    0               \n",
       "1015                                                   0               \n",
       "1559                                                   0               \n",
       "1560                                                   0               \n",
       "1922                                                   0               \n",
       "...                                                  ...               \n",
       "64612                                                  0               \n",
       "64613                                                  0               \n",
       "64648                                                  0               \n",
       "64685                                                  0               \n",
       "64852                                                  0               \n",
       "\n",
       "       logical job name_swBGfKKOxXrHehHaPw6t/2EfPLVi4GJzIgQcDb/6KWM=  \\\n",
       "321                                                    0               \n",
       "1015                                                   0               \n",
       "1559                                                   0               \n",
       "1560                                                   0               \n",
       "1922                                                   0               \n",
       "...                                                  ...               \n",
       "64612                                                  0               \n",
       "64613                                                  0               \n",
       "64648                                                  0               \n",
       "64685                                                  0               \n",
       "64852                                                  0               \n",
       "\n",
       "       logical job name_uxJBwn4+Ue4VL/HIi7a+0MfIcUlhRVpKwDdn5iPN1R8=  \\\n",
       "321                                                    0               \n",
       "1015                                                   0               \n",
       "1559                                                   0               \n",
       "1560                                                   0               \n",
       "1922                                                   0               \n",
       "...                                                  ...               \n",
       "64612                                                  0               \n",
       "64613                                                  0               \n",
       "64648                                                  0               \n",
       "64685                                                  0               \n",
       "64852                                                  0               \n",
       "\n",
       "       logical job name_vEZciGV61AjVZX9L83VJr8O3rT1DP094e2uHbksUjxs=  \\\n",
       "321                                                    0               \n",
       "1015                                                   0               \n",
       "1559                                                   0               \n",
       "1560                                                   0               \n",
       "1922                                                   0               \n",
       "...                                                  ...               \n",
       "64612                                                  0               \n",
       "64613                                                  0               \n",
       "64648                                                  0               \n",
       "64685                                                  0               \n",
       "64852                                                  0               \n",
       "\n",
       "       logical job name_yUcoKNSDOcjVXBq4jjc9G7WSztqiG4rp3PIHlfKAgBA=  \\\n",
       "321                                                    0               \n",
       "1015                                                   0               \n",
       "1559                                                   0               \n",
       "1560                                                   0               \n",
       "1922                                                   0               \n",
       "...                                                  ...               \n",
       "64612                                                  0               \n",
       "64613                                                  0               \n",
       "64648                                                  0               \n",
       "64685                                                  0               \n",
       "64852                                                  0               \n",
       "\n",
       "       logical job name_yVIRahrv8Z2KjOxCDQb3Y6flkxNj/h+w2fRbjVEk2BE=  \\\n",
       "321                                                    0               \n",
       "1015                                                   0               \n",
       "1559                                                   0               \n",
       "1560                                                   0               \n",
       "1922                                                   0               \n",
       "...                                                  ...               \n",
       "64612                                                  0               \n",
       "64613                                                  0               \n",
       "64648                                                  1               \n",
       "64685                                                  0               \n",
       "64852                                                  0               \n",
       "\n",
       "       logical job name_zJZMGR20g6eKwI7qa/4PXk8u1Q+keq0asAokMG/Gy8k=  \\\n",
       "321                                                    0               \n",
       "1015                                                   0               \n",
       "1559                                                   0               \n",
       "1560                                                   0               \n",
       "1922                                                   0               \n",
       "...                                                  ...               \n",
       "64612                                                  0               \n",
       "64613                                                  0               \n",
       "64648                                                  0               \n",
       "64685                                                  0               \n",
       "64852                                                  0               \n",
       "\n",
       "       logical job name_zQSNnHa/M/Mz9atyv0jkyDeloLh4SC/vumFDjkeaxrQ=  \\\n",
       "321                                                    0               \n",
       "1015                                                   0               \n",
       "1559                                                   0               \n",
       "1560                                                   0               \n",
       "1922                                                   0               \n",
       "...                                                  ...               \n",
       "64612                                                  0               \n",
       "64613                                                  0               \n",
       "64648                                                  0               \n",
       "64685                                                  0               \n",
       "64852                                                  0               \n",
       "\n",
       "       logical job name_zjs21/6QU0kMUI44u8XOi4vvdsxS49aw3IFUXhFf0M8=  \n",
       "321                                                    0              \n",
       "1015                                                   0              \n",
       "1559                                                   0              \n",
       "1560                                                   0              \n",
       "1922                                                   0              \n",
       "...                                                  ...              \n",
       "64612                                                  0              \n",
       "64613                                                  0              \n",
       "64648                                                  0              \n",
       "64685                                                  0              \n",
       "64852                                                  0              \n",
       "\n",
       "[190 rows x 113 columns]"
      ]
     },
     "execution_count": 29,
     "metadata": {},
     "output_type": "execute_result"
    }
   ],
   "source": [
    "oneHotDf"
   ]
  },
  {
   "cell_type": "markdown",
   "id": "29df568a-6d3f-4252-8d96-355fd147f598",
   "metadata": {},
   "source": [
    "## Metadata analysis"
   ]
  },
  {
   "cell_type": "markdown",
   "id": "9a8c1984-82c8-4974-9e53-4e78fd91a8d8",
   "metadata": {},
   "source": [
    "Here, we compare the difference in the distribution of the static feature values in the general clustering and in the more detailed result with the ad-hoc k-Means on the user workload."
   ]
  },
  {
   "cell_type": "code",
   "execution_count": 30,
   "id": "1631147e-b07f-492a-ae90-1f728ff615b5",
   "metadata": {
    "execution": {
     "iopub.execute_input": "2022-01-26T09:32:14.558523Z",
     "iopub.status.busy": "2022-01-26T09:32:14.558416Z",
     "iopub.status.idle": "2022-01-26T09:32:14.742063Z",
     "shell.execute_reply": "2022-01-26T09:32:14.741570Z",
     "shell.execute_reply.started": "2022-01-26T09:32:14.558510Z"
    },
    "tags": []
   },
   "outputs": [
    {
     "name": "stdout",
     "output_type": "stream",
     "text": [
      "K-Means = 4             0    1    2         3\n",
      "priority labels                              \n",
      "Free [0,1]       0.877551  1.0  1.0  0.789474\n",
      "Production [9]   0.122449  0.0  0.0  0.210526\n"
     ]
    },
    {
     "data": {
      "image/png": "[encoded data removed]",
      "text/plain": [
       "<Figure size 1440x504 with 2 Axes>"
      ]
     },
     "metadata": {
      "needs_background": "light"
     },
     "output_type": "display_data"
    }
   ],
   "source": [
    "heatmap_df = user_metadata.groupby([\"priority labels\", \"K-Means = 4\"])[\"priority labels\"].count()\n",
    "heatmap_df\n",
    "\n",
    "\n",
    "heatmap_df = heatmap_df.to_frame()\n",
    "heatmap_df.columns = [\"priority count\"]\n",
    "\n",
    "heatmap_df_total = heatmap_df.reset_index()\n",
    "heatmap_df_total = heatmap_df_total.pivot(\"priority labels\", \"K-Means = 4\", \"priority count\").fillna(0).astype(int)\n",
    "\n",
    "heatmap_df_perc = heatmap_df.groupby(level=[1]).apply(lambda g: g / g.sum())\n",
    "heatmap_df_perc = heatmap_df_perc.reset_index()\n",
    "heatmap_df_perc = heatmap_df_perc.pivot(\"priority labels\", \"K-Means = 4\", \"priority count\").fillna(0)\n",
    "heatmap_df_perc\n",
    "\n",
    "print(heatmap_df_perc)\n",
    "\n",
    "plt.figure(figsize=(20,7))\n",
    "sns.heatmap(heatmap_df_perc, annot=True, annot_kws={'va': 'bottom', 'fontweight': 'bold', 'fontsize': 'large'}, cmap=\"mako\", cbar_kws={'label': 'Proportion'+'\\n'+'size'})\n",
    "sns.heatmap(heatmap_df_perc, annot=heatmap_df_total, annot_kws={'va': 'top', 'size': 14, 'fontstyle': 'italic'}, fmt=\"d\", cmap=\"mako\", cbar=False)\n",
    "plt.tight_layout()\n",
    "# ## #plt.savefig('figures/2021-11-28-presentation/priority_labels_heatmap_k4.svg')"
   ]
  },
  {
   "cell_type": "code",
   "execution_count": 31,
   "id": "dd394721-dbed-49a8-8de6-c50873e9ef94",
   "metadata": {
    "execution": {
     "iopub.execute_input": "2022-01-26T09:32:14.742773Z",
     "iopub.status.busy": "2022-01-26T09:32:14.742657Z",
     "iopub.status.idle": "2022-01-26T09:32:14.918209Z",
     "shell.execute_reply": "2022-01-26T09:32:14.917715Z",
     "shell.execute_reply.started": "2022-01-26T09:32:14.742759Z"
    }
   },
   "outputs": [
    {
     "data": {
      "image/png": "[encoded data removed]",
      "text/plain": [
       "<Figure size 1440x504 with 2 Axes>"
      ]
     },
     "metadata": {
      "needs_background": "light"
     },
     "output_type": "display_data"
    }
   ],
   "source": [
    "heatmap_df = user_metadata.groupby([\"priority labels\", \"K-Means = 4 new\"])[\"priority labels\"].count()\n",
    "\n",
    "heatmap_df = heatmap_df.to_frame()\n",
    "heatmap_df.columns = [\"priority count\"]\n",
    "\n",
    "heatmap_df_total = heatmap_df.reset_index()\n",
    "heatmap_df_total = heatmap_df_total.pivot(\"priority labels\", \"K-Means = 4 new\", \"priority count\").fillna(0).astype(int)\n",
    "\n",
    "heatmap_df_perc = heatmap_df.groupby(level=[1]).apply(lambda g: g / g.sum())\n",
    "heatmap_df_perc = heatmap_df_perc.reset_index()\n",
    "heatmap_df_perc = heatmap_df_perc.pivot(\"priority labels\", \"K-Means = 4 new\", \"priority count\").fillna(0)\n",
    "\n",
    "plt.figure(figsize=(20,7))\n",
    "sns.heatmap(heatmap_df_perc, annot=True, annot_kws={'va': 'bottom', 'fontweight': 'bold', 'fontsize': 'large'}, cmap=\"mako\", cbar_kws={'label': 'Proportion'+'\\n'+'size'})\n",
    "sns.heatmap(heatmap_df_perc, annot=heatmap_df_total, annot_kws={'va': 'top', 'size': 14, 'fontstyle': 'italic'}, fmt=\"d\", cmap=\"mako\", cbar=False)\n",
    "plt.tight_layout()\n",
    "# ## #plt.savefig('figures/2021-11-28-presentation/priority_labels_heatmap_k4.svg')"
   ]
  },
  {
   "cell_type": "code",
   "execution_count": 32,
   "id": "d143c8a5-a5ad-401e-acd6-b696298704a9",
   "metadata": {
    "execution": {
     "iopub.execute_input": "2022-01-26T09:32:14.919141Z",
     "iopub.status.busy": "2022-01-26T09:32:14.919029Z",
     "iopub.status.idle": "2022-01-26T09:32:15.122815Z",
     "shell.execute_reply": "2022-01-26T09:32:15.122329Z",
     "shell.execute_reply.started": "2022-01-26T09:32:14.919127Z"
    },
    "tags": []
   },
   "outputs": [
    {
     "data": {
      "image/png": "[encoded data removed]",
      "text/plain": [
       "<Figure size 1440x504 with 2 Axes>"
      ]
     },
     "metadata": {
      "needs_background": "light"
     },
     "output_type": "display_data"
    }
   ],
   "source": [
    "k=4\n",
    "heatmap_df = user_metadata.groupby([\"CPU request - Quartiles\", f\"K-Means = {k}\"])[\"CPU request - Quartiles\"].count()\n",
    "heatmap_df = heatmap_df.to_frame()\n",
    "heatmap_df.columns = [\"quartiles count\"]\n",
    "\n",
    "heatmap_df_total = heatmap_df.reset_index()\n",
    "heatmap_df_total = heatmap_df_total.pivot(\"CPU request - Quartiles\", f\"K-Means = {k}\", \"quartiles count\").fillna(0).astype(int)\n",
    "#heatmap_df_total[\"total\"] = heatmap_df.groupby(\"priority labels\").sum().values\n",
    "\n",
    "#plt.figure(figsize=(20,7))\n",
    "#sns.heatmap(heatmap_df_total, annot=True, fmt=\"d\")\n",
    "#\n",
    "heatmap_df_perc = heatmap_df.groupby(level=[1]).apply(lambda g: g / g.sum())\n",
    "heatmap_df_perc = heatmap_df_perc.reset_index()\n",
    "heatmap_df_perc[\"CPU request - Quartiles\"] = pd.Categorical(heatmap_df_perc[\"CPU request - Quartiles\"], categories=['Q1', 'Q2', 'Q3', 'Q4'])\n",
    "\n",
    "heatmap_df_perc = heatmap_df_perc.pivot(\"CPU request - Quartiles\", f\"K-Means = {k}\", \"quartiles count\").fillna(0)\n",
    "\n",
    "\n",
    "plt.figure(figsize=(20,7))\n",
    "sns.heatmap(heatmap_df_perc, annot=True, annot_kws={'va': 'bottom', 'fontweight': 'bold', 'fontsize': 'large'}, cmap=\"rocket\", cbar_kws={'label': 'Proportion'+'\\n'+'size'})\n",
    "sns.heatmap(heatmap_df_perc, annot=heatmap_df_total, annot_kws={'va': 'top', 'size': 14, 'fontstyle': 'italic'}, fmt=\"d\", cmap=\"rocket\", cbar=False)\n",
    "plt.tight_layout()\n",
    "#plt.savefig(f'figures/2021-11-28-presentation/cpu_requests_heatmap_k{k}.svg')"
   ]
  },
  {
   "cell_type": "code",
   "execution_count": 33,
   "id": "5ceffd26-ed07-41c3-9af2-0099bb0dad33",
   "metadata": {
    "execution": {
     "iopub.execute_input": "2022-01-26T09:32:15.123532Z",
     "iopub.status.busy": "2022-01-26T09:32:15.123418Z",
     "iopub.status.idle": "2022-01-26T09:32:15.354271Z",
     "shell.execute_reply": "2022-01-26T09:32:15.353808Z",
     "shell.execute_reply.started": "2022-01-26T09:32:15.123518Z"
    },
    "tags": []
   },
   "outputs": [
    {
     "data": {
      "image/png": "[encoded data removed]",
      "text/plain": [
       "<Figure size 1440x504 with 2 Axes>"
      ]
     },
     "metadata": {
      "needs_background": "light"
     },
     "output_type": "display_data"
    }
   ],
   "source": [
    "k=4\n",
    "heatmap_df = user_metadata.groupby([\"CPU request - Quartiles\", f\"K-Means = {k} new\"])[\"CPU request - Quartiles\"].count()\n",
    "heatmap_df = heatmap_df.to_frame()\n",
    "heatmap_df.columns = [\"quartiles count\"]\n",
    "\n",
    "heatmap_df_total = heatmap_df.reset_index()\n",
    "heatmap_df_total = heatmap_df_total.pivot(\"CPU request - Quartiles\", f\"K-Means = {k} new\", \"quartiles count\").fillna(0).astype(int)\n",
    "#heatmap_df_total[\"total\"] = heatmap_df.groupby(\"priority labels\").sum().values\n",
    "\n",
    "#plt.figure(figsize=(20,7))\n",
    "#sns.heatmap(heatmap_df_total, annot=True, fmt=\"d\")\n",
    "#\n",
    "heatmap_df_perc = heatmap_df.groupby(level=[1]).apply(lambda g: g / g.sum())\n",
    "heatmap_df_perc = heatmap_df_perc.reset_index()\n",
    "heatmap_df_perc[\"CPU request - Quartiles\"] = pd.Categorical(heatmap_df_perc[\"CPU request - Quartiles\"], categories=['Q1', 'Q2', 'Q3', 'Q4'])\n",
    "\n",
    "heatmap_df_perc = heatmap_df_perc.pivot(\"CPU request - Quartiles\", f\"K-Means = {k} new\", \"quartiles count\").fillna(0)\n",
    "\n",
    "\n",
    "plt.figure(figsize=(20,7))\n",
    "sns.heatmap(heatmap_df_perc, annot=True, annot_kws={'va': 'bottom', 'fontweight': 'bold', 'fontsize': 'large'}, cmap=\"rocket\", cbar_kws={'label': 'Proportion'+'\\n'+'size'})\n",
    "sns.heatmap(heatmap_df_perc, annot=heatmap_df_total, annot_kws={'va': 'top', 'size': 14, 'fontstyle': 'italic'}, fmt=\"d\", cmap=\"rocket\", cbar=False)\n",
    "plt.tight_layout()\n",
    "#plt.savefig(f'figures/2021-11-28-presentation/cpu_requests_heatmap_k{k}.svg')"
   ]
  },
  {
   "cell_type": "code",
   "execution_count": 34,
   "id": "e1301ac1-cd9c-4b1f-95d6-434d77082c10",
   "metadata": {
    "execution": {
     "iopub.execute_input": "2022-01-26T09:32:15.354996Z",
     "iopub.status.busy": "2022-01-26T09:32:15.354880Z",
     "iopub.status.idle": "2022-01-26T09:32:15.654199Z",
     "shell.execute_reply": "2022-01-26T09:32:15.653673Z",
     "shell.execute_reply.started": "2022-01-26T09:32:15.354982Z"
    },
    "tags": []
   },
   "outputs": [
    {
     "data": {
      "image/png": "[encoded data removed]",
      "text/plain": [
       "<Figure size 1440x504 with 2 Axes>"
      ]
     },
     "metadata": {
      "needs_background": "light"
     },
     "output_type": "display_data"
    }
   ],
   "source": [
    "heatmap_df = user_metadata.groupby([\"memory request - Quartiles\", \"K-Means = 4\"])[\"memory request - Quartiles\"].count()\n",
    "heatmap_df = heatmap_df.to_frame()\n",
    "heatmap_df.columns = [\"quartiles count\"]\n",
    "\n",
    "heatmap_df_total = heatmap_df.reset_index()\n",
    "heatmap_df_total = heatmap_df_total.pivot(\"memory request - Quartiles\", \"K-Means = 4\", \"quartiles count\").fillna(0).astype(int)\n",
    "#heatmap_df_total[\"total\"] = heatmap_df.groupby(\"priority labels\").sum().values\n",
    "\n",
    "#plt.figure(figsize=(20,7))\n",
    "#sns.heatmap(heatmap_df_total, annot=True, fmt=\"d\")\n",
    "#\n",
    "heatmap_df_perc = heatmap_df.groupby(level=[1]).apply(lambda g: g / g.sum())\n",
    "heatmap_df_perc = heatmap_df_perc.reset_index()\n",
    "heatmap_df_perc[\"memory request - Quartiles\"] = pd.Categorical(heatmap_df_perc[\"memory request - Quartiles\"], categories=['Q1', 'Q2', 'Q3', 'Q4'])\n",
    "\n",
    "heatmap_df_perc = heatmap_df_perc.pivot(\"memory request - Quartiles\", \"K-Means = 4\", \"quartiles count\").fillna(0)\n",
    "\n",
    "\n",
    "plt.figure(figsize=(20,7))\n",
    "sns.heatmap(heatmap_df_perc, annot=True, annot_kws={'va': 'bottom', 'fontweight': 'bold', 'fontsize': 'large'}, cmap=\"summer\", cbar_kws={'label': 'Proportion'+'\\n'+'size'})\n",
    "sns.heatmap(heatmap_df_perc, annot=heatmap_df_total, annot_kws={'va': 'top', 'size': 14, 'fontstyle': 'italic'}, fmt=\"d\", cmap=\"summer\", cbar=False)\n",
    "plt.tight_layout()\n",
    "#plt.savefig('figures/2021-11-28-presentation/memory_requests_heatmap_k10.svg')"
   ]
  },
  {
   "cell_type": "code",
   "execution_count": 35,
   "id": "0c8dd243-715a-4423-8674-edb8ff65786d",
   "metadata": {
    "execution": {
     "iopub.execute_input": "2022-01-26T09:32:15.654994Z",
     "iopub.status.busy": "2022-01-26T09:32:15.654874Z",
     "iopub.status.idle": "2022-01-26T09:32:15.857715Z",
     "shell.execute_reply": "2022-01-26T09:32:15.857231Z",
     "shell.execute_reply.started": "2022-01-26T09:32:15.654980Z"
    },
    "tags": []
   },
   "outputs": [
    {
     "data": {
      "image/png": "[encoded data removed]",
      "text/plain": [
       "<Figure size 1440x504 with 2 Axes>"
      ]
     },
     "metadata": {
      "needs_background": "light"
     },
     "output_type": "display_data"
    }
   ],
   "source": [
    "heatmap_df = user_metadata.groupby([\"memory request - Quartiles\", \"K-Means = 4 new\"])[\"memory request - Quartiles\"].count()\n",
    "heatmap_df = heatmap_df.to_frame()\n",
    "heatmap_df.columns = [\"quartiles count\"]\n",
    "\n",
    "heatmap_df_total = heatmap_df.reset_index()\n",
    "heatmap_df_total = heatmap_df_total.pivot(\"memory request - Quartiles\", \"K-Means = 4 new\", \"quartiles count\").fillna(0).astype(int)\n",
    "#heatmap_df_total[\"total\"] = heatmap_df.groupby(\"priority labels\").sum().values\n",
    "\n",
    "#plt.figure(figsize=(20,7))\n",
    "#sns.heatmap(heatmap_df_total, annot=True, fmt=\"d\")\n",
    "#\n",
    "heatmap_df_perc = heatmap_df.groupby(level=[1]).apply(lambda g: g / g.sum())\n",
    "heatmap_df_perc = heatmap_df_perc.reset_index()\n",
    "heatmap_df_perc[\"memory request - Quartiles\"] = pd.Categorical(heatmap_df_perc[\"memory request - Quartiles\"], categories=['Q1', 'Q2', 'Q3', 'Q4'])\n",
    "\n",
    "heatmap_df_perc = heatmap_df_perc.pivot(\"memory request - Quartiles\", \"K-Means = 4 new\", \"quartiles count\").fillna(0)\n",
    "\n",
    "\n",
    "plt.figure(figsize=(20,7))\n",
    "sns.heatmap(heatmap_df_perc, annot=True, annot_kws={'va': 'bottom', 'fontweight': 'bold', 'fontsize': 'large'}, cmap=\"summer\", cbar_kws={'label': 'Proportion'+'\\n'+'size'})\n",
    "sns.heatmap(heatmap_df_perc, annot=heatmap_df_total, annot_kws={'va': 'top', 'size': 14, 'fontstyle': 'italic'}, fmt=\"d\", cmap=\"summer\", cbar=False)\n",
    "plt.tight_layout()\n",
    "#plt.savefig('figures/2021-11-28-presentation/memory_requests_heatmap_k10.svg')"
   ]
  },
  {
   "cell_type": "code",
   "execution_count": 36,
   "id": "71a46357-2fbe-46f1-8fba-752b12393053",
   "metadata": {
    "execution": {
     "iopub.execute_input": "2022-01-26T09:32:15.858454Z",
     "iopub.status.busy": "2022-01-26T09:32:15.858338Z",
     "iopub.status.idle": "2022-01-26T09:32:16.082195Z",
     "shell.execute_reply": "2022-01-26T09:32:16.081721Z",
     "shell.execute_reply.started": "2022-01-26T09:32:15.858440Z"
    },
    "tags": []
   },
   "outputs": [
    {
     "data": {
      "image/png": "[encoded data removed]",
      "text/plain": [
       "<Figure size 1440x504 with 2 Axes>"
      ]
     },
     "metadata": {
      "needs_background": "light"
     },
     "output_type": "display_data"
    }
   ],
   "source": [
    "k=4\n",
    "target_metric=\"scheduling class\"\n",
    "\n",
    "heatmap_df = user_metadata.groupby([target_metric, f\"K-Means = {k}\"])[target_metric].count()\n",
    "heatmap_df = heatmap_df.to_frame()\n",
    "heatmap_df.columns = [\"quartiles count\"]\n",
    "\n",
    "heatmap_df_total = heatmap_df.reset_index()\n",
    "heatmap_df_total = heatmap_df_total.pivot(target_metric, f\"K-Means = {k}\", \"quartiles count\").fillna(0).astype(int)\n",
    "#heatmap_df_total[\"total\"] = heatmap_df.groupby(\"priority labels\").sum().values\n",
    "\n",
    "#plt.figure(figsize=(20,7))\n",
    "#sns.heatmap(heatmap_df_total, annot=True, fmt=\"d\")\n",
    "#\n",
    "heatmap_df_perc = heatmap_df.groupby(level=[1]).apply(lambda g: g / g.sum())\n",
    "heatmap_df_perc = heatmap_df_perc.reset_index()\n",
    "heatmap_df_perc[target_metric] = pd.Categorical(heatmap_df_perc[target_metric], categories=[0, 1, 2, 3])\n",
    "\n",
    "heatmap_df_perc = heatmap_df_perc.pivot(target_metric, f\"K-Means = {k}\", \"quartiles count\").fillna(0)\n",
    "\n",
    "\n",
    "plt.figure(figsize=(20,7))\n",
    "sns.heatmap(heatmap_df_perc, annot=True, annot_kws={'va': 'bottom', 'fontweight': 'bold', 'fontsize': 'large'}, cmap=\"GnBu_r\", cbar_kws={'label': 'Proportion'+'\\n'+'size'})\n",
    "sns.heatmap(heatmap_df_perc, annot=heatmap_df_total, annot_kws={'va': 'top', 'size': 14, 'fontstyle': 'italic'}, fmt=\"d\", cmap=\"GnBu_r\", cbar=False)\n",
    "plt.tight_layout()\n",
    "plt.savefig(f'figures/2021-11-28-presentation/schedclass_heatmap_k{k}.svg')"
   ]
  },
  {
   "cell_type": "code",
   "execution_count": 37,
   "id": "b26eb3f9-392c-49fb-9183-bd824f29b0b1",
   "metadata": {
    "execution": {
     "iopub.execute_input": "2022-01-26T09:32:16.083009Z",
     "iopub.status.busy": "2022-01-26T09:32:16.082893Z",
     "iopub.status.idle": "2022-01-26T09:32:16.298894Z",
     "shell.execute_reply": "2022-01-26T09:32:16.298394Z",
     "shell.execute_reply.started": "2022-01-26T09:32:16.082994Z"
    },
    "tags": []
   },
   "outputs": [
    {
     "data": {
      "image/png": "[encoded data removed]",
      "text/plain": [
       "<Figure size 1440x504 with 2 Axes>"
      ]
     },
     "metadata": {
      "needs_background": "light"
     },
     "output_type": "display_data"
    }
   ],
   "source": [
    "k=4\n",
    "target_metric=\"scheduling class\"\n",
    "\n",
    "heatmap_df = user_metadata.groupby([target_metric, f\"K-Means = {k} new\"])[target_metric].count()\n",
    "heatmap_df = heatmap_df.to_frame()\n",
    "heatmap_df.columns = [\"quartiles count\"]\n",
    "\n",
    "heatmap_df_total = heatmap_df.reset_index()\n",
    "heatmap_df_total = heatmap_df_total.pivot(target_metric, f\"K-Means = {k} new\", \"quartiles count\").fillna(0).astype(int)\n",
    "#heatmap_df_total[\"total\"] = heatmap_df.groupby(\"priority labels\").sum().values\n",
    "\n",
    "#plt.figure(figsize=(20,7))\n",
    "#sns.heatmap(heatmap_df_total, annot=True, fmt=\"d\")\n",
    "#\n",
    "heatmap_df_perc = heatmap_df.groupby(level=[1]).apply(lambda g: g / g.sum())\n",
    "heatmap_df_perc = heatmap_df_perc.reset_index()\n",
    "heatmap_df_perc[target_metric] = pd.Categorical(heatmap_df_perc[target_metric], categories=[0, 1, 2, 3])\n",
    "\n",
    "heatmap_df_perc = heatmap_df_perc.pivot(target_metric, f\"K-Means = {k} new\", \"quartiles count\").fillna(0)\n",
    "\n",
    "\n",
    "plt.figure(figsize=(20,7))\n",
    "sns.heatmap(heatmap_df_perc, annot=True, annot_kws={'va': 'bottom', 'fontweight': 'bold', 'fontsize': 'large'}, cmap=\"GnBu_r\", cbar_kws={'label': 'Proportion'+'\\n'+'size'})\n",
    "sns.heatmap(heatmap_df_perc, annot=heatmap_df_total, annot_kws={'va': 'top', 'size': 14, 'fontstyle': 'italic'}, fmt=\"d\", cmap=\"GnBu_r\", cbar=False)\n",
    "plt.tight_layout()\n",
    "plt.savefig(f'figures/2021-11-28-presentation/schedclass_heatmap_k{k}.svg')"
   ]
  },
  {
   "cell_type": "markdown",
   "id": "9fa8f813-ecca-41e3-8515-57497db4b46d",
   "metadata": {
    "tags": []
   },
   "source": [
    "## XGBoost"
   ]
  },
  {
   "cell_type": "code",
   "execution_count": 38,
   "id": "b3c62658-f923-4ec8-83bf-f549a5adf01e",
   "metadata": {
    "execution": {
     "iopub.execute_input": "2022-01-26T09:32:16.299621Z",
     "iopub.status.busy": "2022-01-26T09:32:16.299508Z",
     "iopub.status.idle": "2022-01-26T09:32:16.302920Z",
     "shell.execute_reply": "2022-01-26T09:32:16.302438Z",
     "shell.execute_reply.started": "2022-01-26T09:32:16.299607Z"
    },
    "tags": []
   },
   "outputs": [],
   "source": [
    "model = xgb.XGBClassifier(tree_method='gpu_hist')"
   ]
  },
  {
   "cell_type": "code",
   "execution_count": 39,
   "id": "ddab02d6-8398-4937-9fcb-3a393ffe9fbc",
   "metadata": {
    "execution": {
     "iopub.execute_input": "2022-01-26T09:32:16.306135Z",
     "iopub.status.busy": "2022-01-26T09:32:16.306017Z",
     "iopub.status.idle": "2022-01-26T09:32:16.309980Z",
     "shell.execute_reply": "2022-01-26T09:32:16.309321Z",
     "shell.execute_reply.started": "2022-01-26T09:32:16.306121Z"
    },
    "tags": []
   },
   "outputs": [],
   "source": [
    "oneHotDf.columns = [col.replace('[', '').replace(']','').replace(',',' ').replace(' ', '_').replace(' ', '') for col in oneHotDf.columns]"
   ]
  },
  {
   "cell_type": "markdown",
   "id": "2a92cca0-7974-4d84-956d-8e1333a1c889",
   "metadata": {},
   "source": [
    "#### K-Means 4 - cl.0"
   ]
  },
  {
   "cell_type": "code",
   "execution_count": 40,
   "id": "dc2ebb27-787a-4958-be24-801f9c8c11e1",
   "metadata": {
    "execution": {
     "iopub.execute_input": "2022-01-26T09:32:16.310571Z",
     "iopub.status.busy": "2022-01-26T09:32:16.310466Z",
     "iopub.status.idle": "2022-01-26T09:32:17.139818Z",
     "shell.execute_reply": "2022-01-26T09:32:17.139304Z",
     "shell.execute_reply.started": "2022-01-26T09:32:16.310558Z"
    },
    "tags": []
   },
   "outputs": [
    {
     "name": "stderr",
     "output_type": "stream",
     "text": [
      "/opt/anaconda3/envs/neuralnets/lib/python3.9/site-packages/xgboost/sklearn.py:1224: UserWarning: The use of label encoder in XGBClassifier is deprecated and will be removed in a future release. To remove this warning, do the following: 1) Pass option use_label_encoder=False when constructing XGBClassifier object; and 2) Encode your labels (y) as integers starting with 0, i.e. 0, 1, 2, ..., [num_class - 1].\n",
      "  warnings.warn(label_encoder_deprecation_msg, UserWarning)\n"
     ]
    },
    {
     "name": "stdout",
     "output_type": "stream",
     "text": [
      "[10:32:16] WARNING: ../src/learner.cc:1115: Starting in XGBoost 1.3.0, the default evaluation metric used with the objective 'binary:logistic' was changed from 'error' to 'logloss'. Explicitly set eval_metric if you'd like to restore the old behavior.\n"
     ]
    },
    {
     "data": {
      "text/plain": [
       "XGBClassifier(base_score=0.5, booster='gbtree', colsample_bylevel=1,\n",
       "              colsample_bynode=1, colsample_bytree=1, enable_categorical=False,\n",
       "              gamma=0, gpu_id=0, importance_type=None,\n",
       "              interaction_constraints='', learning_rate=0.300000012,\n",
       "              max_delta_step=0, max_depth=6, min_child_weight=1, missing=nan,\n",
       "              monotone_constraints='()', n_estimators=100, n_jobs=80,\n",
       "              num_parallel_tree=1, predictor='auto', random_state=0,\n",
       "              reg_alpha=0, reg_lambda=1, scale_pos_weight=1, subsample=1,\n",
       "              tree_method='gpu_hist', validate_parameters=1, verbosity=None)"
      ]
     },
     "execution_count": 40,
     "metadata": {},
     "output_type": "execute_result"
    }
   ],
   "source": [
    "model.fit(oneHotDf, (user_metadata['K-Means = 4'] == 0).astype(int).values)"
   ]
  },
  {
   "cell_type": "code",
   "execution_count": 41,
   "id": "bf8f047f-22c4-4333-afe2-b074f2d1f9df",
   "metadata": {
    "execution": {
     "iopub.execute_input": "2022-01-26T09:32:17.140677Z",
     "iopub.status.busy": "2022-01-26T09:32:17.140557Z",
     "iopub.status.idle": "2022-01-26T09:32:17.145911Z",
     "shell.execute_reply": "2022-01-26T09:32:17.145111Z",
     "shell.execute_reply.started": "2022-01-26T09:32:17.140662Z"
    },
    "tags": []
   },
   "outputs": [
    {
     "data": {
      "text/plain": [
       "{'scheduling_class': 0.043836984783411026,\n",
       " 'disk_space_request_-_Quartiles_Q1': 0.5545803904533386,\n",
       " 'disk_space_request_-_Quartiles_Q2': 0.08822868764400482,\n",
       " 'disk_space_request_-_Quartiles_Q4': 0.04577844962477684,\n",
       " 'memory_request_-_Quartiles_Q2': 0.06778456270694733,\n",
       " 'memory_request_-_Quartiles_Q3': 0.09083481132984161,\n",
       " 'memory_request_-_Quartiles_Q4': 0.024448048323392868,\n",
       " 'CPU_request_-_Quartiles_Q1': 0.039329662919044495,\n",
       " 'CPU_request_-_Quartiles_Q2': 0.08986657112836838,\n",
       " 'CPU_request_-_Quartiles_Q3': 0.041036322712898254,\n",
       " 'CPU_request_-_Quartiles_Q4': 0.11688001453876495,\n",
       " 'priority_labels_Free_0_1': 0.04811729118227959,\n",
       " 'logical_job_name_F1BfEnSeC8ZBresily11DA02jCLrIE6Svxxw0csgAuU=': 0.04466798156499863,\n",
       " 'logical_job_name_Uz1FE3xBXQAVTIjiZlJjuewGhvo+vb+494mMeR18zT8=': 0.12751798331737518,\n",
       " 'logical_job_name_f7WFf9GHe6IJiWeFjqoqhEKiQ94wHFwI1e05vf2/Rbo=': 0.014363223686814308,\n",
       " 'logical_job_name_h8JLKv8xlfsO0x8vj/+mOJsBdPsjjsrGKWag+H5IsqU=': 0.05685177445411682,\n",
       " 'logical_job_name_qZNuuKc9BUuzCAnBpGbi11SV3qLhTgEB+6MSvGsFh9Y=': 0.11563310772180557,\n",
       " 'logical_job_name_rsy/Jo2Au/c5VHFUzPaq9rdfLsSIhHjv6RJHJL50FNk=': 0.0836394727230072,\n",
       " 'logical_job_name_yVIRahrv8Z2KjOxCDQb3Y6flkxNj/h+w2fRbjVEk2BE=': 0.7877998352050781}"
      ]
     },
     "execution_count": 41,
     "metadata": {},
     "output_type": "execute_result"
    }
   ],
   "source": [
    "model.get_booster().get_score(importance_type='gain')"
   ]
  },
  {
   "cell_type": "code",
   "execution_count": 42,
   "id": "e0b6ed9f-3c2f-433c-90e6-ec4ab1f636fd",
   "metadata": {
    "execution": {
     "iopub.execute_input": "2022-01-26T09:32:17.146610Z",
     "iopub.status.busy": "2022-01-26T09:32:17.146497Z",
     "iopub.status.idle": "2022-01-26T09:32:17.212967Z",
     "shell.execute_reply": "2022-01-26T09:32:17.212375Z",
     "shell.execute_reply.started": "2022-01-26T09:32:17.146595Z"
    },
    "tags": []
   },
   "outputs": [
    {
     "data": {
      "image/svg+xml": [
       "<?xml version=\"1.0\" encoding=\"UTF-8\" standalone=\"no\"?>\n",
       "<!DOCTYPE svg PUBLIC \"-//W3C//DTD SVG 1.1//EN\"\n",
       " \"http://www.w3.org/Graphics/SVG/1.1/DTD/svg11.dtd\">\n",
       "<!-- Generated by graphviz version 2.40.1 (20161225.0304)\n",
       " -->\n",
       "<!-- Title: %3 Pages: 1 -->\n",
       "<svg width=\"928pt\" height=\"305pt\"\n",
       " viewBox=\"0.00 0.00 928.25 305.00\" xmlns=\"http://www.w3.org/2000/svg\" xmlns:xlink=\"http://www.w3.org/1999/xlink\">\n",
       "<g id=\"graph0\" class=\"graph\" transform=\"scale(1 1) rotate(0) translate(4 301)\">\n",
       "<title>%3</title>\n",
       "<polygon fill=\"#ffffff\" stroke=\"transparent\" points=\"-4,4 -4,-301 924.2491,-301 924.2491,4 -4,4\"/>\n",
       "<!-- 0 -->\n",
       "<g id=\"node1\" class=\"node\">\n",
       "<title>0</title>\n",
       "<ellipse fill=\"none\" stroke=\"#000000\" cx=\"638.1742\" cy=\"-279\" rx=\"282.15\" ry=\"18\"/>\n",
       "<text text-anchor=\"middle\" x=\"638.1742\" y=\"-275.3\" font-family=\"Times,serif\" font-size=\"14.00\" fill=\"#000000\">logical_job_name_rsy/Jo2Au/c5VHFUzPaq9rdfLsSIhHjv6RJHJL50FNk=&lt;1</text>\n",
       "</g>\n",
       "<!-- 1 -->\n",
       "<g id=\"node2\" class=\"node\">\n",
       "<title>1</title>\n",
       "<ellipse fill=\"none\" stroke=\"#000000\" cx=\"464.1742\" cy=\"-192\" rx=\"293.548\" ry=\"18\"/>\n",
       "<text text-anchor=\"middle\" x=\"464.1742\" y=\"-188.3\" font-family=\"Times,serif\" font-size=\"14.00\" fill=\"#000000\">logical_job_name_yVIRahrv8Z2KjOxCDQb3Y6flkxNj/h+w2fRbjVEk2BE=&lt;1</text>\n",
       "</g>\n",
       "<!-- 0&#45;&gt;1 -->\n",
       "<g id=\"edge1\" class=\"edge\">\n",
       "<title>0&#45;&gt;1</title>\n",
       "<path fill=\"none\" stroke=\"#0000ff\" d=\"M602.1213,-260.9735C575.1748,-247.5003 538.1605,-228.9932 509.2571,-214.5415\"/>\n",
       "<polygon fill=\"#0000ff\" stroke=\"#0000ff\" points=\"510.6904,-211.3451 500.1809,-210.0034 507.5599,-217.6061 510.6904,-211.3451\"/>\n",
       "<text text-anchor=\"middle\" x=\"596.1742\" y=\"-231.8\" font-family=\"Times,serif\" font-size=\"14.00\" fill=\"#000000\">yes, missing</text>\n",
       "</g>\n",
       "<!-- 2 -->\n",
       "<g id=\"node3\" class=\"node\">\n",
       "<title>2</title>\n",
       "<ellipse fill=\"none\" stroke=\"#000000\" cx=\"812.1742\" cy=\"-192\" rx=\"36.2938\" ry=\"18\"/>\n",
       "<text text-anchor=\"middle\" x=\"812.1742\" y=\"-188.3\" font-family=\"Times,serif\" font-size=\"14.00\" fill=\"#000000\">leaf=&#45;0</text>\n",
       "</g>\n",
       "<!-- 0&#45;&gt;2 -->\n",
       "<g id=\"edge2\" class=\"edge\">\n",
       "<title>0&#45;&gt;2</title>\n",
       "<path fill=\"none\" stroke=\"#ff0000\" d=\"M674.2271,-260.9735C704.4071,-245.8835 747.2162,-224.479 777.1147,-209.5297\"/>\n",
       "<polygon fill=\"#ff0000\" stroke=\"#ff0000\" points=\"778.9569,-212.5218 786.3359,-204.9191 775.8264,-206.2608 778.9569,-212.5218\"/>\n",
       "<text text-anchor=\"middle\" x=\"743.1742\" y=\"-231.8\" font-family=\"Times,serif\" font-size=\"14.00\" fill=\"#000000\">no</text>\n",
       "</g>\n",
       "<!-- 3 -->\n",
       "<g id=\"node4\" class=\"node\">\n",
       "<title>3</title>\n",
       "<ellipse fill=\"none\" stroke=\"#000000\" cx=\"291.1742\" cy=\"-105\" rx=\"291.3484\" ry=\"18\"/>\n",
       "<text text-anchor=\"middle\" x=\"291.1742\" y=\"-101.3\" font-family=\"Times,serif\" font-size=\"14.00\" fill=\"#000000\">logical_job_name_f7WFf9GHe6IJiWeFjqoqhEKiQ94wHFwI1e05vf2/Rbo=&lt;1</text>\n",
       "</g>\n",
       "<!-- 1&#45;&gt;3 -->\n",
       "<g id=\"edge3\" class=\"edge\">\n",
       "<title>1&#45;&gt;3</title>\n",
       "<path fill=\"none\" stroke=\"#0000ff\" d=\"M428.3285,-173.9735C401.5369,-160.5003 364.7353,-141.9932 335.998,-127.5415\"/>\n",
       "<polygon fill=\"#0000ff\" stroke=\"#0000ff\" points=\"337.4804,-124.3693 326.974,-123.0034 334.3354,-130.6231 337.4804,-124.3693\"/>\n",
       "<text text-anchor=\"middle\" x=\"422.1742\" y=\"-144.8\" font-family=\"Times,serif\" font-size=\"14.00\" fill=\"#000000\">yes, missing</text>\n",
       "</g>\n",
       "<!-- 4 -->\n",
       "<g id=\"node5\" class=\"node\">\n",
       "<title>4</title>\n",
       "<ellipse fill=\"none\" stroke=\"#000000\" cx=\"637.1742\" cy=\"-105\" rx=\"36.2938\" ry=\"18\"/>\n",
       "<text text-anchor=\"middle\" x=\"637.1742\" y=\"-101.3\" font-family=\"Times,serif\" font-size=\"14.00\" fill=\"#000000\">leaf=&#45;0</text>\n",
       "</g>\n",
       "<!-- 1&#45;&gt;4 -->\n",
       "<g id=\"edge4\" class=\"edge\">\n",
       "<title>1&#45;&gt;4</title>\n",
       "<path fill=\"none\" stroke=\"#ff0000\" d=\"M500.0199,-173.9735C530.0264,-158.8835 572.5896,-137.479 602.3162,-122.5297\"/>\n",
       "<polygon fill=\"#ff0000\" stroke=\"#ff0000\" points=\"604.123,-125.5388 611.4844,-117.9191 600.978,-119.2851 604.123,-125.5388\"/>\n",
       "<text text-anchor=\"middle\" x=\"568.1742\" y=\"-144.8\" font-family=\"Times,serif\" font-size=\"14.00\" fill=\"#000000\">no</text>\n",
       "</g>\n",
       "<!-- 5 -->\n",
       "<g id=\"node6\" class=\"node\">\n",
       "<title>5</title>\n",
       "<ellipse fill=\"none\" stroke=\"#000000\" cx=\"205.1742\" cy=\"-18\" rx=\"75.2868\" ry=\"18\"/>\n",
       "<text text-anchor=\"middle\" x=\"205.1742\" y=\"-14.3\" font-family=\"Times,serif\" font-size=\"14.00\" fill=\"#000000\">leaf=0.349152565</text>\n",
       "</g>\n",
       "<!-- 3&#45;&gt;5 -->\n",
       "<g id=\"edge5\" class=\"edge\">\n",
       "<title>3&#45;&gt;5</title>\n",
       "<path fill=\"none\" stroke=\"#0000ff\" d=\"M273.3549,-86.9735C260.8184,-74.2912 243.8728,-57.1486 230.0119,-43.1265\"/>\n",
       "<polygon fill=\"#0000ff\" stroke=\"#0000ff\" points=\"232.1956,-40.357 222.6763,-35.7057 227.2173,-45.2781 232.1956,-40.357\"/>\n",
       "<text text-anchor=\"middle\" x=\"288.1742\" y=\"-57.8\" font-family=\"Times,serif\" font-size=\"14.00\" fill=\"#000000\">yes, missing</text>\n",
       "</g>\n",
       "<!-- 6 -->\n",
       "<g id=\"node7\" class=\"node\">\n",
       "<title>6</title>\n",
       "<ellipse fill=\"none\" stroke=\"#000000\" cx=\"378.1742\" cy=\"-18\" rx=\"79.8859\" ry=\"18\"/>\n",
       "<text text-anchor=\"middle\" x=\"378.1742\" y=\"-14.3\" font-family=\"Times,serif\" font-size=\"14.00\" fill=\"#000000\">leaf=0.0666666701</text>\n",
       "</g>\n",
       "<!-- 3&#45;&gt;6 -->\n",
       "<g id=\"edge6\" class=\"edge\">\n",
       "<title>3&#45;&gt;6</title>\n",
       "<path fill=\"none\" stroke=\"#ff0000\" d=\"M309.2006,-86.9735C321.8829,-74.2912 339.0255,-57.1486 353.0476,-43.1265\"/>\n",
       "<polygon fill=\"#ff0000\" stroke=\"#ff0000\" points=\"355.8723,-45.2517 360.4685,-35.7057 350.9225,-40.3019 355.8723,-45.2517\"/>\n",
       "<text text-anchor=\"middle\" x=\"347.1742\" y=\"-57.8\" font-family=\"Times,serif\" font-size=\"14.00\" fill=\"#000000\">no</text>\n",
       "</g>\n",
       "</g>\n",
       "</svg>\n"
      ],
      "text/plain": [
       "<graphviz.sources.Source at 0x7f03dc61c250>"
      ]
     },
     "execution_count": 42,
     "metadata": {},
     "output_type": "execute_result"
    }
   ],
   "source": [
    "xgb.to_graphviz(model)"
   ]
  },
  {
   "cell_type": "code",
   "execution_count": 43,
   "id": "06881ed4-73d2-4b5d-bb34-f67f5801591e",
   "metadata": {
    "execution": {
     "iopub.execute_input": "2022-01-26T09:32:17.214140Z",
     "iopub.status.busy": "2022-01-26T09:32:17.213940Z",
     "iopub.status.idle": "2022-01-26T09:32:17.217986Z",
     "shell.execute_reply": "2022-01-26T09:32:17.217462Z",
     "shell.execute_reply.started": "2022-01-26T09:32:17.214113Z"
    },
    "tags": []
   },
   "outputs": [],
   "source": [
    "scoring = {'acc': 'accuracy',\n",
    "           'f1_macro': 'f1_macro',\n",
    "           'f1_weight': 'f1_weighted'}"
   ]
  },
  {
   "cell_type": "code",
   "execution_count": 44,
   "id": "719cee43-30e5-462c-8856-c38fe70beeaf",
   "metadata": {
    "execution": {
     "iopub.execute_input": "2022-01-26T09:32:17.218808Z",
     "iopub.status.busy": "2022-01-26T09:32:17.218631Z",
     "iopub.status.idle": "2022-01-26T09:32:18.757195Z",
     "shell.execute_reply": "2022-01-26T09:32:18.756731Z",
     "shell.execute_reply.started": "2022-01-26T09:32:17.218785Z"
    },
    "tags": []
   },
   "outputs": [
    {
     "name": "stderr",
     "output_type": "stream",
     "text": [
      "/opt/anaconda3/envs/neuralnets/lib/python3.9/site-packages/xgboost/sklearn.py:1224: UserWarning: The use of label encoder in XGBClassifier is deprecated and will be removed in a future release. To remove this warning, do the following: 1) Pass option use_label_encoder=False when constructing XGBClassifier object; and 2) Encode your labels (y) as integers starting with 0, i.e. 0, 1, 2, ..., [num_class - 1].\n",
      "  warnings.warn(label_encoder_deprecation_msg, UserWarning)\n",
      "/opt/anaconda3/envs/neuralnets/lib/python3.9/site-packages/xgboost/sklearn.py:1224: UserWarning: The use of label encoder in XGBClassifier is deprecated and will be removed in a future release. To remove this warning, do the following: 1) Pass option use_label_encoder=False when constructing XGBClassifier object; and 2) Encode your labels (y) as integers starting with 0, i.e. 0, 1, 2, ..., [num_class - 1].\n",
      "  warnings.warn(label_encoder_deprecation_msg, UserWarning)\n"
     ]
    },
    {
     "name": "stdout",
     "output_type": "stream",
     "text": [
      "[10:32:17] WARNING: ../src/learner.cc:1115: Starting in XGBoost 1.3.0, the default evaluation metric used with the objective 'binary:logistic' was changed from 'error' to 'logloss'. Explicitly set eval_metric if you'd like to restore the old behavior.\n",
      "[10:32:17] WARNING: ../src/learner.cc:1115: Starting in XGBoost 1.3.0, the default evaluation metric used with the objective 'binary:logistic' was changed from 'error' to 'logloss'. Explicitly set eval_metric if you'd like to restore the old behavior.\n"
     ]
    },
    {
     "name": "stderr",
     "output_type": "stream",
     "text": [
      "/opt/anaconda3/envs/neuralnets/lib/python3.9/site-packages/xgboost/sklearn.py:1224: UserWarning: The use of label encoder in XGBClassifier is deprecated and will be removed in a future release. To remove this warning, do the following: 1) Pass option use_label_encoder=False when constructing XGBClassifier object; and 2) Encode your labels (y) as integers starting with 0, i.e. 0, 1, 2, ..., [num_class - 1].\n",
      "  warnings.warn(label_encoder_deprecation_msg, UserWarning)\n",
      "/opt/anaconda3/envs/neuralnets/lib/python3.9/site-packages/xgboost/sklearn.py:1224: UserWarning: The use of label encoder in XGBClassifier is deprecated and will be removed in a future release. To remove this warning, do the following: 1) Pass option use_label_encoder=False when constructing XGBClassifier object; and 2) Encode your labels (y) as integers starting with 0, i.e. 0, 1, 2, ..., [num_class - 1].\n",
      "  warnings.warn(label_encoder_deprecation_msg, UserWarning)\n"
     ]
    },
    {
     "name": "stdout",
     "output_type": "stream",
     "text": [
      "[10:32:17] WARNING: ../src/learner.cc:1115: Starting in XGBoost 1.3.0, the default evaluation metric used with the objective 'binary:logistic' was changed from 'error' to 'logloss'. Explicitly set eval_metric if you'd like to restore the old behavior.\n",
      "[10:32:17] WARNING: ../src/learner.cc:1115: Starting in XGBoost 1.3.0, the default evaluation metric used with the objective 'binary:logistic' was changed from 'error' to 'logloss'. Explicitly set eval_metric if you'd like to restore the old behavior.\n"
     ]
    },
    {
     "name": "stderr",
     "output_type": "stream",
     "text": [
      "/opt/anaconda3/envs/neuralnets/lib/python3.9/site-packages/xgboost/sklearn.py:1224: UserWarning: The use of label encoder in XGBClassifier is deprecated and will be removed in a future release. To remove this warning, do the following: 1) Pass option use_label_encoder=False when constructing XGBClassifier object; and 2) Encode your labels (y) as integers starting with 0, i.e. 0, 1, 2, ..., [num_class - 1].\n",
      "  warnings.warn(label_encoder_deprecation_msg, UserWarning)\n",
      "/opt/anaconda3/envs/neuralnets/lib/python3.9/site-packages/xgboost/sklearn.py:1224: UserWarning: The use of label encoder in XGBClassifier is deprecated and will be removed in a future release. To remove this warning, do the following: 1) Pass option use_label_encoder=False when constructing XGBClassifier object; and 2) Encode your labels (y) as integers starting with 0, i.e. 0, 1, 2, ..., [num_class - 1].\n",
      "  warnings.warn(label_encoder_deprecation_msg, UserWarning)\n"
     ]
    },
    {
     "name": "stdout",
     "output_type": "stream",
     "text": [
      "[10:32:17] WARNING: ../src/learner.cc:1115: Starting in XGBoost 1.3.0, the default evaluation metric used with the objective 'binary:logistic' was changed from 'error' to 'logloss'. Explicitly set eval_metric if you'd like to restore the old behavior.\n",
      "[10:32:17] WARNING: ../src/learner.cc:1115: Starting in XGBoost 1.3.0, the default evaluation metric used with the objective 'binary:logistic' was changed from 'error' to 'logloss'. Explicitly set eval_metric if you'd like to restore the old behavior.\n"
     ]
    },
    {
     "name": "stderr",
     "output_type": "stream",
     "text": [
      "/opt/anaconda3/envs/neuralnets/lib/python3.9/site-packages/xgboost/sklearn.py:1224: UserWarning: The use of label encoder in XGBClassifier is deprecated and will be removed in a future release. To remove this warning, do the following: 1) Pass option use_label_encoder=False when constructing XGBClassifier object; and 2) Encode your labels (y) as integers starting with 0, i.e. 0, 1, 2, ..., [num_class - 1].\n",
      "  warnings.warn(label_encoder_deprecation_msg, UserWarning)\n",
      "/opt/anaconda3/envs/neuralnets/lib/python3.9/site-packages/xgboost/sklearn.py:1224: UserWarning: The use of label encoder in XGBClassifier is deprecated and will be removed in a future release. To remove this warning, do the following: 1) Pass option use_label_encoder=False when constructing XGBClassifier object; and 2) Encode your labels (y) as integers starting with 0, i.e. 0, 1, 2, ..., [num_class - 1].\n",
      "  warnings.warn(label_encoder_deprecation_msg, UserWarning)\n"
     ]
    },
    {
     "name": "stdout",
     "output_type": "stream",
     "text": [
      "[10:32:18] WARNING: ../src/learner.cc:1115: Starting in XGBoost 1.3.0, the default evaluation metric used with the objective 'binary:logistic' was changed from 'error' to 'logloss'. Explicitly set eval_metric if you'd like to restore the old behavior.\n",
      "[10:32:18] WARNING: ../src/learner.cc:1115: Starting in XGBoost 1.3.0, the default evaluation metric used with the objective 'binary:logistic' was changed from 'error' to 'logloss'. Explicitly set eval_metric if you'd like to restore the old behavior.\n"
     ]
    },
    {
     "name": "stderr",
     "output_type": "stream",
     "text": [
      "/opt/anaconda3/envs/neuralnets/lib/python3.9/site-packages/xgboost/sklearn.py:1224: UserWarning: The use of label encoder in XGBClassifier is deprecated and will be removed in a future release. To remove this warning, do the following: 1) Pass option use_label_encoder=False when constructing XGBClassifier object; and 2) Encode your labels (y) as integers starting with 0, i.e. 0, 1, 2, ..., [num_class - 1].\n",
      "  warnings.warn(label_encoder_deprecation_msg, UserWarning)\n",
      "/opt/anaconda3/envs/neuralnets/lib/python3.9/site-packages/xgboost/sklearn.py:1224: UserWarning: The use of label encoder in XGBClassifier is deprecated and will be removed in a future release. To remove this warning, do the following: 1) Pass option use_label_encoder=False when constructing XGBClassifier object; and 2) Encode your labels (y) as integers starting with 0, i.e. 0, 1, 2, ..., [num_class - 1].\n",
      "  warnings.warn(label_encoder_deprecation_msg, UserWarning)\n"
     ]
    },
    {
     "name": "stdout",
     "output_type": "stream",
     "text": [
      "[10:32:18] WARNING: ../src/learner.cc:1115: Starting in XGBoost 1.3.0, the default evaluation metric used with the objective 'binary:logistic' was changed from 'error' to 'logloss'. Explicitly set eval_metric if you'd like to restore the old behavior.\n",
      "[10:32:18] WARNING: ../src/learner.cc:1115: Starting in XGBoost 1.3.0, the default evaluation metric used with the objective 'binary:logistic' was changed from 'error' to 'logloss'. Explicitly set eval_metric if you'd like to restore the old behavior.\n"
     ]
    }
   ],
   "source": [
    "kfold = KFold(n_splits=10)\n",
    "model0 = xgb.XGBClassifier(max_depth=6, min_child_weight=1, subsample=0.8879, eta=0.099)\n",
    "results0 = cross_validate(model0, oneHotDf, (user_metadata['K-Means = 4'] == 0).astype(int).values, scoring=scoring, cv=kfold)"
   ]
  },
  {
   "cell_type": "code",
   "execution_count": 45,
   "id": "6d8666d8-00ad-4eda-8409-30883b7c1bcb",
   "metadata": {
    "execution": {
     "iopub.execute_input": "2022-01-26T09:32:18.757995Z",
     "iopub.status.busy": "2022-01-26T09:32:18.757823Z",
     "iopub.status.idle": "2022-01-26T09:32:18.766866Z",
     "shell.execute_reply": "2022-01-26T09:32:18.766351Z",
     "shell.execute_reply.started": "2022-01-26T09:32:18.757972Z"
    },
    "tags": []
   },
   "outputs": [
    {
     "name": "stdout",
     "output_type": "stream",
     "text": [
      "75.26315789473685 10.27327436628586\n"
     ]
    }
   ],
   "source": [
    "print(results0['test_acc'].mean()*100, results0['test_acc'].std()*100) "
   ]
  },
  {
   "cell_type": "code",
   "execution_count": 46,
   "id": "66071a9c-2545-406c-8028-24e8bffea3d3",
   "metadata": {
    "execution": {
     "iopub.execute_input": "2022-01-26T09:32:18.767648Z",
     "iopub.status.busy": "2022-01-26T09:32:18.767480Z",
     "iopub.status.idle": "2022-01-26T09:32:18.776465Z",
     "shell.execute_reply": "2022-01-26T09:32:18.775971Z",
     "shell.execute_reply.started": "2022-01-26T09:32:18.767626Z"
    },
    "tags": []
   },
   "outputs": [
    {
     "name": "stdout",
     "output_type": "stream",
     "text": [
      "43.93439384947924 4.346522875095835\n"
     ]
    }
   ],
   "source": [
    "print(results0['test_f1_macro'].mean()*100, results0['test_f1_macro'].std()*100) "
   ]
  },
  {
   "cell_type": "code",
   "execution_count": 47,
   "id": "ae76e827-cf47-407a-9adc-5a1f57190084",
   "metadata": {
    "execution": {
     "iopub.execute_input": "2022-01-26T09:32:18.777236Z",
     "iopub.status.busy": "2022-01-26T09:32:18.777068Z",
     "iopub.status.idle": "2022-01-26T09:32:18.786039Z",
     "shell.execute_reply": "2022-01-26T09:32:18.785532Z",
     "shell.execute_reply.started": "2022-01-26T09:32:18.777214Z"
    },
    "tags": []
   },
   "outputs": [
    {
     "name": "stdout",
     "output_type": "stream",
     "text": [
      "67.24421539701675 14.028775608029893\n"
     ]
    }
   ],
   "source": [
    "print(results0['test_f1_weight'].mean()*100, results0['test_f1_weight'].std()*100) "
   ]
  },
  {
   "cell_type": "markdown",
   "id": "17652ef0-113d-482c-990a-d600590513d6",
   "metadata": {},
   "source": [
    "#### K-Means 4 -cl.1"
   ]
  },
  {
   "cell_type": "code",
   "execution_count": 48,
   "id": "8953a23a-9755-4314-b314-f284218d0575",
   "metadata": {
    "execution": {
     "iopub.execute_input": "2022-01-26T09:32:18.786830Z",
     "iopub.status.busy": "2022-01-26T09:32:18.786651Z",
     "iopub.status.idle": "2022-01-26T09:32:20.521292Z",
     "shell.execute_reply": "2022-01-26T09:32:20.520739Z",
     "shell.execute_reply.started": "2022-01-26T09:32:18.786808Z"
    },
    "tags": []
   },
   "outputs": [
    {
     "name": "stdout",
     "output_type": "stream",
     "text": [
      "[10:32:18] WARNING: ../src/learner.cc:1115: Starting in XGBoost 1.3.0, the default evaluation metric used with the objective 'binary:logistic' was changed from 'error' to 'logloss'. Explicitly set eval_metric if you'd like to restore the old behavior.\n"
     ]
    },
    {
     "name": "stderr",
     "output_type": "stream",
     "text": [
      "/opt/anaconda3/envs/neuralnets/lib/python3.9/site-packages/xgboost/sklearn.py:1224: UserWarning: The use of label encoder in XGBClassifier is deprecated and will be removed in a future release. To remove this warning, do the following: 1) Pass option use_label_encoder=False when constructing XGBClassifier object; and 2) Encode your labels (y) as integers starting with 0, i.e. 0, 1, 2, ..., [num_class - 1].\n",
      "  warnings.warn(label_encoder_deprecation_msg, UserWarning)\n",
      "/opt/anaconda3/envs/neuralnets/lib/python3.9/site-packages/xgboost/sklearn.py:1224: UserWarning: The use of label encoder in XGBClassifier is deprecated and will be removed in a future release. To remove this warning, do the following: 1) Pass option use_label_encoder=False when constructing XGBClassifier object; and 2) Encode your labels (y) as integers starting with 0, i.e. 0, 1, 2, ..., [num_class - 1].\n",
      "  warnings.warn(label_encoder_deprecation_msg, UserWarning)\n"
     ]
    },
    {
     "name": "stdout",
     "output_type": "stream",
     "text": [
      "[10:32:19] WARNING: ../src/learner.cc:1115: Starting in XGBoost 1.3.0, the default evaluation metric used with the objective 'binary:logistic' was changed from 'error' to 'logloss'. Explicitly set eval_metric if you'd like to restore the old behavior.\n",
      "[10:32:19] WARNING: ../src/learner.cc:1115: Starting in XGBoost 1.3.0, the default evaluation metric used with the objective 'binary:logistic' was changed from 'error' to 'logloss'. Explicitly set eval_metric if you'd like to restore the old behavior.\n"
     ]
    },
    {
     "name": "stderr",
     "output_type": "stream",
     "text": [
      "/opt/anaconda3/envs/neuralnets/lib/python3.9/site-packages/xgboost/sklearn.py:1224: UserWarning: The use of label encoder in XGBClassifier is deprecated and will be removed in a future release. To remove this warning, do the following: 1) Pass option use_label_encoder=False when constructing XGBClassifier object; and 2) Encode your labels (y) as integers starting with 0, i.e. 0, 1, 2, ..., [num_class - 1].\n",
      "  warnings.warn(label_encoder_deprecation_msg, UserWarning)\n",
      "/opt/anaconda3/envs/neuralnets/lib/python3.9/site-packages/xgboost/sklearn.py:1224: UserWarning: The use of label encoder in XGBClassifier is deprecated and will be removed in a future release. To remove this warning, do the following: 1) Pass option use_label_encoder=False when constructing XGBClassifier object; and 2) Encode your labels (y) as integers starting with 0, i.e. 0, 1, 2, ..., [num_class - 1].\n",
      "  warnings.warn(label_encoder_deprecation_msg, UserWarning)\n"
     ]
    },
    {
     "name": "stdout",
     "output_type": "stream",
     "text": [
      "[10:32:19] WARNING: ../src/learner.cc:1115: Starting in XGBoost 1.3.0, the default evaluation metric used with the objective 'binary:logistic' was changed from 'error' to 'logloss'. Explicitly set eval_metric if you'd like to restore the old behavior.\n",
      "[10:32:19] WARNING: ../src/learner.cc:1115: Starting in XGBoost 1.3.0, the default evaluation metric used with the objective 'binary:logistic' was changed from 'error' to 'logloss'. Explicitly set eval_metric if you'd like to restore the old behavior.\n"
     ]
    },
    {
     "name": "stderr",
     "output_type": "stream",
     "text": [
      "/opt/anaconda3/envs/neuralnets/lib/python3.9/site-packages/xgboost/sklearn.py:1224: UserWarning: The use of label encoder in XGBClassifier is deprecated and will be removed in a future release. To remove this warning, do the following: 1) Pass option use_label_encoder=False when constructing XGBClassifier object; and 2) Encode your labels (y) as integers starting with 0, i.e. 0, 1, 2, ..., [num_class - 1].\n",
      "  warnings.warn(label_encoder_deprecation_msg, UserWarning)\n",
      "/opt/anaconda3/envs/neuralnets/lib/python3.9/site-packages/xgboost/sklearn.py:1224: UserWarning: The use of label encoder in XGBClassifier is deprecated and will be removed in a future release. To remove this warning, do the following: 1) Pass option use_label_encoder=False when constructing XGBClassifier object; and 2) Encode your labels (y) as integers starting with 0, i.e. 0, 1, 2, ..., [num_class - 1].\n",
      "  warnings.warn(label_encoder_deprecation_msg, UserWarning)\n"
     ]
    },
    {
     "name": "stdout",
     "output_type": "stream",
     "text": [
      "[10:32:19] WARNING: ../src/learner.cc:1115: Starting in XGBoost 1.3.0, the default evaluation metric used with the objective 'binary:logistic' was changed from 'error' to 'logloss'. Explicitly set eval_metric if you'd like to restore the old behavior.\n",
      "[10:32:19] WARNING: ../src/learner.cc:1115: Starting in XGBoost 1.3.0, the default evaluation metric used with the objective 'binary:logistic' was changed from 'error' to 'logloss'. Explicitly set eval_metric if you'd like to restore the old behavior.\n"
     ]
    },
    {
     "name": "stderr",
     "output_type": "stream",
     "text": [
      "/opt/anaconda3/envs/neuralnets/lib/python3.9/site-packages/xgboost/sklearn.py:1224: UserWarning: The use of label encoder in XGBClassifier is deprecated and will be removed in a future release. To remove this warning, do the following: 1) Pass option use_label_encoder=False when constructing XGBClassifier object; and 2) Encode your labels (y) as integers starting with 0, i.e. 0, 1, 2, ..., [num_class - 1].\n",
      "  warnings.warn(label_encoder_deprecation_msg, UserWarning)\n",
      "/opt/anaconda3/envs/neuralnets/lib/python3.9/site-packages/xgboost/sklearn.py:1224: UserWarning: The use of label encoder in XGBClassifier is deprecated and will be removed in a future release. To remove this warning, do the following: 1) Pass option use_label_encoder=False when constructing XGBClassifier object; and 2) Encode your labels (y) as integers starting with 0, i.e. 0, 1, 2, ..., [num_class - 1].\n",
      "  warnings.warn(label_encoder_deprecation_msg, UserWarning)\n"
     ]
    },
    {
     "name": "stdout",
     "output_type": "stream",
     "text": [
      "[10:32:20] WARNING: ../src/learner.cc:1115: Starting in XGBoost 1.3.0, the default evaluation metric used with the objective 'binary:logistic' was changed from 'error' to 'logloss'. Explicitly set eval_metric if you'd like to restore the old behavior.\n",
      "[10:32:20] WARNING: ../src/learner.cc:1115: Starting in XGBoost 1.3.0, the default evaluation metric used with the objective 'binary:logistic' was changed from 'error' to 'logloss'. Explicitly set eval_metric if you'd like to restore the old behavior.\n"
     ]
    },
    {
     "name": "stderr",
     "output_type": "stream",
     "text": [
      "/opt/anaconda3/envs/neuralnets/lib/python3.9/site-packages/xgboost/sklearn.py:1224: UserWarning: The use of label encoder in XGBClassifier is deprecated and will be removed in a future release. To remove this warning, do the following: 1) Pass option use_label_encoder=False when constructing XGBClassifier object; and 2) Encode your labels (y) as integers starting with 0, i.e. 0, 1, 2, ..., [num_class - 1].\n",
      "  warnings.warn(label_encoder_deprecation_msg, UserWarning)\n",
      "/opt/anaconda3/envs/neuralnets/lib/python3.9/site-packages/xgboost/sklearn.py:1224: UserWarning: The use of label encoder in XGBClassifier is deprecated and will be removed in a future release. To remove this warning, do the following: 1) Pass option use_label_encoder=False when constructing XGBClassifier object; and 2) Encode your labels (y) as integers starting with 0, i.e. 0, 1, 2, ..., [num_class - 1].\n",
      "  warnings.warn(label_encoder_deprecation_msg, UserWarning)\n"
     ]
    },
    {
     "name": "stdout",
     "output_type": "stream",
     "text": [
      "[10:32:20] WARNING: ../src/learner.cc:1115: Starting in XGBoost 1.3.0, the default evaluation metric used with the objective 'binary:logistic' was changed from 'error' to 'logloss'. Explicitly set eval_metric if you'd like to restore the old behavior.\n"
     ]
    }
   ],
   "source": [
    "kfold = KFold(n_splits=10)\n",
    "model1 = xgb.XGBClassifier(tree_method='gpu_hist')\n",
    "results1 = cross_validate(model, oneHotDf, (user_metadata['K-Means = 4'] == 1).astype(int).values, scoring=scoring, cv=kfold)"
   ]
  },
  {
   "cell_type": "code",
   "execution_count": 49,
   "id": "1c45d65b-802e-4913-98de-c418424ddbf8",
   "metadata": {
    "execution": {
     "iopub.execute_input": "2022-01-26T09:32:20.522300Z",
     "iopub.status.busy": "2022-01-26T09:32:20.522111Z",
     "iopub.status.idle": "2022-01-26T09:32:20.531737Z",
     "shell.execute_reply": "2022-01-26T09:32:20.531185Z",
     "shell.execute_reply.started": "2022-01-26T09:32:20.522275Z"
    },
    "tags": []
   },
   "outputs": [
    {
     "name": "stdout",
     "output_type": "stream",
     "text": [
      "99.47368421052632 1.5789473684210544\n"
     ]
    }
   ],
   "source": [
    "print(results1['test_acc'].mean()*100, results1['test_acc'].std()*100) "
   ]
  },
  {
   "cell_type": "code",
   "execution_count": 50,
   "id": "84972fdd-a40d-4a58-a8f7-fcd55e641077",
   "metadata": {
    "execution": {
     "iopub.execute_input": "2022-01-26T09:32:20.532579Z",
     "iopub.status.busy": "2022-01-26T09:32:20.532404Z",
     "iopub.status.idle": "2022-01-26T09:32:20.541665Z",
     "shell.execute_reply": "2022-01-26T09:32:20.541136Z",
     "shell.execute_reply.started": "2022-01-26T09:32:20.532557Z"
    },
    "tags": []
   },
   "outputs": [
    {
     "name": "stdout",
     "output_type": "stream",
     "text": [
      "94.86486486486486 15.405405405405403\n"
     ]
    }
   ],
   "source": [
    "print(results1['test_f1_macro'].mean()*100, results1['test_f1_macro'].std()*100) "
   ]
  },
  {
   "cell_type": "code",
   "execution_count": 51,
   "id": "fd4af7c5-b2ab-4d64-b29c-8102cac3580e",
   "metadata": {
    "execution": {
     "iopub.execute_input": "2022-01-26T09:32:20.542492Z",
     "iopub.status.busy": "2022-01-26T09:32:20.542316Z",
     "iopub.status.idle": "2022-01-26T09:32:20.551587Z",
     "shell.execute_reply": "2022-01-26T09:32:20.551075Z",
     "shell.execute_reply.started": "2022-01-26T09:32:20.542469Z"
    },
    "tags": []
   },
   "outputs": [
    {
     "name": "stdout",
     "output_type": "stream",
     "text": [
      "99.21763869132289 2.3470839260312895\n"
     ]
    }
   ],
   "source": [
    "print(results1['test_f1_weight'].mean()*100, results1['test_f1_weight'].std()*100) "
   ]
  },
  {
   "cell_type": "code",
   "execution_count": 52,
   "id": "7f31ae84-a402-4dc7-86ba-081b59ce0768",
   "metadata": {
    "execution": {
     "iopub.execute_input": "2022-01-26T09:32:20.552426Z",
     "iopub.status.busy": "2022-01-26T09:32:20.552233Z",
     "iopub.status.idle": "2022-01-26T09:32:20.730461Z",
     "shell.execute_reply": "2022-01-26T09:32:20.729940Z",
     "shell.execute_reply.started": "2022-01-26T09:32:20.552404Z"
    },
    "tags": []
   },
   "outputs": [
    {
     "name": "stdout",
     "output_type": "stream",
     "text": [
      "[10:32:20] WARNING: ../src/learner.cc:1115: Starting in XGBoost 1.3.0, the default evaluation metric used with the objective 'binary:logistic' was changed from 'error' to 'logloss'. Explicitly set eval_metric if you'd like to restore the old behavior.\n"
     ]
    },
    {
     "name": "stderr",
     "output_type": "stream",
     "text": [
      "/opt/anaconda3/envs/neuralnets/lib/python3.9/site-packages/xgboost/sklearn.py:1224: UserWarning: The use of label encoder in XGBClassifier is deprecated and will be removed in a future release. To remove this warning, do the following: 1) Pass option use_label_encoder=False when constructing XGBClassifier object; and 2) Encode your labels (y) as integers starting with 0, i.e. 0, 1, 2, ..., [num_class - 1].\n",
      "  warnings.warn(label_encoder_deprecation_msg, UserWarning)\n"
     ]
    },
    {
     "data": {
      "text/plain": [
       "XGBClassifier(base_score=0.5, booster='gbtree', colsample_bylevel=1,\n",
       "              colsample_bynode=1, colsample_bytree=1, enable_categorical=False,\n",
       "              gamma=0, gpu_id=0, importance_type=None,\n",
       "              interaction_constraints='', learning_rate=0.300000012,\n",
       "              max_delta_step=0, max_depth=6, min_child_weight=1, missing=nan,\n",
       "              monotone_constraints='()', n_estimators=100, n_jobs=80,\n",
       "              num_parallel_tree=1, predictor='auto', random_state=0,\n",
       "              reg_alpha=0, reg_lambda=1, scale_pos_weight=1, subsample=1,\n",
       "              tree_method='gpu_hist', validate_parameters=1, verbosity=None)"
      ]
     },
     "execution_count": 52,
     "metadata": {},
     "output_type": "execute_result"
    }
   ],
   "source": [
    "model1.fit(oneHotDf, (user_metadata['K-Means = 4'] == 1).astype(int).values)"
   ]
  },
  {
   "cell_type": "code",
   "execution_count": 53,
   "id": "0ef1cf6e-6586-4b7a-91f5-9030f8f93d3c",
   "metadata": {
    "execution": {
     "iopub.execute_input": "2022-01-26T09:32:20.731341Z",
     "iopub.status.busy": "2022-01-26T09:32:20.731157Z",
     "iopub.status.idle": "2022-01-26T09:32:20.793696Z",
     "shell.execute_reply": "2022-01-26T09:32:20.793068Z",
     "shell.execute_reply.started": "2022-01-26T09:32:20.731317Z"
    },
    "tags": []
   },
   "outputs": [
    {
     "data": {
      "image/svg+xml": [
       "<?xml version=\"1.0\" encoding=\"UTF-8\" standalone=\"no\"?>\n",
       "<!DOCTYPE svg PUBLIC \"-//W3C//DTD SVG 1.1//EN\"\n",
       " \"http://www.w3.org/Graphics/SVG/1.1/DTD/svg11.dtd\">\n",
       "<!-- Generated by graphviz version 2.40.1 (20161225.0304)\n",
       " -->\n",
       "<!-- Title: %3 Pages: 1 -->\n",
       "<svg width=\"156pt\" height=\"44pt\"\n",
       " viewBox=\"0.00 0.00 156.19 44.00\" xmlns=\"http://www.w3.org/2000/svg\" xmlns:xlink=\"http://www.w3.org/1999/xlink\">\n",
       "<g id=\"graph0\" class=\"graph\" transform=\"scale(1 1) rotate(0) translate(4 40)\">\n",
       "<title>%3</title>\n",
       "<polygon fill=\"#ffffff\" stroke=\"transparent\" points=\"-4,4 -4,-40 152.1869,-40 152.1869,4 -4,4\"/>\n",
       "<!-- 0 -->\n",
       "<g id=\"node1\" class=\"node\">\n",
       "<title>0</title>\n",
       "<ellipse fill=\"none\" stroke=\"#000000\" cx=\"74.0934\" cy=\"-18\" rx=\"74.187\" ry=\"18\"/>\n",
       "<text text-anchor=\"middle\" x=\"74.0934\" y=\"-14.3\" font-family=\"Times,serif\" font-size=\"14.00\" fill=\"#000000\">leaf=&#45;0.58144331</text>\n",
       "</g>\n",
       "</g>\n",
       "</svg>\n"
      ],
      "text/plain": [
       "<graphviz.sources.Source at 0x7f03dc1eda60>"
      ]
     },
     "execution_count": 53,
     "metadata": {},
     "output_type": "execute_result"
    }
   ],
   "source": [
    "xgb.to_graphviz(model1)"
   ]
  },
  {
   "cell_type": "markdown",
   "id": "e49f422a-d4e6-446c-acb3-4e6076fd6f2f",
   "metadata": {},
   "source": [
    "#### K-Means 4 - cl.2"
   ]
  },
  {
   "cell_type": "code",
   "execution_count": 54,
   "id": "bf0e5a5b-a83f-418b-a5a4-4cf3c2d5640f",
   "metadata": {
    "execution": {
     "iopub.execute_input": "2022-01-26T09:32:20.794911Z",
     "iopub.status.busy": "2022-01-26T09:32:20.794700Z",
     "iopub.status.idle": "2022-01-26T09:32:22.893625Z",
     "shell.execute_reply": "2022-01-26T09:32:22.892631Z",
     "shell.execute_reply.started": "2022-01-26T09:32:20.794884Z"
    },
    "tags": []
   },
   "outputs": [
    {
     "name": "stderr",
     "output_type": "stream",
     "text": [
      "/opt/anaconda3/envs/neuralnets/lib/python3.9/site-packages/xgboost/sklearn.py:1224: UserWarning: The use of label encoder in XGBClassifier is deprecated and will be removed in a future release. To remove this warning, do the following: 1) Pass option use_label_encoder=False when constructing XGBClassifier object; and 2) Encode your labels (y) as integers starting with 0, i.e. 0, 1, 2, ..., [num_class - 1].\n",
      "  warnings.warn(label_encoder_deprecation_msg, UserWarning)\n"
     ]
    },
    {
     "name": "stdout",
     "output_type": "stream",
     "text": [
      "[10:32:20] WARNING: ../src/learner.cc:1115: Starting in XGBoost 1.3.0, the default evaluation metric used with the objective 'binary:logistic' was changed from 'error' to 'logloss'. Explicitly set eval_metric if you'd like to restore the old behavior.\n",
      "[10:32:21] WARNING: ../src/learner.cc:1115: Starting in XGBoost 1.3.0, the default evaluation metric used with the objective 'binary:logistic' was changed from 'error' to 'logloss'. Explicitly set eval_metric if you'd like to restore the old behavior.\n"
     ]
    },
    {
     "name": "stderr",
     "output_type": "stream",
     "text": [
      "/opt/anaconda3/envs/neuralnets/lib/python3.9/site-packages/xgboost/sklearn.py:1224: UserWarning: The use of label encoder in XGBClassifier is deprecated and will be removed in a future release. To remove this warning, do the following: 1) Pass option use_label_encoder=False when constructing XGBClassifier object; and 2) Encode your labels (y) as integers starting with 0, i.e. 0, 1, 2, ..., [num_class - 1].\n",
      "  warnings.warn(label_encoder_deprecation_msg, UserWarning)\n",
      "/opt/anaconda3/envs/neuralnets/lib/python3.9/site-packages/xgboost/sklearn.py:1224: UserWarning: The use of label encoder in XGBClassifier is deprecated and will be removed in a future release. To remove this warning, do the following: 1) Pass option use_label_encoder=False when constructing XGBClassifier object; and 2) Encode your labels (y) as integers starting with 0, i.e. 0, 1, 2, ..., [num_class - 1].\n",
      "  warnings.warn(label_encoder_deprecation_msg, UserWarning)\n"
     ]
    },
    {
     "name": "stdout",
     "output_type": "stream",
     "text": [
      "[10:32:21] WARNING: ../src/learner.cc:1115: Starting in XGBoost 1.3.0, the default evaluation metric used with the objective 'binary:logistic' was changed from 'error' to 'logloss'. Explicitly set eval_metric if you'd like to restore the old behavior.\n"
     ]
    },
    {
     "name": "stderr",
     "output_type": "stream",
     "text": [
      "/opt/anaconda3/envs/neuralnets/lib/python3.9/site-packages/xgboost/sklearn.py:1224: UserWarning: The use of label encoder in XGBClassifier is deprecated and will be removed in a future release. To remove this warning, do the following: 1) Pass option use_label_encoder=False when constructing XGBClassifier object; and 2) Encode your labels (y) as integers starting with 0, i.e. 0, 1, 2, ..., [num_class - 1].\n",
      "  warnings.warn(label_encoder_deprecation_msg, UserWarning)\n"
     ]
    },
    {
     "name": "stdout",
     "output_type": "stream",
     "text": [
      "[10:32:21] WARNING: ../src/learner.cc:1115: Starting in XGBoost 1.3.0, the default evaluation metric used with the objective 'binary:logistic' was changed from 'error' to 'logloss'. Explicitly set eval_metric if you'd like to restore the old behavior.\n",
      "[10:32:21] WARNING: ../src/learner.cc:1115: Starting in XGBoost 1.3.0, the default evaluation metric used with the objective 'binary:logistic' was changed from 'error' to 'logloss'. Explicitly set eval_metric if you'd like to restore the old behavior.\n",
      "[10:32:21] WARNING: ../src/learner.cc:1115: Starting in XGBoost 1.3.0, the default evaluation metric used with the objective 'binary:logistic' was changed from 'error' to 'logloss'. Explicitly set eval_metric if you'd like to restore the old behavior.\n"
     ]
    },
    {
     "name": "stderr",
     "output_type": "stream",
     "text": [
      "/opt/anaconda3/envs/neuralnets/lib/python3.9/site-packages/xgboost/sklearn.py:1224: UserWarning: The use of label encoder in XGBClassifier is deprecated and will be removed in a future release. To remove this warning, do the following: 1) Pass option use_label_encoder=False when constructing XGBClassifier object; and 2) Encode your labels (y) as integers starting with 0, i.e. 0, 1, 2, ..., [num_class - 1].\n",
      "  warnings.warn(label_encoder_deprecation_msg, UserWarning)\n",
      "/opt/anaconda3/envs/neuralnets/lib/python3.9/site-packages/xgboost/sklearn.py:1224: UserWarning: The use of label encoder in XGBClassifier is deprecated and will be removed in a future release. To remove this warning, do the following: 1) Pass option use_label_encoder=False when constructing XGBClassifier object; and 2) Encode your labels (y) as integers starting with 0, i.e. 0, 1, 2, ..., [num_class - 1].\n",
      "  warnings.warn(label_encoder_deprecation_msg, UserWarning)\n",
      "/opt/anaconda3/envs/neuralnets/lib/python3.9/site-packages/xgboost/sklearn.py:1224: UserWarning: The use of label encoder in XGBClassifier is deprecated and will be removed in a future release. To remove this warning, do the following: 1) Pass option use_label_encoder=False when constructing XGBClassifier object; and 2) Encode your labels (y) as integers starting with 0, i.e. 0, 1, 2, ..., [num_class - 1].\n",
      "  warnings.warn(label_encoder_deprecation_msg, UserWarning)\n"
     ]
    },
    {
     "name": "stdout",
     "output_type": "stream",
     "text": [
      "[10:32:22] WARNING: ../src/learner.cc:1115: Starting in XGBoost 1.3.0, the default evaluation metric used with the objective 'binary:logistic' was changed from 'error' to 'logloss'. Explicitly set eval_metric if you'd like to restore the old behavior.\n"
     ]
    },
    {
     "name": "stderr",
     "output_type": "stream",
     "text": [
      "/opt/anaconda3/envs/neuralnets/lib/python3.9/site-packages/xgboost/sklearn.py:1224: UserWarning: The use of label encoder in XGBClassifier is deprecated and will be removed in a future release. To remove this warning, do the following: 1) Pass option use_label_encoder=False when constructing XGBClassifier object; and 2) Encode your labels (y) as integers starting with 0, i.e. 0, 1, 2, ..., [num_class - 1].\n",
      "  warnings.warn(label_encoder_deprecation_msg, UserWarning)\n"
     ]
    },
    {
     "name": "stdout",
     "output_type": "stream",
     "text": [
      "[10:32:22] WARNING: ../src/learner.cc:1115: Starting in XGBoost 1.3.0, the default evaluation metric used with the objective 'binary:logistic' was changed from 'error' to 'logloss'. Explicitly set eval_metric if you'd like to restore the old behavior.\n"
     ]
    },
    {
     "name": "stderr",
     "output_type": "stream",
     "text": [
      "/opt/anaconda3/envs/neuralnets/lib/python3.9/site-packages/xgboost/sklearn.py:1224: UserWarning: The use of label encoder in XGBClassifier is deprecated and will be removed in a future release. To remove this warning, do the following: 1) Pass option use_label_encoder=False when constructing XGBClassifier object; and 2) Encode your labels (y) as integers starting with 0, i.e. 0, 1, 2, ..., [num_class - 1].\n",
      "  warnings.warn(label_encoder_deprecation_msg, UserWarning)\n"
     ]
    },
    {
     "name": "stdout",
     "output_type": "stream",
     "text": [
      "[10:32:22] WARNING: ../src/learner.cc:1115: Starting in XGBoost 1.3.0, the default evaluation metric used with the objective 'binary:logistic' was changed from 'error' to 'logloss'. Explicitly set eval_metric if you'd like to restore the old behavior.\n"
     ]
    },
    {
     "name": "stderr",
     "output_type": "stream",
     "text": [
      "/opt/anaconda3/envs/neuralnets/lib/python3.9/site-packages/xgboost/sklearn.py:1224: UserWarning: The use of label encoder in XGBClassifier is deprecated and will be removed in a future release. To remove this warning, do the following: 1) Pass option use_label_encoder=False when constructing XGBClassifier object; and 2) Encode your labels (y) as integers starting with 0, i.e. 0, 1, 2, ..., [num_class - 1].\n",
      "  warnings.warn(label_encoder_deprecation_msg, UserWarning)\n"
     ]
    },
    {
     "name": "stdout",
     "output_type": "stream",
     "text": [
      "[10:32:22] WARNING: ../src/learner.cc:1115: Starting in XGBoost 1.3.0, the default evaluation metric used with the objective 'binary:logistic' was changed from 'error' to 'logloss'. Explicitly set eval_metric if you'd like to restore the old behavior.\n"
     ]
    }
   ],
   "source": [
    "kfold = KFold(n_splits=10)\n",
    "model2 = xgb.XGBClassifier(tree_method='gpu_hist')\n",
    "results2 = cross_validate(model2, oneHotDf, (user_metadata['K-Means = 4'] == 2).astype(int).values, scoring=scoring, cv=kfold)"
   ]
  },
  {
   "cell_type": "code",
   "execution_count": 55,
   "id": "67de606e-7b4a-4439-8c5f-6ceb21b6af6a",
   "metadata": {
    "execution": {
     "iopub.execute_input": "2022-01-26T09:32:22.894849Z",
     "iopub.status.busy": "2022-01-26T09:32:22.894646Z",
     "iopub.status.idle": "2022-01-26T09:32:22.902315Z",
     "shell.execute_reply": "2022-01-26T09:32:22.899108Z",
     "shell.execute_reply.started": "2022-01-26T09:32:22.894823Z"
    },
    "tags": []
   },
   "outputs": [
    {
     "name": "stdout",
     "output_type": "stream",
     "text": [
      "97.89473684210526 3.4911839898477894\n"
     ]
    }
   ],
   "source": [
    "print(results2['test_acc'].mean()*100, results2['test_acc'].std()*100) "
   ]
  },
  {
   "cell_type": "code",
   "execution_count": 56,
   "id": "66e689ad-faad-4e0d-bd8a-4a9d978dc19b",
   "metadata": {
    "execution": {
     "iopub.execute_input": "2022-01-26T09:32:22.903421Z",
     "iopub.status.busy": "2022-01-26T09:32:22.903245Z",
     "iopub.status.idle": "2022-01-26T09:32:22.910085Z",
     "shell.execute_reply": "2022-01-26T09:32:22.907059Z",
     "shell.execute_reply.started": "2022-01-26T09:32:22.903399Z"
    },
    "tags": []
   },
   "outputs": [
    {
     "name": "stdout",
     "output_type": "stream",
     "text": [
      "84.45195195195195 23.752891228935173\n"
     ]
    }
   ],
   "source": [
    "print(results2['test_f1_macro'].mean()*100, results2['test_f1_macro'].std()*100) "
   ]
  },
  {
   "cell_type": "code",
   "execution_count": 57,
   "id": "5100b0bf-c469-48b6-8a24-944eb6e4e457",
   "metadata": {
    "execution": {
     "iopub.execute_input": "2022-01-26T09:32:22.911061Z",
     "iopub.status.busy": "2022-01-26T09:32:22.910892Z",
     "iopub.status.idle": "2022-01-26T09:32:22.918445Z",
     "shell.execute_reply": "2022-01-26T09:32:22.914629Z",
     "shell.execute_reply.started": "2022-01-26T09:32:22.911039Z"
    },
    "tags": []
   },
   "outputs": [
    {
     "name": "stdout",
     "output_type": "stream",
     "text": [
      "96.88556978030662 5.153449842623679\n"
     ]
    }
   ],
   "source": [
    "print(results2['test_f1_weight'].mean()*100, results2['test_f1_weight'].std()*100) "
   ]
  },
  {
   "cell_type": "code",
   "execution_count": 58,
   "id": "6ca748fc-0f2f-4ca3-b1af-f5a2cf293dc1",
   "metadata": {
    "execution": {
     "iopub.execute_input": "2022-01-26T09:32:22.919474Z",
     "iopub.status.busy": "2022-01-26T09:32:22.919304Z",
     "iopub.status.idle": "2022-01-26T09:32:23.139221Z",
     "shell.execute_reply": "2022-01-26T09:32:23.138856Z",
     "shell.execute_reply.started": "2022-01-26T09:32:22.919452Z"
    },
    "tags": []
   },
   "outputs": [
    {
     "name": "stdout",
     "output_type": "stream",
     "text": [
      "[10:32:22] WARNING: ../src/learner.cc:1115: Starting in XGBoost 1.3.0, the default evaluation metric used with the objective 'binary:logistic' was changed from 'error' to 'logloss'. Explicitly set eval_metric if you'd like to restore the old behavior.\n"
     ]
    },
    {
     "name": "stderr",
     "output_type": "stream",
     "text": [
      "/opt/anaconda3/envs/neuralnets/lib/python3.9/site-packages/xgboost/sklearn.py:1224: UserWarning: The use of label encoder in XGBClassifier is deprecated and will be removed in a future release. To remove this warning, do the following: 1) Pass option use_label_encoder=False when constructing XGBClassifier object; and 2) Encode your labels (y) as integers starting with 0, i.e. 0, 1, 2, ..., [num_class - 1].\n",
      "  warnings.warn(label_encoder_deprecation_msg, UserWarning)\n"
     ]
    },
    {
     "data": {
      "text/plain": [
       "XGBClassifier(base_score=0.5, booster='gbtree', colsample_bylevel=1,\n",
       "              colsample_bynode=1, colsample_bytree=1, enable_categorical=False,\n",
       "              gamma=0, gpu_id=0, importance_type=None,\n",
       "              interaction_constraints='', learning_rate=0.300000012,\n",
       "              max_delta_step=0, max_depth=6, min_child_weight=1, missing=nan,\n",
       "              monotone_constraints='()', n_estimators=100, n_jobs=80,\n",
       "              num_parallel_tree=1, predictor='auto', random_state=0,\n",
       "              reg_alpha=0, reg_lambda=1, scale_pos_weight=1, subsample=1,\n",
       "              tree_method='gpu_hist', validate_parameters=1, verbosity=None)"
      ]
     },
     "execution_count": 58,
     "metadata": {},
     "output_type": "execute_result"
    }
   ],
   "source": [
    "model2.fit(oneHotDf, (user_metadata['K-Means = 4'] == 2).astype(int).values)"
   ]
  },
  {
   "cell_type": "code",
   "execution_count": 59,
   "id": "082e95ff-74b0-4815-bbfd-dbb8b927159a",
   "metadata": {
    "execution": {
     "iopub.execute_input": "2022-01-26T09:32:23.139936Z",
     "iopub.status.busy": "2022-01-26T09:32:23.139784Z",
     "iopub.status.idle": "2022-01-26T09:32:23.192543Z",
     "shell.execute_reply": "2022-01-26T09:32:23.191866Z",
     "shell.execute_reply.started": "2022-01-26T09:32:23.139921Z"
    },
    "tags": []
   },
   "outputs": [
    {
     "data": {
      "image/svg+xml": [
       "<?xml version=\"1.0\" encoding=\"UTF-8\" standalone=\"no\"?>\n",
       "<!DOCTYPE svg PUBLIC \"-//W3C//DTD SVG 1.1//EN\"\n",
       " \"http://www.w3.org/Graphics/SVG/1.1/DTD/svg11.dtd\">\n",
       "<!-- Generated by graphviz version 2.40.1 (20161225.0304)\n",
       " -->\n",
       "<!-- Title: %3 Pages: 1 -->\n",
       "<svg width=\"165pt\" height=\"44pt\"\n",
       " viewBox=\"0.00 0.00 165.29 44.00\" xmlns=\"http://www.w3.org/2000/svg\" xmlns:xlink=\"http://www.w3.org/1999/xlink\">\n",
       "<g id=\"graph0\" class=\"graph\" transform=\"scale(1 1) rotate(0) translate(4 40)\">\n",
       "<title>%3</title>\n",
       "<polygon fill=\"#ffffff\" stroke=\"transparent\" points=\"-4,4 -4,-40 161.286,-40 161.286,4 -4,4\"/>\n",
       "<!-- 0 -->\n",
       "<g id=\"node1\" class=\"node\">\n",
       "<title>0</title>\n",
       "<ellipse fill=\"none\" stroke=\"#000000\" cx=\"78.643\" cy=\"-18\" rx=\"78.7863\" ry=\"18\"/>\n",
       "<text text-anchor=\"middle\" x=\"78.643\" y=\"-14.3\" font-family=\"Times,serif\" font-size=\"14.00\" fill=\"#000000\">leaf=&#45;0.562886596</text>\n",
       "</g>\n",
       "</g>\n",
       "</svg>\n"
      ],
      "text/plain": [
       "<graphviz.sources.Source at 0x7f03dc188a60>"
      ]
     },
     "execution_count": 59,
     "metadata": {},
     "output_type": "execute_result"
    }
   ],
   "source": [
    "xgb.to_graphviz(model2)"
   ]
  },
  {
   "cell_type": "markdown",
   "id": "c1926fd5-406e-4a6d-b97f-6e5e547ab5ea",
   "metadata": {},
   "source": [
    "Interpretation of the graph: https://stackoverflow.com/questions/40926340/what-does-the-value-of-leaf-in-the-following-xgboost-model-tree-diagram-means"
   ]
  },
  {
   "cell_type": "markdown",
   "id": "bc056c66-dce3-44fd-a19e-20f34cc3ff51",
   "metadata": {},
   "source": [
    "#### K-Means 4 - cl.3"
   ]
  },
  {
   "cell_type": "code",
   "execution_count": 60,
   "id": "40d3320a-d145-4721-8cfb-ff2ff3ae7e12",
   "metadata": {
    "execution": {
     "iopub.execute_input": "2022-01-26T09:32:23.194061Z",
     "iopub.status.busy": "2022-01-26T09:32:23.193862Z",
     "iopub.status.idle": "2022-01-26T09:32:25.935688Z",
     "shell.execute_reply": "2022-01-26T09:32:25.935004Z",
     "shell.execute_reply.started": "2022-01-26T09:32:23.194036Z"
    },
    "tags": []
   },
   "outputs": [
    {
     "name": "stderr",
     "output_type": "stream",
     "text": [
      "/opt/anaconda3/envs/neuralnets/lib/python3.9/site-packages/xgboost/sklearn.py:1224: UserWarning: The use of label encoder in XGBClassifier is deprecated and will be removed in a future release. To remove this warning, do the following: 1) Pass option use_label_encoder=False when constructing XGBClassifier object; and 2) Encode your labels (y) as integers starting with 0, i.e. 0, 1, 2, ..., [num_class - 1].\n",
      "  warnings.warn(label_encoder_deprecation_msg, UserWarning)\n"
     ]
    },
    {
     "name": "stdout",
     "output_type": "stream",
     "text": [
      "[10:32:23] WARNING: ../src/learner.cc:1115: Starting in XGBoost 1.3.0, the default evaluation metric used with the objective 'binary:logistic' was changed from 'error' to 'logloss'. Explicitly set eval_metric if you'd like to restore the old behavior.\n"
     ]
    },
    {
     "name": "stderr",
     "output_type": "stream",
     "text": [
      "/opt/anaconda3/envs/neuralnets/lib/python3.9/site-packages/xgboost/sklearn.py:1224: UserWarning: The use of label encoder in XGBClassifier is deprecated and will be removed in a future release. To remove this warning, do the following: 1) Pass option use_label_encoder=False when constructing XGBClassifier object; and 2) Encode your labels (y) as integers starting with 0, i.e. 0, 1, 2, ..., [num_class - 1].\n",
      "  warnings.warn(label_encoder_deprecation_msg, UserWarning)\n"
     ]
    },
    {
     "name": "stdout",
     "output_type": "stream",
     "text": [
      "[10:32:23] WARNING: ../src/learner.cc:1115: Starting in XGBoost 1.3.0, the default evaluation metric used with the objective 'binary:logistic' was changed from 'error' to 'logloss'. Explicitly set eval_metric if you'd like to restore the old behavior.\n"
     ]
    },
    {
     "name": "stderr",
     "output_type": "stream",
     "text": [
      "/opt/anaconda3/envs/neuralnets/lib/python3.9/site-packages/xgboost/sklearn.py:1224: UserWarning: The use of label encoder in XGBClassifier is deprecated and will be removed in a future release. To remove this warning, do the following: 1) Pass option use_label_encoder=False when constructing XGBClassifier object; and 2) Encode your labels (y) as integers starting with 0, i.e. 0, 1, 2, ..., [num_class - 1].\n",
      "  warnings.warn(label_encoder_deprecation_msg, UserWarning)\n"
     ]
    },
    {
     "name": "stdout",
     "output_type": "stream",
     "text": [
      "[10:32:23] WARNING: ../src/learner.cc:1115: Starting in XGBoost 1.3.0, the default evaluation metric used with the objective 'binary:logistic' was changed from 'error' to 'logloss'. Explicitly set eval_metric if you'd like to restore the old behavior.\n"
     ]
    },
    {
     "name": "stderr",
     "output_type": "stream",
     "text": [
      "/opt/anaconda3/envs/neuralnets/lib/python3.9/site-packages/xgboost/sklearn.py:1224: UserWarning: The use of label encoder in XGBClassifier is deprecated and will be removed in a future release. To remove this warning, do the following: 1) Pass option use_label_encoder=False when constructing XGBClassifier object; and 2) Encode your labels (y) as integers starting with 0, i.e. 0, 1, 2, ..., [num_class - 1].\n",
      "  warnings.warn(label_encoder_deprecation_msg, UserWarning)\n"
     ]
    },
    {
     "name": "stdout",
     "output_type": "stream",
     "text": [
      "[10:32:24] WARNING: ../src/learner.cc:1115: Starting in XGBoost 1.3.0, the default evaluation metric used with the objective 'binary:logistic' was changed from 'error' to 'logloss'. Explicitly set eval_metric if you'd like to restore the old behavior.\n"
     ]
    },
    {
     "name": "stderr",
     "output_type": "stream",
     "text": [
      "/opt/anaconda3/envs/neuralnets/lib/python3.9/site-packages/xgboost/sklearn.py:1224: UserWarning: The use of label encoder in XGBClassifier is deprecated and will be removed in a future release. To remove this warning, do the following: 1) Pass option use_label_encoder=False when constructing XGBClassifier object; and 2) Encode your labels (y) as integers starting with 0, i.e. 0, 1, 2, ..., [num_class - 1].\n",
      "  warnings.warn(label_encoder_deprecation_msg, UserWarning)\n"
     ]
    },
    {
     "name": "stdout",
     "output_type": "stream",
     "text": [
      "[10:32:24] WARNING: ../src/learner.cc:1115: Starting in XGBoost 1.3.0, the default evaluation metric used with the objective 'binary:logistic' was changed from 'error' to 'logloss'. Explicitly set eval_metric if you'd like to restore the old behavior.\n"
     ]
    },
    {
     "name": "stderr",
     "output_type": "stream",
     "text": [
      "/opt/anaconda3/envs/neuralnets/lib/python3.9/site-packages/xgboost/sklearn.py:1224: UserWarning: The use of label encoder in XGBClassifier is deprecated and will be removed in a future release. To remove this warning, do the following: 1) Pass option use_label_encoder=False when constructing XGBClassifier object; and 2) Encode your labels (y) as integers starting with 0, i.e. 0, 1, 2, ..., [num_class - 1].\n",
      "  warnings.warn(label_encoder_deprecation_msg, UserWarning)\n"
     ]
    },
    {
     "name": "stdout",
     "output_type": "stream",
     "text": [
      "[10:32:24] WARNING: ../src/learner.cc:1115: Starting in XGBoost 1.3.0, the default evaluation metric used with the objective 'binary:logistic' was changed from 'error' to 'logloss'. Explicitly set eval_metric if you'd like to restore the old behavior.\n"
     ]
    },
    {
     "name": "stderr",
     "output_type": "stream",
     "text": [
      "/opt/anaconda3/envs/neuralnets/lib/python3.9/site-packages/xgboost/sklearn.py:1224: UserWarning: The use of label encoder in XGBClassifier is deprecated and will be removed in a future release. To remove this warning, do the following: 1) Pass option use_label_encoder=False when constructing XGBClassifier object; and 2) Encode your labels (y) as integers starting with 0, i.e. 0, 1, 2, ..., [num_class - 1].\n",
      "  warnings.warn(label_encoder_deprecation_msg, UserWarning)\n"
     ]
    },
    {
     "name": "stdout",
     "output_type": "stream",
     "text": [
      "[10:32:24] WARNING: ../src/learner.cc:1115: Starting in XGBoost 1.3.0, the default evaluation metric used with the objective 'binary:logistic' was changed from 'error' to 'logloss'. Explicitly set eval_metric if you'd like to restore the old behavior.\n"
     ]
    },
    {
     "name": "stderr",
     "output_type": "stream",
     "text": [
      "/opt/anaconda3/envs/neuralnets/lib/python3.9/site-packages/xgboost/sklearn.py:1224: UserWarning: The use of label encoder in XGBClassifier is deprecated and will be removed in a future release. To remove this warning, do the following: 1) Pass option use_label_encoder=False when constructing XGBClassifier object; and 2) Encode your labels (y) as integers starting with 0, i.e. 0, 1, 2, ..., [num_class - 1].\n",
      "  warnings.warn(label_encoder_deprecation_msg, UserWarning)\n"
     ]
    },
    {
     "name": "stdout",
     "output_type": "stream",
     "text": [
      "[10:32:25] WARNING: ../src/learner.cc:1115: Starting in XGBoost 1.3.0, the default evaluation metric used with the objective 'binary:logistic' was changed from 'error' to 'logloss'. Explicitly set eval_metric if you'd like to restore the old behavior.\n"
     ]
    },
    {
     "name": "stderr",
     "output_type": "stream",
     "text": [
      "/opt/anaconda3/envs/neuralnets/lib/python3.9/site-packages/xgboost/sklearn.py:1224: UserWarning: The use of label encoder in XGBClassifier is deprecated and will be removed in a future release. To remove this warning, do the following: 1) Pass option use_label_encoder=False when constructing XGBClassifier object; and 2) Encode your labels (y) as integers starting with 0, i.e. 0, 1, 2, ..., [num_class - 1].\n",
      "  warnings.warn(label_encoder_deprecation_msg, UserWarning)\n"
     ]
    },
    {
     "name": "stdout",
     "output_type": "stream",
     "text": [
      "[10:32:25] WARNING: ../src/learner.cc:1115: Starting in XGBoost 1.3.0, the default evaluation metric used with the objective 'binary:logistic' was changed from 'error' to 'logloss'. Explicitly set eval_metric if you'd like to restore the old behavior.\n"
     ]
    },
    {
     "name": "stderr",
     "output_type": "stream",
     "text": [
      "/opt/anaconda3/envs/neuralnets/lib/python3.9/site-packages/xgboost/sklearn.py:1224: UserWarning: The use of label encoder in XGBClassifier is deprecated and will be removed in a future release. To remove this warning, do the following: 1) Pass option use_label_encoder=False when constructing XGBClassifier object; and 2) Encode your labels (y) as integers starting with 0, i.e. 0, 1, 2, ..., [num_class - 1].\n",
      "  warnings.warn(label_encoder_deprecation_msg, UserWarning)\n"
     ]
    },
    {
     "name": "stdout",
     "output_type": "stream",
     "text": [
      "[10:32:25] WARNING: ../src/learner.cc:1115: Starting in XGBoost 1.3.0, the default evaluation metric used with the objective 'binary:logistic' was changed from 'error' to 'logloss'. Explicitly set eval_metric if you'd like to restore the old behavior.\n"
     ]
    }
   ],
   "source": [
    "kfold = KFold(n_splits=10)\n",
    "model3 = xgb.XGBClassifier(tree_method='gpu_hist')\n",
    "results3 = cross_validate(model3, oneHotDf, (user_metadata['K-Means = 4'] == 3).astype(int).values, scoring=scoring, cv=kfold)"
   ]
  },
  {
   "cell_type": "code",
   "execution_count": 61,
   "id": "2e6a47e8-f2c4-471d-a6b2-765569046fa2",
   "metadata": {
    "execution": {
     "iopub.execute_input": "2022-01-26T09:32:25.938986Z",
     "iopub.status.busy": "2022-01-26T09:32:25.938729Z",
     "iopub.status.idle": "2022-01-26T09:32:25.947225Z",
     "shell.execute_reply": "2022-01-26T09:32:25.946730Z",
     "shell.execute_reply.started": "2022-01-26T09:32:25.938956Z"
    },
    "tags": []
   },
   "outputs": [
    {
     "name": "stdout",
     "output_type": "stream",
     "text": [
      "77.36842105263158 11.54300642076911\n"
     ]
    }
   ],
   "source": [
    "print(results3['test_acc'].mean()*100, results3['test_acc'].std()*100) "
   ]
  },
  {
   "cell_type": "code",
   "execution_count": 62,
   "id": "03f1e978-3367-4acd-98d0-ee63faa8f621",
   "metadata": {
    "execution": {
     "iopub.execute_input": "2022-01-26T09:32:25.948218Z",
     "iopub.status.busy": "2022-01-26T09:32:25.948042Z",
     "iopub.status.idle": "2022-01-26T09:32:25.956328Z",
     "shell.execute_reply": "2022-01-26T09:32:25.955144Z",
     "shell.execute_reply.started": "2022-01-26T09:32:25.948195Z"
    },
    "tags": []
   },
   "outputs": [
    {
     "name": "stdout",
     "output_type": "stream",
     "text": [
      "49.571518759018765 17.282099099470702\n"
     ]
    }
   ],
   "source": [
    "print(results3['test_f1_macro'].mean()*100, results3['test_f1_macro'].std()*100) "
   ]
  },
  {
   "cell_type": "code",
   "execution_count": 63,
   "id": "5e687300-ea2b-4aa9-92b4-ea091a1b28f7",
   "metadata": {
    "execution": {
     "iopub.execute_input": "2022-01-26T09:32:25.957456Z",
     "iopub.status.busy": "2022-01-26T09:32:25.957252Z",
     "iopub.status.idle": "2022-01-26T09:32:25.964756Z",
     "shell.execute_reply": "2022-01-26T09:32:25.964244Z",
     "shell.execute_reply.started": "2022-01-26T09:32:25.957428Z"
    },
    "tags": []
   },
   "outputs": [
    {
     "name": "stdout",
     "output_type": "stream",
     "text": [
      "71.07261525024683 15.50074233880859\n"
     ]
    }
   ],
   "source": [
    "print(results3['test_f1_weight'].mean()*100, results3['test_f1_weight'].std()*100) "
   ]
  },
  {
   "cell_type": "code",
   "execution_count": 64,
   "id": "28c8a41a-8207-443f-9980-a1784821ea8b",
   "metadata": {
    "execution": {
     "iopub.execute_input": "2022-01-26T09:32:25.965637Z",
     "iopub.status.busy": "2022-01-26T09:32:25.965472Z",
     "iopub.status.idle": "2022-01-26T09:32:26.239810Z",
     "shell.execute_reply": "2022-01-26T09:32:26.239468Z",
     "shell.execute_reply.started": "2022-01-26T09:32:25.965616Z"
    },
    "tags": []
   },
   "outputs": [
    {
     "name": "stdout",
     "output_type": "stream",
     "text": [
      "[10:32:26] WARNING: ../src/learner.cc:1115: Starting in XGBoost 1.3.0, the default evaluation metric used with the objective 'binary:logistic' was changed from 'error' to 'logloss'. Explicitly set eval_metric if you'd like to restore the old behavior.\n"
     ]
    },
    {
     "name": "stderr",
     "output_type": "stream",
     "text": [
      "/opt/anaconda3/envs/neuralnets/lib/python3.9/site-packages/xgboost/sklearn.py:1224: UserWarning: The use of label encoder in XGBClassifier is deprecated and will be removed in a future release. To remove this warning, do the following: 1) Pass option use_label_encoder=False when constructing XGBClassifier object; and 2) Encode your labels (y) as integers starting with 0, i.e. 0, 1, 2, ..., [num_class - 1].\n",
      "  warnings.warn(label_encoder_deprecation_msg, UserWarning)\n"
     ]
    },
    {
     "data": {
      "text/plain": [
       "XGBClassifier(base_score=0.5, booster='gbtree', colsample_bylevel=1,\n",
       "              colsample_bynode=1, colsample_bytree=1, enable_categorical=False,\n",
       "              gamma=0, gpu_id=0, importance_type=None,\n",
       "              interaction_constraints='', learning_rate=0.300000012,\n",
       "              max_delta_step=0, max_depth=6, min_child_weight=1, missing=nan,\n",
       "              monotone_constraints='()', n_estimators=100, n_jobs=80,\n",
       "              num_parallel_tree=1, predictor='auto', random_state=0,\n",
       "              reg_alpha=0, reg_lambda=1, scale_pos_weight=1, subsample=1,\n",
       "              tree_method='gpu_hist', validate_parameters=1, verbosity=None)"
      ]
     },
     "execution_count": 64,
     "metadata": {},
     "output_type": "execute_result"
    }
   ],
   "source": [
    "model3.fit(oneHotDf, (user_metadata['K-Means = 4'] == 3).astype(int).values)"
   ]
  },
  {
   "cell_type": "code",
   "execution_count": 65,
   "id": "9d642dc4-e2d6-4913-947a-05f1d17b10e8",
   "metadata": {
    "execution": {
     "iopub.execute_input": "2022-01-26T09:32:26.240527Z",
     "iopub.status.busy": "2022-01-26T09:32:26.240410Z",
     "iopub.status.idle": "2022-01-26T09:32:26.298612Z",
     "shell.execute_reply": "2022-01-26T09:32:26.297988Z",
     "shell.execute_reply.started": "2022-01-26T09:32:26.240513Z"
    },
    "tags": []
   },
   "outputs": [
    {
     "data": {
      "image/svg+xml": [
       "<?xml version=\"1.0\" encoding=\"UTF-8\" standalone=\"no\"?>\n",
       "<!DOCTYPE svg PUBLIC \"-//W3C//DTD SVG 1.1//EN\"\n",
       " \"http://www.w3.org/Graphics/SVG/1.1/DTD/svg11.dtd\">\n",
       "<!-- Generated by graphviz version 2.40.1 (20161225.0304)\n",
       " -->\n",
       "<!-- Title: %3 Pages: 1 -->\n",
       "<svg width=\"1031pt\" height=\"392pt\"\n",
       " viewBox=\"0.00 0.00 1031.25 392.00\" xmlns=\"http://www.w3.org/2000/svg\" xmlns:xlink=\"http://www.w3.org/1999/xlink\">\n",
       "<g id=\"graph0\" class=\"graph\" transform=\"scale(1 1) rotate(0) translate(4 388)\">\n",
       "<title>%3</title>\n",
       "<polygon fill=\"#ffffff\" stroke=\"transparent\" points=\"-4,4 -4,-388 1027.2491,-388 1027.2491,4 -4,4\"/>\n",
       "<!-- 0 -->\n",
       "<g id=\"node1\" class=\"node\">\n",
       "<title>0</title>\n",
       "<ellipse fill=\"none\" stroke=\"#000000\" cx=\"741.1742\" cy=\"-366\" rx=\"282.15\" ry=\"18\"/>\n",
       "<text text-anchor=\"middle\" x=\"741.1742\" y=\"-362.3\" font-family=\"Times,serif\" font-size=\"14.00\" fill=\"#000000\">logical_job_name_rsy/Jo2Au/c5VHFUzPaq9rdfLsSIhHjv6RJHJL50FNk=&lt;1</text>\n",
       "</g>\n",
       "<!-- 1 -->\n",
       "<g id=\"node2\" class=\"node\">\n",
       "<title>1</title>\n",
       "<ellipse fill=\"none\" stroke=\"#000000\" cx=\"567.1742\" cy=\"-279\" rx=\"293.548\" ry=\"18\"/>\n",
       "<text text-anchor=\"middle\" x=\"567.1742\" y=\"-275.3\" font-family=\"Times,serif\" font-size=\"14.00\" fill=\"#000000\">logical_job_name_yVIRahrv8Z2KjOxCDQb3Y6flkxNj/h+w2fRbjVEk2BE=&lt;1</text>\n",
       "</g>\n",
       "<!-- 0&#45;&gt;1 -->\n",
       "<g id=\"edge1\" class=\"edge\">\n",
       "<title>0&#45;&gt;1</title>\n",
       "<path fill=\"none\" stroke=\"#0000ff\" d=\"M705.1213,-347.9735C678.1748,-334.5003 641.1605,-315.9932 612.2571,-301.5415\"/>\n",
       "<polygon fill=\"#0000ff\" stroke=\"#0000ff\" points=\"613.6904,-298.3451 603.1809,-297.0034 610.5599,-304.6061 613.6904,-298.3451\"/>\n",
       "<text text-anchor=\"middle\" x=\"699.1742\" y=\"-318.8\" font-family=\"Times,serif\" font-size=\"14.00\" fill=\"#000000\">yes, missing</text>\n",
       "</g>\n",
       "<!-- 2 -->\n",
       "<g id=\"node3\" class=\"node\">\n",
       "<title>2</title>\n",
       "<ellipse fill=\"none\" stroke=\"#000000\" cx=\"915.1742\" cy=\"-279\" rx=\"36.2938\" ry=\"18\"/>\n",
       "<text text-anchor=\"middle\" x=\"915.1742\" y=\"-275.3\" font-family=\"Times,serif\" font-size=\"14.00\" fill=\"#000000\">leaf=&#45;0</text>\n",
       "</g>\n",
       "<!-- 0&#45;&gt;2 -->\n",
       "<g id=\"edge2\" class=\"edge\">\n",
       "<title>0&#45;&gt;2</title>\n",
       "<path fill=\"none\" stroke=\"#ff0000\" d=\"M777.2271,-347.9735C807.4071,-332.8835 850.2162,-311.479 880.1147,-296.5297\"/>\n",
       "<polygon fill=\"#ff0000\" stroke=\"#ff0000\" points=\"881.9569,-299.5218 889.3359,-291.9191 878.8264,-293.2608 881.9569,-299.5218\"/>\n",
       "<text text-anchor=\"middle\" x=\"846.1742\" y=\"-318.8\" font-family=\"Times,serif\" font-size=\"14.00\" fill=\"#000000\">no</text>\n",
       "</g>\n",
       "<!-- 3 -->\n",
       "<g id=\"node4\" class=\"node\">\n",
       "<title>3</title>\n",
       "<ellipse fill=\"none\" stroke=\"#000000\" cx=\"485.1742\" cy=\"-192\" rx=\"109.381\" ry=\"18\"/>\n",
       "<text text-anchor=\"middle\" x=\"485.1742\" y=\"-188.3\" font-family=\"Times,serif\" font-size=\"14.00\" fill=\"#000000\">priority_labels_Free_0_1&lt;1</text>\n",
       "</g>\n",
       "<!-- 1&#45;&gt;3 -->\n",
       "<g id=\"edge3\" class=\"edge\">\n",
       "<title>1&#45;&gt;3</title>\n",
       "<path fill=\"none\" stroke=\"#0000ff\" d=\"M550.1837,-260.9735C538.3094,-248.3752 522.2867,-231.3755 509.1196,-217.4055\"/>\n",
       "<polygon fill=\"#0000ff\" stroke=\"#0000ff\" points=\"511.5487,-214.8799 502.1429,-210.0034 506.4548,-219.6811 511.5487,-214.8799\"/>\n",
       "<text text-anchor=\"middle\" x=\"565.1742\" y=\"-231.8\" font-family=\"Times,serif\" font-size=\"14.00\" fill=\"#000000\">yes, missing</text>\n",
       "</g>\n",
       "<!-- 4 -->\n",
       "<g id=\"node5\" class=\"node\">\n",
       "<title>4</title>\n",
       "<ellipse fill=\"none\" stroke=\"#000000\" cx=\"649.1742\" cy=\"-192\" rx=\"36.2938\" ry=\"18\"/>\n",
       "<text text-anchor=\"middle\" x=\"649.1742\" y=\"-188.3\" font-family=\"Times,serif\" font-size=\"14.00\" fill=\"#000000\">leaf=&#45;0</text>\n",
       "</g>\n",
       "<!-- 1&#45;&gt;4 -->\n",
       "<g id=\"edge4\" class=\"edge\">\n",
       "<title>1&#45;&gt;4</title>\n",
       "<path fill=\"none\" stroke=\"#ff0000\" d=\"M585.6729,-260.8658C591.3497,-255.2038 597.5741,-248.8961 603.1742,-243 611.3471,-234.3949 620.1183,-224.7718 627.787,-216.2231\"/>\n",
       "<polygon fill=\"#ff0000\" stroke=\"#ff0000\" points=\"630.4234,-218.5255 634.4711,-208.7343 625.201,-213.8643 630.4234,-218.5255\"/>\n",
       "<text text-anchor=\"middle\" x=\"623.1742\" y=\"-231.8\" font-family=\"Times,serif\" font-size=\"14.00\" fill=\"#000000\">no</text>\n",
       "</g>\n",
       "<!-- 5 -->\n",
       "<g id=\"node6\" class=\"node\">\n",
       "<title>5</title>\n",
       "<ellipse fill=\"none\" stroke=\"#000000\" cx=\"291.1742\" cy=\"-105\" rx=\"291.3484\" ry=\"18\"/>\n",
       "<text text-anchor=\"middle\" x=\"291.1742\" y=\"-101.3\" font-family=\"Times,serif\" font-size=\"14.00\" fill=\"#000000\">logical_job_name_f7WFf9GHe6IJiWeFjqoqhEKiQ94wHFwI1e05vf2/Rbo=&lt;1</text>\n",
       "</g>\n",
       "<!-- 3&#45;&gt;5 -->\n",
       "<g id=\"edge5\" class=\"edge\">\n",
       "<title>3&#45;&gt;5</title>\n",
       "<path fill=\"none\" stroke=\"#0000ff\" d=\"M447.3085,-175.019C416.7985,-161.3367 373.6669,-141.9942 340.4653,-127.1048\"/>\n",
       "<polygon fill=\"#0000ff\" stroke=\"#0000ff\" points=\"341.5018,-123.7338 330.9451,-122.8354 338.6374,-130.121 341.5018,-123.7338\"/>\n",
       "<text text-anchor=\"middle\" x=\"434.1742\" y=\"-144.8\" font-family=\"Times,serif\" font-size=\"14.00\" fill=\"#000000\">yes, missing</text>\n",
       "</g>\n",
       "<!-- 6 -->\n",
       "<g id=\"node7\" class=\"node\">\n",
       "<title>6</title>\n",
       "<ellipse fill=\"none\" stroke=\"#000000\" cx=\"679.1742\" cy=\"-105\" rx=\"78.7863\" ry=\"18\"/>\n",
       "<text text-anchor=\"middle\" x=\"679.1742\" y=\"-101.3\" font-family=\"Times,serif\" font-size=\"14.00\" fill=\"#000000\">leaf=&#45;0.400000036</text>\n",
       "</g>\n",
       "<!-- 3&#45;&gt;6 -->\n",
       "<g id=\"edge6\" class=\"edge\">\n",
       "<title>3&#45;&gt;6</title>\n",
       "<path fill=\"none\" stroke=\"#ff0000\" d=\"M523.0399,-175.019C554.8903,-160.7356 600.4957,-140.2836 634.1997,-125.169\"/>\n",
       "<polygon fill=\"#ff0000\" stroke=\"#ff0000\" points=\"635.6767,-128.3425 643.369,-121.0569 632.8123,-121.9553 635.6767,-128.3425\"/>\n",
       "<text text-anchor=\"middle\" x=\"601.1742\" y=\"-144.8\" font-family=\"Times,serif\" font-size=\"14.00\" fill=\"#000000\">no</text>\n",
       "</g>\n",
       "<!-- 7 -->\n",
       "<g id=\"node8\" class=\"node\">\n",
       "<title>7</title>\n",
       "<ellipse fill=\"none\" stroke=\"#000000\" cx=\"201.1742\" cy=\"-18\" rx=\"78.7863\" ry=\"18\"/>\n",
       "<text text-anchor=\"middle\" x=\"201.1742\" y=\"-14.3\" font-family=\"Times,serif\" font-size=\"14.00\" fill=\"#000000\">leaf=&#45;0.216000021</text>\n",
       "</g>\n",
       "<!-- 5&#45;&gt;7 -->\n",
       "<g id=\"edge7\" class=\"edge\">\n",
       "<title>5&#45;&gt;7</title>\n",
       "<path fill=\"none\" stroke=\"#0000ff\" d=\"M272.5261,-86.9735C259.285,-74.1738 241.3439,-56.8308 226.765,-42.7379\"/>\n",
       "<polygon fill=\"#0000ff\" stroke=\"#0000ff\" points=\"229.1129,-40.1395 219.4904,-35.7057 224.2477,-45.1724 229.1129,-40.1395\"/>\n",
       "<text text-anchor=\"middle\" x=\"286.1742\" y=\"-57.8\" font-family=\"Times,serif\" font-size=\"14.00\" fill=\"#000000\">yes, missing</text>\n",
       "</g>\n",
       "<!-- 8 -->\n",
       "<g id=\"node9\" class=\"node\">\n",
       "<title>8</title>\n",
       "<ellipse fill=\"none\" stroke=\"#000000\" cx=\"381.1742\" cy=\"-18\" rx=\"83.3857\" ry=\"18\"/>\n",
       "<text text-anchor=\"middle\" x=\"381.1742\" y=\"-14.3\" font-family=\"Times,serif\" font-size=\"14.00\" fill=\"#000000\">leaf=&#45;0.0666666701</text>\n",
       "</g>\n",
       "<!-- 5&#45;&gt;8 -->\n",
       "<g id=\"edge8\" class=\"edge\">\n",
       "<title>5&#45;&gt;8</title>\n",
       "<path fill=\"none\" stroke=\"#ff0000\" d=\"M309.8222,-86.9735C323.0633,-74.1738 341.0044,-56.8308 355.5833,-42.7379\"/>\n",
       "<polygon fill=\"#ff0000\" stroke=\"#ff0000\" points=\"358.1006,-45.1724 362.8579,-35.7057 353.2354,-40.1395 358.1006,-45.1724\"/>\n",
       "<text text-anchor=\"middle\" x=\"349.1742\" y=\"-57.8\" font-family=\"Times,serif\" font-size=\"14.00\" fill=\"#000000\">no</text>\n",
       "</g>\n",
       "</g>\n",
       "</svg>\n"
      ],
      "text/plain": [
       "<graphviz.sources.Source at 0x7f03dc191790>"
      ]
     },
     "execution_count": 65,
     "metadata": {},
     "output_type": "execute_result"
    }
   ],
   "source": [
    "xgb.to_graphviz(model3)"
   ]
  },
  {
   "cell_type": "markdown",
   "id": "07df31fb-8e84-43e7-84d1-1482bda8554c",
   "metadata": {
    "tags": []
   },
   "source": [
    "## Watermark"
   ]
  },
  {
   "cell_type": "code",
   "execution_count": 66,
   "id": "fe2c9690-3274-44c9-b9e1-6f633681dc44",
   "metadata": {
    "execution": {
     "iopub.execute_input": "2022-01-26T09:32:26.300009Z",
     "iopub.status.busy": "2022-01-26T09:32:26.299808Z",
     "iopub.status.idle": "2022-01-26T09:32:26.359196Z",
     "shell.execute_reply": "2022-01-26T09:32:26.358212Z",
     "shell.execute_reply.started": "2022-01-26T09:32:26.299982Z"
    }
   },
   "outputs": [
    {
     "name": "stdout",
     "output_type": "stream",
     "text": [
      "Last updated: 2022-01-26T10:32:26.316496+01:00\n",
      "\n",
      "Python implementation: CPython\n",
      "Python version       : 3.9.7\n",
      "IPython version      : 7.29.0\n",
      "\n",
      "Compiler    : GCC 7.5.0\n",
      "OS          : Linux\n",
      "Release     : 4.18.0-193.28.1.el8_2.x86_64\n",
      "Machine     : x86_64\n",
      "Processor   : x86_64\n",
      "CPU cores   : 80\n",
      "Architecture: 64bit\n",
      "\n",
      "numpy     : 1.21.2\n",
      "matplotlib: 3.4.3\n",
      "pandas    : 1.3.5\n",
      "xgboost   : 1.5.2\n",
      "seaborn   : 0.11.0\n",
      "sklearn   : 1.0.2\n",
      "\n"
     ]
    }
   ],
   "source": [
    "%load_ext watermark\n",
    "%watermark\n",
    "%watermark --iversions"
   ]
  },
  {
   "cell_type": "code",
   "execution_count": null,
   "id": "ba101b35-c07f-4645-a2c3-a2bcfa7ae348",
   "metadata": {},
   "outputs": [],
   "source": []
  }
 ],
 "metadata": {
  "kernelspec": {
   "display_name": "neuralnets_krnl-2.0",
   "language": "python",
   "name": "neuralnets_krnl-2.0"
  },
  "language_info": {
   "codemirror_mode": {
    "name": "ipython",
    "version": 3
   },
   "file_extension": ".py",
   "mimetype": "text/x-python",
   "name": "python",
   "nbconvert_exporter": "python",
   "pygments_lexer": "ipython3",
   "version": "3.9.7"
  }
 },
 "nbformat": 4,
 "nbformat_minor": 5
}
