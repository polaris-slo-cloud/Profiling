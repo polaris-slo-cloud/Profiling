{
 "cells": [
  {
   "cell_type": "code",
   "execution_count": 2,
   "id": "0c5dc6a8-3d66-4e0f-9a30-d98fd43b9d8a",
   "metadata": {
    "execution": {
     "iopub.execute_input": "2022-07-26T08:40:49.664188Z",
     "iopub.status.busy": "2022-07-26T08:40:49.663623Z",
     "iopub.status.idle": "2022-07-26T08:40:50.297862Z",
     "shell.execute_reply": "2022-07-26T08:40:50.296923Z",
     "shell.execute_reply.started": "2022-07-26T08:40:49.664122Z"
    },
    "tags": []
   },
   "outputs": [],
   "source": [
    "import pandas as pd\n",
    "import numpy as np"
   ]
  },
  {
   "cell_type": "code",
   "execution_count": 3,
   "id": "272a45c5-db5e-4221-a2a9-17cd787b4ea9",
   "metadata": {
    "execution": {
     "iopub.execute_input": "2022-07-26T08:40:51.408664Z",
     "iopub.status.busy": "2022-07-26T08:40:51.408158Z",
     "iopub.status.idle": "2022-07-26T08:40:52.570761Z",
     "shell.execute_reply": "2022-07-26T08:40:52.569499Z",
     "shell.execute_reply.started": "2022-07-26T08:40:51.408602Z"
    },
    "tags": []
   },
   "outputs": [],
   "source": [
    "from dask.delayed import delayed\n",
    "import dask.dataframe as dd\n",
    "import matplotlib.pyplot as plt\n",
    "import seaborn as sns"
   ]
  },
  {
   "cell_type": "code",
   "execution_count": 4,
   "id": "96d6e738-76c7-455d-9c1b-05b652818ccd",
   "metadata": {
    "execution": {
     "iopub.execute_input": "2022-07-26T08:40:52.572130Z",
     "iopub.status.busy": "2022-07-26T08:40:52.571983Z",
     "iopub.status.idle": "2022-07-26T08:40:52.575392Z",
     "shell.execute_reply": "2022-07-26T08:40:52.574787Z",
     "shell.execute_reply.started": "2022-07-26T08:40:52.572110Z"
    },
    "tags": []
   },
   "outputs": [],
   "source": [
    "from sklearn.preprocessing import StandardScaler"
   ]
  },
  {
   "cell_type": "code",
   "execution_count": 5,
   "id": "5c692e2d-9578-4544-88ba-14ef90b39fbc",
   "metadata": {
    "execution": {
     "iopub.execute_input": "2022-07-26T08:40:52.576141Z",
     "iopub.status.busy": "2022-07-26T08:40:52.576019Z",
     "iopub.status.idle": "2022-07-26T08:40:52.580633Z",
     "shell.execute_reply": "2022-07-26T08:40:52.580153Z",
     "shell.execute_reply.started": "2022-07-26T08:40:52.576126Z"
    },
    "tags": []
   },
   "outputs": [],
   "source": [
    "def load_dd_delayed(keyword):\n",
    "    with open('/data/clusterdata/cluster-trace-gpu-v2020/data/pai_%s.header' % keyword) as fin:\n",
    "        lines = fin.readlines()\n",
    "        col_names = lines[0].strip().split(',')\n",
    "\n",
    "    col_names\n",
    "\n",
    "    dfs = delayed(pd.read_csv)('/data/clusterdata/cluster-trace-gpu-v2020/data/pai_%s.tar.gz' % keyword, \n",
    "                               header=None, index_col=False, names=col_names, delimiter=',')\n",
    "\n",
    "    dd_delayed = dd.from_delayed(dfs)\n",
    "\n",
    "    return dd_delayed"
   ]
  },
  {
   "cell_type": "code",
   "execution_count": 6,
   "id": "c750fdbb-15cb-41ed-a79c-6391ecc968bb",
   "metadata": {
    "execution": {
     "iopub.execute_input": "2022-07-26T08:40:52.871903Z",
     "iopub.status.busy": "2022-07-26T08:40:52.871677Z",
     "iopub.status.idle": "2022-07-26T08:40:52.876668Z",
     "shell.execute_reply": "2022-07-26T08:40:52.876014Z",
     "shell.execute_reply.started": "2022-07-26T08:40:52.871877Z"
    },
    "tags": []
   },
   "outputs": [],
   "source": [
    "def percentile(n):\n",
    "    def percentile_(x):\n",
    "        return np.percentile(x, n)\n",
    "    percentile_.__name__ = 'percentile_%s' % n\n",
    "    return percentile_"
   ]
  },
  {
   "cell_type": "code",
   "execution_count": 7,
   "id": "5d28ce90-9806-4988-afbd-c5edbc3c0e98",
   "metadata": {
    "execution": {
     "iopub.execute_input": "2022-07-26T08:40:53.229500Z",
     "iopub.status.busy": "2022-07-26T08:40:53.229122Z",
     "iopub.status.idle": "2022-07-26T08:40:55.538413Z",
     "shell.execute_reply": "2022-07-26T08:40:55.536491Z",
     "shell.execute_reply.started": "2022-07-26T08:40:53.229469Z"
    },
    "tags": []
   },
   "outputs": [],
   "source": [
    "dd_delayed = load_dd_delayed('job_table')"
   ]
  },
  {
   "cell_type": "code",
   "execution_count": 8,
   "id": "70ed9a08-948c-4e55-86b5-4264bb6f9939",
   "metadata": {
    "execution": {
     "iopub.execute_input": "2022-07-26T08:40:55.541691Z",
     "iopub.status.busy": "2022-07-26T08:40:55.541182Z",
     "iopub.status.idle": "2022-07-26T08:40:57.812028Z",
     "shell.execute_reply": "2022-07-26T08:40:57.810260Z",
     "shell.execute_reply.started": "2022-07-26T08:40:55.541646Z"
    },
    "tags": []
   },
   "outputs": [],
   "source": [
    "job_df = dd_delayed.compute()"
   ]
  },
  {
   "cell_type": "code",
   "execution_count": 9,
   "id": "f0a92e2f-290e-4394-953e-d5b0ba3ca15a",
   "metadata": {
    "execution": {
     "iopub.execute_input": "2022-07-26T08:40:57.815106Z",
     "iopub.status.busy": "2022-07-26T08:40:57.814545Z",
     "iopub.status.idle": "2022-07-26T08:40:57.838642Z",
     "shell.execute_reply": "2022-07-26T08:40:57.837828Z",
     "shell.execute_reply.started": "2022-07-26T08:40:57.815029Z"
    },
    "tags": []
   },
   "outputs": [
    {
     "data": {
      "text/html": [
       "<div>\n",
       "<style scoped>\n",
       "    .dataframe tbody tr th:only-of-type {\n",
       "        vertical-align: middle;\n",
       "    }\n",
       "\n",
       "    .dataframe tbody tr th {\n",
       "        vertical-align: top;\n",
       "    }\n",
       "\n",
       "    .dataframe thead th {\n",
       "        text-align: right;\n",
       "    }\n",
       "</style>\n",
       "<table border=\"1\" class=\"dataframe\">\n",
       "  <thead>\n",
       "    <tr style=\"text-align: right;\">\n",
       "      <th></th>\n",
       "      <th>job_name</th>\n",
       "      <th>inst_id</th>\n",
       "      <th>user</th>\n",
       "      <th>status</th>\n",
       "      <th>start_time</th>\n",
       "      <th>end_time</th>\n",
       "    </tr>\n",
       "  </thead>\n",
       "  <tbody>\n",
       "    <tr>\n",
       "      <th>0</th>\n",
       "      <td>pai_job_table.csv</td>\n",
       "      <td>38e2d7187762a9241cc1cd5732dbe52a5d8b37ed7dafe1...</td>\n",
       "      <td>74238accb90b</td>\n",
       "      <td>Running</td>\n",
       "      <td>1053513.0</td>\n",
       "      <td>NaN</td>\n",
       "    </tr>\n",
       "    <tr>\n",
       "      <th>1</th>\n",
       "      <td>9605ac7cc4c55a193fbe956b</td>\n",
       "      <td>e1cbdf28400847d65d00da4f0522ce7a43275fe9cb5d2a...</td>\n",
       "      <td>61d6b6dd5b15</td>\n",
       "      <td>Running</td>\n",
       "      <td>1097614.0</td>\n",
       "      <td>NaN</td>\n",
       "    </tr>\n",
       "    <tr>\n",
       "      <th>2</th>\n",
       "      <td>a2d8872d080eb634a42ea9a6</td>\n",
       "      <td>27ddabc2f7490279c6d5bd95c8a75e5c96d841c6030659...</td>\n",
       "      <td>61d6b6dd5b15</td>\n",
       "      <td>Running</td>\n",
       "      <td>1103820.0</td>\n",
       "      <td>NaN</td>\n",
       "    </tr>\n",
       "    <tr>\n",
       "      <th>3</th>\n",
       "      <td>e8baa72bfcd1b723cafab26a</td>\n",
       "      <td>70e4f598c8cdf40f24e0e7d3aba9a9dacde5342e1f2ffd...</td>\n",
       "      <td>61d6b6dd5b15</td>\n",
       "      <td>Terminated</td>\n",
       "      <td>1104396.0</td>\n",
       "      <td>1140852.0</td>\n",
       "    </tr>\n",
       "    <tr>\n",
       "      <th>4</th>\n",
       "      <td>4e87f469c73e13613908b658</td>\n",
       "      <td>5bb3500e7f1a42a9ce82544dad5f202547848e9727e221...</td>\n",
       "      <td>61d6b6dd5b15</td>\n",
       "      <td>Terminated</td>\n",
       "      <td>1109911.0</td>\n",
       "      <td>1233527.0</td>\n",
       "    </tr>\n",
       "    <tr>\n",
       "      <th>...</th>\n",
       "      <td>...</td>\n",
       "      <td>...</td>\n",
       "      <td>...</td>\n",
       "      <td>...</td>\n",
       "      <td>...</td>\n",
       "      <td>...</td>\n",
       "    </tr>\n",
       "    <tr>\n",
       "      <th>1055497</th>\n",
       "      <td>a155d69dca6bfd2dfb78ef0d</td>\n",
       "      <td>267c02fbda06c42fb83fc8034d2be1c51149127deb2292...</td>\n",
       "      <td>a4187a15253d</td>\n",
       "      <td>Terminated</td>\n",
       "      <td>6420116.0</td>\n",
       "      <td>6431658.0</td>\n",
       "    </tr>\n",
       "    <tr>\n",
       "      <th>1055498</th>\n",
       "      <td>e4e802c3b63829c1e2e3343b</td>\n",
       "      <td>37c6523c16f1574055fb637a82bb22a913122d58c8368a...</td>\n",
       "      <td>a4187a15253d</td>\n",
       "      <td>Running</td>\n",
       "      <td>6431847.0</td>\n",
       "      <td>NaN</td>\n",
       "    </tr>\n",
       "    <tr>\n",
       "      <th>1055499</th>\n",
       "      <td>f11820cc3d678bcdc37faf08</td>\n",
       "      <td>d50242c89f3a25bd20ef700701777823c415ad0321dcb3...</td>\n",
       "      <td>a4187a15253d</td>\n",
       "      <td>Terminated</td>\n",
       "      <td>6431859.0</td>\n",
       "      <td>6431872.0</td>\n",
       "    </tr>\n",
       "    <tr>\n",
       "      <th>1055500</th>\n",
       "      <td>ee3480523c1bf79b0d02c260</td>\n",
       "      <td>6c6338d4ac59fd1157e569fd6b5de6b70975c65112e9ba...</td>\n",
       "      <td>a4187a15253d</td>\n",
       "      <td>Terminated</td>\n",
       "      <td>6431969.0</td>\n",
       "      <td>6435635.0</td>\n",
       "    </tr>\n",
       "    <tr>\n",
       "      <th>1055501</th>\n",
       "      <td>NaN</td>\n",
       "      <td>NaN</td>\n",
       "      <td>NaN</td>\n",
       "      <td>NaN</td>\n",
       "      <td>NaN</td>\n",
       "      <td>NaN</td>\n",
       "    </tr>\n",
       "  </tbody>\n",
       "</table>\n",
       "<p>1055502 rows × 6 columns</p>\n",
       "</div>"
      ],
      "text/plain": [
       "                         job_name  \\\n",
       "0               pai_job_table.csv   \n",
       "1        9605ac7cc4c55a193fbe956b   \n",
       "2        a2d8872d080eb634a42ea9a6   \n",
       "3        e8baa72bfcd1b723cafab26a   \n",
       "4        4e87f469c73e13613908b658   \n",
       "...                           ...   \n",
       "1055497  a155d69dca6bfd2dfb78ef0d   \n",
       "1055498  e4e802c3b63829c1e2e3343b   \n",
       "1055499  f11820cc3d678bcdc37faf08   \n",
       "1055500  ee3480523c1bf79b0d02c260   \n",
       "1055501                       NaN   \n",
       "\n",
       "                                                   inst_id          user  \\\n",
       "0        38e2d7187762a9241cc1cd5732dbe52a5d8b37ed7dafe1...  74238accb90b   \n",
       "1        e1cbdf28400847d65d00da4f0522ce7a43275fe9cb5d2a...  61d6b6dd5b15   \n",
       "2        27ddabc2f7490279c6d5bd95c8a75e5c96d841c6030659...  61d6b6dd5b15   \n",
       "3        70e4f598c8cdf40f24e0e7d3aba9a9dacde5342e1f2ffd...  61d6b6dd5b15   \n",
       "4        5bb3500e7f1a42a9ce82544dad5f202547848e9727e221...  61d6b6dd5b15   \n",
       "...                                                    ...           ...   \n",
       "1055497  267c02fbda06c42fb83fc8034d2be1c51149127deb2292...  a4187a15253d   \n",
       "1055498  37c6523c16f1574055fb637a82bb22a913122d58c8368a...  a4187a15253d   \n",
       "1055499  d50242c89f3a25bd20ef700701777823c415ad0321dcb3...  a4187a15253d   \n",
       "1055500  6c6338d4ac59fd1157e569fd6b5de6b70975c65112e9ba...  a4187a15253d   \n",
       "1055501                                                NaN           NaN   \n",
       "\n",
       "             status  start_time   end_time  \n",
       "0           Running   1053513.0        NaN  \n",
       "1           Running   1097614.0        NaN  \n",
       "2           Running   1103820.0        NaN  \n",
       "3        Terminated   1104396.0  1140852.0  \n",
       "4        Terminated   1109911.0  1233527.0  \n",
       "...             ...         ...        ...  \n",
       "1055497  Terminated   6420116.0  6431658.0  \n",
       "1055498     Running   6431847.0        NaN  \n",
       "1055499  Terminated   6431859.0  6431872.0  \n",
       "1055500  Terminated   6431969.0  6435635.0  \n",
       "1055501         NaN         NaN        NaN  \n",
       "\n",
       "[1055502 rows x 6 columns]"
      ]
     },
     "execution_count": 9,
     "metadata": {},
     "output_type": "execute_result"
    }
   ],
   "source": [
    "job_df"
   ]
  },
  {
   "cell_type": "code",
   "execution_count": 10,
   "id": "50843f3b-78ac-4246-a0b5-bc9d5e47a094",
   "metadata": {
    "execution": {
     "iopub.execute_input": "2022-07-26T08:40:57.840071Z",
     "iopub.status.busy": "2022-07-26T08:40:57.839946Z",
     "iopub.status.idle": "2022-07-26T08:40:59.638469Z",
     "shell.execute_reply": "2022-07-26T08:40:59.637812Z",
     "shell.execute_reply.started": "2022-07-26T08:40:57.840056Z"
    },
    "tags": []
   },
   "outputs": [],
   "source": [
    "dd_delayed = load_dd_delayed('task_table')"
   ]
  },
  {
   "cell_type": "code",
   "execution_count": 11,
   "id": "84ca2e81-81fe-4b3a-bedf-69aec7748c34",
   "metadata": {
    "execution": {
     "iopub.execute_input": "2022-07-26T08:40:59.639481Z",
     "iopub.status.busy": "2022-07-26T08:40:59.639335Z",
     "iopub.status.idle": "2022-07-26T08:41:01.352453Z",
     "shell.execute_reply": "2022-07-26T08:41:01.351343Z",
     "shell.execute_reply.started": "2022-07-26T08:40:59.639464Z"
    },
    "tags": []
   },
   "outputs": [],
   "source": [
    "task_df = dd_delayed.compute()"
   ]
  },
  {
   "cell_type": "code",
   "execution_count": 12,
   "id": "10142b43-ec7b-4658-9b8f-7a46f416fa51",
   "metadata": {
    "execution": {
     "iopub.execute_input": "2022-07-26T08:41:01.354000Z",
     "iopub.status.busy": "2022-07-26T08:41:01.353621Z",
     "iopub.status.idle": "2022-07-26T08:41:01.373821Z",
     "shell.execute_reply": "2022-07-26T08:41:01.373344Z",
     "shell.execute_reply.started": "2022-07-26T08:41:01.353965Z"
    },
    "tags": []
   },
   "outputs": [
    {
     "data": {
      "text/html": [
       "<div>\n",
       "<style scoped>\n",
       "    .dataframe tbody tr th:only-of-type {\n",
       "        vertical-align: middle;\n",
       "    }\n",
       "\n",
       "    .dataframe tbody tr th {\n",
       "        vertical-align: top;\n",
       "    }\n",
       "\n",
       "    .dataframe thead th {\n",
       "        text-align: right;\n",
       "    }\n",
       "</style>\n",
       "<table border=\"1\" class=\"dataframe\">\n",
       "  <thead>\n",
       "    <tr style=\"text-align: right;\">\n",
       "      <th></th>\n",
       "      <th>job_name</th>\n",
       "      <th>task_name</th>\n",
       "      <th>inst_num</th>\n",
       "      <th>status</th>\n",
       "      <th>start_time</th>\n",
       "      <th>end_time</th>\n",
       "      <th>plan_cpu</th>\n",
       "      <th>plan_mem</th>\n",
       "      <th>plan_gpu</th>\n",
       "      <th>gpu_type</th>\n",
       "    </tr>\n",
       "  </thead>\n",
       "  <tbody>\n",
       "    <tr>\n",
       "      <th>0</th>\n",
       "      <td>pai_task_table.csv</td>\n",
       "      <td>tensorflow</td>\n",
       "      <td>1.0</td>\n",
       "      <td>Terminated</td>\n",
       "      <td>2693235.0</td>\n",
       "      <td>2695847.0</td>\n",
       "      <td>600.0</td>\n",
       "      <td>29.296875</td>\n",
       "      <td>50.0</td>\n",
       "      <td>MISC</td>\n",
       "    </tr>\n",
       "    <tr>\n",
       "      <th>1</th>\n",
       "      <td>455c3dec270f4777ad67721c</td>\n",
       "      <td>tensorflow</td>\n",
       "      <td>1.0</td>\n",
       "      <td>Terminated</td>\n",
       "      <td>3399583.0</td>\n",
       "      <td>3399732.0</td>\n",
       "      <td>600.0</td>\n",
       "      <td>29.296875</td>\n",
       "      <td>100.0</td>\n",
       "      <td>MISC</td>\n",
       "    </tr>\n",
       "    <tr>\n",
       "      <th>2</th>\n",
       "      <td>ba64aa2f0feff18428923e92</td>\n",
       "      <td>tensorflow</td>\n",
       "      <td>1.0</td>\n",
       "      <td>Terminated</td>\n",
       "      <td>2152271.0</td>\n",
       "      <td>2158213.0</td>\n",
       "      <td>600.0</td>\n",
       "      <td>29.296875</td>\n",
       "      <td>50.0</td>\n",
       "      <td>MISC</td>\n",
       "    </tr>\n",
       "    <tr>\n",
       "      <th>3</th>\n",
       "      <td>704783be2a4b7f88b8d2e4ee</td>\n",
       "      <td>worker</td>\n",
       "      <td>100.0</td>\n",
       "      <td>Failed</td>\n",
       "      <td>2172980.0</td>\n",
       "      <td>NaN</td>\n",
       "      <td>600.0</td>\n",
       "      <td>9.765625</td>\n",
       "      <td>10.0</td>\n",
       "      <td>MISC</td>\n",
       "    </tr>\n",
       "    <tr>\n",
       "      <th>4</th>\n",
       "      <td>bce3b9c55772f9d1e85fe796</td>\n",
       "      <td>PyTorchWorker</td>\n",
       "      <td>4.0</td>\n",
       "      <td>Failed</td>\n",
       "      <td>2374681.0</td>\n",
       "      <td>NaN</td>\n",
       "      <td>400.0</td>\n",
       "      <td>10.000000</td>\n",
       "      <td>100.0</td>\n",
       "      <td>V100</td>\n",
       "    </tr>\n",
       "    <tr>\n",
       "      <th>...</th>\n",
       "      <td>...</td>\n",
       "      <td>...</td>\n",
       "      <td>...</td>\n",
       "      <td>...</td>\n",
       "      <td>...</td>\n",
       "      <td>...</td>\n",
       "      <td>...</td>\n",
       "      <td>...</td>\n",
       "      <td>...</td>\n",
       "      <td>...</td>\n",
       "    </tr>\n",
       "    <tr>\n",
       "      <th>1261046</th>\n",
       "      <td>d14050801987e35369e03724</td>\n",
       "      <td>tensorflow</td>\n",
       "      <td>1.0</td>\n",
       "      <td>Failed</td>\n",
       "      <td>4800428.0</td>\n",
       "      <td>NaN</td>\n",
       "      <td>600.0</td>\n",
       "      <td>29.296875</td>\n",
       "      <td>100.0</td>\n",
       "      <td>P100</td>\n",
       "    </tr>\n",
       "    <tr>\n",
       "      <th>1261047</th>\n",
       "      <td>82c2ef92658b13173b215d09</td>\n",
       "      <td>worker</td>\n",
       "      <td>1.0</td>\n",
       "      <td>Running</td>\n",
       "      <td>4724430.0</td>\n",
       "      <td>NaN</td>\n",
       "      <td>800.0</td>\n",
       "      <td>39.062500</td>\n",
       "      <td>70.0</td>\n",
       "      <td>MISC</td>\n",
       "    </tr>\n",
       "    <tr>\n",
       "      <th>1261048</th>\n",
       "      <td>906db91bc6f3321e94a6b472</td>\n",
       "      <td>tensorflow</td>\n",
       "      <td>1.0</td>\n",
       "      <td>Terminated</td>\n",
       "      <td>4732036.0</td>\n",
       "      <td>4739163.0</td>\n",
       "      <td>600.0</td>\n",
       "      <td>29.296875</td>\n",
       "      <td>10.0</td>\n",
       "      <td>MISC</td>\n",
       "    </tr>\n",
       "    <tr>\n",
       "      <th>1261049</th>\n",
       "      <td>14ea663f749cfe55be1bc088</td>\n",
       "      <td>tensorflow</td>\n",
       "      <td>1.0</td>\n",
       "      <td>Failed</td>\n",
       "      <td>4732294.0</td>\n",
       "      <td>NaN</td>\n",
       "      <td>600.0</td>\n",
       "      <td>29.296875</td>\n",
       "      <td>10.0</td>\n",
       "      <td>MISC</td>\n",
       "    </tr>\n",
       "    <tr>\n",
       "      <th>1261050</th>\n",
       "      <td>NaN</td>\n",
       "      <td>NaN</td>\n",
       "      <td>NaN</td>\n",
       "      <td>NaN</td>\n",
       "      <td>NaN</td>\n",
       "      <td>NaN</td>\n",
       "      <td>NaN</td>\n",
       "      <td>NaN</td>\n",
       "      <td>NaN</td>\n",
       "      <td>NaN</td>\n",
       "    </tr>\n",
       "  </tbody>\n",
       "</table>\n",
       "<p>1261051 rows × 10 columns</p>\n",
       "</div>"
      ],
      "text/plain": [
       "                         job_name      task_name  inst_num      status  \\\n",
       "0              pai_task_table.csv     tensorflow       1.0  Terminated   \n",
       "1        455c3dec270f4777ad67721c     tensorflow       1.0  Terminated   \n",
       "2        ba64aa2f0feff18428923e92     tensorflow       1.0  Terminated   \n",
       "3        704783be2a4b7f88b8d2e4ee         worker     100.0      Failed   \n",
       "4        bce3b9c55772f9d1e85fe796  PyTorchWorker       4.0      Failed   \n",
       "...                           ...            ...       ...         ...   \n",
       "1261046  d14050801987e35369e03724     tensorflow       1.0      Failed   \n",
       "1261047  82c2ef92658b13173b215d09         worker       1.0     Running   \n",
       "1261048  906db91bc6f3321e94a6b472     tensorflow       1.0  Terminated   \n",
       "1261049  14ea663f749cfe55be1bc088     tensorflow       1.0      Failed   \n",
       "1261050                       NaN            NaN       NaN         NaN   \n",
       "\n",
       "         start_time   end_time  plan_cpu   plan_mem  plan_gpu gpu_type  \n",
       "0         2693235.0  2695847.0     600.0  29.296875      50.0     MISC  \n",
       "1         3399583.0  3399732.0     600.0  29.296875     100.0     MISC  \n",
       "2         2152271.0  2158213.0     600.0  29.296875      50.0     MISC  \n",
       "3         2172980.0        NaN     600.0   9.765625      10.0     MISC  \n",
       "4         2374681.0        NaN     400.0  10.000000     100.0     V100  \n",
       "...             ...        ...       ...        ...       ...      ...  \n",
       "1261046   4800428.0        NaN     600.0  29.296875     100.0     P100  \n",
       "1261047   4724430.0        NaN     800.0  39.062500      70.0     MISC  \n",
       "1261048   4732036.0  4739163.0     600.0  29.296875      10.0     MISC  \n",
       "1261049   4732294.0        NaN     600.0  29.296875      10.0     MISC  \n",
       "1261050         NaN        NaN       NaN        NaN       NaN      NaN  \n",
       "\n",
       "[1261051 rows x 10 columns]"
      ]
     },
     "execution_count": 12,
     "metadata": {},
     "output_type": "execute_result"
    }
   ],
   "source": [
    "task_df"
   ]
  },
  {
   "cell_type": "code",
   "execution_count": 13,
   "id": "7fcc4d67-8693-4aac-9727-2567b46b666a",
   "metadata": {
    "execution": {
     "iopub.execute_input": "2022-07-26T08:41:01.374475Z",
     "iopub.status.busy": "2022-07-26T08:41:01.374361Z",
     "iopub.status.idle": "2022-07-26T08:41:01.437572Z",
     "shell.execute_reply": "2022-07-26T08:41:01.436758Z",
     "shell.execute_reply.started": "2022-07-26T08:41:01.374460Z"
    },
    "tags": []
   },
   "outputs": [
    {
     "data": {
      "text/plain": [
       "tensorflow           621415\n",
       "worker               275785\n",
       "ps                   183283\n",
       "PyTorchWorker        110784\n",
       "xComputeWorker        27402\n",
       "evaluator             17210\n",
       "TensorboardTask       10681\n",
       "DecoderWorker          4136\n",
       "ReduceTask             4136\n",
       "JupyterTask            2066\n",
       "TVMTuneMain            1158\n",
       "OpenmpiTracker          745\n",
       "OpenmpiWorker           745\n",
       "OssToVolumeWorker       672\n",
       "MWorker                 404\n",
       "chief                   371\n",
       "BladeMain                39\n",
       "aligraph                  6\n",
       "TransformGraph            3\n",
       "M1                        3\n",
       "R2_1                      2\n",
       "TfClientWorker            2\n",
       "R3_1_2                    1\n",
       "M2                        1\n",
       "Name: task_name, dtype: int64"
      ]
     },
     "execution_count": 13,
     "metadata": {},
     "output_type": "execute_result"
    }
   ],
   "source": [
    "task_df.task_name.value_counts()"
   ]
  },
  {
   "cell_type": "code",
   "execution_count": 14,
   "id": "ca6286d3-80c3-4306-87a7-3aea03224b01",
   "metadata": {
    "execution": {
     "iopub.execute_input": "2022-07-26T08:41:01.438280Z",
     "iopub.status.busy": "2022-07-26T08:41:01.438171Z",
     "iopub.status.idle": "2022-07-26T08:41:27.975128Z",
     "shell.execute_reply": "2022-07-26T08:41:27.974395Z",
     "shell.execute_reply.started": "2022-07-26T08:41:01.438266Z"
    },
    "tags": []
   },
   "outputs": [],
   "source": [
    "dd_delayed = load_dd_delayed('instance_table')"
   ]
  },
  {
   "cell_type": "code",
   "execution_count": 15,
   "id": "78cdff75-ced8-4a4c-8852-f5b0ead12278",
   "metadata": {
    "execution": {
     "iopub.execute_input": "2022-07-26T08:41:27.976333Z",
     "iopub.status.busy": "2022-07-26T08:41:27.976176Z",
     "iopub.status.idle": "2022-07-26T08:41:54.620995Z",
     "shell.execute_reply": "2022-07-26T08:41:54.618882Z",
     "shell.execute_reply.started": "2022-07-26T08:41:27.976313Z"
    },
    "tags": []
   },
   "outputs": [],
   "source": [
    "instance_df = dd_delayed.compute()"
   ]
  },
  {
   "cell_type": "code",
   "execution_count": 16,
   "id": "9e19e7bb-0825-4119-84ad-94a745ff6e2b",
   "metadata": {
    "execution": {
     "iopub.execute_input": "2022-07-26T08:41:54.627466Z",
     "iopub.status.busy": "2022-07-26T08:41:54.626956Z",
     "iopub.status.idle": "2022-07-26T08:41:54.646921Z",
     "shell.execute_reply": "2022-07-26T08:41:54.646416Z",
     "shell.execute_reply.started": "2022-07-26T08:41:54.627420Z"
    },
    "tags": []
   },
   "outputs": [
    {
     "data": {
      "text/html": [
       "<div>\n",
       "<style scoped>\n",
       "    .dataframe tbody tr th:only-of-type {\n",
       "        vertical-align: middle;\n",
       "    }\n",
       "\n",
       "    .dataframe tbody tr th {\n",
       "        vertical-align: top;\n",
       "    }\n",
       "\n",
       "    .dataframe thead th {\n",
       "        text-align: right;\n",
       "    }\n",
       "</style>\n",
       "<table border=\"1\" class=\"dataframe\">\n",
       "  <thead>\n",
       "    <tr style=\"text-align: right;\">\n",
       "      <th></th>\n",
       "      <th>job_name</th>\n",
       "      <th>task_name</th>\n",
       "      <th>inst_name</th>\n",
       "      <th>worker_name</th>\n",
       "      <th>inst_id</th>\n",
       "      <th>status</th>\n",
       "      <th>start_time</th>\n",
       "      <th>end_time</th>\n",
       "      <th>machine</th>\n",
       "    </tr>\n",
       "  </thead>\n",
       "  <tbody>\n",
       "    <tr>\n",
       "      <th>0</th>\n",
       "      <td>pai_instance_table.csv</td>\n",
       "      <td>worker</td>\n",
       "      <td>c47ee192deea8c5aa87d8d7c2e02120cd03f75304a69dd...</td>\n",
       "      <td>05b1590648df3f4c6deea2496bbbefd4d3ae93347669f7...</td>\n",
       "      <td>68889727c2257f702108d185e5eed342a39807a2893d4b...</td>\n",
       "      <td>Terminated</td>\n",
       "      <td>3272995.0</td>\n",
       "      <td>3273065.0</td>\n",
       "      <td>165261853e188ca69c4fbcdf</td>\n",
       "    </tr>\n",
       "    <tr>\n",
       "      <th>1</th>\n",
       "      <td>54670e2998350a9f0e4868d5</td>\n",
       "      <td>worker</td>\n",
       "      <td>92759a73039692b2d3e0929cadf55f5b07b40d6582c36f...</td>\n",
       "      <td>cbc1bc591c53301bceafa44dc626288fd92d2fc5dca438...</td>\n",
       "      <td>68889727c2257f702108d185e5eed342a39807a2893d4b...</td>\n",
       "      <td>Terminated</td>\n",
       "      <td>3272995.0</td>\n",
       "      <td>3273056.0</td>\n",
       "      <td>31dbf829549b10917e7193a6</td>\n",
       "    </tr>\n",
       "    <tr>\n",
       "      <th>2</th>\n",
       "      <td>54670e2998350a9f0e4868d5</td>\n",
       "      <td>worker</td>\n",
       "      <td>b3e42abde4c35da06ff4746802b82678b1bf56b28efaa1...</td>\n",
       "      <td>09d41bf627188adc004b2db7c0a47578325952cc3340af...</td>\n",
       "      <td>68889727c2257f702108d185e5eed342a39807a2893d4b...</td>\n",
       "      <td>Terminated</td>\n",
       "      <td>3272995.0</td>\n",
       "      <td>3273067.0</td>\n",
       "      <td>31dbf829549b10917e7193a6</td>\n",
       "    </tr>\n",
       "    <tr>\n",
       "      <th>3</th>\n",
       "      <td>54670e2998350a9f0e4868d5</td>\n",
       "      <td>worker</td>\n",
       "      <td>d0f2e1f76ff463bcd08302370cc2f9bf0ec1333a3b25e3...</td>\n",
       "      <td>1a631e8be3fd787c2891c15b9e9bac6df4f177efc9ec7b...</td>\n",
       "      <td>68889727c2257f702108d185e5eed342a39807a2893d4b...</td>\n",
       "      <td>Terminated</td>\n",
       "      <td>3272995.0</td>\n",
       "      <td>3273058.0</td>\n",
       "      <td>3765d45e2eca88d1d1da7cef</td>\n",
       "    </tr>\n",
       "    <tr>\n",
       "      <th>4</th>\n",
       "      <td>54670e2998350a9f0e4868d5</td>\n",
       "      <td>worker</td>\n",
       "      <td>0243b1305fd38f228634b23f69de5ed5ce801360eeffdc...</td>\n",
       "      <td>59aea81c00cccb5cd01ca2f7f72877d6bc73b427821986...</td>\n",
       "      <td>68889727c2257f702108d185e5eed342a39807a2893d4b...</td>\n",
       "      <td>Terminated</td>\n",
       "      <td>3272995.0</td>\n",
       "      <td>3273059.0</td>\n",
       "      <td>c0d6760f6248ea8260e36fa5</td>\n",
       "    </tr>\n",
       "    <tr>\n",
       "      <th>...</th>\n",
       "      <td>...</td>\n",
       "      <td>...</td>\n",
       "      <td>...</td>\n",
       "      <td>...</td>\n",
       "      <td>...</td>\n",
       "      <td>...</td>\n",
       "      <td>...</td>\n",
       "      <td>...</td>\n",
       "      <td>...</td>\n",
       "    </tr>\n",
       "    <tr>\n",
       "      <th>7521998</th>\n",
       "      <td>8fd48d39330b56b9805b05ec</td>\n",
       "      <td>tensorflow</td>\n",
       "      <td>24f37942cfa3cbea71fde25b16180e9d0c44624cd7d675...</td>\n",
       "      <td>56c52f06271aab3656df9ec6860f82db0b0f6797eb82d7...</td>\n",
       "      <td>61c44f7f8924420946915df92ad4a4311d89382b6b50ee...</td>\n",
       "      <td>Failed</td>\n",
       "      <td>4359745.0</td>\n",
       "      <td>NaN</td>\n",
       "      <td>12bcc4fceea93a30d7d0f324</td>\n",
       "    </tr>\n",
       "    <tr>\n",
       "      <th>7521999</th>\n",
       "      <td>5889118c3568a72621d4bd01</td>\n",
       "      <td>tensorflow</td>\n",
       "      <td>5d54569a1bcaaa80762614e81775ff5527c440eef2d231...</td>\n",
       "      <td>dee191654e340b7326cd0390fc3728b3759266ff34401a...</td>\n",
       "      <td>6ffec1496e69ed83e7dc483be6310dec99ef9f425cc501...</td>\n",
       "      <td>Terminated</td>\n",
       "      <td>4333482.0</td>\n",
       "      <td>4333505.0</td>\n",
       "      <td>72589c833bbdadca0cf899e7</td>\n",
       "    </tr>\n",
       "    <tr>\n",
       "      <th>7522000</th>\n",
       "      <td>bb584cd96021d283a2440e15</td>\n",
       "      <td>xComputeWorker</td>\n",
       "      <td>3c208076aa39e45fc9e035436d1c7c477e39c13ae6d712...</td>\n",
       "      <td>b005700878c88929eb6d02a5b5969da7105f481d267147...</td>\n",
       "      <td>800f2f40114a48ce9b6e0e409c07a1cfcc4861ea8cc408...</td>\n",
       "      <td>Terminated</td>\n",
       "      <td>6254956.0</td>\n",
       "      <td>6255327.0</td>\n",
       "      <td>e03928576b1cd17e64172f14</td>\n",
       "    </tr>\n",
       "    <tr>\n",
       "      <th>7522001</th>\n",
       "      <td>fbcddffa9fa853342ebd6b49</td>\n",
       "      <td>PyTorchWorker</td>\n",
       "      <td>e8fe079da9038d943538e624373bbb8d4c6f1a9fad8777...</td>\n",
       "      <td>82ca9df5a758df39da151e33c71b0f00c9a981bc320ab2...</td>\n",
       "      <td>5ac3ce47b830518c827b7bd9f17e091733742fb79c09cc...</td>\n",
       "      <td>Terminated</td>\n",
       "      <td>4525192.0</td>\n",
       "      <td>4533064.0</td>\n",
       "      <td>89a4d0ecb6a1a0b6f69affca</td>\n",
       "    </tr>\n",
       "    <tr>\n",
       "      <th>7522002</th>\n",
       "      <td>NaN</td>\n",
       "      <td>NaN</td>\n",
       "      <td>NaN</td>\n",
       "      <td>NaN</td>\n",
       "      <td>NaN</td>\n",
       "      <td>NaN</td>\n",
       "      <td>NaN</td>\n",
       "      <td>NaN</td>\n",
       "      <td>NaN</td>\n",
       "    </tr>\n",
       "  </tbody>\n",
       "</table>\n",
       "<p>7522003 rows × 9 columns</p>\n",
       "</div>"
      ],
      "text/plain": [
       "                         job_name       task_name  \\\n",
       "0          pai_instance_table.csv          worker   \n",
       "1        54670e2998350a9f0e4868d5          worker   \n",
       "2        54670e2998350a9f0e4868d5          worker   \n",
       "3        54670e2998350a9f0e4868d5          worker   \n",
       "4        54670e2998350a9f0e4868d5          worker   \n",
       "...                           ...             ...   \n",
       "7521998  8fd48d39330b56b9805b05ec      tensorflow   \n",
       "7521999  5889118c3568a72621d4bd01      tensorflow   \n",
       "7522000  bb584cd96021d283a2440e15  xComputeWorker   \n",
       "7522001  fbcddffa9fa853342ebd6b49   PyTorchWorker   \n",
       "7522002                       NaN             NaN   \n",
       "\n",
       "                                                 inst_name  \\\n",
       "0        c47ee192deea8c5aa87d8d7c2e02120cd03f75304a69dd...   \n",
       "1        92759a73039692b2d3e0929cadf55f5b07b40d6582c36f...   \n",
       "2        b3e42abde4c35da06ff4746802b82678b1bf56b28efaa1...   \n",
       "3        d0f2e1f76ff463bcd08302370cc2f9bf0ec1333a3b25e3...   \n",
       "4        0243b1305fd38f228634b23f69de5ed5ce801360eeffdc...   \n",
       "...                                                    ...   \n",
       "7521998  24f37942cfa3cbea71fde25b16180e9d0c44624cd7d675...   \n",
       "7521999  5d54569a1bcaaa80762614e81775ff5527c440eef2d231...   \n",
       "7522000  3c208076aa39e45fc9e035436d1c7c477e39c13ae6d712...   \n",
       "7522001  e8fe079da9038d943538e624373bbb8d4c6f1a9fad8777...   \n",
       "7522002                                                NaN   \n",
       "\n",
       "                                               worker_name  \\\n",
       "0        05b1590648df3f4c6deea2496bbbefd4d3ae93347669f7...   \n",
       "1        cbc1bc591c53301bceafa44dc626288fd92d2fc5dca438...   \n",
       "2        09d41bf627188adc004b2db7c0a47578325952cc3340af...   \n",
       "3        1a631e8be3fd787c2891c15b9e9bac6df4f177efc9ec7b...   \n",
       "4        59aea81c00cccb5cd01ca2f7f72877d6bc73b427821986...   \n",
       "...                                                    ...   \n",
       "7521998  56c52f06271aab3656df9ec6860f82db0b0f6797eb82d7...   \n",
       "7521999  dee191654e340b7326cd0390fc3728b3759266ff34401a...   \n",
       "7522000  b005700878c88929eb6d02a5b5969da7105f481d267147...   \n",
       "7522001  82ca9df5a758df39da151e33c71b0f00c9a981bc320ab2...   \n",
       "7522002                                                NaN   \n",
       "\n",
       "                                                   inst_id      status  \\\n",
       "0        68889727c2257f702108d185e5eed342a39807a2893d4b...  Terminated   \n",
       "1        68889727c2257f702108d185e5eed342a39807a2893d4b...  Terminated   \n",
       "2        68889727c2257f702108d185e5eed342a39807a2893d4b...  Terminated   \n",
       "3        68889727c2257f702108d185e5eed342a39807a2893d4b...  Terminated   \n",
       "4        68889727c2257f702108d185e5eed342a39807a2893d4b...  Terminated   \n",
       "...                                                    ...         ...   \n",
       "7521998  61c44f7f8924420946915df92ad4a4311d89382b6b50ee...      Failed   \n",
       "7521999  6ffec1496e69ed83e7dc483be6310dec99ef9f425cc501...  Terminated   \n",
       "7522000  800f2f40114a48ce9b6e0e409c07a1cfcc4861ea8cc408...  Terminated   \n",
       "7522001  5ac3ce47b830518c827b7bd9f17e091733742fb79c09cc...  Terminated   \n",
       "7522002                                                NaN         NaN   \n",
       "\n",
       "         start_time   end_time                   machine  \n",
       "0         3272995.0  3273065.0  165261853e188ca69c4fbcdf  \n",
       "1         3272995.0  3273056.0  31dbf829549b10917e7193a6  \n",
       "2         3272995.0  3273067.0  31dbf829549b10917e7193a6  \n",
       "3         3272995.0  3273058.0  3765d45e2eca88d1d1da7cef  \n",
       "4         3272995.0  3273059.0  c0d6760f6248ea8260e36fa5  \n",
       "...             ...        ...                       ...  \n",
       "7521998   4359745.0        NaN  12bcc4fceea93a30d7d0f324  \n",
       "7521999   4333482.0  4333505.0  72589c833bbdadca0cf899e7  \n",
       "7522000   6254956.0  6255327.0  e03928576b1cd17e64172f14  \n",
       "7522001   4525192.0  4533064.0  89a4d0ecb6a1a0b6f69affca  \n",
       "7522002         NaN        NaN                       NaN  \n",
       "\n",
       "[7522003 rows x 9 columns]"
      ]
     },
     "execution_count": 16,
     "metadata": {},
     "output_type": "execute_result"
    }
   ],
   "source": [
    "instance_df"
   ]
  },
  {
   "cell_type": "code",
   "execution_count": 17,
   "id": "8f42cd35-2b1b-4423-91bf-1e0649a05da0",
   "metadata": {
    "execution": {
     "iopub.execute_input": "2022-07-26T08:41:54.647620Z",
     "iopub.status.busy": "2022-07-26T08:41:54.647507Z",
     "iopub.status.idle": "2022-07-26T08:42:08.991381Z",
     "shell.execute_reply": "2022-07-26T08:42:08.990127Z",
     "shell.execute_reply.started": "2022-07-26T08:41:54.647605Z"
    },
    "tags": []
   },
   "outputs": [],
   "source": [
    "dd_delayed = load_dd_delayed('sensor_table')"
   ]
  },
  {
   "cell_type": "code",
   "execution_count": 18,
   "id": "1097fbe5-42e8-479d-8017-7075c145d3cd",
   "metadata": {
    "execution": {
     "iopub.execute_input": "2022-07-26T08:42:08.992604Z",
     "iopub.status.busy": "2022-07-26T08:42:08.992449Z",
     "iopub.status.idle": "2022-07-26T08:42:22.617748Z",
     "shell.execute_reply": "2022-07-26T08:42:22.616105Z",
     "shell.execute_reply.started": "2022-07-26T08:42:08.992585Z"
    },
    "tags": []
   },
   "outputs": [],
   "source": [
    "sensor_df = dd_delayed.compute()"
   ]
  },
  {
   "cell_type": "markdown",
   "id": "c75f441d-665d-4528-90ad-1a7423da6c67",
   "metadata": {
    "tags": []
   },
   "source": [
    "## EDA on Subset"
   ]
  },
  {
   "cell_type": "code",
   "execution_count": 19,
   "id": "b49ac6f9-138e-49ca-b981-6d58924a39a1",
   "metadata": {
    "execution": {
     "iopub.execute_input": "2022-07-26T08:42:22.620785Z",
     "iopub.status.busy": "2022-07-26T08:42:22.620160Z",
     "iopub.status.idle": "2022-07-26T08:42:22.782443Z",
     "shell.execute_reply": "2022-07-26T08:42:22.781668Z",
     "shell.execute_reply.started": "2022-07-26T08:42:22.620718Z"
    },
    "tags": []
   },
   "outputs": [],
   "source": [
    "examples = sensor_df[sensor_df['task_name'].isin(['PyTorchWorker', 'JupyterTask', 'tensorflow'])]"
   ]
  },
  {
   "cell_type": "code",
   "execution_count": 20,
   "id": "4a4d8213-f38d-4ece-8f8f-b8124461a7bb",
   "metadata": {
    "execution": {
     "iopub.execute_input": "2022-07-26T08:42:22.783321Z",
     "iopub.status.busy": "2022-07-26T08:42:22.783186Z",
     "iopub.status.idle": "2022-07-26T08:42:22.792584Z",
     "shell.execute_reply": "2022-07-26T08:42:22.792073Z",
     "shell.execute_reply.started": "2022-07-26T08:42:22.783305Z"
    },
    "tags": []
   },
   "outputs": [],
   "source": [
    "dd_delayed = load_dd_delayed('machine_spec')"
   ]
  },
  {
   "cell_type": "code",
   "execution_count": 21,
   "id": "d266edcb-27b9-4a56-a477-e21bce620a49",
   "metadata": {
    "execution": {
     "iopub.execute_input": "2022-07-26T08:42:22.793356Z",
     "iopub.status.busy": "2022-07-26T08:42:22.793243Z",
     "iopub.status.idle": "2022-07-26T08:42:22.802904Z",
     "shell.execute_reply": "2022-07-26T08:42:22.802410Z",
     "shell.execute_reply.started": "2022-07-26T08:42:22.793341Z"
    },
    "tags": []
   },
   "outputs": [],
   "source": [
    "machine_spec_df = dd_delayed.compute()"
   ]
  },
  {
   "cell_type": "code",
   "execution_count": 22,
   "id": "54cea6b9-99c0-42a3-b6e9-8d0de524270c",
   "metadata": {
    "execution": {
     "iopub.execute_input": "2022-07-26T08:42:22.803537Z",
     "iopub.status.busy": "2022-07-26T08:42:22.803399Z",
     "iopub.status.idle": "2022-07-26T08:42:22.885692Z",
     "shell.execute_reply": "2022-07-26T08:42:22.885161Z",
     "shell.execute_reply.started": "2022-07-26T08:42:22.803519Z"
    },
    "tags": []
   },
   "outputs": [],
   "source": [
    "machines_rel = machine_spec_df[machine_spec_df.machine.isin(list(examples.machine.values))]"
   ]
  },
  {
   "cell_type": "code",
   "execution_count": 23,
   "id": "57fc2f57-08a4-4fe5-8f00-ee573e451f75",
   "metadata": {
    "execution": {
     "iopub.execute_input": "2022-07-26T08:42:22.886530Z",
     "iopub.status.busy": "2022-07-26T08:42:22.886395Z",
     "iopub.status.idle": "2022-07-26T08:46:05.145227Z",
     "shell.execute_reply": "2022-07-26T08:46:05.144385Z",
     "shell.execute_reply.started": "2022-07-26T08:42:22.886514Z"
    },
    "tags": []
   },
   "outputs": [],
   "source": [
    "examples_gpu_type = []\n",
    "for machine in examples.machine.values:\n",
    "    examples_gpu_type.append(machines_rel[machines_rel.machine == machine]['gpu_type'].values)"
   ]
  },
  {
   "cell_type": "code",
   "execution_count": 24,
   "id": "cce53455-710a-4414-8636-ca42f9783ceb",
   "metadata": {
    "execution": {
     "iopub.execute_input": "2022-07-26T08:46:05.147186Z",
     "iopub.status.busy": "2022-07-26T08:46:05.147017Z",
     "iopub.status.idle": "2022-07-26T08:46:05.309497Z",
     "shell.execute_reply": "2022-07-26T08:46:05.308275Z",
     "shell.execute_reply.started": "2022-07-26T08:46:05.147166Z"
    },
    "tags": []
   },
   "outputs": [],
   "source": [
    "example_gpu_type_fin = []\n",
    "\n",
    "len(examples_gpu_type)\n",
    "\n",
    "for x in examples_gpu_type:\n",
    "    if len(x) > 0:\n",
    "        example_gpu_type_fin.append(x[0])\n",
    "    else:\n",
    "        example_gpu_type_fin.append('')"
   ]
  },
  {
   "cell_type": "code",
   "execution_count": 25,
   "id": "2f50b220-095c-448d-b5c8-c8a6ad88b9dd",
   "metadata": {
    "execution": {
     "iopub.execute_input": "2022-07-26T08:46:05.310307Z",
     "iopub.status.busy": "2022-07-26T08:46:05.310185Z",
     "iopub.status.idle": "2022-07-26T08:46:05.334274Z",
     "shell.execute_reply": "2022-07-26T08:46:05.333711Z",
     "shell.execute_reply.started": "2022-07-26T08:46:05.310292Z"
    },
    "tags": []
   },
   "outputs": [
    {
     "name": "stderr",
     "output_type": "stream",
     "text": [
      "/tmp/ipykernel_3994546/1422186822.py:1: SettingWithCopyWarning: \n",
      "A value is trying to be set on a copy of a slice from a DataFrame.\n",
      "Try using .loc[row_indexer,col_indexer] = value instead\n",
      "\n",
      "See the caveats in the documentation: https://pandas.pydata.org/pandas-docs/stable/user_guide/indexing.html#returning-a-view-versus-a-copy\n",
      "  examples['gpu_type'] = example_gpu_type_fin\n"
     ]
    }
   ],
   "source": [
    "examples['gpu_type'] = example_gpu_type_fin"
   ]
  },
  {
   "cell_type": "code",
   "execution_count": 26,
   "id": "9c902d03-0354-4099-be6d-f1dffbd4f7c2",
   "metadata": {
    "execution": {
     "iopub.execute_input": "2022-07-26T08:46:05.335329Z",
     "iopub.status.busy": "2022-07-26T08:46:05.335215Z",
     "iopub.status.idle": "2022-07-26T08:46:05.352979Z",
     "shell.execute_reply": "2022-07-26T08:46:05.352496Z",
     "shell.execute_reply.started": "2022-07-26T08:46:05.335315Z"
    },
    "tags": []
   },
   "outputs": [
    {
     "data": {
      "text/html": [
       "<div>\n",
       "<style scoped>\n",
       "    .dataframe tbody tr th:only-of-type {\n",
       "        vertical-align: middle;\n",
       "    }\n",
       "\n",
       "    .dataframe tbody tr th {\n",
       "        vertical-align: top;\n",
       "    }\n",
       "\n",
       "    .dataframe thead th {\n",
       "        text-align: right;\n",
       "    }\n",
       "</style>\n",
       "<table border=\"1\" class=\"dataframe\">\n",
       "  <thead>\n",
       "    <tr style=\"text-align: right;\">\n",
       "      <th></th>\n",
       "      <th>job_name</th>\n",
       "      <th>task_name</th>\n",
       "      <th>worker_name</th>\n",
       "      <th>inst_id</th>\n",
       "      <th>machine</th>\n",
       "      <th>gpu_name</th>\n",
       "      <th>cpu_usage</th>\n",
       "      <th>gpu_wrk_util</th>\n",
       "      <th>avg_mem</th>\n",
       "      <th>max_mem</th>\n",
       "      <th>avg_gpu_wrk_mem</th>\n",
       "      <th>max_gpu_wrk_mem</th>\n",
       "      <th>read</th>\n",
       "      <th>write</th>\n",
       "      <th>read_count</th>\n",
       "      <th>write_count</th>\n",
       "      <th>gpu_type</th>\n",
       "    </tr>\n",
       "  </thead>\n",
       "  <tbody>\n",
       "    <tr>\n",
       "      <th>2388</th>\n",
       "      <td>a7062ec8abaf0fa42c472191</td>\n",
       "      <td>tensorflow</td>\n",
       "      <td>b8a6db42aa3b164c7be973a9a10c067918337de4d1ee74...</td>\n",
       "      <td>c3c867669e5d57102d969d1103349a78adf7516330dc69...</td>\n",
       "      <td>af1497a5c3d710f9d7f797ab</td>\n",
       "      <td>/dev/nvidia3</td>\n",
       "      <td>201.553583</td>\n",
       "      <td>33.845371</td>\n",
       "      <td>17.840304</td>\n",
       "      <td>98.989258</td>\n",
       "      <td>60.518854</td>\n",
       "      <td>60.525391</td>\n",
       "      <td>6.910453e+05</td>\n",
       "      <td>1.853040e+05</td>\n",
       "      <td>344.292232</td>\n",
       "      <td>116.668728</td>\n",
       "      <td>V100</td>\n",
       "    </tr>\n",
       "    <tr>\n",
       "      <th>2474</th>\n",
       "      <td>35f41a2a1ef2d98a92b9b428</td>\n",
       "      <td>tensorflow</td>\n",
       "      <td>678e44d6b438b1f9ae3709c058037b3f19dd8cde7f06d4...</td>\n",
       "      <td>a9569d623d86bcae593213e14fe7831967febc2d99eb88...</td>\n",
       "      <td>648b64346d50d1ac0eb46134</td>\n",
       "      <td>/dev/nvidia7</td>\n",
       "      <td>145.537686</td>\n",
       "      <td>0.951056</td>\n",
       "      <td>2.741025</td>\n",
       "      <td>3.049805</td>\n",
       "      <td>0.252930</td>\n",
       "      <td>0.252930</td>\n",
       "      <td>1.041469e+09</td>\n",
       "      <td>1.850120e+06</td>\n",
       "      <td>23467.704894</td>\n",
       "      <td>10630.332054</td>\n",
       "      <td>MISC</td>\n",
       "    </tr>\n",
       "    <tr>\n",
       "      <th>2478</th>\n",
       "      <td>64147168128f23318d72237c</td>\n",
       "      <td>PyTorchWorker</td>\n",
       "      <td>1c65ec6cd86d373c1d0e36cd6881e24cf6643678cdf495...</td>\n",
       "      <td>29995403cf00df18ec244ea0fc86d1f4b60d1d7a4bae1c...</td>\n",
       "      <td>7cfa198d850baae8c3ba0e2a</td>\n",
       "      <td>/dev/nvidia7</td>\n",
       "      <td>752.950640</td>\n",
       "      <td>1.133401</td>\n",
       "      <td>21.459907</td>\n",
       "      <td>21.612305</td>\n",
       "      <td>3.186523</td>\n",
       "      <td>3.186523</td>\n",
       "      <td>5.168530e+07</td>\n",
       "      <td>1.265405e+07</td>\n",
       "      <td>1292.781320</td>\n",
       "      <td>835.195533</td>\n",
       "      <td>MISC</td>\n",
       "    </tr>\n",
       "    <tr>\n",
       "      <th>2479</th>\n",
       "      <td>c4b176689168fab86990ee9f</td>\n",
       "      <td>tensorflow</td>\n",
       "      <td>c73e94510eee67217e5448c6309ce0b7655268265f4b38...</td>\n",
       "      <td>aa75e3ee7eb138cd6de6460d7581891dcbfda7a05da376...</td>\n",
       "      <td>3b127c8abb4f26e57b34af81</td>\n",
       "      <td>/dev/nvidia2</td>\n",
       "      <td>270.530120</td>\n",
       "      <td>1.647059</td>\n",
       "      <td>1.835581</td>\n",
       "      <td>2.126953</td>\n",
       "      <td>0.275632</td>\n",
       "      <td>0.276367</td>\n",
       "      <td>1.034540e+09</td>\n",
       "      <td>9.759283e+06</td>\n",
       "      <td>32076.160920</td>\n",
       "      <td>10331.114943</td>\n",
       "      <td>MISC</td>\n",
       "    </tr>\n",
       "    <tr>\n",
       "      <th>2480</th>\n",
       "      <td>a5b23e98074a1cdf69026ca1</td>\n",
       "      <td>tensorflow</td>\n",
       "      <td>900050fa2bad1a5f99e272cebf3eb17b72b10da625a95d...</td>\n",
       "      <td>3f5d87fc442c7bef1da8f5078d07821d0e2fa365de82e6...</td>\n",
       "      <td>16b3cec68193e8b041dcd447</td>\n",
       "      <td>/dev/nvidia5</td>\n",
       "      <td>174.655373</td>\n",
       "      <td>0.021277</td>\n",
       "      <td>2.141377</td>\n",
       "      <td>2.526367</td>\n",
       "      <td>0.275565</td>\n",
       "      <td>0.276367</td>\n",
       "      <td>7.055758e+08</td>\n",
       "      <td>2.056109e+06</td>\n",
       "      <td>30009.594203</td>\n",
       "      <td>6887.228019</td>\n",
       "      <td>MISC</td>\n",
       "    </tr>\n",
       "    <tr>\n",
       "      <th>...</th>\n",
       "      <td>...</td>\n",
       "      <td>...</td>\n",
       "      <td>...</td>\n",
       "      <td>...</td>\n",
       "      <td>...</td>\n",
       "      <td>...</td>\n",
       "      <td>...</td>\n",
       "      <td>...</td>\n",
       "      <td>...</td>\n",
       "      <td>...</td>\n",
       "      <td>...</td>\n",
       "      <td>...</td>\n",
       "      <td>...</td>\n",
       "      <td>...</td>\n",
       "      <td>...</td>\n",
       "      <td>...</td>\n",
       "      <td>...</td>\n",
       "    </tr>\n",
       "    <tr>\n",
       "      <th>3033227</th>\n",
       "      <td>d0e0a3558abce5d45072863a</td>\n",
       "      <td>PyTorchWorker</td>\n",
       "      <td>000a541be117d8643e6d830c287b4cd872d59b1cfb47cf...</td>\n",
       "      <td>c99f2b75c7ad053a485cfb87ca55adee17efd3d52bd52d...</td>\n",
       "      <td>1aafda90cc6f46f0f4f90e32</td>\n",
       "      <td>/dev/nvidia0</td>\n",
       "      <td>79.750000</td>\n",
       "      <td>0.000000</td>\n",
       "      <td>0.429199</td>\n",
       "      <td>0.747070</td>\n",
       "      <td>0.000000</td>\n",
       "      <td>0.000000</td>\n",
       "      <td>1.922363e+08</td>\n",
       "      <td>2.869013e+08</td>\n",
       "      <td>21165.800000</td>\n",
       "      <td>19090.600000</td>\n",
       "      <td>MISC</td>\n",
       "    </tr>\n",
       "    <tr>\n",
       "      <th>3033228</th>\n",
       "      <td>7ff3e872b8be51537beeefde</td>\n",
       "      <td>PyTorchWorker</td>\n",
       "      <td>4e0e26f837a6c8882a1e672ffd3c3484d1e2d8a83a816d...</td>\n",
       "      <td>b99050ffacf3f321400a836d0e9f9183d49fa4b695aada...</td>\n",
       "      <td>12bcc4fceea93a30d7d0f324</td>\n",
       "      <td>/dev/nvidia0</td>\n",
       "      <td>112.500000</td>\n",
       "      <td>0.000000</td>\n",
       "      <td>0.329102</td>\n",
       "      <td>0.641602</td>\n",
       "      <td>0.000000</td>\n",
       "      <td>0.000000</td>\n",
       "      <td>1.696908e+08</td>\n",
       "      <td>2.661021e+08</td>\n",
       "      <td>16798.000000</td>\n",
       "      <td>16447.666667</td>\n",
       "      <td>MISC</td>\n",
       "    </tr>\n",
       "    <tr>\n",
       "      <th>3033229</th>\n",
       "      <td>a155d69dca6bfd2dfb78ef0d</td>\n",
       "      <td>JupyterTask</td>\n",
       "      <td>7245da946677b8ed70a486cffd5bb93a2296d652286ecb...</td>\n",
       "      <td>267c02fbda06c42fb83fc8034d2be1c51149127deb2292...</td>\n",
       "      <td>943fe1a04fa90bf140cb9d85</td>\n",
       "      <td>/dev/nvidia7</td>\n",
       "      <td>6.725577</td>\n",
       "      <td>0.000000</td>\n",
       "      <td>2.187771</td>\n",
       "      <td>3.404297</td>\n",
       "      <td>0.000000</td>\n",
       "      <td>0.000000</td>\n",
       "      <td>9.655890e+06</td>\n",
       "      <td>1.389712e+07</td>\n",
       "      <td>1762.840284</td>\n",
       "      <td>1969.509317</td>\n",
       "      <td>MISC</td>\n",
       "    </tr>\n",
       "    <tr>\n",
       "      <th>3033230</th>\n",
       "      <td>f11820cc3d678bcdc37faf08</td>\n",
       "      <td>PyTorchWorker</td>\n",
       "      <td>3fc512df15638907eb4b04a67c28fe77132aed60a53a97...</td>\n",
       "      <td>d50242c89f3a25bd20ef700701777823c415ad0321dcb3...</td>\n",
       "      <td>14c1d6a040a33046698786e1</td>\n",
       "      <td>/dev/nvidia2</td>\n",
       "      <td>73.000000</td>\n",
       "      <td>0.000000</td>\n",
       "      <td>0.143555</td>\n",
       "      <td>0.270508</td>\n",
       "      <td>0.000000</td>\n",
       "      <td>0.000000</td>\n",
       "      <td>6.101400e+07</td>\n",
       "      <td>7.727868e+07</td>\n",
       "      <td>4462.333333</td>\n",
       "      <td>3738.333333</td>\n",
       "      <td>MISC</td>\n",
       "    </tr>\n",
       "    <tr>\n",
       "      <th>3033231</th>\n",
       "      <td>ee3480523c1bf79b0d02c260</td>\n",
       "      <td>JupyterTask</td>\n",
       "      <td>ef091da4e66eae8a76e2b7c61c17bb23793a31d529a202...</td>\n",
       "      <td>6c6338d4ac59fd1157e569fd6b5de6b70975c65112e9ba...</td>\n",
       "      <td>406434e56cf426692a4762b6</td>\n",
       "      <td>/dev/nvidia5</td>\n",
       "      <td>2.535326</td>\n",
       "      <td>0.000000</td>\n",
       "      <td>0.248111</td>\n",
       "      <td>0.265625</td>\n",
       "      <td>0.000000</td>\n",
       "      <td>0.000000</td>\n",
       "      <td>1.521280e+05</td>\n",
       "      <td>7.716149e+04</td>\n",
       "      <td>105.113821</td>\n",
       "      <td>38.170732</td>\n",
       "      <td>MISC</td>\n",
       "    </tr>\n",
       "  </tbody>\n",
       "</table>\n",
       "<p>728136 rows × 17 columns</p>\n",
       "</div>"
      ],
      "text/plain": [
       "                         job_name      task_name  \\\n",
       "2388     a7062ec8abaf0fa42c472191     tensorflow   \n",
       "2474     35f41a2a1ef2d98a92b9b428     tensorflow   \n",
       "2478     64147168128f23318d72237c  PyTorchWorker   \n",
       "2479     c4b176689168fab86990ee9f     tensorflow   \n",
       "2480     a5b23e98074a1cdf69026ca1     tensorflow   \n",
       "...                           ...            ...   \n",
       "3033227  d0e0a3558abce5d45072863a  PyTorchWorker   \n",
       "3033228  7ff3e872b8be51537beeefde  PyTorchWorker   \n",
       "3033229  a155d69dca6bfd2dfb78ef0d    JupyterTask   \n",
       "3033230  f11820cc3d678bcdc37faf08  PyTorchWorker   \n",
       "3033231  ee3480523c1bf79b0d02c260    JupyterTask   \n",
       "\n",
       "                                               worker_name  \\\n",
       "2388     b8a6db42aa3b164c7be973a9a10c067918337de4d1ee74...   \n",
       "2474     678e44d6b438b1f9ae3709c058037b3f19dd8cde7f06d4...   \n",
       "2478     1c65ec6cd86d373c1d0e36cd6881e24cf6643678cdf495...   \n",
       "2479     c73e94510eee67217e5448c6309ce0b7655268265f4b38...   \n",
       "2480     900050fa2bad1a5f99e272cebf3eb17b72b10da625a95d...   \n",
       "...                                                    ...   \n",
       "3033227  000a541be117d8643e6d830c287b4cd872d59b1cfb47cf...   \n",
       "3033228  4e0e26f837a6c8882a1e672ffd3c3484d1e2d8a83a816d...   \n",
       "3033229  7245da946677b8ed70a486cffd5bb93a2296d652286ecb...   \n",
       "3033230  3fc512df15638907eb4b04a67c28fe77132aed60a53a97...   \n",
       "3033231  ef091da4e66eae8a76e2b7c61c17bb23793a31d529a202...   \n",
       "\n",
       "                                                   inst_id  \\\n",
       "2388     c3c867669e5d57102d969d1103349a78adf7516330dc69...   \n",
       "2474     a9569d623d86bcae593213e14fe7831967febc2d99eb88...   \n",
       "2478     29995403cf00df18ec244ea0fc86d1f4b60d1d7a4bae1c...   \n",
       "2479     aa75e3ee7eb138cd6de6460d7581891dcbfda7a05da376...   \n",
       "2480     3f5d87fc442c7bef1da8f5078d07821d0e2fa365de82e6...   \n",
       "...                                                    ...   \n",
       "3033227  c99f2b75c7ad053a485cfb87ca55adee17efd3d52bd52d...   \n",
       "3033228  b99050ffacf3f321400a836d0e9f9183d49fa4b695aada...   \n",
       "3033229  267c02fbda06c42fb83fc8034d2be1c51149127deb2292...   \n",
       "3033230  d50242c89f3a25bd20ef700701777823c415ad0321dcb3...   \n",
       "3033231  6c6338d4ac59fd1157e569fd6b5de6b70975c65112e9ba...   \n",
       "\n",
       "                          machine      gpu_name   cpu_usage  gpu_wrk_util  \\\n",
       "2388     af1497a5c3d710f9d7f797ab  /dev/nvidia3  201.553583     33.845371   \n",
       "2474     648b64346d50d1ac0eb46134  /dev/nvidia7  145.537686      0.951056   \n",
       "2478     7cfa198d850baae8c3ba0e2a  /dev/nvidia7  752.950640      1.133401   \n",
       "2479     3b127c8abb4f26e57b34af81  /dev/nvidia2  270.530120      1.647059   \n",
       "2480     16b3cec68193e8b041dcd447  /dev/nvidia5  174.655373      0.021277   \n",
       "...                           ...           ...         ...           ...   \n",
       "3033227  1aafda90cc6f46f0f4f90e32  /dev/nvidia0   79.750000      0.000000   \n",
       "3033228  12bcc4fceea93a30d7d0f324  /dev/nvidia0  112.500000      0.000000   \n",
       "3033229  943fe1a04fa90bf140cb9d85  /dev/nvidia7    6.725577      0.000000   \n",
       "3033230  14c1d6a040a33046698786e1  /dev/nvidia2   73.000000      0.000000   \n",
       "3033231  406434e56cf426692a4762b6  /dev/nvidia5    2.535326      0.000000   \n",
       "\n",
       "           avg_mem    max_mem  avg_gpu_wrk_mem  max_gpu_wrk_mem          read  \\\n",
       "2388     17.840304  98.989258        60.518854        60.525391  6.910453e+05   \n",
       "2474      2.741025   3.049805         0.252930         0.252930  1.041469e+09   \n",
       "2478     21.459907  21.612305         3.186523         3.186523  5.168530e+07   \n",
       "2479      1.835581   2.126953         0.275632         0.276367  1.034540e+09   \n",
       "2480      2.141377   2.526367         0.275565         0.276367  7.055758e+08   \n",
       "...            ...        ...              ...              ...           ...   \n",
       "3033227   0.429199   0.747070         0.000000         0.000000  1.922363e+08   \n",
       "3033228   0.329102   0.641602         0.000000         0.000000  1.696908e+08   \n",
       "3033229   2.187771   3.404297         0.000000         0.000000  9.655890e+06   \n",
       "3033230   0.143555   0.270508         0.000000         0.000000  6.101400e+07   \n",
       "3033231   0.248111   0.265625         0.000000         0.000000  1.521280e+05   \n",
       "\n",
       "                write    read_count   write_count gpu_type  \n",
       "2388     1.853040e+05    344.292232    116.668728     V100  \n",
       "2474     1.850120e+06  23467.704894  10630.332054     MISC  \n",
       "2478     1.265405e+07   1292.781320    835.195533     MISC  \n",
       "2479     9.759283e+06  32076.160920  10331.114943     MISC  \n",
       "2480     2.056109e+06  30009.594203   6887.228019     MISC  \n",
       "...               ...           ...           ...      ...  \n",
       "3033227  2.869013e+08  21165.800000  19090.600000     MISC  \n",
       "3033228  2.661021e+08  16798.000000  16447.666667     MISC  \n",
       "3033229  1.389712e+07   1762.840284   1969.509317     MISC  \n",
       "3033230  7.727868e+07   4462.333333   3738.333333     MISC  \n",
       "3033231  7.716149e+04    105.113821     38.170732     MISC  \n",
       "\n",
       "[728136 rows x 17 columns]"
      ]
     },
     "execution_count": 26,
     "metadata": {},
     "output_type": "execute_result"
    }
   ],
   "source": [
    "examples"
   ]
  },
  {
   "cell_type": "code",
   "execution_count": 27,
   "id": "4799c604-827b-4a8c-84d3-0742e73b0acb",
   "metadata": {
    "execution": {
     "iopub.execute_input": "2022-07-26T08:46:05.353616Z",
     "iopub.status.busy": "2022-07-26T08:46:05.353504Z",
     "iopub.status.idle": "2022-07-26T08:46:06.536450Z",
     "shell.execute_reply": "2022-07-26T08:46:06.535937Z",
     "shell.execute_reply.started": "2022-07-26T08:46:05.353601Z"
    },
    "tags": []
   },
   "outputs": [
    {
     "data": {
      "text/plain": [
       "Text(0.5, 1.0, 'GB of GPU memory used (on average)')"
      ]
     },
     "execution_count": 27,
     "metadata": {},
     "output_type": "execute_result"
    },
    {
     "data": {
      "image/png": "[encoded data removed]",
      "text/plain": [
       "<Figure size 1440x720 with 1 Axes>"
      ]
     },
     "metadata": {
      "needs_background": "light"
     },
     "output_type": "display_data"
    }
   ],
   "source": [
    "examples[['avg_gpu_wrk_mem','task_name']].pivot(columns='task_name').boxplot(figsize=(20,10), fontsize=20)\n",
    "plt.ylim(0, 10)\n",
    "plt.title(\"GB of GPU memory used (on average)\", fontsize=24)"
   ]
  },
  {
   "cell_type": "code",
   "execution_count": 28,
   "id": "49ce6516-d4e0-407b-b9b2-4fe01f44c87d",
   "metadata": {
    "execution": {
     "iopub.execute_input": "2022-07-26T08:46:06.537344Z",
     "iopub.status.busy": "2022-07-26T08:46:06.537220Z",
     "iopub.status.idle": "2022-07-26T08:46:07.416787Z",
     "shell.execute_reply": "2022-07-26T08:46:07.415694Z",
     "shell.execute_reply.started": "2022-07-26T08:46:06.537328Z"
    },
    "tags": []
   },
   "outputs": [
    {
     "data": {
      "text/plain": [
       "Text(0.5, 1.0, 'GB of main memory used (on average)')"
      ]
     },
     "execution_count": 28,
     "metadata": {},
     "output_type": "execute_result"
    },
    {
     "data": {
      "image/png": "[encoded data removed]",
      "text/plain": [
       "<Figure size 1440x720 with 1 Axes>"
      ]
     },
     "metadata": {
      "needs_background": "light"
     },
     "output_type": "display_data"
    }
   ],
   "source": [
    "examples[['avg_mem','task_name']].pivot(columns='task_name').boxplot(figsize=(20,10), fontsize=20)\n",
    "plt.ylim(0, 50)\n",
    "plt.title(\"GB of main memory used (on average)\", fontsize=24)"
   ]
  },
  {
   "cell_type": "code",
   "execution_count": 29,
   "id": "79195e95-d2ad-46a1-8e08-be0104d7eb71",
   "metadata": {
    "execution": {
     "iopub.execute_input": "2022-07-26T08:46:07.417779Z",
     "iopub.status.busy": "2022-07-26T08:46:07.417647Z",
     "iopub.status.idle": "2022-07-26T08:46:08.299799Z",
     "shell.execute_reply": "2022-07-26T08:46:08.298833Z",
     "shell.execute_reply.started": "2022-07-26T08:46:07.417758Z"
    },
    "tags": []
   },
   "outputs": [
    {
     "data": {
      "text/plain": [
       "Text(0.5, 1.0, 'number of GPUs used in percentage (i.e., 50.0 is 50% GPU) ')"
      ]
     },
     "execution_count": 29,
     "metadata": {},
     "output_type": "execute_result"
    },
    {
     "data": {
      "image/png": "[encoded data removed]",
      "text/plain": [
       "<Figure size 1440x720 with 1 Axes>"
      ]
     },
     "metadata": {
      "needs_background": "light"
     },
     "output_type": "display_data"
    }
   ],
   "source": [
    "examples[['gpu_wrk_util','task_name']].pivot(columns='task_name').boxplot(figsize=(20,10), fontsize=20)\n",
    "plt.title(\"number of GPUs used in percentage (i.e., 50.0 is 50% GPU) \", fontsize=24)"
   ]
  },
  {
   "cell_type": "code",
   "execution_count": 30,
   "id": "c65350f8-c0b8-4515-9663-779e8f5e9af3",
   "metadata": {
    "execution": {
     "iopub.execute_input": "2022-07-26T08:46:08.300855Z",
     "iopub.status.busy": "2022-07-26T08:46:08.300720Z",
     "iopub.status.idle": "2022-07-26T08:46:09.189364Z",
     "shell.execute_reply": "2022-07-26T08:46:09.188549Z",
     "shell.execute_reply.started": "2022-07-26T08:46:08.300838Z"
    },
    "tags": []
   },
   "outputs": [
    {
     "data": {
      "text/plain": [
       "Text(0.5, 1.0, 'number of CPU cores used in percentage (i.e., 600.0 is 6 vCPU cores)')"
      ]
     },
     "execution_count": 30,
     "metadata": {},
     "output_type": "execute_result"
    },
    {
     "data": {
      "image/png": "[encoded data removed]",
      "text/plain": [
       "<Figure size 1440x720 with 1 Axes>"
      ]
     },
     "metadata": {
      "needs_background": "light"
     },
     "output_type": "display_data"
    }
   ],
   "source": [
    "examples[['cpu_usage','task_name']].pivot(columns='task_name').boxplot(figsize=(20,10), fontsize=20)\n",
    "plt.title(\"number of CPU cores used in percentage (i.e., 600.0 is 6 vCPU cores)\", fontsize=24)\n"
   ]
  },
  {
   "cell_type": "code",
   "execution_count": 31,
   "id": "9f20c154-2671-48de-8c95-ba91852cf356",
   "metadata": {
    "execution": {
     "iopub.execute_input": "2022-07-26T08:46:09.190602Z",
     "iopub.status.busy": "2022-07-26T08:46:09.190463Z",
     "iopub.status.idle": "2022-07-26T08:46:10.101013Z",
     "shell.execute_reply": "2022-07-26T08:46:10.100493Z",
     "shell.execute_reply.started": "2022-07-26T08:46:09.190582Z"
    },
    "tags": []
   },
   "outputs": [
    {
     "data": {
      "text/plain": [
       "<AxesSubplot:xlabel='task_name', ylabel='count'>"
      ]
     },
     "execution_count": 31,
     "metadata": {},
     "output_type": "execute_result"
    },
    {
     "data": {
      "image/png": "[encoded data removed]",
      "text/plain": [
       "<Figure size 1440x720 with 1 Axes>"
      ]
     },
     "metadata": {
      "needs_background": "light"
     },
     "output_type": "display_data"
    }
   ],
   "source": [
    "plt.figure(figsize=(20,10))\n",
    "\n",
    "sns.set(font_scale=2)\n",
    "\n",
    "sns.countplot(x=\"task_name\", hue=\"gpu_type\", data=examples)\n",
    "\n",
    "\n",
    "\n",
    "#plt.tight_layout()\n",
    "#plt.savefig('Figures/kmeans-k9-countplot.pdf')"
   ]
  },
  {
   "cell_type": "markdown",
   "id": "acbf2c1b-11b9-49ee-af04-0ef053c2b6e1",
   "metadata": {
    "tags": []
   },
   "source": [
    "## Shuffle + StandardScaler"
   ]
  },
  {
   "cell_type": "code",
   "execution_count": 66,
   "id": "f7361248-9f94-4790-abb4-222844802395",
   "metadata": {
    "execution": {
     "iopub.execute_input": "2022-07-26T09:16:23.841557Z",
     "iopub.status.busy": "2022-07-26T09:16:23.840915Z",
     "iopub.status.idle": "2022-07-26T09:16:23.951308Z",
     "shell.execute_reply": "2022-07-26T09:16:23.950788Z",
     "shell.execute_reply.started": "2022-07-26T09:16:23.841492Z"
    },
    "tags": []
   },
   "outputs": [],
   "source": [
    "from sklearn.preprocessing import LabelEncoder\n",
    "\n",
    "le = LabelEncoder()\n",
    "le.fit(examples.task_name)\n",
    "y = le.transform(examples.task_name)\n"
   ]
  },
  {
   "cell_type": "code",
   "execution_count": 62,
   "id": "86e48443-10d9-4bfa-bb44-740d7af58b9d",
   "metadata": {
    "execution": {
     "iopub.execute_input": "2022-07-26T09:12:33.071866Z",
     "iopub.status.busy": "2022-07-26T09:12:33.071260Z",
     "iopub.status.idle": "2022-07-26T09:12:33.080594Z",
     "shell.execute_reply": "2022-07-26T09:12:33.079112Z",
     "shell.execute_reply.started": "2022-07-26T09:12:33.071786Z"
    }
   },
   "outputs": [],
   "source": [
    "from sklearn.model_selection import StratifiedShuffleSplit"
   ]
  },
  {
   "cell_type": "code",
   "execution_count": 74,
   "id": "bd944d88-4ba6-4c20-a161-776234914734",
   "metadata": {
    "execution": {
     "iopub.execute_input": "2022-07-26T09:35:11.603651Z",
     "iopub.status.busy": "2022-07-26T09:35:11.603156Z",
     "iopub.status.idle": "2022-07-26T09:35:11.610320Z",
     "shell.execute_reply": "2022-07-26T09:35:11.608809Z",
     "shell.execute_reply.started": "2022-07-26T09:35:11.603588Z"
    }
   },
   "outputs": [],
   "source": [
    "import random"
   ]
  },
  {
   "cell_type": "code",
   "execution_count": 75,
   "id": "49cec00c-f9f1-409f-8fd1-0bb69281ff27",
   "metadata": {
    "execution": {
     "iopub.execute_input": "2022-07-26T09:35:12.041735Z",
     "iopub.status.busy": "2022-07-26T09:35:12.041243Z",
     "iopub.status.idle": "2022-07-26T09:35:12.052074Z",
     "shell.execute_reply": "2022-07-26T09:35:12.050840Z",
     "shell.execute_reply.started": "2022-07-26T09:35:12.041673Z"
    },
    "tags": []
   },
   "outputs": [],
   "source": [
    "def stratified_proportional_sampling(dataframe_in, filter_metric, filter_values, sampling_perc):\n",
    "    target_vals = []\n",
    "    for val in filter_values:\n",
    "        val_array = dataframe_in[dataframe_in[filter_metric] == val].select_dtypes(include=np.number).fillna(0).values\n",
    "        target_vals = target_vals + random.sample(list(val_array), int(val_array.shape[0] * sampling_perc))\n",
    "    return target_vals"
   ]
  },
  {
   "cell_type": "code",
   "execution_count": 119,
   "id": "4156e966-de15-4c75-bc47-b822bc7353b2",
   "metadata": {
    "execution": {
     "iopub.execute_input": "2022-07-26T13:44:59.212874Z",
     "iopub.status.busy": "2022-07-26T13:44:59.212305Z",
     "iopub.status.idle": "2022-07-26T13:44:59.240086Z",
     "shell.execute_reply": "2022-07-26T13:44:59.239269Z",
     "shell.execute_reply.started": "2022-07-26T13:44:59.212808Z"
    }
   },
   "outputs": [],
   "source": [
    "def stratified_sample(df, strata, size=None, seed=None, keep_index= True):\n",
    "    '''\n",
    "    It samples data from a pandas dataframe using strata. These functions use\n",
    "    proportionate stratification:\n",
    "    n1 = (N1/N) * n\n",
    "    where:\n",
    "        - n1 is the sample size of stratum 1\n",
    "        - N1 is the population size of stratum 1\n",
    "        - N is the total population size\n",
    "        - n is the sampling size\n",
    "    Parameters\n",
    "    ----------\n",
    "    :df: pandas dataframe from which data will be sampled.\n",
    "    :strata: list containing columns that will be used in the stratified sampling.\n",
    "    :size: sampling size. If not informed, a sampling size will be calculated\n",
    "        using Cochran adjusted sampling formula:\n",
    "        cochran_n = (Z**2 * p * q) /e**2\n",
    "        where:\n",
    "            - Z is the z-value. In this case we use 1.96 representing 95%\n",
    "            - p is the estimated proportion of the population which has an\n",
    "                attribute. In this case we use 0.5\n",
    "            - q is 1-p\n",
    "            - e is the margin of error\n",
    "        This formula is adjusted as follows:\n",
    "        adjusted_cochran = cochran_n / 1+((cochran_n -1)/N)\n",
    "        where:\n",
    "            - cochran_n = result of the previous formula\n",
    "            - N is the population size\n",
    "    :seed: sampling seed\n",
    "    :keep_index: if True, it keeps a column with the original population index indicator\n",
    "    \n",
    "    Returns\n",
    "    -------\n",
    "    A sampled pandas dataframe based in a set of strata.\n",
    "    Examples\n",
    "    --------\n",
    "    >> df.head()\n",
    "    \tid  sex age city \n",
    "    0\t123 M   20  XYZ\n",
    "    1\t456 M   25  XYZ\n",
    "    2\t789 M   21  YZX\n",
    "    3\t987 F   40  ZXY\n",
    "    4\t654 M   45  ZXY\n",
    "    ...\n",
    "    # This returns a sample stratified by sex and city containing 30% of the size of\n",
    "    # the original data\n",
    "    >> stratified = stratified_sample(df=df, strata=['sex', 'city'], size=0.3)\n",
    "    Requirements\n",
    "    ------------\n",
    "    - pandas\n",
    "    - numpy\n",
    "    '''\n",
    "    population = len(df)\n",
    "    size = __smpl_size(population, size)\n",
    "    tmp = df[strata]\n",
    "    tmp['size'] = 1\n",
    "    tmp_grpd = tmp.groupby(strata).count().reset_index()\n",
    "    tmp_grpd['samp_size'] = round(size/population * tmp_grpd['size']).astype(int)\n",
    "\n",
    "    # controlling variable to create the dataframe or append to it\n",
    "    first = True \n",
    "    for i in range(len(tmp_grpd)):\n",
    "        # query generator for each iteration\n",
    "        qry=''\n",
    "        for s in range(len(strata)):\n",
    "            stratum = strata[s]\n",
    "            value = tmp_grpd.iloc[i][stratum]\n",
    "            n = tmp_grpd.iloc[i]['samp_size']\n",
    "\n",
    "            if type(value) == str:\n",
    "                value = \"'\" + str(value) + \"'\"\n",
    "            \n",
    "            if s != len(strata)-1:\n",
    "                qry = qry + stratum + ' == ' + str(value) +' & '\n",
    "            else:\n",
    "                qry = qry + stratum + ' == ' + str(value)\n",
    "        \n",
    "        # final dataframe\n",
    "        if first:\n",
    "            stratified_df = df.query(qry).sample(n=n, random_state=seed).reset_index(drop=(not keep_index))\n",
    "            first = False\n",
    "        else:\n",
    "            tmp_df = df.query(qry).sample(n=n, random_state=seed).reset_index(drop=(not keep_index))\n",
    "            stratified_df = stratified_df.append(tmp_df, ignore_index=True)\n",
    "    \n",
    "    return stratified_df\n",
    "\n",
    "\n",
    "\n",
    "def stratified_sample_report(df, strata, size=None):\n",
    "    '''\n",
    "    Generates a dataframe reporting the counts in each stratum and the counts\n",
    "    for the final sampled dataframe.\n",
    "    Parameters\n",
    "    ----------\n",
    "    :df: pandas dataframe from which data will be sampled.\n",
    "    :strata: list containing columns that will be used in the stratified sampling.\n",
    "    :size: sampling size. If not informed, a sampling size will be calculated\n",
    "        using Cochran adjusted sampling formula:\n",
    "        cochran_n = (Z**2 * p * q) /e**2\n",
    "        where:\n",
    "            - Z is the z-value. In this case we use 1.96 representing 95%\n",
    "            - p is the estimated proportion of the population which has an\n",
    "                attribute. In this case we use 0.5\n",
    "            - q is 1-p\n",
    "            - e is the margin of error\n",
    "        This formula is adjusted as follows:\n",
    "        adjusted_cochran = cochran_n / 1+((cochran_n -1)/N)\n",
    "        where:\n",
    "            - cochran_n = result of the previous formula\n",
    "            - N is the population size\n",
    "    Returns\n",
    "    -------\n",
    "    A dataframe reporting the counts in each stratum and the counts\n",
    "    for the final sampled dataframe.\n",
    "    '''\n",
    "    population = len(df)\n",
    "    size = __smpl_size(population, size)\n",
    "    tmp = df[strata]\n",
    "    tmp['size'] = 1\n",
    "    tmp_grpd = tmp.groupby(strata).count().reset_index()\n",
    "    tmp_grpd['samp_size'] = round(size/population * tmp_grpd['size']).astype(int)\n",
    "    return tmp_grpd\n",
    "\n",
    "\n",
    "def __smpl_size(population, size):\n",
    "    '''\n",
    "    A function to compute the sample size. If not informed, a sampling \n",
    "    size will be calculated using Cochran adjusted sampling formula:\n",
    "        cochran_n = (Z**2 * p * q) /e**2\n",
    "        where:\n",
    "            - Z is the z-value. In this case we use 1.96 representing 95%\n",
    "            - p is the estimated proportion of the population which has an\n",
    "                attribute. In this case we use 0.5\n",
    "            - q is 1-p\n",
    "            - e is the margin of error\n",
    "        This formula is adjusted as follows:\n",
    "        adjusted_cochran = cochran_n / 1+((cochran_n -1)/N)\n",
    "        where:\n",
    "            - cochran_n = result of the previous formula\n",
    "            - N is the population size\n",
    "    Parameters\n",
    "    ----------\n",
    "        :population: population size\n",
    "        :size: sample size (default = None)\n",
    "    Returns\n",
    "    -------\n",
    "    Calculated sample size to be used in the functions:\n",
    "        - stratified_sample\n",
    "        - stratified_sample_report\n",
    "    '''\n",
    "    if size is None:\n",
    "        cochran_n = round(((1.96)**2 * 0.5 * 0.5)/ 0.02**2)\n",
    "        n = round(cochran_n/(1+((cochran_n -1) /population)))\n",
    "    elif size >= 0 and size < 1:\n",
    "        n = round(population * size)\n",
    "    elif size < 0:\n",
    "        raise ValueError('Parameter \"size\" must be an integer or a proportion between 0 and 0.99.')\n",
    "    elif size >= 1:\n",
    "        n = size\n",
    "    return n"
   ]
  },
  {
   "cell_type": "code",
   "execution_count": 120,
   "id": "8b7df8c1-c97e-4a46-89bc-7df10e979da8",
   "metadata": {
    "execution": {
     "iopub.execute_input": "2022-07-26T13:45:48.787362Z",
     "iopub.status.busy": "2022-07-26T13:45:48.786862Z",
     "iopub.status.idle": "2022-07-26T13:45:48.854046Z",
     "shell.execute_reply": "2022-07-26T13:45:48.853042Z",
     "shell.execute_reply.started": "2022-07-26T13:45:48.787301Z"
    }
   },
   "outputs": [
    {
     "name": "stderr",
     "output_type": "stream",
     "text": [
      "/tmp/ipykernel_3994546/2145870966.py:120: SettingWithCopyWarning: \n",
      "A value is trying to be set on a copy of a slice from a DataFrame.\n",
      "Try using .loc[row_indexer,col_indexer] = value instead\n",
      "\n",
      "See the caveats in the documentation: https://pandas.pydata.org/pandas-docs/stable/user_guide/indexing.html#returning-a-view-versus-a-copy\n",
      "  tmp['size'] = 1\n"
     ]
    },
    {
     "data": {
      "text/html": [
       "<div>\n",
       "<style scoped>\n",
       "    .dataframe tbody tr th:only-of-type {\n",
       "        vertical-align: middle;\n",
       "    }\n",
       "\n",
       "    .dataframe tbody tr th {\n",
       "        vertical-align: top;\n",
       "    }\n",
       "\n",
       "    .dataframe thead th {\n",
       "        text-align: right;\n",
       "    }\n",
       "</style>\n",
       "<table border=\"1\" class=\"dataframe\">\n",
       "  <thead>\n",
       "    <tr style=\"text-align: right;\">\n",
       "      <th></th>\n",
       "      <th>task_name</th>\n",
       "      <th>size</th>\n",
       "      <th>samp_size</th>\n",
       "    </tr>\n",
       "  </thead>\n",
       "  <tbody>\n",
       "    <tr>\n",
       "      <th>0</th>\n",
       "      <td>JupyterTask</td>\n",
       "      <td>378</td>\n",
       "      <td>42</td>\n",
       "    </tr>\n",
       "    <tr>\n",
       "      <th>1</th>\n",
       "      <td>PyTorchWorker</td>\n",
       "      <td>214849</td>\n",
       "      <td>23605</td>\n",
       "    </tr>\n",
       "    <tr>\n",
       "      <th>2</th>\n",
       "      <td>tensorflow</td>\n",
       "      <td>512909</td>\n",
       "      <td>56353</td>\n",
       "    </tr>\n",
       "  </tbody>\n",
       "</table>\n",
       "</div>"
      ],
      "text/plain": [
       "       task_name    size  samp_size\n",
       "0    JupyterTask     378         42\n",
       "1  PyTorchWorker  214849      23605\n",
       "2     tensorflow  512909      56353"
      ]
     },
     "execution_count": 120,
     "metadata": {},
     "output_type": "execute_result"
    }
   ],
   "source": [
    "stratified_sample_report(examples, ['task_name'], 80000)"
   ]
  },
  {
   "cell_type": "code",
   "execution_count": 121,
   "id": "3e0be5fc-e2bf-453e-b8df-1c6dbcdf614c",
   "metadata": {
    "execution": {
     "iopub.execute_input": "2022-07-26T13:47:02.431187Z",
     "iopub.status.busy": "2022-07-26T13:47:02.430589Z",
     "iopub.status.idle": "2022-07-26T13:47:02.817550Z",
     "shell.execute_reply": "2022-07-26T13:47:02.816324Z",
     "shell.execute_reply.started": "2022-07-26T13:47:02.431121Z"
    }
   },
   "outputs": [
    {
     "name": "stderr",
     "output_type": "stream",
     "text": [
      "/tmp/ipykernel_3994546/2145870966.py:56: SettingWithCopyWarning: \n",
      "A value is trying to be set on a copy of a slice from a DataFrame.\n",
      "Try using .loc[row_indexer,col_indexer] = value instead\n",
      "\n",
      "See the caveats in the documentation: https://pandas.pydata.org/pandas-docs/stable/user_guide/indexing.html#returning-a-view-versus-a-copy\n",
      "  tmp['size'] = 1\n"
     ]
    },
    {
     "data": {
      "text/html": [
       "<div>\n",
       "<style scoped>\n",
       "    .dataframe tbody tr th:only-of-type {\n",
       "        vertical-align: middle;\n",
       "    }\n",
       "\n",
       "    .dataframe tbody tr th {\n",
       "        vertical-align: top;\n",
       "    }\n",
       "\n",
       "    .dataframe thead th {\n",
       "        text-align: right;\n",
       "    }\n",
       "</style>\n",
       "<table border=\"1\" class=\"dataframe\">\n",
       "  <thead>\n",
       "    <tr style=\"text-align: right;\">\n",
       "      <th></th>\n",
       "      <th>index</th>\n",
       "      <th>job_name</th>\n",
       "      <th>task_name</th>\n",
       "      <th>worker_name</th>\n",
       "      <th>inst_id</th>\n",
       "      <th>machine</th>\n",
       "      <th>gpu_name</th>\n",
       "      <th>cpu_usage</th>\n",
       "      <th>gpu_wrk_util</th>\n",
       "      <th>avg_mem</th>\n",
       "      <th>max_mem</th>\n",
       "      <th>avg_gpu_wrk_mem</th>\n",
       "      <th>max_gpu_wrk_mem</th>\n",
       "      <th>read</th>\n",
       "      <th>write</th>\n",
       "      <th>read_count</th>\n",
       "      <th>write_count</th>\n",
       "      <th>gpu_type</th>\n",
       "    </tr>\n",
       "  </thead>\n",
       "  <tbody>\n",
       "    <tr>\n",
       "      <th>0</th>\n",
       "      <td>1010272</td>\n",
       "      <td>bf1bb8cd96cd19e1ee8fa5dd</td>\n",
       "      <td>JupyterTask</td>\n",
       "      <td>0c9a0d07cb296e90c8624e1101a57e9a0ee642bbd6b4b5...</td>\n",
       "      <td>2faadde80a65466b020037994ceaeb63b628e8d94c94df...</td>\n",
       "      <td>31180a7c410df77a6e81a319</td>\n",
       "      <td>/dev/nvidia1</td>\n",
       "      <td>72.845760</td>\n",
       "      <td>2.365114</td>\n",
       "      <td>16.060270</td>\n",
       "      <td>39.257812</td>\n",
       "      <td>6.384934</td>\n",
       "      <td>8.547852</td>\n",
       "      <td>6.910916e+07</td>\n",
       "      <td>5.855475e+07</td>\n",
       "      <td>599.811871</td>\n",
       "      <td>160.134900</td>\n",
       "      <td>P100</td>\n",
       "    </tr>\n",
       "    <tr>\n",
       "      <th>1</th>\n",
       "      <td>2905256</td>\n",
       "      <td>70e640ab2e9337b533eeca84</td>\n",
       "      <td>JupyterTask</td>\n",
       "      <td>acf05f3e7aa0abcf058a64d2b4119927b4147511fabedb...</td>\n",
       "      <td>86c40045b696aa5ea9ed237e9bd9fa712596ba53c8eab8...</td>\n",
       "      <td>330e07d841d644d75feb4b8f</td>\n",
       "      <td>/dev/nvidia7</td>\n",
       "      <td>75.234997</td>\n",
       "      <td>0.857611</td>\n",
       "      <td>2.874521</td>\n",
       "      <td>11.432617</td>\n",
       "      <td>0.920229</td>\n",
       "      <td>4.352539</td>\n",
       "      <td>1.214870e+07</td>\n",
       "      <td>1.113446e+06</td>\n",
       "      <td>467.069135</td>\n",
       "      <td>127.162317</td>\n",
       "      <td>MISC</td>\n",
       "    </tr>\n",
       "    <tr>\n",
       "      <th>2</th>\n",
       "      <td>175636</td>\n",
       "      <td>fa034ce687c6b3bd70438c75</td>\n",
       "      <td>JupyterTask</td>\n",
       "      <td>df4ec643dd5e28161fe9dfca513958c2570fc24e7e6302...</td>\n",
       "      <td>d98d6fe62aadb43ed6c10b2df9c0c3b6bc0c800cc39c84...</td>\n",
       "      <td>e8ddd1d4a9f75b6f66fab3e2</td>\n",
       "      <td>/dev/nvidia1</td>\n",
       "      <td>1.368785</td>\n",
       "      <td>0.000000</td>\n",
       "      <td>0.334477</td>\n",
       "      <td>0.408203</td>\n",
       "      <td>0.000000</td>\n",
       "      <td>0.000000</td>\n",
       "      <td>1.643032e+05</td>\n",
       "      <td>3.348666e+04</td>\n",
       "      <td>86.905220</td>\n",
       "      <td>18.899725</td>\n",
       "      <td>MISC</td>\n",
       "    </tr>\n",
       "    <tr>\n",
       "      <th>3</th>\n",
       "      <td>952812</td>\n",
       "      <td>63014ff366616af317bbb6ad</td>\n",
       "      <td>JupyterTask</td>\n",
       "      <td>cecc7b4caed10a394fa0eded23db16c8d6b3f96d178557...</td>\n",
       "      <td>068e3d771526f0de15ff6df3080631fbaf811005633896...</td>\n",
       "      <td>405d86056a38bc086a130c73</td>\n",
       "      <td>/dev/nvidia1</td>\n",
       "      <td>0.596750</td>\n",
       "      <td>0.000000</td>\n",
       "      <td>0.238747</td>\n",
       "      <td>1.800781</td>\n",
       "      <td>0.000000</td>\n",
       "      <td>0.000000</td>\n",
       "      <td>8.671857e+03</td>\n",
       "      <td>6.063244e+03</td>\n",
       "      <td>34.351620</td>\n",
       "      <td>15.365760</td>\n",
       "      <td>MISC</td>\n",
       "    </tr>\n",
       "    <tr>\n",
       "      <th>4</th>\n",
       "      <td>1344584</td>\n",
       "      <td>06fcaf3277d42908c308235e</td>\n",
       "      <td>JupyterTask</td>\n",
       "      <td>3d18b13a8c9a7f625087dd7fc8f0a86f0cad9ea5441b13...</td>\n",
       "      <td>6dc29f7861a7d4999b07b4e0e7fd342e37d9264d5efa7b...</td>\n",
       "      <td>edd7369d3763a75aebf18a8a</td>\n",
       "      <td>/dev/nvidia6</td>\n",
       "      <td>3.196262</td>\n",
       "      <td>0.000000</td>\n",
       "      <td>0.474609</td>\n",
       "      <td>0.554688</td>\n",
       "      <td>0.000000</td>\n",
       "      <td>0.000000</td>\n",
       "      <td>1.054398e+06</td>\n",
       "      <td>2.041204e+05</td>\n",
       "      <td>386.882883</td>\n",
       "      <td>41.099099</td>\n",
       "      <td>MISC</td>\n",
       "    </tr>\n",
       "  </tbody>\n",
       "</table>\n",
       "</div>"
      ],
      "text/plain": [
       "     index                  job_name    task_name  \\\n",
       "0  1010272  bf1bb8cd96cd19e1ee8fa5dd  JupyterTask   \n",
       "1  2905256  70e640ab2e9337b533eeca84  JupyterTask   \n",
       "2   175636  fa034ce687c6b3bd70438c75  JupyterTask   \n",
       "3   952812  63014ff366616af317bbb6ad  JupyterTask   \n",
       "4  1344584  06fcaf3277d42908c308235e  JupyterTask   \n",
       "\n",
       "                                         worker_name  \\\n",
       "0  0c9a0d07cb296e90c8624e1101a57e9a0ee642bbd6b4b5...   \n",
       "1  acf05f3e7aa0abcf058a64d2b4119927b4147511fabedb...   \n",
       "2  df4ec643dd5e28161fe9dfca513958c2570fc24e7e6302...   \n",
       "3  cecc7b4caed10a394fa0eded23db16c8d6b3f96d178557...   \n",
       "4  3d18b13a8c9a7f625087dd7fc8f0a86f0cad9ea5441b13...   \n",
       "\n",
       "                                             inst_id  \\\n",
       "0  2faadde80a65466b020037994ceaeb63b628e8d94c94df...   \n",
       "1  86c40045b696aa5ea9ed237e9bd9fa712596ba53c8eab8...   \n",
       "2  d98d6fe62aadb43ed6c10b2df9c0c3b6bc0c800cc39c84...   \n",
       "3  068e3d771526f0de15ff6df3080631fbaf811005633896...   \n",
       "4  6dc29f7861a7d4999b07b4e0e7fd342e37d9264d5efa7b...   \n",
       "\n",
       "                    machine      gpu_name  cpu_usage  gpu_wrk_util    avg_mem  \\\n",
       "0  31180a7c410df77a6e81a319  /dev/nvidia1  72.845760      2.365114  16.060270   \n",
       "1  330e07d841d644d75feb4b8f  /dev/nvidia7  75.234997      0.857611   2.874521   \n",
       "2  e8ddd1d4a9f75b6f66fab3e2  /dev/nvidia1   1.368785      0.000000   0.334477   \n",
       "3  405d86056a38bc086a130c73  /dev/nvidia1   0.596750      0.000000   0.238747   \n",
       "4  edd7369d3763a75aebf18a8a  /dev/nvidia6   3.196262      0.000000   0.474609   \n",
       "\n",
       "     max_mem  avg_gpu_wrk_mem  max_gpu_wrk_mem          read         write  \\\n",
       "0  39.257812         6.384934         8.547852  6.910916e+07  5.855475e+07   \n",
       "1  11.432617         0.920229         4.352539  1.214870e+07  1.113446e+06   \n",
       "2   0.408203         0.000000         0.000000  1.643032e+05  3.348666e+04   \n",
       "3   1.800781         0.000000         0.000000  8.671857e+03  6.063244e+03   \n",
       "4   0.554688         0.000000         0.000000  1.054398e+06  2.041204e+05   \n",
       "\n",
       "   read_count  write_count gpu_type  \n",
       "0  599.811871   160.134900     P100  \n",
       "1  467.069135   127.162317     MISC  \n",
       "2   86.905220    18.899725     MISC  \n",
       "3   34.351620    15.365760     MISC  \n",
       "4  386.882883    41.099099     MISC  "
      ]
     },
     "execution_count": 121,
     "metadata": {},
     "output_type": "execute_result"
    }
   ],
   "source": [
    "examples_sampled = stratified_sample(examples, ['task_name'], size=80000, seed=123, keep_index= True)\n",
    "examples_sampled.head()"
   ]
  },
  {
   "cell_type": "code",
   "execution_count": 122,
   "id": "97b3cecb-746d-488e-92bc-6b1237f6e53c",
   "metadata": {
    "execution": {
     "iopub.execute_input": "2022-07-26T13:47:55.368582Z",
     "iopub.status.busy": "2022-07-26T13:47:55.368024Z",
     "iopub.status.idle": "2022-07-26T13:47:55.422859Z",
     "shell.execute_reply": "2022-07-26T13:47:55.421699Z",
     "shell.execute_reply.started": "2022-07-26T13:47:55.368516Z"
    },
    "tags": []
   },
   "outputs": [],
   "source": [
    "st_scaler_ex = StandardScaler()\n",
    "X_examples = st_scaler_ex.fit_transform(examples_sampled.select_dtypes(include=np.number).fillna(0).values)"
   ]
  },
  {
   "cell_type": "markdown",
   "id": "98ab52d4-4be1-4e93-9e11-9c3303964799",
   "metadata": {},
   "source": [
    "## PCA"
   ]
  },
  {
   "cell_type": "code",
   "execution_count": 123,
   "id": "45d54d54-b369-447d-acc2-898c8c451929",
   "metadata": {
    "execution": {
     "iopub.execute_input": "2022-07-26T13:47:56.822948Z",
     "iopub.status.busy": "2022-07-26T13:47:56.822407Z",
     "iopub.status.idle": "2022-07-26T13:47:56.830647Z",
     "shell.execute_reply": "2022-07-26T13:47:56.828845Z",
     "shell.execute_reply.started": "2022-07-26T13:47:56.822884Z"
    },
    "tags": []
   },
   "outputs": [],
   "source": [
    "from sklearn.decomposition import PCA"
   ]
  },
  {
   "cell_type": "code",
   "execution_count": 124,
   "id": "ded21044-449b-44d3-bcc2-97e788c97540",
   "metadata": {
    "execution": {
     "iopub.execute_input": "2022-07-26T13:47:57.182452Z",
     "iopub.status.busy": "2022-07-26T13:47:57.181960Z",
     "iopub.status.idle": "2022-07-26T13:47:57.189523Z",
     "shell.execute_reply": "2022-07-26T13:47:57.188068Z",
     "shell.execute_reply.started": "2022-07-26T13:47:57.182391Z"
    },
    "tags": []
   },
   "outputs": [],
   "source": [
    "pca = PCA(n_components=3, svd_solver='auto')"
   ]
  },
  {
   "cell_type": "code",
   "execution_count": 125,
   "id": "5d5aa86e-0dcd-4ace-a64f-a3d301a487fd",
   "metadata": {
    "execution": {
     "iopub.execute_input": "2022-07-26T13:47:57.689811Z",
     "iopub.status.busy": "2022-07-26T13:47:57.689311Z",
     "iopub.status.idle": "2022-07-26T13:47:57.770040Z",
     "shell.execute_reply": "2022-07-26T13:47:57.769486Z",
     "shell.execute_reply.started": "2022-07-26T13:47:57.689736Z"
    },
    "tags": []
   },
   "outputs": [
    {
     "data": {
      "text/plain": [
       "PCA(n_components=3)"
      ]
     },
     "execution_count": 125,
     "metadata": {},
     "output_type": "execute_result"
    }
   ],
   "source": [
    "pca.fit(X_examples)"
   ]
  },
  {
   "cell_type": "code",
   "execution_count": 126,
   "id": "59a59c9d-fdac-4d25-bbe3-8dee4b8f9ca1",
   "metadata": {
    "execution": {
     "iopub.execute_input": "2022-07-26T13:47:58.861489Z",
     "iopub.status.busy": "2022-07-26T13:47:58.860662Z",
     "iopub.status.idle": "2022-07-26T13:47:58.870490Z",
     "shell.execute_reply": "2022-07-26T13:47:58.869228Z",
     "shell.execute_reply.started": "2022-07-26T13:47:58.861411Z"
    },
    "tags": []
   },
   "outputs": [
    {
     "name": "stdout",
     "output_type": "stream",
     "text": [
      "[0.36947246 0.16595079 0.0911616 ]\n"
     ]
    }
   ],
   "source": [
    "print(pca.explained_variance_ratio_)"
   ]
  },
  {
   "cell_type": "code",
   "execution_count": 127,
   "id": "bb5f4b50-c25b-42a0-b31b-009c95514673",
   "metadata": {
    "execution": {
     "iopub.execute_input": "2022-07-26T13:47:59.540568Z",
     "iopub.status.busy": "2022-07-26T13:47:59.539889Z",
     "iopub.status.idle": "2022-07-26T13:47:59.549361Z",
     "shell.execute_reply": "2022-07-26T13:47:59.547759Z",
     "shell.execute_reply.started": "2022-07-26T13:47:59.540501Z"
    },
    "tags": []
   },
   "outputs": [
    {
     "name": "stdout",
     "output_type": "stream",
     "text": [
      "[570.20677605 382.14748368 283.23524965]\n"
     ]
    }
   ],
   "source": [
    "print(pca.singular_values_)"
   ]
  },
  {
   "cell_type": "code",
   "execution_count": 128,
   "id": "f6b39114-ada9-4dff-ae03-e0ed4682eb32",
   "metadata": {
    "execution": {
     "iopub.execute_input": "2022-07-26T13:47:59.915360Z",
     "iopub.status.busy": "2022-07-26T13:47:59.914673Z",
     "iopub.status.idle": "2022-07-26T13:47:59.927272Z",
     "shell.execute_reply": "2022-07-26T13:47:59.926141Z",
     "shell.execute_reply.started": "2022-07-26T13:47:59.915294Z"
    },
    "tags": []
   },
   "outputs": [],
   "source": [
    "pca_examples = pca.transform(X_examples)"
   ]
  },
  {
   "cell_type": "code",
   "execution_count": 129,
   "id": "421b279e-1879-4c48-9d78-74983faf4999",
   "metadata": {
    "execution": {
     "iopub.execute_input": "2022-07-26T13:48:00.610551Z",
     "iopub.status.busy": "2022-07-26T13:48:00.610019Z",
     "iopub.status.idle": "2022-07-26T13:48:01.610032Z",
     "shell.execute_reply": "2022-07-26T13:48:01.609399Z",
     "shell.execute_reply.started": "2022-07-26T13:48:00.610490Z"
    },
    "tags": []
   },
   "outputs": [
    {
     "data": {
      "image/png": "[encoded data removed]",
      "text/plain": [
       "<Figure size 1440x720 with 1 Axes>"
      ]
     },
     "metadata": {},
     "output_type": "display_data"
    }
   ],
   "source": [
    "fig = plt.figure(figsize=(20,10))\n",
    "\n",
    "ax = fig.add_subplot(projection='3d')\n",
    "\n",
    "ax.scatter(pca_examples[:,0], pca_examples[:, 1], pca_examples[:,2])\n",
    "\n",
    "plt.show()"
   ]
  },
  {
   "cell_type": "code",
   "execution_count": 200,
   "id": "bc881f13-88b0-4093-8f68-e29ee820da7d",
   "metadata": {
    "execution": {
     "iopub.execute_input": "2022-07-26T14:43:21.483514Z",
     "iopub.status.busy": "2022-07-26T14:43:21.483015Z",
     "iopub.status.idle": "2022-07-26T14:43:21.583924Z",
     "shell.execute_reply": "2022-07-26T14:43:21.583032Z",
     "shell.execute_reply.started": "2022-07-26T14:43:21.483452Z"
    },
    "tags": []
   },
   "outputs": [
    {
     "name": "stdout",
     "output_type": "stream",
     "text": [
      "tensorflow\n",
      "JupyterTask\n",
      "PyTorchWorker\n"
     ]
    }
   ],
   "source": [
    "total_list = []\n",
    "for el in set(examples_sampled.task_name.values):\n",
    "    print(el)\n",
    "    mask = examples_sampled.loc[:,'task_name'] == el\n",
    "    mask.values\n",
    "    key_list = []\n",
    "    for count, flag in enumerate(mask):\n",
    "        if flag:\n",
    "            key_list.append(pca_examples[count,:])\n",
    "    total_list.append(np.array(key_list))"
   ]
  },
  {
   "cell_type": "code",
   "execution_count": 196,
   "id": "3e8ff7a1-d2da-4734-89f8-3f440e2c0c78",
   "metadata": {
    "execution": {
     "iopub.execute_input": "2022-07-26T14:40:56.042460Z",
     "iopub.status.busy": "2022-07-26T14:40:56.041979Z",
     "iopub.status.idle": "2022-07-26T14:40:56.051433Z",
     "shell.execute_reply": "2022-07-26T14:40:56.050201Z",
     "shell.execute_reply.started": "2022-07-26T14:40:56.042401Z"
    },
    "tags": []
   },
   "outputs": [
    {
     "data": {
      "text/plain": [
       "(56353, 3)"
      ]
     },
     "execution_count": 196,
     "metadata": {},
     "output_type": "execute_result"
    }
   ],
   "source": [
    "total_list[0].shape"
   ]
  },
  {
   "cell_type": "code",
   "execution_count": 221,
   "id": "653e64f8-02eb-4765-9ccf-17d6ea6e339c",
   "metadata": {
    "execution": {
     "iopub.execute_input": "2022-08-01T11:41:22.276066Z",
     "iopub.status.busy": "2022-08-01T11:41:22.275570Z",
     "iopub.status.idle": "2022-08-01T11:41:23.367281Z",
     "shell.execute_reply": "2022-08-01T11:41:23.366783Z",
     "shell.execute_reply.started": "2022-08-01T11:41:22.276006Z"
    },
    "tags": []
   },
   "outputs": [
    {
     "data": {
      "image/png": "[encoded data removed]",
      "text/plain": [
       "<Figure size 1440x720 with 1 Axes>"
      ]
     },
     "metadata": {},
     "output_type": "display_data"
    }
   ],
   "source": [
    "fig = plt.figure(figsize=(20,10))\n",
    "\n",
    "ax = fig.add_subplot(projection='3d')\n",
    "\n",
    "ax.scatter(total_list[0][:,0], total_list[0][:, 1], total_list[0][:,2], marker='o', color='red')\n",
    "ax.scatter(total_list[2][:,0], total_list[2][:, 1], total_list[2][:,2], marker='^', color='green')\n",
    "ax.scatter(total_list[1][:,0], total_list[1][:, 1], total_list[1][:,2], marker='*', color='blue')\n",
    "\n",
    "plt.show()"
   ]
  },
  {
   "cell_type": "markdown",
   "id": "31cdc3cc-93b1-43a6-8ead-bb0ac713bea5",
   "metadata": {
    "tags": []
   },
   "source": [
    "## DBSCAN"
   ]
  },
  {
   "cell_type": "code",
   "execution_count": 130,
   "id": "ae69571d-1a91-48b8-ae58-9f95b4375e0e",
   "metadata": {
    "execution": {
     "iopub.execute_input": "2022-07-26T13:48:07.797220Z",
     "iopub.status.busy": "2022-07-26T13:48:07.796615Z",
     "iopub.status.idle": "2022-07-26T13:48:07.805618Z",
     "shell.execute_reply": "2022-07-26T13:48:07.804074Z",
     "shell.execute_reply.started": "2022-07-26T13:48:07.797143Z"
    },
    "tags": []
   },
   "outputs": [],
   "source": [
    "from sklearn.cluster import DBSCAN"
   ]
  },
  {
   "cell_type": "code",
   "execution_count": 131,
   "id": "569909dd-eb7e-4646-ab98-f43f1bb28793",
   "metadata": {
    "execution": {
     "iopub.execute_input": "2022-07-26T13:48:08.187578Z",
     "iopub.status.busy": "2022-07-26T13:48:08.187189Z",
     "iopub.status.idle": "2022-07-26T13:48:08.194716Z",
     "shell.execute_reply": "2022-07-26T13:48:08.193082Z",
     "shell.execute_reply.started": "2022-07-26T13:48:08.187529Z"
    },
    "tags": []
   },
   "outputs": [],
   "source": [
    "dbscan = DBSCAN(n_jobs=-1)"
   ]
  },
  {
   "cell_type": "code",
   "execution_count": 132,
   "id": "58d13a8a-703c-4c29-9217-8f88c1bc1e08",
   "metadata": {
    "execution": {
     "iopub.execute_input": "2022-07-26T13:48:08.424842Z",
     "iopub.status.busy": "2022-07-26T13:48:08.424346Z",
     "iopub.status.idle": "2022-07-26T13:48:19.908462Z",
     "shell.execute_reply": "2022-07-26T13:48:19.906997Z",
     "shell.execute_reply.started": "2022-07-26T13:48:08.424767Z"
    },
    "tags": []
   },
   "outputs": [
    {
     "data": {
      "text/plain": [
       "array([0, 0, 0, ..., 0, 0, 0])"
      ]
     },
     "execution_count": 132,
     "metadata": {},
     "output_type": "execute_result"
    }
   ],
   "source": [
    "dbscan.fit_predict(pca_examples)"
   ]
  },
  {
   "cell_type": "code",
   "execution_count": 133,
   "id": "92b51c64-e717-43c6-b7eb-1bb8130fd277",
   "metadata": {
    "execution": {
     "iopub.execute_input": "2022-07-26T13:48:20.012716Z",
     "iopub.status.busy": "2022-07-26T13:48:20.012323Z",
     "iopub.status.idle": "2022-07-26T13:48:20.029202Z",
     "shell.execute_reply": "2022-07-26T13:48:20.028019Z",
     "shell.execute_reply.started": "2022-07-26T13:48:20.012669Z"
    },
    "tags": []
   },
   "outputs": [
    {
     "data": {
      "text/plain": [
       "array([0, 0, 0, ..., 0, 0, 0])"
      ]
     },
     "execution_count": 133,
     "metadata": {},
     "output_type": "execute_result"
    }
   ],
   "source": [
    "dbscan.labels_"
   ]
  },
  {
   "cell_type": "code",
   "execution_count": 134,
   "id": "42ecaae7-7ca6-40b6-8b1f-365d19c7a58a",
   "metadata": {
    "execution": {
     "iopub.execute_input": "2022-07-26T13:48:20.031916Z",
     "iopub.status.busy": "2022-07-26T13:48:20.031089Z",
     "iopub.status.idle": "2022-07-26T13:48:20.037019Z",
     "shell.execute_reply": "2022-07-26T13:48:20.035950Z",
     "shell.execute_reply.started": "2022-07-26T13:48:20.031853Z"
    },
    "tags": []
   },
   "outputs": [],
   "source": [
    "from collections import Counter"
   ]
  },
  {
   "cell_type": "code",
   "execution_count": 135,
   "id": "70af6adf-cc26-4b75-9e09-705d2e60d5e1",
   "metadata": {
    "execution": {
     "iopub.execute_input": "2022-07-26T13:48:20.039374Z",
     "iopub.status.busy": "2022-07-26T13:48:20.039013Z",
     "iopub.status.idle": "2022-07-26T13:48:20.060970Z",
     "shell.execute_reply": "2022-07-26T13:48:20.060464Z",
     "shell.execute_reply.started": "2022-07-26T13:48:20.039337Z"
    },
    "tags": []
   },
   "outputs": [
    {
     "data": {
      "text/plain": [
       "Counter({0: 78891,\n",
       "         -1: 517,\n",
       "         1: 30,\n",
       "         15: 6,\n",
       "         17: 6,\n",
       "         2: 16,\n",
       "         27: 5,\n",
       "         3: 28,\n",
       "         19: 8,\n",
       "         4: 81,\n",
       "         5: 38,\n",
       "         6: 55,\n",
       "         22: 9,\n",
       "         7: 64,\n",
       "         8: 7,\n",
       "         9: 10,\n",
       "         18: 5,\n",
       "         12: 13,\n",
       "         25: 5,\n",
       "         20: 83,\n",
       "         14: 5,\n",
       "         10: 7,\n",
       "         11: 8,\n",
       "         23: 5,\n",
       "         26: 5,\n",
       "         13: 8,\n",
       "         24: 4,\n",
       "         16: 5,\n",
       "         21: 36,\n",
       "         28: 8,\n",
       "         32: 5,\n",
       "         29: 8,\n",
       "         31: 6,\n",
       "         33: 7,\n",
       "         30: 6})"
      ]
     },
     "execution_count": 135,
     "metadata": {},
     "output_type": "execute_result"
    }
   ],
   "source": [
    "Counter(list(dbscan.labels_))"
   ]
  },
  {
   "cell_type": "markdown",
   "id": "fbcffbc7-05d3-4698-b072-c1bdfb0694be",
   "metadata": {
    "execution": {
     "iopub.execute_input": "2022-07-26T09:53:30.750915Z",
     "iopub.status.busy": "2022-07-26T09:53:30.750401Z",
     "iopub.status.idle": "2022-07-26T09:53:30.769140Z",
     "shell.execute_reply": "2022-07-26T09:53:30.767599Z",
     "shell.execute_reply.started": "2022-07-26T09:53:30.750853Z"
    }
   },
   "source": [
    "## KMEANS"
   ]
  },
  {
   "cell_type": "code",
   "execution_count": 136,
   "id": "f9685375-0adf-49f4-85e4-ca42d863728d",
   "metadata": {
    "execution": {
     "iopub.execute_input": "2022-07-26T13:48:20.061660Z",
     "iopub.status.busy": "2022-07-26T13:48:20.061538Z",
     "iopub.status.idle": "2022-07-26T13:48:20.065150Z",
     "shell.execute_reply": "2022-07-26T13:48:20.064663Z",
     "shell.execute_reply.started": "2022-07-26T13:48:20.061645Z"
    },
    "tags": []
   },
   "outputs": [],
   "source": [
    "from sklearn.cluster import KMeans"
   ]
  },
  {
   "cell_type": "code",
   "execution_count": 175,
   "id": "e4022911-d3a8-4d06-a0d9-56b4e2274854",
   "metadata": {
    "execution": {
     "iopub.execute_input": "2022-07-26T14:03:51.306096Z",
     "iopub.status.busy": "2022-07-26T14:03:51.305435Z",
     "iopub.status.idle": "2022-07-26T14:03:51.312924Z",
     "shell.execute_reply": "2022-07-26T14:03:51.311554Z",
     "shell.execute_reply.started": "2022-07-26T14:03:51.306027Z"
    },
    "tags": []
   },
   "outputs": [],
   "source": [
    "kmeans = KMeans(n_clusters=3, n_init=10000)"
   ]
  },
  {
   "cell_type": "code",
   "execution_count": 176,
   "id": "1b26b7c7-84c7-4b37-b839-ca61568e654a",
   "metadata": {
    "execution": {
     "iopub.execute_input": "2022-07-26T14:03:54.095511Z",
     "iopub.status.busy": "2022-07-26T14:03:54.094892Z",
     "iopub.status.idle": "2022-07-26T14:09:27.781666Z",
     "shell.execute_reply": "2022-07-26T14:09:27.781063Z",
     "shell.execute_reply.started": "2022-07-26T14:03:54.095444Z"
    },
    "tags": []
   },
   "outputs": [
    {
     "data": {
      "text/plain": [
       "KMeans(n_clusters=3, n_init=10000)"
      ]
     },
     "execution_count": 176,
     "metadata": {},
     "output_type": "execute_result"
    }
   ],
   "source": [
    "kmeans.fit(pca_examples)"
   ]
  },
  {
   "cell_type": "code",
   "execution_count": 178,
   "id": "e4037324-64f3-46c6-9589-8b0d462025bc",
   "metadata": {
    "execution": {
     "iopub.execute_input": "2022-07-26T14:17:02.470164Z",
     "iopub.status.busy": "2022-07-26T14:17:02.469661Z",
     "iopub.status.idle": "2022-07-26T14:17:02.499521Z",
     "shell.execute_reply": "2022-07-26T14:17:02.497838Z",
     "shell.execute_reply.started": "2022-07-26T14:17:02.470103Z"
    },
    "tags": []
   },
   "outputs": [
    {
     "data": {
      "text/plain": [
       "Counter({0: 75358, 2: 4055, 1: 587})"
      ]
     },
     "execution_count": 178,
     "metadata": {},
     "output_type": "execute_result"
    }
   ],
   "source": [
    "Counter(list(kmeans.labels_))"
   ]
  },
  {
   "cell_type": "code",
   "execution_count": 179,
   "id": "e808a5a7-f051-49bc-94b2-3d5e79a5c7b2",
   "metadata": {
    "execution": {
     "iopub.execute_input": "2022-07-26T14:17:04.395435Z",
     "iopub.status.busy": "2022-07-26T14:17:04.394812Z",
     "iopub.status.idle": "2022-07-26T14:17:04.478620Z",
     "shell.execute_reply": "2022-07-26T14:17:04.478083Z",
     "shell.execute_reply.started": "2022-07-26T14:17:04.395375Z"
    },
    "tags": []
   },
   "outputs": [],
   "source": [
    "examples_sampled_kmeans3 = examples_sampled.copy()"
   ]
  },
  {
   "cell_type": "code",
   "execution_count": 180,
   "id": "9aed5ad0-4c4a-418b-990c-c5a8ff519aef",
   "metadata": {
    "execution": {
     "iopub.execute_input": "2022-07-26T14:17:07.791215Z",
     "iopub.status.busy": "2022-07-26T14:17:07.790712Z",
     "iopub.status.idle": "2022-07-26T14:17:07.801009Z",
     "shell.execute_reply": "2022-07-26T14:17:07.799674Z",
     "shell.execute_reply.started": "2022-07-26T14:17:07.791153Z"
    },
    "tags": []
   },
   "outputs": [],
   "source": [
    "examples_sampled_kmeans3['kmeans_clusters'] = kmeans.labels_"
   ]
  },
  {
   "cell_type": "code",
   "execution_count": 222,
   "id": "6ad7e523-3883-454a-8676-7ba139d7f34a",
   "metadata": {
    "execution": {
     "iopub.execute_input": "2022-08-01T11:42:53.469719Z",
     "iopub.status.busy": "2022-08-01T11:42:53.469230Z",
     "iopub.status.idle": "2022-08-01T11:42:53.759422Z",
     "shell.execute_reply": "2022-08-01T11:42:53.758554Z",
     "shell.execute_reply.started": "2022-08-01T11:42:53.469659Z"
    },
    "tags": []
   },
   "outputs": [
    {
     "data": {
      "image/png": "[encoded data removed]",
      "text/plain": [
       "<Figure size 864x648 with 1 Axes>"
      ]
     },
     "metadata": {},
     "output_type": "display_data"
    }
   ],
   "source": [
    "plt.figure(figsize=(12,9))\n",
    "sns.set_style(\"darkgrid\")\n",
    "sns.countplot(x=\"kmeans_clusters\", hue=\"task_name\", data=examples_sampled_kmeans3)\n",
    "plt.yscale('log')\n",
    "#plt.tight_layout()\n",
    "#plt.savefig('Figures/kmeans-k9-countplot.pdf')"
   ]
  },
  {
   "cell_type": "code",
   "execution_count": 183,
   "id": "d885fc0a-d171-4a7c-945a-442c43b467da",
   "metadata": {
    "execution": {
     "iopub.execute_input": "2022-07-26T14:32:14.412182Z",
     "iopub.status.busy": "2022-07-26T14:32:14.411683Z",
     "iopub.status.idle": "2022-07-26T14:32:14.425744Z",
     "shell.execute_reply": "2022-07-26T14:32:14.424654Z",
     "shell.execute_reply.started": "2022-07-26T14:32:14.412122Z"
    },
    "tags": []
   },
   "outputs": [
    {
     "data": {
      "text/plain": [
       "0        False\n",
       "1        False\n",
       "2        False\n",
       "3        False\n",
       "4        False\n",
       "         ...  \n",
       "79995    False\n",
       "79996    False\n",
       "79997    False\n",
       "79998    False\n",
       "79999    False\n",
       "Name: kmeans_clusters, Length: 80000, dtype: bool"
      ]
     },
     "execution_count": 183,
     "metadata": {},
     "output_type": "execute_result"
    }
   ],
   "source": [
    "examples_sampled_kmeans3.loc[:,'kmeans_clusters'] == 2"
   ]
  },
  {
   "cell_type": "code",
   "execution_count": 217,
   "id": "27aa5f8d-c4d9-4da3-adf5-c93be16c5010",
   "metadata": {
    "execution": {
     "iopub.execute_input": "2022-07-26T14:48:20.277194Z",
     "iopub.status.busy": "2022-07-26T14:48:20.276697Z",
     "iopub.status.idle": "2022-07-26T14:48:20.371701Z",
     "shell.execute_reply": "2022-07-26T14:48:20.371177Z",
     "shell.execute_reply.started": "2022-07-26T14:48:20.277135Z"
    },
    "tags": []
   },
   "outputs": [
    {
     "name": "stdout",
     "output_type": "stream",
     "text": [
      "0\n",
      "1\n",
      "2\n"
     ]
    }
   ],
   "source": [
    "total_list = []\n",
    "for el in set(examples_sampled_kmeans3.kmeans_clusters.values):\n",
    "    print(el)\n",
    "    mask = examples_sampled_kmeans3.loc[:,'kmeans_clusters'] == el\n",
    "    mask.values\n",
    "    key_list = []\n",
    "    for count, flag in enumerate(mask):\n",
    "        if flag:\n",
    "            key_list.append(pca_examples[count,:])\n",
    "    total_list.append(np.array(key_list))"
   ]
  },
  {
   "cell_type": "code",
   "execution_count": 218,
   "id": "18237f84-488f-4173-bf11-ff181aaca8a4",
   "metadata": {
    "execution": {
     "iopub.execute_input": "2022-07-26T14:48:21.172210Z",
     "iopub.status.busy": "2022-07-26T14:48:21.171711Z",
     "iopub.status.idle": "2022-07-26T14:48:21.181977Z",
     "shell.execute_reply": "2022-07-26T14:48:21.180572Z",
     "shell.execute_reply.started": "2022-07-26T14:48:21.172149Z"
    },
    "tags": []
   },
   "outputs": [
    {
     "data": {
      "text/plain": [
       "(75358, 3)"
      ]
     },
     "execution_count": 218,
     "metadata": {},
     "output_type": "execute_result"
    }
   ],
   "source": [
    "total_list[0].shape"
   ]
  },
  {
   "cell_type": "code",
   "execution_count": 219,
   "id": "bb7671a7-8c71-4daa-85f1-ccb9660fcd99",
   "metadata": {
    "execution": {
     "iopub.execute_input": "2022-07-26T14:48:22.060643Z",
     "iopub.status.busy": "2022-07-26T14:48:22.060166Z",
     "iopub.status.idle": "2022-07-26T14:48:23.027723Z",
     "shell.execute_reply": "2022-07-26T14:48:23.027257Z",
     "shell.execute_reply.started": "2022-07-26T14:48:22.060584Z"
    },
    "tags": []
   },
   "outputs": [
    {
     "data": {
      "image/png": "[encoded data removed]",
      "text/plain": [
       "<Figure size 1440x720 with 1 Axes>"
      ]
     },
     "metadata": {},
     "output_type": "display_data"
    }
   ],
   "source": [
    "fig = plt.figure(figsize=(20,10))\n",
    "\n",
    "ax = fig.add_subplot(projection='3d')\n",
    "\n",
    "ax.scatter(total_list[0][:,0], total_list[0][:, 1], total_list[0][:,2], marker='o', color='red')\n",
    "ax.scatter(total_list[1][:,0], total_list[1][:, 1], total_list[1][:,2], marker='*', color='blue')\n",
    "ax.scatter(total_list[2][:,0], total_list[2][:, 1], total_list[2][:,2], marker='^', color='green')\n",
    "\n",
    "plt.show()"
   ]
  },
  {
   "cell_type": "markdown",
   "id": "7d867365-ed56-4e9c-a5f1-705dfff6d72f",
   "metadata": {
    "tags": []
   },
   "source": [
    "## VAE on example subset"
   ]
  },
  {
   "cell_type": "code",
   "execution_count": 174,
   "id": "ca1e78c7-a910-4fe1-88d8-946ee4620d4c",
   "metadata": {
    "execution": {
     "iopub.execute_input": "2022-07-26T14:03:30.590583Z",
     "iopub.status.busy": "2022-07-26T14:03:30.590468Z",
     "iopub.status.idle": "2022-07-26T14:03:30.600253Z",
     "shell.execute_reply": "2022-07-26T14:03:30.599780Z",
     "shell.execute_reply.started": "2022-07-26T14:03:30.590568Z"
    }
   },
   "outputs": [
    {
     "data": {
      "text/plain": [
       "(80000, 11)"
      ]
     },
     "execution_count": 174,
     "metadata": {},
     "output_type": "execute_result"
    }
   ],
   "source": [
    "examples_sampled.select_dtypes(include=np.number).fillna(0).values.shape"
   ]
  },
  {
   "cell_type": "code",
   "execution_count": 133,
   "id": "0b991110-702d-47c0-85df-590a61bd30d0",
   "metadata": {
    "execution": {
     "iopub.execute_input": "2022-07-25T07:34:31.814972Z",
     "iopub.status.busy": "2022-07-25T07:34:31.814469Z",
     "iopub.status.idle": "2022-07-25T07:34:31.821745Z",
     "shell.execute_reply": "2022-07-25T07:34:31.820160Z",
     "shell.execute_reply.started": "2022-07-25T07:34:31.814910Z"
    },
    "tags": []
   },
   "outputs": [],
   "source": [
    "import keras\n",
    "from keras import layers"
   ]
  },
  {
   "cell_type": "code",
   "execution_count": 134,
   "id": "aad57db3-1a42-476e-9310-2ca01d039ca4",
   "metadata": {
    "execution": {
     "iopub.execute_input": "2022-07-25T07:34:32.243423Z",
     "iopub.status.busy": "2022-07-25T07:34:32.242802Z",
     "iopub.status.idle": "2022-07-25T07:34:32.250317Z",
     "shell.execute_reply": "2022-07-25T07:34:32.248782Z",
     "shell.execute_reply.started": "2022-07-25T07:34:32.243360Z"
    },
    "tags": []
   },
   "outputs": [],
   "source": [
    "original_dim = X.shape[1]\n",
    "intermediate_dim = 25\n",
    "latent_dim = 3"
   ]
  },
  {
   "cell_type": "code",
   "execution_count": 135,
   "id": "66ccf1e3-c76c-4bfc-b845-fdb8fb6c7e34",
   "metadata": {
    "execution": {
     "iopub.execute_input": "2022-07-25T07:34:32.603534Z",
     "iopub.status.busy": "2022-07-25T07:34:32.603054Z",
     "iopub.status.idle": "2022-07-25T07:34:32.635601Z",
     "shell.execute_reply": "2022-07-25T07:34:32.634809Z",
     "shell.execute_reply.started": "2022-07-25T07:34:32.603474Z"
    },
    "tags": []
   },
   "outputs": [],
   "source": [
    "inputs = keras.Input(shape=(original_dim,))\n",
    "h = layers.Dense(intermediate_dim, activation='relu')(inputs)\n",
    "z_mean = layers.Dense(latent_dim)(h)\n",
    "z_log_sigma = layers.Dense(latent_dim)(h)"
   ]
  },
  {
   "cell_type": "markdown",
   "id": "25e73b01-91ad-4eed-82b4-80c1d6b7f35a",
   "metadata": {},
   "source": [
    "We can use these parameters to sample new similar points from the latent space:"
   ]
  },
  {
   "cell_type": "code",
   "execution_count": 136,
   "id": "83d7bf74-e55a-4cdd-9b26-542e2742126c",
   "metadata": {
    "execution": {
     "iopub.execute_input": "2022-07-25T07:34:33.593782Z",
     "iopub.status.busy": "2022-07-25T07:34:33.593290Z",
     "iopub.status.idle": "2022-07-25T07:34:33.617370Z",
     "shell.execute_reply": "2022-07-25T07:34:33.616153Z",
     "shell.execute_reply.started": "2022-07-25T07:34:33.593710Z"
    },
    "tags": []
   },
   "outputs": [],
   "source": [
    "from keras import backend as K\n",
    "\n",
    "def sampling(args):\n",
    "    z_mean, z_log_sigma = args\n",
    "    epsilon = K.random_normal(shape=(K.shape(z_mean)[0], latent_dim),\n",
    "                              mean=0., stddev=0.1)\n",
    "    return z_mean + K.exp(z_log_sigma) * epsilon\n",
    "\n",
    "z = layers.Lambda(sampling)([z_mean, z_log_sigma])"
   ]
  },
  {
   "cell_type": "markdown",
   "id": "21833c8a-edfb-403f-99b5-1d5013a533e9",
   "metadata": {},
   "source": [
    "Finally, we can map these sampled latent points back to reconstructed inputs:"
   ]
  },
  {
   "cell_type": "code",
   "execution_count": 137,
   "id": "234e41b0-70a9-42cd-8429-4d8f91f66e90",
   "metadata": {
    "execution": {
     "iopub.execute_input": "2022-07-25T07:34:34.448562Z",
     "iopub.status.busy": "2022-07-25T07:34:34.447938Z",
     "iopub.status.idle": "2022-07-25T07:34:34.502782Z",
     "shell.execute_reply": "2022-07-25T07:34:34.501560Z",
     "shell.execute_reply.started": "2022-07-25T07:34:34.448499Z"
    },
    "tags": []
   },
   "outputs": [],
   "source": [
    "encoder = keras.Model(inputs, [z_mean, z_log_sigma, z], name='encoder')\n",
    "\n",
    "# Create decoder\n",
    "latent_inputs = keras.Input(shape=(latent_dim,), name='z_sampling')\n",
    "x = layers.Dense(intermediate_dim, activation='relu')(latent_inputs)\n",
    "outputs = layers.Dense(original_dim, activation='sigmoid')(x)\n",
    "decoder = keras.Model(latent_inputs, outputs, name='decoder')\n",
    "\n",
    "# instantiate VAE model\n",
    "outputs = decoder(encoder(inputs)[2])\n",
    "vae = keras.Model(inputs, outputs, name='vae_mlp')"
   ]
  },
  {
   "cell_type": "markdown",
   "id": "11e92baf-b40a-4057-b1fb-9dbfa849f261",
   "metadata": {},
   "source": [
    "What we've done so far allows us to instantiate 3 models:\n",
    "\n",
    "- an end-to-end autoencoder mapping inputs to reconstructions\n",
    "- an encoder mapping inputs to the latent space\n",
    "- a generator that can take points on the latent space and will output the corresponding reconstructed samples.\n",
    "\n",
    "\n",
    "We train the model using the end-to-end model, with a custom loss function: the sum of a reconstruction term, and the KL divergence regularization term.\n",
    "\n"
   ]
  },
  {
   "cell_type": "code",
   "execution_count": 138,
   "id": "09ef2267-af30-4bf7-b98a-2c3527dcc9d4",
   "metadata": {
    "execution": {
     "iopub.execute_input": "2022-07-25T07:34:38.834678Z",
     "iopub.status.busy": "2022-07-25T07:34:38.834185Z",
     "iopub.status.idle": "2022-07-25T07:34:38.842049Z",
     "shell.execute_reply": "2022-07-25T07:34:38.840301Z",
     "shell.execute_reply.started": "2022-07-25T07:34:38.834616Z"
    },
    "tags": []
   },
   "outputs": [],
   "source": [
    "import tensorflow as tf\n",
    "mape = tf.keras.losses.MeanAbsolutePercentageError()"
   ]
  },
  {
   "cell_type": "code",
   "execution_count": 139,
   "id": "c1de4594-6092-4327-85a5-872a48dfc0aa",
   "metadata": {
    "execution": {
     "iopub.execute_input": "2022-07-25T07:34:39.246943Z",
     "iopub.status.busy": "2022-07-25T07:34:39.246445Z",
     "iopub.status.idle": "2022-07-25T07:34:39.302397Z",
     "shell.execute_reply": "2022-07-25T07:34:39.301678Z",
     "shell.execute_reply.started": "2022-07-25T07:34:39.246882Z"
    },
    "tags": []
   },
   "outputs": [],
   "source": [
    "reconstruction_loss = keras.losses.binary_crossentropy(inputs, outputs)\n",
    "reconstruction_loss *= original_dim\n",
    "kl_loss = 1 + z_log_sigma - K.square(z_mean) - K.exp(z_log_sigma)\n",
    "kl_loss = K.sum(kl_loss, axis=-1)\n",
    "kl_loss *= -0.5\n",
    "vae_loss = K.mean(reconstruction_loss + kl_loss)\n",
    "vae.add_loss(vae_loss)\n",
    "vae.compile(optimizer='adam')"
   ]
  },
  {
   "cell_type": "code",
   "execution_count": 143,
   "id": "b2d193c0-c6ed-4136-9c64-ddcf78d13579",
   "metadata": {
    "execution": {
     "iopub.execute_input": "2022-07-25T07:34:42.487342Z",
     "iopub.status.busy": "2022-07-25T07:34:42.486700Z",
     "iopub.status.idle": "2022-07-25T07:34:56.423751Z",
     "shell.execute_reply": "2022-07-25T07:34:56.422709Z",
     "shell.execute_reply.started": "2022-07-25T07:34:42.487279Z"
    },
    "tags": []
   },
   "outputs": [
    {
     "name": "stdout",
     "output_type": "stream",
     "text": [
      "Epoch 1/100\n",
      " 1889/15726 [==>...........................] - ETA: 1:36 - loss: nan"
     ]
    },
    {
     "ename": "KeyboardInterrupt",
     "evalue": "",
     "output_type": "error",
     "traceback": [
      "\u001b[0;31m---------------------------------------------------------------------------\u001b[0m",
      "\u001b[0;31mKeyboardInterrupt\u001b[0m                         Traceback (most recent call last)",
      "\u001b[0;32m/tmp/ipykernel_3905145/2422512283.py\u001b[0m in \u001b[0;36m<module>\u001b[0;34m\u001b[0m\n\u001b[0;32m----> 1\u001b[0;31m vae.fit(X_train, X_train,\n\u001b[0m\u001b[1;32m      2\u001b[0m         \u001b[0mepochs\u001b[0m\u001b[0;34m=\u001b[0m\u001b[0;36m100\u001b[0m\u001b[0;34m,\u001b[0m\u001b[0;34m\u001b[0m\u001b[0;34m\u001b[0m\u001b[0m\n\u001b[1;32m      3\u001b[0m         \u001b[0mbatch_size\u001b[0m\u001b[0;34m=\u001b[0m\u001b[0;36m32\u001b[0m\u001b[0;34m,\u001b[0m\u001b[0;34m\u001b[0m\u001b[0;34m\u001b[0m\u001b[0m\n\u001b[1;32m      4\u001b[0m \u001b[0;34m\u001b[0m\u001b[0m\n\u001b[1;32m      5\u001b[0m         validation_data=(X_val, X_val))\n",
      "\u001b[0;32m/opt/anaconda3/envs/neuralnets/lib/python3.9/site-packages/keras/utils/traceback_utils.py\u001b[0m in \u001b[0;36merror_handler\u001b[0;34m(*args, **kwargs)\u001b[0m\n\u001b[1;32m     62\u001b[0m     \u001b[0mfiltered_tb\u001b[0m \u001b[0;34m=\u001b[0m \u001b[0;32mNone\u001b[0m\u001b[0;34m\u001b[0m\u001b[0;34m\u001b[0m\u001b[0m\n\u001b[1;32m     63\u001b[0m     \u001b[0;32mtry\u001b[0m\u001b[0;34m:\u001b[0m\u001b[0;34m\u001b[0m\u001b[0;34m\u001b[0m\u001b[0m\n\u001b[0;32m---> 64\u001b[0;31m       \u001b[0;32mreturn\u001b[0m \u001b[0mfn\u001b[0m\u001b[0;34m(\u001b[0m\u001b[0;34m*\u001b[0m\u001b[0margs\u001b[0m\u001b[0;34m,\u001b[0m \u001b[0;34m**\u001b[0m\u001b[0mkwargs\u001b[0m\u001b[0;34m)\u001b[0m\u001b[0;34m\u001b[0m\u001b[0;34m\u001b[0m\u001b[0m\n\u001b[0m\u001b[1;32m     65\u001b[0m     \u001b[0;32mexcept\u001b[0m \u001b[0mException\u001b[0m \u001b[0;32mas\u001b[0m \u001b[0me\u001b[0m\u001b[0;34m:\u001b[0m  \u001b[0;31m# pylint: disable=broad-except\u001b[0m\u001b[0;34m\u001b[0m\u001b[0;34m\u001b[0m\u001b[0m\n\u001b[1;32m     66\u001b[0m       \u001b[0mfiltered_tb\u001b[0m \u001b[0;34m=\u001b[0m \u001b[0m_process_traceback_frames\u001b[0m\u001b[0;34m(\u001b[0m\u001b[0me\u001b[0m\u001b[0;34m.\u001b[0m\u001b[0m__traceback__\u001b[0m\u001b[0;34m)\u001b[0m\u001b[0;34m\u001b[0m\u001b[0;34m\u001b[0m\u001b[0m\n",
      "\u001b[0;32m/opt/anaconda3/envs/neuralnets/lib/python3.9/site-packages/keras/engine/training.py\u001b[0m in \u001b[0;36mfit\u001b[0;34m(self, x, y, batch_size, epochs, verbose, callbacks, validation_split, validation_data, shuffle, class_weight, sample_weight, initial_epoch, steps_per_epoch, validation_steps, validation_batch_size, validation_freq, max_queue_size, workers, use_multiprocessing)\u001b[0m\n\u001b[1;32m   1382\u001b[0m                 _r=1):\n\u001b[1;32m   1383\u001b[0m               \u001b[0mcallbacks\u001b[0m\u001b[0;34m.\u001b[0m\u001b[0mon_train_batch_begin\u001b[0m\u001b[0;34m(\u001b[0m\u001b[0mstep\u001b[0m\u001b[0;34m)\u001b[0m\u001b[0;34m\u001b[0m\u001b[0;34m\u001b[0m\u001b[0m\n\u001b[0;32m-> 1384\u001b[0;31m               \u001b[0mtmp_logs\u001b[0m \u001b[0;34m=\u001b[0m \u001b[0mself\u001b[0m\u001b[0;34m.\u001b[0m\u001b[0mtrain_function\u001b[0m\u001b[0;34m(\u001b[0m\u001b[0miterator\u001b[0m\u001b[0;34m)\u001b[0m\u001b[0;34m\u001b[0m\u001b[0;34m\u001b[0m\u001b[0m\n\u001b[0m\u001b[1;32m   1385\u001b[0m               \u001b[0;32mif\u001b[0m \u001b[0mdata_handler\u001b[0m\u001b[0;34m.\u001b[0m\u001b[0mshould_sync\u001b[0m\u001b[0;34m:\u001b[0m\u001b[0;34m\u001b[0m\u001b[0;34m\u001b[0m\u001b[0m\n\u001b[1;32m   1386\u001b[0m                 \u001b[0mcontext\u001b[0m\u001b[0;34m.\u001b[0m\u001b[0masync_wait\u001b[0m\u001b[0;34m(\u001b[0m\u001b[0;34m)\u001b[0m\u001b[0;34m\u001b[0m\u001b[0;34m\u001b[0m\u001b[0m\n",
      "\u001b[0;32m/opt/anaconda3/envs/neuralnets/lib/python3.9/site-packages/tensorflow/python/util/traceback_utils.py\u001b[0m in \u001b[0;36merror_handler\u001b[0;34m(*args, **kwargs)\u001b[0m\n\u001b[1;32m    148\u001b[0m     \u001b[0mfiltered_tb\u001b[0m \u001b[0;34m=\u001b[0m \u001b[0;32mNone\u001b[0m\u001b[0;34m\u001b[0m\u001b[0;34m\u001b[0m\u001b[0m\n\u001b[1;32m    149\u001b[0m     \u001b[0;32mtry\u001b[0m\u001b[0;34m:\u001b[0m\u001b[0;34m\u001b[0m\u001b[0;34m\u001b[0m\u001b[0m\n\u001b[0;32m--> 150\u001b[0;31m       \u001b[0;32mreturn\u001b[0m \u001b[0mfn\u001b[0m\u001b[0;34m(\u001b[0m\u001b[0;34m*\u001b[0m\u001b[0margs\u001b[0m\u001b[0;34m,\u001b[0m \u001b[0;34m**\u001b[0m\u001b[0mkwargs\u001b[0m\u001b[0;34m)\u001b[0m\u001b[0;34m\u001b[0m\u001b[0;34m\u001b[0m\u001b[0m\n\u001b[0m\u001b[1;32m    151\u001b[0m     \u001b[0;32mexcept\u001b[0m \u001b[0mException\u001b[0m \u001b[0;32mas\u001b[0m \u001b[0me\u001b[0m\u001b[0;34m:\u001b[0m\u001b[0;34m\u001b[0m\u001b[0;34m\u001b[0m\u001b[0m\n\u001b[1;32m    152\u001b[0m       \u001b[0mfiltered_tb\u001b[0m \u001b[0;34m=\u001b[0m \u001b[0m_process_traceback_frames\u001b[0m\u001b[0;34m(\u001b[0m\u001b[0me\u001b[0m\u001b[0;34m.\u001b[0m\u001b[0m__traceback__\u001b[0m\u001b[0;34m)\u001b[0m\u001b[0;34m\u001b[0m\u001b[0;34m\u001b[0m\u001b[0m\n",
      "\u001b[0;32m/opt/anaconda3/envs/neuralnets/lib/python3.9/site-packages/tensorflow/python/eager/def_function.py\u001b[0m in \u001b[0;36m__call__\u001b[0;34m(self, *args, **kwds)\u001b[0m\n\u001b[1;32m    913\u001b[0m \u001b[0;34m\u001b[0m\u001b[0m\n\u001b[1;32m    914\u001b[0m       \u001b[0;32mwith\u001b[0m \u001b[0mOptionalXlaContext\u001b[0m\u001b[0;34m(\u001b[0m\u001b[0mself\u001b[0m\u001b[0;34m.\u001b[0m\u001b[0m_jit_compile\u001b[0m\u001b[0;34m)\u001b[0m\u001b[0;34m:\u001b[0m\u001b[0;34m\u001b[0m\u001b[0;34m\u001b[0m\u001b[0m\n\u001b[0;32m--> 915\u001b[0;31m         \u001b[0mresult\u001b[0m \u001b[0;34m=\u001b[0m \u001b[0mself\u001b[0m\u001b[0;34m.\u001b[0m\u001b[0m_call\u001b[0m\u001b[0;34m(\u001b[0m\u001b[0;34m*\u001b[0m\u001b[0margs\u001b[0m\u001b[0;34m,\u001b[0m \u001b[0;34m**\u001b[0m\u001b[0mkwds\u001b[0m\u001b[0;34m)\u001b[0m\u001b[0;34m\u001b[0m\u001b[0;34m\u001b[0m\u001b[0m\n\u001b[0m\u001b[1;32m    916\u001b[0m \u001b[0;34m\u001b[0m\u001b[0m\n\u001b[1;32m    917\u001b[0m       \u001b[0mnew_tracing_count\u001b[0m \u001b[0;34m=\u001b[0m \u001b[0mself\u001b[0m\u001b[0;34m.\u001b[0m\u001b[0mexperimental_get_tracing_count\u001b[0m\u001b[0;34m(\u001b[0m\u001b[0;34m)\u001b[0m\u001b[0;34m\u001b[0m\u001b[0;34m\u001b[0m\u001b[0m\n",
      "\u001b[0;32m/opt/anaconda3/envs/neuralnets/lib/python3.9/site-packages/tensorflow/python/eager/def_function.py\u001b[0m in \u001b[0;36m_call\u001b[0;34m(self, *args, **kwds)\u001b[0m\n\u001b[1;32m    945\u001b[0m       \u001b[0;31m# In this case we have created variables on the first call, so we run the\u001b[0m\u001b[0;34m\u001b[0m\u001b[0;34m\u001b[0m\u001b[0m\n\u001b[1;32m    946\u001b[0m       \u001b[0;31m# defunned version which is guaranteed to never create variables.\u001b[0m\u001b[0;34m\u001b[0m\u001b[0;34m\u001b[0m\u001b[0m\n\u001b[0;32m--> 947\u001b[0;31m       \u001b[0;32mreturn\u001b[0m \u001b[0mself\u001b[0m\u001b[0;34m.\u001b[0m\u001b[0m_stateless_fn\u001b[0m\u001b[0;34m(\u001b[0m\u001b[0;34m*\u001b[0m\u001b[0margs\u001b[0m\u001b[0;34m,\u001b[0m \u001b[0;34m**\u001b[0m\u001b[0mkwds\u001b[0m\u001b[0;34m)\u001b[0m  \u001b[0;31m# pylint: disable=not-callable\u001b[0m\u001b[0;34m\u001b[0m\u001b[0;34m\u001b[0m\u001b[0m\n\u001b[0m\u001b[1;32m    948\u001b[0m     \u001b[0;32melif\u001b[0m \u001b[0mself\u001b[0m\u001b[0;34m.\u001b[0m\u001b[0m_stateful_fn\u001b[0m \u001b[0;32mis\u001b[0m \u001b[0;32mnot\u001b[0m \u001b[0;32mNone\u001b[0m\u001b[0;34m:\u001b[0m\u001b[0;34m\u001b[0m\u001b[0;34m\u001b[0m\u001b[0m\n\u001b[1;32m    949\u001b[0m       \u001b[0;31m# Release the lock early so that multiple threads can perform the call\u001b[0m\u001b[0;34m\u001b[0m\u001b[0;34m\u001b[0m\u001b[0m\n",
      "\u001b[0;32m/opt/anaconda3/envs/neuralnets/lib/python3.9/site-packages/tensorflow/python/eager/function.py\u001b[0m in \u001b[0;36m__call__\u001b[0;34m(self, *args, **kwargs)\u001b[0m\n\u001b[1;32m   2954\u001b[0m       (graph_function,\n\u001b[1;32m   2955\u001b[0m        filtered_flat_args) = self._maybe_define_function(args, kwargs)\n\u001b[0;32m-> 2956\u001b[0;31m     return graph_function._call_flat(\n\u001b[0m\u001b[1;32m   2957\u001b[0m         filtered_flat_args, captured_inputs=graph_function.captured_inputs)  # pylint: disable=protected-access\n\u001b[1;32m   2958\u001b[0m \u001b[0;34m\u001b[0m\u001b[0m\n",
      "\u001b[0;32m/opt/anaconda3/envs/neuralnets/lib/python3.9/site-packages/tensorflow/python/eager/function.py\u001b[0m in \u001b[0;36m_call_flat\u001b[0;34m(self, args, captured_inputs, cancellation_manager)\u001b[0m\n\u001b[1;32m   1851\u001b[0m         and executing_eagerly):\n\u001b[1;32m   1852\u001b[0m       \u001b[0;31m# No tape is watching; skip to running the function.\u001b[0m\u001b[0;34m\u001b[0m\u001b[0;34m\u001b[0m\u001b[0m\n\u001b[0;32m-> 1853\u001b[0;31m       return self._build_call_outputs(self._inference_function.call(\n\u001b[0m\u001b[1;32m   1854\u001b[0m           ctx, args, cancellation_manager=cancellation_manager))\n\u001b[1;32m   1855\u001b[0m     forward_backward = self._select_forward_and_backward_functions(\n",
      "\u001b[0;32m/opt/anaconda3/envs/neuralnets/lib/python3.9/site-packages/tensorflow/python/eager/function.py\u001b[0m in \u001b[0;36mcall\u001b[0;34m(self, ctx, args, cancellation_manager)\u001b[0m\n\u001b[1;32m    497\u001b[0m       \u001b[0;32mwith\u001b[0m \u001b[0m_InterpolateFunctionError\u001b[0m\u001b[0;34m(\u001b[0m\u001b[0mself\u001b[0m\u001b[0;34m)\u001b[0m\u001b[0;34m:\u001b[0m\u001b[0;34m\u001b[0m\u001b[0;34m\u001b[0m\u001b[0m\n\u001b[1;32m    498\u001b[0m         \u001b[0;32mif\u001b[0m \u001b[0mcancellation_manager\u001b[0m \u001b[0;32mis\u001b[0m \u001b[0;32mNone\u001b[0m\u001b[0;34m:\u001b[0m\u001b[0;34m\u001b[0m\u001b[0;34m\u001b[0m\u001b[0m\n\u001b[0;32m--> 499\u001b[0;31m           outputs = execute.execute(\n\u001b[0m\u001b[1;32m    500\u001b[0m               \u001b[0mstr\u001b[0m\u001b[0;34m(\u001b[0m\u001b[0mself\u001b[0m\u001b[0;34m.\u001b[0m\u001b[0msignature\u001b[0m\u001b[0;34m.\u001b[0m\u001b[0mname\u001b[0m\u001b[0;34m)\u001b[0m\u001b[0;34m,\u001b[0m\u001b[0;34m\u001b[0m\u001b[0;34m\u001b[0m\u001b[0m\n\u001b[1;32m    501\u001b[0m               \u001b[0mnum_outputs\u001b[0m\u001b[0;34m=\u001b[0m\u001b[0mself\u001b[0m\u001b[0;34m.\u001b[0m\u001b[0m_num_outputs\u001b[0m\u001b[0;34m,\u001b[0m\u001b[0;34m\u001b[0m\u001b[0;34m\u001b[0m\u001b[0m\n",
      "\u001b[0;32m/opt/anaconda3/envs/neuralnets/lib/python3.9/site-packages/tensorflow/python/eager/execute.py\u001b[0m in \u001b[0;36mquick_execute\u001b[0;34m(op_name, num_outputs, inputs, attrs, ctx, name)\u001b[0m\n\u001b[1;32m     52\u001b[0m   \u001b[0;32mtry\u001b[0m\u001b[0;34m:\u001b[0m\u001b[0;34m\u001b[0m\u001b[0;34m\u001b[0m\u001b[0m\n\u001b[1;32m     53\u001b[0m     \u001b[0mctx\u001b[0m\u001b[0;34m.\u001b[0m\u001b[0mensure_initialized\u001b[0m\u001b[0;34m(\u001b[0m\u001b[0;34m)\u001b[0m\u001b[0;34m\u001b[0m\u001b[0;34m\u001b[0m\u001b[0m\n\u001b[0;32m---> 54\u001b[0;31m     tensors = pywrap_tfe.TFE_Py_Execute(ctx._handle, device_name, op_name,\n\u001b[0m\u001b[1;32m     55\u001b[0m                                         inputs, attrs, num_outputs)\n\u001b[1;32m     56\u001b[0m   \u001b[0;32mexcept\u001b[0m \u001b[0mcore\u001b[0m\u001b[0;34m.\u001b[0m\u001b[0m_NotOkStatusException\u001b[0m \u001b[0;32mas\u001b[0m \u001b[0me\u001b[0m\u001b[0;34m:\u001b[0m\u001b[0;34m\u001b[0m\u001b[0;34m\u001b[0m\u001b[0m\n",
      "\u001b[0;31mKeyboardInterrupt\u001b[0m: "
     ]
    }
   ],
   "source": [
    "vae.fit(X_train, X_train,\n",
    "        epochs=100,\n",
    "        batch_size=32,\n",
    "        \n",
    "        validation_data=(X_val, X_val))"
   ]
  },
  {
   "cell_type": "markdown",
   "id": "2aeafe0d-6493-4d46-89e1-b6be20e6f548",
   "metadata": {
    "tags": []
   },
   "source": [
    "## EDA"
   ]
  },
  {
   "cell_type": "code",
   "execution_count": null,
   "id": "60f69ed3-6f71-451d-a41b-c31a060b9705",
   "metadata": {
    "execution": {
     "iopub.status.busy": "2022-07-26T08:18:42.579491Z",
     "iopub.status.idle": "2022-07-26T08:18:42.579663Z",
     "shell.execute_reply": "2022-07-26T08:18:42.579580Z",
     "shell.execute_reply.started": "2022-07-26T08:18:42.579571Z"
    },
    "tags": []
   },
   "outputs": [],
   "source": [
    "set(job_agg_sensor_df.columns.get_level_values(0))"
   ]
  },
  {
   "cell_type": "markdown",
   "id": "703f2b8c-1b58-4181-b244-43152cb68dda",
   "metadata": {
    "jp-MarkdownHeadingCollapsed": true,
    "tags": []
   },
   "source": [
    "### GPU WORK MEM"
   ]
  },
  {
   "cell_type": "code",
   "execution_count": 46,
   "id": "0b4f507f-1b96-415b-96f9-1af36568fa82",
   "metadata": {
    "execution": {
     "iopub.execute_input": "2022-07-25T08:42:20.564154Z",
     "iopub.status.busy": "2022-07-25T08:42:20.563619Z",
     "iopub.status.idle": "2022-07-25T08:42:22.176508Z",
     "shell.execute_reply": "2022-07-25T08:42:22.175867Z",
     "shell.execute_reply.started": "2022-07-25T08:42:20.564092Z"
    },
    "tags": []
   },
   "outputs": [
    {
     "data": {
      "image/png": "[encoded data removed]",
      "text/plain": [
       "<Figure size 1440x720 with 1 Axes>"
      ]
     },
     "metadata": {
      "needs_background": "light"
     },
     "output_type": "display_data"
    }
   ],
   "source": [
    "ax = job_agg_sensor_df[:503207]['avg_gpu_wrk_mem'].boxplot(figsize=(20,10), fontsize=20, return_type='axes')\n",
    "\n",
    "ax.set_ylim(0, 4)\n",
    "plt.show()"
   ]
  },
  {
   "cell_type": "markdown",
   "id": "b49cef25-c0ee-49d1-9ab9-e8ea46c05380",
   "metadata": {
    "jp-MarkdownHeadingCollapsed": true,
    "tags": []
   },
   "source": [
    "### GPU WRK UTIL"
   ]
  },
  {
   "cell_type": "code",
   "execution_count": 48,
   "id": "84b3e29b-f29d-4865-b7a2-3df0ad16d31b",
   "metadata": {
    "execution": {
     "iopub.execute_input": "2022-07-25T08:43:09.151660Z",
     "iopub.status.busy": "2022-07-25T08:43:09.150979Z",
     "iopub.status.idle": "2022-07-25T08:43:10.720665Z",
     "shell.execute_reply": "2022-07-25T08:43:10.720148Z",
     "shell.execute_reply.started": "2022-07-25T08:43:09.151596Z"
    },
    "tags": []
   },
   "outputs": [
    {
     "data": {
      "image/png": "[encoded data removed]",
      "text/plain": [
       "<Figure size 1440x720 with 1 Axes>"
      ]
     },
     "metadata": {
      "needs_background": "light"
     },
     "output_type": "display_data"
    }
   ],
   "source": [
    "ax = job_agg_sensor_df[:503207]['gpu_wrk_util'].boxplot(figsize=(20,10), fontsize=20, return_type='axes')\n",
    "\n",
    "ax.set_ylim(0, 20)\n",
    "plt.show()"
   ]
  },
  {
   "cell_type": "markdown",
   "id": "7452568e-08f2-4508-9519-36e6d3b8ea52",
   "metadata": {
    "jp-MarkdownHeadingCollapsed": true,
    "tags": []
   },
   "source": [
    "### CPU USAGE"
   ]
  },
  {
   "cell_type": "code",
   "execution_count": 39,
   "id": "83f5bc25-2780-4f61-a3de-a415652e6106",
   "metadata": {
    "execution": {
     "iopub.execute_input": "2022-07-25T08:38:40.477104Z",
     "iopub.status.busy": "2022-07-25T08:38:40.476577Z",
     "iopub.status.idle": "2022-07-25T08:38:42.039749Z",
     "shell.execute_reply": "2022-07-25T08:38:42.039234Z",
     "shell.execute_reply.started": "2022-07-25T08:38:40.477041Z"
    },
    "tags": []
   },
   "outputs": [
    {
     "data": {
      "image/png": "[encoded data removed]",
      "text/plain": [
       "<Figure size 1440x720 with 1 Axes>"
      ]
     },
     "metadata": {
      "needs_background": "light"
     },
     "output_type": "display_data"
    }
   ],
   "source": [
    "ax = job_agg_sensor_df[:503207]['cpu_usage'].boxplot(figsize=(20,10), fontsize=20, return_type='axes')\n",
    "\n",
    "ax.set_ylim(0, 500)\n",
    "plt.show()"
   ]
  },
  {
   "cell_type": "code",
   "execution_count": null,
   "id": "7201e12b-c4e1-4605-9922-bc4ca03b09d1",
   "metadata": {},
   "outputs": [],
   "source": []
  },
  {
   "cell_type": "markdown",
   "id": "ea7b45d4-8305-4cc2-800f-559758924217",
   "metadata": {
    "jp-MarkdownHeadingCollapsed": true,
    "tags": []
   },
   "source": [
    "## Variational autoencoders"
   ]
  },
  {
   "cell_type": "code",
   "execution_count": null,
   "id": "0d644d6b-e0d2-41c2-989b-7922d1d6f255",
   "metadata": {
    "execution": {
     "iopub.status.busy": "2022-07-26T08:12:28.232837Z",
     "iopub.status.idle": "2022-07-26T08:12:28.233288Z",
     "shell.execute_reply": "2022-07-26T08:12:28.233094Z",
     "shell.execute_reply.started": "2022-07-26T08:12:28.233055Z"
    },
    "tags": []
   },
   "outputs": [],
   "source": [
    "job_agg_sensor_df = sensor_df.groupby('job_name').agg([('mean', 'mean'), ('min', 'min'), ('max', 'max'), ('q95', percentile(95))])"
   ]
  },
  {
   "cell_type": "code",
   "execution_count": null,
   "id": "24d7dc93-100e-44a9-a10c-6cb990bfc68d",
   "metadata": {
    "execution": {
     "iopub.status.busy": "2022-07-26T08:12:28.234820Z",
     "iopub.status.idle": "2022-07-26T08:12:28.235343Z",
     "shell.execute_reply": "2022-07-26T08:12:28.235133Z",
     "shell.execute_reply.started": "2022-07-26T08:12:28.235108Z"
    },
    "tags": []
   },
   "outputs": [],
   "source": [
    "job_agg_sensor_df.fillna(0, inplace=True)"
   ]
  },
  {
   "cell_type": "code",
   "execution_count": null,
   "id": "ca64cee5-f9cc-4670-ab5f-7cf58e962091",
   "metadata": {
    "execution": {
     "iopub.status.busy": "2022-07-26T08:12:28.237346Z",
     "iopub.status.idle": "2022-07-26T08:12:28.237832Z",
     "shell.execute_reply": "2022-07-26T08:12:28.237622Z",
     "shell.execute_reply.started": "2022-07-26T08:12:28.237598Z"
    },
    "tags": []
   },
   "outputs": [],
   "source": [
    "job_agg_sensor_df"
   ]
  },
  {
   "cell_type": "code",
   "execution_count": null,
   "id": "36821860-7cd9-448b-9b7e-bc46c1391516",
   "metadata": {
    "execution": {
     "iopub.status.busy": "2022-07-26T08:12:28.241975Z",
     "iopub.status.idle": "2022-07-26T08:12:28.242532Z",
     "shell.execute_reply": "2022-07-26T08:12:28.242322Z",
     "shell.execute_reply.started": "2022-07-26T08:12:28.242299Z"
    },
    "tags": []
   },
   "outputs": [],
   "source": [
    "std_scale = StandardScaler()"
   ]
  },
  {
   "cell_type": "code",
   "execution_count": null,
   "id": "79ec90bd-a029-4c32-8e4e-5fa72f234e11",
   "metadata": {
    "execution": {
     "iopub.status.busy": "2022-07-26T08:12:28.243869Z",
     "iopub.status.idle": "2022-07-26T08:12:28.244351Z",
     "shell.execute_reply": "2022-07-26T08:12:28.244224Z",
     "shell.execute_reply.started": "2022-07-26T08:12:28.244208Z"
    },
    "tags": []
   },
   "outputs": [],
   "source": [
    "X = std_scale.fit_transform(job_agg_sensor_df)"
   ]
  },
  {
   "cell_type": "code",
   "execution_count": null,
   "id": "d46f4837-601c-48e3-a876-220bf8f75215",
   "metadata": {
    "execution": {
     "iopub.status.busy": "2022-07-26T08:12:28.245101Z",
     "iopub.status.idle": "2022-07-26T08:12:28.245340Z",
     "shell.execute_reply": "2022-07-26T08:12:28.245224Z",
     "shell.execute_reply.started": "2022-07-26T08:12:28.245211Z"
    },
    "tags": []
   },
   "outputs": [],
   "source": [
    "from sklearn.model_selection import train_test_split"
   ]
  },
  {
   "cell_type": "code",
   "execution_count": null,
   "id": "583c5983-e1ef-4e86-a9c6-dc10806244dd",
   "metadata": {
    "execution": {
     "iopub.status.busy": "2022-07-26T08:12:28.246429Z",
     "iopub.status.idle": "2022-07-26T08:12:28.246671Z",
     "shell.execute_reply": "2022-07-26T08:12:28.246549Z",
     "shell.execute_reply.started": "2022-07-26T08:12:28.246536Z"
    },
    "tags": []
   },
   "outputs": [],
   "source": [
    "X_train, X_test = train_test_split(X, test_size=0.2, random_state=1)\n",
    "\n",
    "X_train, X_val = train_test_split(X_train, test_size=0.25, random_state=1) # 0.25 x 0.8 = 0.2\n"
   ]
  },
  {
   "cell_type": "code",
   "execution_count": null,
   "id": "b7ccb862-6a42-4e7c-8af8-b5e855ccedb1",
   "metadata": {
    "execution": {
     "iopub.status.busy": "2022-07-26T08:12:28.247825Z",
     "iopub.status.idle": "2022-07-26T08:12:28.248073Z",
     "shell.execute_reply": "2022-07-26T08:12:28.247954Z",
     "shell.execute_reply.started": "2022-07-26T08:12:28.247941Z"
    },
    "tags": []
   },
   "outputs": [],
   "source": [
    "(X_train.shape, X_val.shape, X_test.shape)"
   ]
  },
  {
   "cell_type": "code",
   "execution_count": 133,
   "id": "5fafc509-0239-4176-afa6-3ac3f98ca576",
   "metadata": {
    "execution": {
     "iopub.execute_input": "2022-07-25T07:34:31.814972Z",
     "iopub.status.busy": "2022-07-25T07:34:31.814469Z",
     "iopub.status.idle": "2022-07-25T07:34:31.821745Z",
     "shell.execute_reply": "2022-07-25T07:34:31.820160Z",
     "shell.execute_reply.started": "2022-07-25T07:34:31.814910Z"
    },
    "tags": []
   },
   "outputs": [],
   "source": [
    "import keras\n",
    "from keras import layers"
   ]
  },
  {
   "cell_type": "code",
   "execution_count": 134,
   "id": "210df861-dfbb-4ca5-9ecd-f91eed7fad46",
   "metadata": {
    "execution": {
     "iopub.execute_input": "2022-07-25T07:34:32.243423Z",
     "iopub.status.busy": "2022-07-25T07:34:32.242802Z",
     "iopub.status.idle": "2022-07-25T07:34:32.250317Z",
     "shell.execute_reply": "2022-07-25T07:34:32.248782Z",
     "shell.execute_reply.started": "2022-07-25T07:34:32.243360Z"
    },
    "tags": []
   },
   "outputs": [],
   "source": [
    "original_dim = X.shape[1]\n",
    "intermediate_dim = 25\n",
    "latent_dim = 3"
   ]
  },
  {
   "cell_type": "code",
   "execution_count": 135,
   "id": "0be4ec1f-10af-446d-8329-6a24cf945c7d",
   "metadata": {
    "execution": {
     "iopub.execute_input": "2022-07-25T07:34:32.603534Z",
     "iopub.status.busy": "2022-07-25T07:34:32.603054Z",
     "iopub.status.idle": "2022-07-25T07:34:32.635601Z",
     "shell.execute_reply": "2022-07-25T07:34:32.634809Z",
     "shell.execute_reply.started": "2022-07-25T07:34:32.603474Z"
    },
    "tags": []
   },
   "outputs": [],
   "source": [
    "inputs = keras.Input(shape=(original_dim,))\n",
    "h = layers.Dense(intermediate_dim, activation='relu')(inputs)\n",
    "z_mean = layers.Dense(latent_dim)(h)\n",
    "z_log_sigma = layers.Dense(latent_dim)(h)"
   ]
  },
  {
   "cell_type": "markdown",
   "id": "018ed20b-10d5-4005-a0a4-3fad59792d25",
   "metadata": {},
   "source": [
    "We can use these parameters to sample new similar points from the latent space:"
   ]
  },
  {
   "cell_type": "code",
   "execution_count": 136,
   "id": "94f6e797-8de4-4803-9fd1-d0cee3b3e0b6",
   "metadata": {
    "execution": {
     "iopub.execute_input": "2022-07-25T07:34:33.593782Z",
     "iopub.status.busy": "2022-07-25T07:34:33.593290Z",
     "iopub.status.idle": "2022-07-25T07:34:33.617370Z",
     "shell.execute_reply": "2022-07-25T07:34:33.616153Z",
     "shell.execute_reply.started": "2022-07-25T07:34:33.593710Z"
    },
    "tags": []
   },
   "outputs": [],
   "source": [
    "from keras import backend as K\n",
    "\n",
    "def sampling(args):\n",
    "    z_mean, z_log_sigma = args\n",
    "    epsilon = K.random_normal(shape=(K.shape(z_mean)[0], latent_dim),\n",
    "                              mean=0., stddev=0.1)\n",
    "    return z_mean + K.exp(z_log_sigma) * epsilon\n",
    "\n",
    "z = layers.Lambda(sampling)([z_mean, z_log_sigma])"
   ]
  },
  {
   "cell_type": "markdown",
   "id": "f3d5bb86-6871-4b68-b190-6e77a2193ccf",
   "metadata": {},
   "source": [
    "Finally, we can map these sampled latent points back to reconstructed inputs:"
   ]
  },
  {
   "cell_type": "code",
   "execution_count": 137,
   "id": "9ff6fdf4-2282-4db5-8816-9849e18ef419",
   "metadata": {
    "execution": {
     "iopub.execute_input": "2022-07-25T07:34:34.448562Z",
     "iopub.status.busy": "2022-07-25T07:34:34.447938Z",
     "iopub.status.idle": "2022-07-25T07:34:34.502782Z",
     "shell.execute_reply": "2022-07-25T07:34:34.501560Z",
     "shell.execute_reply.started": "2022-07-25T07:34:34.448499Z"
    },
    "tags": []
   },
   "outputs": [],
   "source": [
    "encoder = keras.Model(inputs, [z_mean, z_log_sigma, z], name='encoder')\n",
    "\n",
    "# Create decoder\n",
    "latent_inputs = keras.Input(shape=(latent_dim,), name='z_sampling')\n",
    "x = layers.Dense(intermediate_dim, activation='relu')(latent_inputs)\n",
    "outputs = layers.Dense(original_dim, activation='sigmoid')(x)\n",
    "decoder = keras.Model(latent_inputs, outputs, name='decoder')\n",
    "\n",
    "# instantiate VAE model\n",
    "outputs = decoder(encoder(inputs)[2])\n",
    "vae = keras.Model(inputs, outputs, name='vae_mlp')"
   ]
  },
  {
   "cell_type": "markdown",
   "id": "44bec38e-a9d5-4069-b9f6-6bf296975bf5",
   "metadata": {},
   "source": [
    "What we've done so far allows us to instantiate 3 models:\n",
    "\n",
    "- an end-to-end autoencoder mapping inputs to reconstructions\n",
    "- an encoder mapping inputs to the latent space\n",
    "- a generator that can take points on the latent space and will output the corresponding reconstructed samples.\n",
    "\n",
    "\n",
    "We train the model using the end-to-end model, with a custom loss function: the sum of a reconstruction term, and the KL divergence regularization term.\n",
    "\n"
   ]
  },
  {
   "cell_type": "code",
   "execution_count": 138,
   "id": "cfa5041c-e075-4169-8e9b-02318d454040",
   "metadata": {
    "execution": {
     "iopub.execute_input": "2022-07-25T07:34:38.834678Z",
     "iopub.status.busy": "2022-07-25T07:34:38.834185Z",
     "iopub.status.idle": "2022-07-25T07:34:38.842049Z",
     "shell.execute_reply": "2022-07-25T07:34:38.840301Z",
     "shell.execute_reply.started": "2022-07-25T07:34:38.834616Z"
    },
    "tags": []
   },
   "outputs": [],
   "source": [
    "import tensorflow as tf\n",
    "mape = tf.keras.losses.MeanAbsolutePercentageError()"
   ]
  },
  {
   "cell_type": "code",
   "execution_count": 139,
   "id": "574f9b7a-84bb-4a35-bd74-83b04d0427ff",
   "metadata": {
    "execution": {
     "iopub.execute_input": "2022-07-25T07:34:39.246943Z",
     "iopub.status.busy": "2022-07-25T07:34:39.246445Z",
     "iopub.status.idle": "2022-07-25T07:34:39.302397Z",
     "shell.execute_reply": "2022-07-25T07:34:39.301678Z",
     "shell.execute_reply.started": "2022-07-25T07:34:39.246882Z"
    },
    "tags": []
   },
   "outputs": [],
   "source": [
    "reconstruction_loss = keras.losses.binary_crossentropy(inputs, outputs)\n",
    "reconstruction_loss *= original_dim\n",
    "kl_loss = 1 + z_log_sigma - K.square(z_mean) - K.exp(z_log_sigma)\n",
    "kl_loss = K.sum(kl_loss, axis=-1)\n",
    "kl_loss *= -0.5\n",
    "vae_loss = K.mean(reconstruction_loss + kl_loss)\n",
    "vae.add_loss(vae_loss)\n",
    "vae.compile(optimizer='adam')"
   ]
  },
  {
   "cell_type": "code",
   "execution_count": 143,
   "id": "596af861-10c6-4cbc-b588-21f37080a4b7",
   "metadata": {
    "execution": {
     "iopub.execute_input": "2022-07-25T07:34:42.487342Z",
     "iopub.status.busy": "2022-07-25T07:34:42.486700Z",
     "iopub.status.idle": "2022-07-25T07:34:56.423751Z",
     "shell.execute_reply": "2022-07-25T07:34:56.422709Z",
     "shell.execute_reply.started": "2022-07-25T07:34:42.487279Z"
    },
    "tags": []
   },
   "outputs": [
    {
     "name": "stdout",
     "output_type": "stream",
     "text": [
      "Epoch 1/100\n",
      " 1889/15726 [==>...........................] - ETA: 1:36 - loss: nan"
     ]
    },
    {
     "ename": "KeyboardInterrupt",
     "evalue": "",
     "output_type": "error",
     "traceback": [
      "\u001b[0;31m---------------------------------------------------------------------------\u001b[0m",
      "\u001b[0;31mKeyboardInterrupt\u001b[0m                         Traceback (most recent call last)",
      "\u001b[0;32m/tmp/ipykernel_3905145/2422512283.py\u001b[0m in \u001b[0;36m<module>\u001b[0;34m\u001b[0m\n\u001b[0;32m----> 1\u001b[0;31m vae.fit(X_train, X_train,\n\u001b[0m\u001b[1;32m      2\u001b[0m         \u001b[0mepochs\u001b[0m\u001b[0;34m=\u001b[0m\u001b[0;36m100\u001b[0m\u001b[0;34m,\u001b[0m\u001b[0;34m\u001b[0m\u001b[0;34m\u001b[0m\u001b[0m\n\u001b[1;32m      3\u001b[0m         \u001b[0mbatch_size\u001b[0m\u001b[0;34m=\u001b[0m\u001b[0;36m32\u001b[0m\u001b[0;34m,\u001b[0m\u001b[0;34m\u001b[0m\u001b[0;34m\u001b[0m\u001b[0m\n\u001b[1;32m      4\u001b[0m \u001b[0;34m\u001b[0m\u001b[0m\n\u001b[1;32m      5\u001b[0m         validation_data=(X_val, X_val))\n",
      "\u001b[0;32m/opt/anaconda3/envs/neuralnets/lib/python3.9/site-packages/keras/utils/traceback_utils.py\u001b[0m in \u001b[0;36merror_handler\u001b[0;34m(*args, **kwargs)\u001b[0m\n\u001b[1;32m     62\u001b[0m     \u001b[0mfiltered_tb\u001b[0m \u001b[0;34m=\u001b[0m \u001b[0;32mNone\u001b[0m\u001b[0;34m\u001b[0m\u001b[0;34m\u001b[0m\u001b[0m\n\u001b[1;32m     63\u001b[0m     \u001b[0;32mtry\u001b[0m\u001b[0;34m:\u001b[0m\u001b[0;34m\u001b[0m\u001b[0;34m\u001b[0m\u001b[0m\n\u001b[0;32m---> 64\u001b[0;31m       \u001b[0;32mreturn\u001b[0m \u001b[0mfn\u001b[0m\u001b[0;34m(\u001b[0m\u001b[0;34m*\u001b[0m\u001b[0margs\u001b[0m\u001b[0;34m,\u001b[0m \u001b[0;34m**\u001b[0m\u001b[0mkwargs\u001b[0m\u001b[0;34m)\u001b[0m\u001b[0;34m\u001b[0m\u001b[0;34m\u001b[0m\u001b[0m\n\u001b[0m\u001b[1;32m     65\u001b[0m     \u001b[0;32mexcept\u001b[0m \u001b[0mException\u001b[0m \u001b[0;32mas\u001b[0m \u001b[0me\u001b[0m\u001b[0;34m:\u001b[0m  \u001b[0;31m# pylint: disable=broad-except\u001b[0m\u001b[0;34m\u001b[0m\u001b[0;34m\u001b[0m\u001b[0m\n\u001b[1;32m     66\u001b[0m       \u001b[0mfiltered_tb\u001b[0m \u001b[0;34m=\u001b[0m \u001b[0m_process_traceback_frames\u001b[0m\u001b[0;34m(\u001b[0m\u001b[0me\u001b[0m\u001b[0;34m.\u001b[0m\u001b[0m__traceback__\u001b[0m\u001b[0;34m)\u001b[0m\u001b[0;34m\u001b[0m\u001b[0;34m\u001b[0m\u001b[0m\n",
      "\u001b[0;32m/opt/anaconda3/envs/neuralnets/lib/python3.9/site-packages/keras/engine/training.py\u001b[0m in \u001b[0;36mfit\u001b[0;34m(self, x, y, batch_size, epochs, verbose, callbacks, validation_split, validation_data, shuffle, class_weight, sample_weight, initial_epoch, steps_per_epoch, validation_steps, validation_batch_size, validation_freq, max_queue_size, workers, use_multiprocessing)\u001b[0m\n\u001b[1;32m   1382\u001b[0m                 _r=1):\n\u001b[1;32m   1383\u001b[0m               \u001b[0mcallbacks\u001b[0m\u001b[0;34m.\u001b[0m\u001b[0mon_train_batch_begin\u001b[0m\u001b[0;34m(\u001b[0m\u001b[0mstep\u001b[0m\u001b[0;34m)\u001b[0m\u001b[0;34m\u001b[0m\u001b[0;34m\u001b[0m\u001b[0m\n\u001b[0;32m-> 1384\u001b[0;31m               \u001b[0mtmp_logs\u001b[0m \u001b[0;34m=\u001b[0m \u001b[0mself\u001b[0m\u001b[0;34m.\u001b[0m\u001b[0mtrain_function\u001b[0m\u001b[0;34m(\u001b[0m\u001b[0miterator\u001b[0m\u001b[0;34m)\u001b[0m\u001b[0;34m\u001b[0m\u001b[0;34m\u001b[0m\u001b[0m\n\u001b[0m\u001b[1;32m   1385\u001b[0m               \u001b[0;32mif\u001b[0m \u001b[0mdata_handler\u001b[0m\u001b[0;34m.\u001b[0m\u001b[0mshould_sync\u001b[0m\u001b[0;34m:\u001b[0m\u001b[0;34m\u001b[0m\u001b[0;34m\u001b[0m\u001b[0m\n\u001b[1;32m   1386\u001b[0m                 \u001b[0mcontext\u001b[0m\u001b[0;34m.\u001b[0m\u001b[0masync_wait\u001b[0m\u001b[0;34m(\u001b[0m\u001b[0;34m)\u001b[0m\u001b[0;34m\u001b[0m\u001b[0;34m\u001b[0m\u001b[0m\n",
      "\u001b[0;32m/opt/anaconda3/envs/neuralnets/lib/python3.9/site-packages/tensorflow/python/util/traceback_utils.py\u001b[0m in \u001b[0;36merror_handler\u001b[0;34m(*args, **kwargs)\u001b[0m\n\u001b[1;32m    148\u001b[0m     \u001b[0mfiltered_tb\u001b[0m \u001b[0;34m=\u001b[0m \u001b[0;32mNone\u001b[0m\u001b[0;34m\u001b[0m\u001b[0;34m\u001b[0m\u001b[0m\n\u001b[1;32m    149\u001b[0m     \u001b[0;32mtry\u001b[0m\u001b[0;34m:\u001b[0m\u001b[0;34m\u001b[0m\u001b[0;34m\u001b[0m\u001b[0m\n\u001b[0;32m--> 150\u001b[0;31m       \u001b[0;32mreturn\u001b[0m \u001b[0mfn\u001b[0m\u001b[0;34m(\u001b[0m\u001b[0;34m*\u001b[0m\u001b[0margs\u001b[0m\u001b[0;34m,\u001b[0m \u001b[0;34m**\u001b[0m\u001b[0mkwargs\u001b[0m\u001b[0;34m)\u001b[0m\u001b[0;34m\u001b[0m\u001b[0;34m\u001b[0m\u001b[0m\n\u001b[0m\u001b[1;32m    151\u001b[0m     \u001b[0;32mexcept\u001b[0m \u001b[0mException\u001b[0m \u001b[0;32mas\u001b[0m \u001b[0me\u001b[0m\u001b[0;34m:\u001b[0m\u001b[0;34m\u001b[0m\u001b[0;34m\u001b[0m\u001b[0m\n\u001b[1;32m    152\u001b[0m       \u001b[0mfiltered_tb\u001b[0m \u001b[0;34m=\u001b[0m \u001b[0m_process_traceback_frames\u001b[0m\u001b[0;34m(\u001b[0m\u001b[0me\u001b[0m\u001b[0;34m.\u001b[0m\u001b[0m__traceback__\u001b[0m\u001b[0;34m)\u001b[0m\u001b[0;34m\u001b[0m\u001b[0;34m\u001b[0m\u001b[0m\n",
      "\u001b[0;32m/opt/anaconda3/envs/neuralnets/lib/python3.9/site-packages/tensorflow/python/eager/def_function.py\u001b[0m in \u001b[0;36m__call__\u001b[0;34m(self, *args, **kwds)\u001b[0m\n\u001b[1;32m    913\u001b[0m \u001b[0;34m\u001b[0m\u001b[0m\n\u001b[1;32m    914\u001b[0m       \u001b[0;32mwith\u001b[0m \u001b[0mOptionalXlaContext\u001b[0m\u001b[0;34m(\u001b[0m\u001b[0mself\u001b[0m\u001b[0;34m.\u001b[0m\u001b[0m_jit_compile\u001b[0m\u001b[0;34m)\u001b[0m\u001b[0;34m:\u001b[0m\u001b[0;34m\u001b[0m\u001b[0;34m\u001b[0m\u001b[0m\n\u001b[0;32m--> 915\u001b[0;31m         \u001b[0mresult\u001b[0m \u001b[0;34m=\u001b[0m \u001b[0mself\u001b[0m\u001b[0;34m.\u001b[0m\u001b[0m_call\u001b[0m\u001b[0;34m(\u001b[0m\u001b[0;34m*\u001b[0m\u001b[0margs\u001b[0m\u001b[0;34m,\u001b[0m \u001b[0;34m**\u001b[0m\u001b[0mkwds\u001b[0m\u001b[0;34m)\u001b[0m\u001b[0;34m\u001b[0m\u001b[0;34m\u001b[0m\u001b[0m\n\u001b[0m\u001b[1;32m    916\u001b[0m \u001b[0;34m\u001b[0m\u001b[0m\n\u001b[1;32m    917\u001b[0m       \u001b[0mnew_tracing_count\u001b[0m \u001b[0;34m=\u001b[0m \u001b[0mself\u001b[0m\u001b[0;34m.\u001b[0m\u001b[0mexperimental_get_tracing_count\u001b[0m\u001b[0;34m(\u001b[0m\u001b[0;34m)\u001b[0m\u001b[0;34m\u001b[0m\u001b[0;34m\u001b[0m\u001b[0m\n",
      "\u001b[0;32m/opt/anaconda3/envs/neuralnets/lib/python3.9/site-packages/tensorflow/python/eager/def_function.py\u001b[0m in \u001b[0;36m_call\u001b[0;34m(self, *args, **kwds)\u001b[0m\n\u001b[1;32m    945\u001b[0m       \u001b[0;31m# In this case we have created variables on the first call, so we run the\u001b[0m\u001b[0;34m\u001b[0m\u001b[0;34m\u001b[0m\u001b[0m\n\u001b[1;32m    946\u001b[0m       \u001b[0;31m# defunned version which is guaranteed to never create variables.\u001b[0m\u001b[0;34m\u001b[0m\u001b[0;34m\u001b[0m\u001b[0m\n\u001b[0;32m--> 947\u001b[0;31m       \u001b[0;32mreturn\u001b[0m \u001b[0mself\u001b[0m\u001b[0;34m.\u001b[0m\u001b[0m_stateless_fn\u001b[0m\u001b[0;34m(\u001b[0m\u001b[0;34m*\u001b[0m\u001b[0margs\u001b[0m\u001b[0;34m,\u001b[0m \u001b[0;34m**\u001b[0m\u001b[0mkwds\u001b[0m\u001b[0;34m)\u001b[0m  \u001b[0;31m# pylint: disable=not-callable\u001b[0m\u001b[0;34m\u001b[0m\u001b[0;34m\u001b[0m\u001b[0m\n\u001b[0m\u001b[1;32m    948\u001b[0m     \u001b[0;32melif\u001b[0m \u001b[0mself\u001b[0m\u001b[0;34m.\u001b[0m\u001b[0m_stateful_fn\u001b[0m \u001b[0;32mis\u001b[0m \u001b[0;32mnot\u001b[0m \u001b[0;32mNone\u001b[0m\u001b[0;34m:\u001b[0m\u001b[0;34m\u001b[0m\u001b[0;34m\u001b[0m\u001b[0m\n\u001b[1;32m    949\u001b[0m       \u001b[0;31m# Release the lock early so that multiple threads can perform the call\u001b[0m\u001b[0;34m\u001b[0m\u001b[0;34m\u001b[0m\u001b[0m\n",
      "\u001b[0;32m/opt/anaconda3/envs/neuralnets/lib/python3.9/site-packages/tensorflow/python/eager/function.py\u001b[0m in \u001b[0;36m__call__\u001b[0;34m(self, *args, **kwargs)\u001b[0m\n\u001b[1;32m   2954\u001b[0m       (graph_function,\n\u001b[1;32m   2955\u001b[0m        filtered_flat_args) = self._maybe_define_function(args, kwargs)\n\u001b[0;32m-> 2956\u001b[0;31m     return graph_function._call_flat(\n\u001b[0m\u001b[1;32m   2957\u001b[0m         filtered_flat_args, captured_inputs=graph_function.captured_inputs)  # pylint: disable=protected-access\n\u001b[1;32m   2958\u001b[0m \u001b[0;34m\u001b[0m\u001b[0m\n",
      "\u001b[0;32m/opt/anaconda3/envs/neuralnets/lib/python3.9/site-packages/tensorflow/python/eager/function.py\u001b[0m in \u001b[0;36m_call_flat\u001b[0;34m(self, args, captured_inputs, cancellation_manager)\u001b[0m\n\u001b[1;32m   1851\u001b[0m         and executing_eagerly):\n\u001b[1;32m   1852\u001b[0m       \u001b[0;31m# No tape is watching; skip to running the function.\u001b[0m\u001b[0;34m\u001b[0m\u001b[0;34m\u001b[0m\u001b[0m\n\u001b[0;32m-> 1853\u001b[0;31m       return self._build_call_outputs(self._inference_function.call(\n\u001b[0m\u001b[1;32m   1854\u001b[0m           ctx, args, cancellation_manager=cancellation_manager))\n\u001b[1;32m   1855\u001b[0m     forward_backward = self._select_forward_and_backward_functions(\n",
      "\u001b[0;32m/opt/anaconda3/envs/neuralnets/lib/python3.9/site-packages/tensorflow/python/eager/function.py\u001b[0m in \u001b[0;36mcall\u001b[0;34m(self, ctx, args, cancellation_manager)\u001b[0m\n\u001b[1;32m    497\u001b[0m       \u001b[0;32mwith\u001b[0m \u001b[0m_InterpolateFunctionError\u001b[0m\u001b[0;34m(\u001b[0m\u001b[0mself\u001b[0m\u001b[0;34m)\u001b[0m\u001b[0;34m:\u001b[0m\u001b[0;34m\u001b[0m\u001b[0;34m\u001b[0m\u001b[0m\n\u001b[1;32m    498\u001b[0m         \u001b[0;32mif\u001b[0m \u001b[0mcancellation_manager\u001b[0m \u001b[0;32mis\u001b[0m \u001b[0;32mNone\u001b[0m\u001b[0;34m:\u001b[0m\u001b[0;34m\u001b[0m\u001b[0;34m\u001b[0m\u001b[0m\n\u001b[0;32m--> 499\u001b[0;31m           outputs = execute.execute(\n\u001b[0m\u001b[1;32m    500\u001b[0m               \u001b[0mstr\u001b[0m\u001b[0;34m(\u001b[0m\u001b[0mself\u001b[0m\u001b[0;34m.\u001b[0m\u001b[0msignature\u001b[0m\u001b[0;34m.\u001b[0m\u001b[0mname\u001b[0m\u001b[0;34m)\u001b[0m\u001b[0;34m,\u001b[0m\u001b[0;34m\u001b[0m\u001b[0;34m\u001b[0m\u001b[0m\n\u001b[1;32m    501\u001b[0m               \u001b[0mnum_outputs\u001b[0m\u001b[0;34m=\u001b[0m\u001b[0mself\u001b[0m\u001b[0;34m.\u001b[0m\u001b[0m_num_outputs\u001b[0m\u001b[0;34m,\u001b[0m\u001b[0;34m\u001b[0m\u001b[0;34m\u001b[0m\u001b[0m\n",
      "\u001b[0;32m/opt/anaconda3/envs/neuralnets/lib/python3.9/site-packages/tensorflow/python/eager/execute.py\u001b[0m in \u001b[0;36mquick_execute\u001b[0;34m(op_name, num_outputs, inputs, attrs, ctx, name)\u001b[0m\n\u001b[1;32m     52\u001b[0m   \u001b[0;32mtry\u001b[0m\u001b[0;34m:\u001b[0m\u001b[0;34m\u001b[0m\u001b[0;34m\u001b[0m\u001b[0m\n\u001b[1;32m     53\u001b[0m     \u001b[0mctx\u001b[0m\u001b[0;34m.\u001b[0m\u001b[0mensure_initialized\u001b[0m\u001b[0;34m(\u001b[0m\u001b[0;34m)\u001b[0m\u001b[0;34m\u001b[0m\u001b[0;34m\u001b[0m\u001b[0m\n\u001b[0;32m---> 54\u001b[0;31m     tensors = pywrap_tfe.TFE_Py_Execute(ctx._handle, device_name, op_name,\n\u001b[0m\u001b[1;32m     55\u001b[0m                                         inputs, attrs, num_outputs)\n\u001b[1;32m     56\u001b[0m   \u001b[0;32mexcept\u001b[0m \u001b[0mcore\u001b[0m\u001b[0;34m.\u001b[0m\u001b[0m_NotOkStatusException\u001b[0m \u001b[0;32mas\u001b[0m \u001b[0me\u001b[0m\u001b[0;34m:\u001b[0m\u001b[0;34m\u001b[0m\u001b[0;34m\u001b[0m\u001b[0m\n",
      "\u001b[0;31mKeyboardInterrupt\u001b[0m: "
     ]
    }
   ],
   "source": [
    "vae.fit(X_train, X_train,\n",
    "        epochs=100,\n",
    "        batch_size=32,\n",
    "        \n",
    "        validation_data=(X_val, X_val))"
   ]
  },
  {
   "cell_type": "code",
   "execution_count": 111,
   "id": "f1442000-43ef-4169-931e-a6eab7a85cc1",
   "metadata": {
    "execution": {
     "iopub.execute_input": "2022-07-22T07:51:45.482878Z",
     "iopub.status.busy": "2022-07-22T07:51:45.482369Z",
     "iopub.status.idle": "2022-07-22T07:51:45.490255Z",
     "shell.execute_reply": "2022-07-22T07:51:45.488383Z",
     "shell.execute_reply.started": "2022-07-22T07:51:45.482814Z"
    }
   },
   "outputs": [],
   "source": [
    "import matplotlib.pyplot as plt"
   ]
  },
  {
   "cell_type": "code",
   "execution_count": 80,
   "id": "d47bd9bd-cc10-499e-a1c0-1b090804a4c1",
   "metadata": {
    "execution": {
     "iopub.execute_input": "2022-07-22T07:21:55.905856Z",
     "iopub.status.busy": "2022-07-22T07:21:55.905326Z",
     "iopub.status.idle": "2022-07-22T07:22:07.984557Z",
     "shell.execute_reply": "2022-07-22T07:22:07.982701Z",
     "shell.execute_reply.started": "2022-07-22T07:21:55.905792Z"
    },
    "tags": []
   },
   "outputs": [],
   "source": [
    "x_test_encoded = encoder.predict(X_val, batch_size=32)"
   ]
  },
  {
   "cell_type": "code",
   "execution_count": 82,
   "id": "5090446c-6f6c-49b6-8112-c38285306237",
   "metadata": {
    "execution": {
     "iopub.execute_input": "2022-07-22T07:22:51.564398Z",
     "iopub.status.busy": "2022-07-22T07:22:51.563903Z",
     "iopub.status.idle": "2022-07-22T07:22:51.581340Z",
     "shell.execute_reply": "2022-07-22T07:22:51.579964Z",
     "shell.execute_reply.started": "2022-07-22T07:22:51.564334Z"
    },
    "tags": []
   },
   "outputs": [
    {
     "data": {
      "text/plain": [
       "[array([[nan, nan],\n",
       "        [nan, nan],\n",
       "        [nan, nan],\n",
       "        ...,\n",
       "        [nan, nan],\n",
       "        [nan, nan],\n",
       "        [nan, nan]], dtype=float32),\n",
       " array([[nan, nan],\n",
       "        [nan, nan],\n",
       "        [nan, nan],\n",
       "        ...,\n",
       "        [nan, nan],\n",
       "        [nan, nan],\n",
       "        [nan, nan]], dtype=float32),\n",
       " array([[nan, nan],\n",
       "        [nan, nan],\n",
       "        [nan, nan],\n",
       "        ...,\n",
       "        [nan, nan],\n",
       "        [nan, nan],\n",
       "        [nan, nan]], dtype=float32)]"
      ]
     },
     "execution_count": 82,
     "metadata": {},
     "output_type": "execute_result"
    }
   ],
   "source": []
  }
 ],
 "metadata": {
  "kernelspec": {
   "display_name": "neuralnets_krnl-2.0",
   "language": "python",
   "name": "neuralnets_krnl-2.0"
  },
  "language_info": {
   "codemirror_mode": {
    "name": "ipython",
    "version": 3
   },
   "file_extension": ".py",
   "mimetype": "text/x-python",
   "name": "python",
   "nbconvert_exporter": "python",
   "pygments_lexer": "ipython3",
   "version": "3.8.8"
  }
 },
 "nbformat": 4,
 "nbformat_minor": 5
}
