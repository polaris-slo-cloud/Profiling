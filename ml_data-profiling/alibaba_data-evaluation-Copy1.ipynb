{
 "cells": [
  {
   "cell_type": "code",
   "execution_count": 1,
   "id": "adee18e1-4f95-4c50-b223-2c9a1872e636",
   "metadata": {
    "execution": {
     "iopub.execute_input": "2022-09-10T17:13:10.388705Z",
     "iopub.status.busy": "2022-09-10T17:13:10.388343Z",
     "iopub.status.idle": "2022-09-10T17:14:21.809192Z",
     "shell.execute_reply": "2022-09-10T17:14:21.806263Z",
     "shell.execute_reply.started": "2022-09-10T17:13:10.388619Z"
    }
   },
   "outputs": [],
   "source": [
    "!pip install -q \"ray[all]\" sklearn"
   ]
  },
  {
   "cell_type": "code",
   "execution_count": 2,
   "id": "ea83df40-9f4c-4da9-977f-46a0e7f18426",
   "metadata": {
    "execution": {
     "iopub.execute_input": "2022-09-10T17:14:21.812822Z",
     "iopub.status.busy": "2022-09-10T17:14:21.812465Z",
     "iopub.status.idle": "2022-09-10T17:14:25.936553Z",
     "shell.execute_reply": "2022-09-10T17:14:25.934327Z",
     "shell.execute_reply.started": "2022-09-10T17:14:21.812782Z"
    },
    "tags": []
   },
   "outputs": [],
   "source": [
    "!pip install -qU \"ray[tune]\" xgboost_ray"
   ]
  },
  {
   "cell_type": "code",
   "execution_count": 3,
   "id": "1cfa6298-5a22-4f72-95db-e3e2f6551407",
   "metadata": {
    "execution": {
     "iopub.execute_input": "2022-09-10T17:17:15.562439Z",
     "iopub.status.busy": "2022-09-10T17:17:15.561814Z",
     "iopub.status.idle": "2022-09-10T17:17:15.844076Z",
     "shell.execute_reply": "2022-09-10T17:17:15.842352Z",
     "shell.execute_reply.started": "2022-09-10T17:17:15.562371Z"
    },
    "tags": []
   },
   "outputs": [],
   "source": [
    "import pandas as pd\n",
    "import numpy as np"
   ]
  },
  {
   "cell_type": "code",
   "execution_count": 4,
   "id": "52162692-2cc0-4e05-baed-5b5bfcfa4e47",
   "metadata": {
    "execution": {
     "iopub.execute_input": "2022-09-10T17:17:16.246844Z",
     "iopub.status.busy": "2022-09-10T17:17:16.246256Z",
     "iopub.status.idle": "2022-09-10T17:17:16.542182Z",
     "shell.execute_reply": "2022-09-10T17:17:16.541049Z",
     "shell.execute_reply.started": "2022-09-10T17:17:16.246779Z"
    },
    "tags": []
   },
   "outputs": [],
   "source": [
    "from sklearn.preprocessing import StandardScaler"
   ]
  },
  {
   "cell_type": "code",
   "execution_count": 5,
   "id": "0d7b44ec-53d4-456e-9736-592ebcb0d3a7",
   "metadata": {
    "execution": {
     "iopub.execute_input": "2022-09-10T17:17:16.741731Z",
     "iopub.status.busy": "2022-09-10T17:17:16.741141Z",
     "iopub.status.idle": "2022-09-10T17:17:17.236464Z",
     "shell.execute_reply": "2022-09-10T17:17:17.235106Z",
     "shell.execute_reply.started": "2022-09-10T17:17:16.741648Z"
    },
    "tags": []
   },
   "outputs": [],
   "source": [
    "from scipy.stats import norm\n",
    "import numpy as np\n",
    "\n",
    "import matplotlib as mpl\n",
    "from cycler import cycler\n",
    "import matplotlib.pyplot as plt\n",
    "import seaborn as sns\n",
    "import matplotlib.cm as cm"
   ]
  },
  {
   "cell_type": "code",
   "execution_count": 6,
   "id": "13802f77-8360-4d0c-9726-2649ec66b6aa",
   "metadata": {
    "execution": {
     "iopub.execute_input": "2022-09-10T17:17:17.277705Z",
     "iopub.status.busy": "2022-09-10T17:17:17.277139Z",
     "iopub.status.idle": "2022-09-10T17:17:17.299936Z",
     "shell.execute_reply": "2022-09-10T17:17:17.299172Z",
     "shell.execute_reply.started": "2022-09-10T17:17:17.277642Z"
    },
    "tags": []
   },
   "outputs": [],
   "source": [
    "from sklearn.metrics import silhouette_samples\n",
    "from sklearn.metrics import silhouette_score\n",
    "from sklearn.metrics import davies_bouldin_score"
   ]
  },
  {
   "cell_type": "code",
   "execution_count": 7,
   "id": "820e09b2-bde0-4078-aa29-0068e2f2cfaf",
   "metadata": {
    "execution": {
     "iopub.execute_input": "2022-09-10T17:17:17.792005Z",
     "iopub.status.busy": "2022-09-10T17:17:17.791426Z",
     "iopub.status.idle": "2022-09-10T17:17:17.806878Z",
     "shell.execute_reply": "2022-09-10T17:17:17.805132Z",
     "shell.execute_reply.started": "2022-09-10T17:17:17.791942Z"
    },
    "tags": []
   },
   "outputs": [],
   "source": [
    "from sklearn.model_selection import StratifiedShuffleSplit"
   ]
  },
  {
   "cell_type": "code",
   "execution_count": 8,
   "id": "04fd4278-c892-49b0-a7f4-db7b7aeb3123",
   "metadata": {
    "execution": {
     "iopub.execute_input": "2022-09-10T17:17:18.322496Z",
     "iopub.status.busy": "2022-09-10T17:17:18.321922Z",
     "iopub.status.idle": "2022-09-10T17:17:18.331655Z",
     "shell.execute_reply": "2022-09-10T17:17:18.329723Z",
     "shell.execute_reply.started": "2022-09-10T17:17:18.322420Z"
    },
    "tags": []
   },
   "outputs": [],
   "source": [
    "from sklearn.preprocessing import StandardScaler\n",
    "from sklearn.preprocessing import MinMaxScaler\n",
    "from sklearn.preprocessing import MaxAbsScaler\n",
    "from sklearn.preprocessing import RobustScaler\n",
    "from sklearn.preprocessing import normalize\n",
    "from sklearn.preprocessing import power_transform\n",
    "from sklearn.preprocessing import OneHotEncoder\n",
    "from scipy.special import softmax"
   ]
  },
  {
   "cell_type": "code",
   "execution_count": 9,
   "id": "57fa5a58-aa17-49e6-8fcf-98a1b2c67b9e",
   "metadata": {
    "execution": {
     "iopub.execute_input": "2022-09-10T17:17:18.753880Z",
     "iopub.status.busy": "2022-09-10T17:17:18.753311Z",
     "iopub.status.idle": "2022-09-10T17:17:18.806744Z",
     "shell.execute_reply": "2022-09-10T17:17:18.805344Z",
     "shell.execute_reply.started": "2022-09-10T17:17:18.753817Z"
    },
    "tags": []
   },
   "outputs": [],
   "source": [
    "import hdbscan\n",
    "from sklearn.cluster import OPTICS"
   ]
  },
  {
   "cell_type": "code",
   "execution_count": 10,
   "id": "712a366f-9a14-4354-b8c1-30d4ea59be78",
   "metadata": {
    "execution": {
     "iopub.execute_input": "2022-09-10T17:17:19.422291Z",
     "iopub.status.busy": "2022-09-10T17:17:19.421692Z",
     "iopub.status.idle": "2022-09-10T17:17:19.429067Z",
     "shell.execute_reply": "2022-09-10T17:17:19.427143Z",
     "shell.execute_reply.started": "2022-09-10T17:17:19.422226Z"
    },
    "tags": []
   },
   "outputs": [],
   "source": [
    "from collections import defaultdict\n",
    "from collections import Counter"
   ]
  },
  {
   "cell_type": "code",
   "execution_count": 11,
   "id": "b8769166-f06c-4e1e-b029-76385643429f",
   "metadata": {
    "execution": {
     "iopub.execute_input": "2022-09-10T17:17:19.881295Z",
     "iopub.status.busy": "2022-09-10T17:17:19.880732Z",
     "iopub.status.idle": "2022-09-10T17:17:19.887617Z",
     "shell.execute_reply": "2022-09-10T17:17:19.885757Z",
     "shell.execute_reply.started": "2022-09-10T17:17:19.881234Z"
    },
    "tags": []
   },
   "outputs": [],
   "source": [
    "import random"
   ]
  },
  {
   "cell_type": "code",
   "execution_count": 12,
   "id": "997c9f5d-38b0-43ea-a474-5f8e85722eec",
   "metadata": {
    "execution": {
     "iopub.execute_input": "2022-09-10T17:17:20.416642Z",
     "iopub.status.busy": "2022-09-10T17:17:20.416081Z",
     "iopub.status.idle": "2022-09-10T17:17:20.553304Z",
     "shell.execute_reply": "2022-09-10T17:17:20.552289Z",
     "shell.execute_reply.started": "2022-09-10T17:17:20.416581Z"
    },
    "tags": []
   },
   "outputs": [],
   "source": [
    "from sklearn.metrics import accuracy_score\n",
    "import xgboost as xgb\n",
    "from sklearn.model_selection import train_test_split\n",
    "from xgboost import XGBClassifier"
   ]
  },
  {
   "cell_type": "code",
   "execution_count": 13,
   "id": "e2286be9-1cc4-417d-97b6-8796c588b6c4",
   "metadata": {
    "execution": {
     "iopub.execute_input": "2022-09-10T17:17:21.122010Z",
     "iopub.status.busy": "2022-09-10T17:17:21.121443Z",
     "iopub.status.idle": "2022-09-10T17:17:21.688705Z",
     "shell.execute_reply": "2022-09-10T17:17:21.687281Z",
     "shell.execute_reply.started": "2022-09-10T17:17:21.121948Z"
    },
    "tags": []
   },
   "outputs": [],
   "source": [
    "import shap"
   ]
  },
  {
   "cell_type": "code",
   "execution_count": 14,
   "id": "1fa14981-98ed-44ab-97d8-f70aba256972",
   "metadata": {
    "execution": {
     "iopub.execute_input": "2022-09-10T17:17:21.692167Z",
     "iopub.status.busy": "2022-09-10T17:17:21.691541Z",
     "iopub.status.idle": "2022-09-10T17:17:21.697334Z",
     "shell.execute_reply": "2022-09-10T17:17:21.696696Z",
     "shell.execute_reply.started": "2022-09-10T17:17:21.692099Z"
    },
    "tags": []
   },
   "outputs": [],
   "source": [
    "from xgboost import plot_importance\n",
    "\n",
    "from xgboost import to_graphviz\n",
    "\n",
    "from sklearn.metrics import classification_report,confusion_matrix"
   ]
  },
  {
   "cell_type": "code",
   "execution_count": 15,
   "id": "72d67206-6331-419f-bc89-934006380c08",
   "metadata": {
    "execution": {
     "iopub.execute_input": "2022-09-10T17:17:22.536526Z",
     "iopub.status.busy": "2022-09-10T17:17:22.535959Z",
     "iopub.status.idle": "2022-09-10T17:17:22.542863Z",
     "shell.execute_reply": "2022-09-10T17:17:22.541053Z",
     "shell.execute_reply.started": "2022-09-10T17:17:22.536452Z"
    },
    "tags": []
   },
   "outputs": [],
   "source": [
    "import pickle"
   ]
  },
  {
   "cell_type": "code",
   "execution_count": 16,
   "id": "ab3f8a9a-25cd-4940-9619-00a313c4a99d",
   "metadata": {
    "execution": {
     "iopub.execute_input": "2022-09-10T17:17:23.261982Z",
     "iopub.status.busy": "2022-09-10T17:17:23.261421Z",
     "iopub.status.idle": "2022-09-10T17:17:23.420913Z",
     "shell.execute_reply": "2022-09-10T17:17:23.420234Z",
     "shell.execute_reply.started": "2022-09-10T17:17:23.261919Z"
    },
    "tags": []
   },
   "outputs": [
    {
     "ename": "ModuleNotFoundError",
     "evalue": "No module named 'ray.train'",
     "output_type": "error",
     "traceback": [
      "\u001b[0;31m---------------------------------------------------------------------------\u001b[0m",
      "\u001b[0;31mModuleNotFoundError\u001b[0m                       Traceback (most recent call last)",
      "\u001b[0;32m<ipython-input-16-db4879679374>\u001b[0m in \u001b[0;36m<module>\u001b[0;34m\u001b[0m\n\u001b[1;32m      2\u001b[0m \u001b[0;34m\u001b[0m\u001b[0m\n\u001b[1;32m      3\u001b[0m \u001b[0;32mimport\u001b[0m \u001b[0mray\u001b[0m\u001b[0;34m\u001b[0m\u001b[0;34m\u001b[0m\u001b[0m\n\u001b[0;32m----> 4\u001b[0;31m \u001b[0;32mfrom\u001b[0m \u001b[0mray\u001b[0m\u001b[0;34m.\u001b[0m\u001b[0mtrain\u001b[0m\u001b[0;34m.\u001b[0m\u001b[0mbatch_predictor\u001b[0m \u001b[0;32mimport\u001b[0m \u001b[0mBatchPredictor\u001b[0m\u001b[0;34m\u001b[0m\u001b[0;34m\u001b[0m\u001b[0m\n\u001b[0m\u001b[1;32m      5\u001b[0m \u001b[0;32mfrom\u001b[0m \u001b[0mray\u001b[0m\u001b[0;34m.\u001b[0m\u001b[0mtrain\u001b[0m\u001b[0;34m.\u001b[0m\u001b[0mxgboost\u001b[0m \u001b[0;32mimport\u001b[0m \u001b[0mXGBoostPredictor\u001b[0m\u001b[0;34m\u001b[0m\u001b[0;34m\u001b[0m\u001b[0m\n\u001b[1;32m      6\u001b[0m \u001b[0;32mfrom\u001b[0m \u001b[0mray\u001b[0m\u001b[0;34m.\u001b[0m\u001b[0mtrain\u001b[0m\u001b[0;34m.\u001b[0m\u001b[0mxgboost\u001b[0m \u001b[0;32mimport\u001b[0m \u001b[0mXGBoostTrainer\u001b[0m\u001b[0;34m\u001b[0m\u001b[0;34m\u001b[0m\u001b[0m\n",
      "\u001b[0;31mModuleNotFoundError\u001b[0m: No module named 'ray.train'"
     ]
    }
   ],
   "source": [
    "from typing import Tuple\n",
    "\n",
    "import ray\n",
    "from ray.train.batch_predictor import BatchPredictor\n",
    "from ray.train.xgboost import XGBoostPredictor\n",
    "from ray.train.xgboost import XGBoostTrainer\n",
    "from ray.air.config import ScalingConfig\n",
    "from ray.data.dataset import Dataset\n",
    "from ray.air.result import Result\n",
    "from ray.data.preprocessors import StandardScaler"
   ]
  },
  {
   "cell_type": "markdown",
   "id": "a7ee6d28-2daa-4747-a6fe-882838e1b595",
   "metadata": {},
   "source": [
    "#### Load data"
   ]
  },
  {
   "cell_type": "code",
   "execution_count": 14,
   "id": "e6bd67bc-ef90-4192-af8d-53aa2f9e5e4c",
   "metadata": {
    "execution": {
     "iopub.execute_input": "2022-09-10T16:22:40.530188Z",
     "iopub.status.busy": "2022-09-10T16:22:40.529644Z",
     "iopub.status.idle": "2022-09-10T16:22:41.147147Z",
     "shell.execute_reply": "2022-09-10T16:22:41.146005Z",
     "shell.execute_reply.started": "2022-09-10T16:22:40.530125Z"
    },
    "tags": []
   },
   "outputs": [
    {
     "data": {
      "text/html": [
       "<div>\n",
       "<style scoped>\n",
       "    .dataframe tbody tr th:only-of-type {\n",
       "        vertical-align: middle;\n",
       "    }\n",
       "\n",
       "    .dataframe tbody tr th {\n",
       "        vertical-align: top;\n",
       "    }\n",
       "\n",
       "    .dataframe thead th {\n",
       "        text-align: right;\n",
       "    }\n",
       "</style>\n",
       "<table border=\"1\" class=\"dataframe\">\n",
       "  <thead>\n",
       "    <tr style=\"text-align: right;\">\n",
       "      <th></th>\n",
       "      <th>index</th>\n",
       "      <th>job_name</th>\n",
       "      <th>inst_id</th>\n",
       "      <th>user</th>\n",
       "      <th>task_name</th>\n",
       "      <th>inst_num</th>\n",
       "      <th>status</th>\n",
       "      <th>start_time</th>\n",
       "      <th>end_time</th>\n",
       "      <th>plan_cpu</th>\n",
       "      <th>...</th>\n",
       "      <th>gpu_wrk_util</th>\n",
       "      <th>avg_mem</th>\n",
       "      <th>max_mem</th>\n",
       "      <th>avg_gpu_wrk_mem</th>\n",
       "      <th>max_gpu_wrk_mem</th>\n",
       "      <th>read</th>\n",
       "      <th>write</th>\n",
       "      <th>read_count</th>\n",
       "      <th>write_count</th>\n",
       "      <th>duration</th>\n",
       "    </tr>\n",
       "  </thead>\n",
       "  <tbody>\n",
       "    <tr>\n",
       "      <th>0</th>\n",
       "      <td>9186520</td>\n",
       "      <td>71712e3c961b5bbdb2ce0440</td>\n",
       "      <td>c5be8813bf90aaf9ca6f02f744ccd95596e9850928a498...</td>\n",
       "      <td>2cbd33b08024</td>\n",
       "      <td>ps</td>\n",
       "      <td>5.0</td>\n",
       "      <td>Terminated</td>\n",
       "      <td>4625696.0</td>\n",
       "      <td>4628399.0</td>\n",
       "      <td>600.0</td>\n",
       "      <td>...</td>\n",
       "      <td>7.541667</td>\n",
       "      <td>1.204708</td>\n",
       "      <td>2.723633</td>\n",
       "      <td>0.347158</td>\n",
       "      <td>0.829102</td>\n",
       "      <td>2.068066e+06</td>\n",
       "      <td>3.426616e+05</td>\n",
       "      <td>312.218182</td>\n",
       "      <td>219.376623</td>\n",
       "      <td>2703.0</td>\n",
       "    </tr>\n",
       "    <tr>\n",
       "      <th>1</th>\n",
       "      <td>9455559</td>\n",
       "      <td>8aa3a3a479479aecb41ea324</td>\n",
       "      <td>3808e75bd3204e01e84e33a9f6f873513e52bcc7afb33f...</td>\n",
       "      <td>2cbd33b08024</td>\n",
       "      <td>ps</td>\n",
       "      <td>5.0</td>\n",
       "      <td>Terminated</td>\n",
       "      <td>4642480.0</td>\n",
       "      <td>4644075.0</td>\n",
       "      <td>600.0</td>\n",
       "      <td>...</td>\n",
       "      <td>12.049123</td>\n",
       "      <td>1.505760</td>\n",
       "      <td>2.671875</td>\n",
       "      <td>0.445045</td>\n",
       "      <td>0.827148</td>\n",
       "      <td>1.234028e+06</td>\n",
       "      <td>3.724553e+05</td>\n",
       "      <td>264.849650</td>\n",
       "      <td>173.374126</td>\n",
       "      <td>1595.0</td>\n",
       "    </tr>\n",
       "    <tr>\n",
       "      <th>2</th>\n",
       "      <td>18718856</td>\n",
       "      <td>b68f25260271d65caccca8e7</td>\n",
       "      <td>5229275f7f92865554f934e97f576ef99db0c079bba59d...</td>\n",
       "      <td>d4d51aca8806</td>\n",
       "      <td>worker</td>\n",
       "      <td>16.0</td>\n",
       "      <td>Terminated</td>\n",
       "      <td>4058070.0</td>\n",
       "      <td>4058321.0</td>\n",
       "      <td>50.0</td>\n",
       "      <td>...</td>\n",
       "      <td>23.727273</td>\n",
       "      <td>1.037900</td>\n",
       "      <td>1.853516</td>\n",
       "      <td>0.445890</td>\n",
       "      <td>0.774414</td>\n",
       "      <td>1.010761e+07</td>\n",
       "      <td>3.781242e+06</td>\n",
       "      <td>2401.913043</td>\n",
       "      <td>590.652174</td>\n",
       "      <td>251.0</td>\n",
       "    </tr>\n",
       "    <tr>\n",
       "      <th>3</th>\n",
       "      <td>9501043</td>\n",
       "      <td>8aa3a3a479479aecb41ea324</td>\n",
       "      <td>3808e75bd3204e01e84e33a9f6f873513e52bcc7afb33f...</td>\n",
       "      <td>2cbd33b08024</td>\n",
       "      <td>ps</td>\n",
       "      <td>5.0</td>\n",
       "      <td>Terminated</td>\n",
       "      <td>4642480.0</td>\n",
       "      <td>4644075.0</td>\n",
       "      <td>600.0</td>\n",
       "      <td>...</td>\n",
       "      <td>11.706294</td>\n",
       "      <td>1.481600</td>\n",
       "      <td>2.667969</td>\n",
       "      <td>0.449140</td>\n",
       "      <td>0.829102</td>\n",
       "      <td>2.358233e+06</td>\n",
       "      <td>4.527896e+05</td>\n",
       "      <td>404.843206</td>\n",
       "      <td>271.797909</td>\n",
       "      <td>1595.0</td>\n",
       "    </tr>\n",
       "    <tr>\n",
       "      <th>4</th>\n",
       "      <td>11374326</td>\n",
       "      <td>446cd4921e0f00ab5ce1c2ea</td>\n",
       "      <td>12b9ec70cc7c63ebc7184b8a0c363513a8c3cb19746c74...</td>\n",
       "      <td>2cbd33b08024</td>\n",
       "      <td>ps</td>\n",
       "      <td>2.0</td>\n",
       "      <td>Terminated</td>\n",
       "      <td>5521030.0</td>\n",
       "      <td>5526746.0</td>\n",
       "      <td>600.0</td>\n",
       "      <td>...</td>\n",
       "      <td>13.005300</td>\n",
       "      <td>2.357810</td>\n",
       "      <td>3.056641</td>\n",
       "      <td>0.645605</td>\n",
       "      <td>0.827148</td>\n",
       "      <td>1.037695e+06</td>\n",
       "      <td>1.527555e+05</td>\n",
       "      <td>201.449250</td>\n",
       "      <td>181.084731</td>\n",
       "      <td>5716.0</td>\n",
       "    </tr>\n",
       "    <tr>\n",
       "      <th>...</th>\n",
       "      <td>...</td>\n",
       "      <td>...</td>\n",
       "      <td>...</td>\n",
       "      <td>...</td>\n",
       "      <td>...</td>\n",
       "      <td>...</td>\n",
       "      <td>...</td>\n",
       "      <td>...</td>\n",
       "      <td>...</td>\n",
       "      <td>...</td>\n",
       "      <td>...</td>\n",
       "      <td>...</td>\n",
       "      <td>...</td>\n",
       "      <td>...</td>\n",
       "      <td>...</td>\n",
       "      <td>...</td>\n",
       "      <td>...</td>\n",
       "      <td>...</td>\n",
       "      <td>...</td>\n",
       "      <td>...</td>\n",
       "      <td>...</td>\n",
       "    </tr>\n",
       "    <tr>\n",
       "      <th>99996</th>\n",
       "      <td>14289977</td>\n",
       "      <td>e49cae3b33b5c205ed8542b0</td>\n",
       "      <td>5283a27d4f19d767256f97c18880a70d69f4d97ca655a3...</td>\n",
       "      <td>47baba33cffe</td>\n",
       "      <td>ps</td>\n",
       "      <td>1.0</td>\n",
       "      <td>Terminated</td>\n",
       "      <td>5890601.0</td>\n",
       "      <td>5893675.0</td>\n",
       "      <td>600.0</td>\n",
       "      <td>...</td>\n",
       "      <td>81.609635</td>\n",
       "      <td>1.940527</td>\n",
       "      <td>1.995117</td>\n",
       "      <td>1.200031</td>\n",
       "      <td>1.213867</td>\n",
       "      <td>1.941028e+06</td>\n",
       "      <td>1.165604e+06</td>\n",
       "      <td>402.442786</td>\n",
       "      <td>171.301824</td>\n",
       "      <td>3074.0</td>\n",
       "    </tr>\n",
       "    <tr>\n",
       "      <th>99997</th>\n",
       "      <td>13975013</td>\n",
       "      <td>23f6e20075e637b0976b4ac8</td>\n",
       "      <td>d9a01656ea5d0f9792168159dbb61790d3b0228a633ac8...</td>\n",
       "      <td>47baba33cffe</td>\n",
       "      <td>ps</td>\n",
       "      <td>3.0</td>\n",
       "      <td>Terminated</td>\n",
       "      <td>4297415.0</td>\n",
       "      <td>4306572.0</td>\n",
       "      <td>600.0</td>\n",
       "      <td>...</td>\n",
       "      <td>85.691919</td>\n",
       "      <td>1.803602</td>\n",
       "      <td>2.001953</td>\n",
       "      <td>1.975061</td>\n",
       "      <td>2.213867</td>\n",
       "      <td>1.035467e+06</td>\n",
       "      <td>4.269076e+05</td>\n",
       "      <td>259.100393</td>\n",
       "      <td>115.694335</td>\n",
       "      <td>9157.0</td>\n",
       "    </tr>\n",
       "    <tr>\n",
       "      <th>99998</th>\n",
       "      <td>14793315</td>\n",
       "      <td>bf7ee12301073cc75cba61a2</td>\n",
       "      <td>aa5054c3d153f66bf8e1dba6d33b3bb3a9317f1cc7daaa...</td>\n",
       "      <td>dbb3d4806d21</td>\n",
       "      <td>ps</td>\n",
       "      <td>5.0</td>\n",
       "      <td>Terminated</td>\n",
       "      <td>5448779.0</td>\n",
       "      <td>5450118.0</td>\n",
       "      <td>600.0</td>\n",
       "      <td>...</td>\n",
       "      <td>44.271654</td>\n",
       "      <td>1.859159</td>\n",
       "      <td>2.024414</td>\n",
       "      <td>1.172409</td>\n",
       "      <td>1.213867</td>\n",
       "      <td>3.300603e+06</td>\n",
       "      <td>3.495205e+06</td>\n",
       "      <td>568.968627</td>\n",
       "      <td>295.933333</td>\n",
       "      <td>1339.0</td>\n",
       "    </tr>\n",
       "    <tr>\n",
       "      <th>99999</th>\n",
       "      <td>14794112</td>\n",
       "      <td>bb95f250974bf5a332f3ea8c</td>\n",
       "      <td>e13b3a5539d62d7b08cad9470ab3b3a33eb54640369337...</td>\n",
       "      <td>dbb3d4806d21</td>\n",
       "      <td>ps</td>\n",
       "      <td>5.0</td>\n",
       "      <td>Terminated</td>\n",
       "      <td>5822706.0</td>\n",
       "      <td>5822846.0</td>\n",
       "      <td>600.0</td>\n",
       "      <td>...</td>\n",
       "      <td>0.000000</td>\n",
       "      <td>0.341797</td>\n",
       "      <td>0.735352</td>\n",
       "      <td>0.000000</td>\n",
       "      <td>0.000000</td>\n",
       "      <td>5.726675e+07</td>\n",
       "      <td>6.596024e+07</td>\n",
       "      <td>8070.600000</td>\n",
       "      <td>3965.400000</td>\n",
       "      <td>140.0</td>\n",
       "    </tr>\n",
       "    <tr>\n",
       "      <th>100000</th>\n",
       "      <td>14676278</td>\n",
       "      <td>f724e050d3162d35c49635c4</td>\n",
       "      <td>7fca1afee66c1cbb400c1b5d3f46e27966a81df45ed77e...</td>\n",
       "      <td>47baba33cffe</td>\n",
       "      <td>ps</td>\n",
       "      <td>5.0</td>\n",
       "      <td>Terminated</td>\n",
       "      <td>6417637.0</td>\n",
       "      <td>6417985.0</td>\n",
       "      <td>600.0</td>\n",
       "      <td>...</td>\n",
       "      <td>19.517857</td>\n",
       "      <td>1.469727</td>\n",
       "      <td>1.729492</td>\n",
       "      <td>1.051880</td>\n",
       "      <td>1.217773</td>\n",
       "      <td>1.220611e+07</td>\n",
       "      <td>1.243589e+07</td>\n",
       "      <td>2063.842105</td>\n",
       "      <td>890.859649</td>\n",
       "      <td>348.0</td>\n",
       "    </tr>\n",
       "  </tbody>\n",
       "</table>\n",
       "<p>100001 rows × 30 columns</p>\n",
       "</div>"
      ],
      "text/plain": [
       "           index                  job_name  \\\n",
       "0        9186520  71712e3c961b5bbdb2ce0440   \n",
       "1        9455559  8aa3a3a479479aecb41ea324   \n",
       "2       18718856  b68f25260271d65caccca8e7   \n",
       "3        9501043  8aa3a3a479479aecb41ea324   \n",
       "4       11374326  446cd4921e0f00ab5ce1c2ea   \n",
       "...          ...                       ...   \n",
       "99996   14289977  e49cae3b33b5c205ed8542b0   \n",
       "99997   13975013  23f6e20075e637b0976b4ac8   \n",
       "99998   14793315  bf7ee12301073cc75cba61a2   \n",
       "99999   14794112  bb95f250974bf5a332f3ea8c   \n",
       "100000  14676278  f724e050d3162d35c49635c4   \n",
       "\n",
       "                                                  inst_id          user  \\\n",
       "0       c5be8813bf90aaf9ca6f02f744ccd95596e9850928a498...  2cbd33b08024   \n",
       "1       3808e75bd3204e01e84e33a9f6f873513e52bcc7afb33f...  2cbd33b08024   \n",
       "2       5229275f7f92865554f934e97f576ef99db0c079bba59d...  d4d51aca8806   \n",
       "3       3808e75bd3204e01e84e33a9f6f873513e52bcc7afb33f...  2cbd33b08024   \n",
       "4       12b9ec70cc7c63ebc7184b8a0c363513a8c3cb19746c74...  2cbd33b08024   \n",
       "...                                                   ...           ...   \n",
       "99996   5283a27d4f19d767256f97c18880a70d69f4d97ca655a3...  47baba33cffe   \n",
       "99997   d9a01656ea5d0f9792168159dbb61790d3b0228a633ac8...  47baba33cffe   \n",
       "99998   aa5054c3d153f66bf8e1dba6d33b3bb3a9317f1cc7daaa...  dbb3d4806d21   \n",
       "99999   e13b3a5539d62d7b08cad9470ab3b3a33eb54640369337...  dbb3d4806d21   \n",
       "100000  7fca1afee66c1cbb400c1b5d3f46e27966a81df45ed77e...  47baba33cffe   \n",
       "\n",
       "       task_name  inst_num      status  start_time   end_time  plan_cpu  ...  \\\n",
       "0             ps       5.0  Terminated   4625696.0  4628399.0     600.0  ...   \n",
       "1             ps       5.0  Terminated   4642480.0  4644075.0     600.0  ...   \n",
       "2         worker      16.0  Terminated   4058070.0  4058321.0      50.0  ...   \n",
       "3             ps       5.0  Terminated   4642480.0  4644075.0     600.0  ...   \n",
       "4             ps       2.0  Terminated   5521030.0  5526746.0     600.0  ...   \n",
       "...          ...       ...         ...         ...        ...       ...  ...   \n",
       "99996         ps       1.0  Terminated   5890601.0  5893675.0     600.0  ...   \n",
       "99997         ps       3.0  Terminated   4297415.0  4306572.0     600.0  ...   \n",
       "99998         ps       5.0  Terminated   5448779.0  5450118.0     600.0  ...   \n",
       "99999         ps       5.0  Terminated   5822706.0  5822846.0     600.0  ...   \n",
       "100000        ps       5.0  Terminated   6417637.0  6417985.0     600.0  ...   \n",
       "\n",
       "        gpu_wrk_util   avg_mem   max_mem avg_gpu_wrk_mem max_gpu_wrk_mem  \\\n",
       "0           7.541667  1.204708  2.723633        0.347158        0.829102   \n",
       "1          12.049123  1.505760  2.671875        0.445045        0.827148   \n",
       "2          23.727273  1.037900  1.853516        0.445890        0.774414   \n",
       "3          11.706294  1.481600  2.667969        0.449140        0.829102   \n",
       "4          13.005300  2.357810  3.056641        0.645605        0.827148   \n",
       "...              ...       ...       ...             ...             ...   \n",
       "99996      81.609635  1.940527  1.995117        1.200031        1.213867   \n",
       "99997      85.691919  1.803602  2.001953        1.975061        2.213867   \n",
       "99998      44.271654  1.859159  2.024414        1.172409        1.213867   \n",
       "99999       0.000000  0.341797  0.735352        0.000000        0.000000   \n",
       "100000     19.517857  1.469727  1.729492        1.051880        1.217773   \n",
       "\n",
       "                read         write   read_count  write_count  duration  \n",
       "0       2.068066e+06  3.426616e+05   312.218182   219.376623    2703.0  \n",
       "1       1.234028e+06  3.724553e+05   264.849650   173.374126    1595.0  \n",
       "2       1.010761e+07  3.781242e+06  2401.913043   590.652174     251.0  \n",
       "3       2.358233e+06  4.527896e+05   404.843206   271.797909    1595.0  \n",
       "4       1.037695e+06  1.527555e+05   201.449250   181.084731    5716.0  \n",
       "...              ...           ...          ...          ...       ...  \n",
       "99996   1.941028e+06  1.165604e+06   402.442786   171.301824    3074.0  \n",
       "99997   1.035467e+06  4.269076e+05   259.100393   115.694335    9157.0  \n",
       "99998   3.300603e+06  3.495205e+06   568.968627   295.933333    1339.0  \n",
       "99999   5.726675e+07  6.596024e+07  8070.600000  3965.400000     140.0  \n",
       "100000  1.220611e+07  1.243589e+07  2063.842105   890.859649     348.0  \n",
       "\n",
       "[100001 rows x 30 columns]"
      ]
     },
     "execution_count": 14,
     "metadata": {},
     "output_type": "execute_result"
    }
   ],
   "source": [
    "sampled_workload_data = pd.read_csv('experiments/100_001_sampled_workload_data.csv', index_col=0)\n",
    "sampled_workload_data"
   ]
  },
  {
   "cell_type": "markdown",
   "id": "c2e13fea-dec6-4561-99c5-4581611eaee4",
   "metadata": {},
   "source": [
    "#### Load cluster results"
   ]
  },
  {
   "cell_type": "code",
   "execution_count": 15,
   "id": "8819a314-9e8b-40be-9680-ea628477d9dd",
   "metadata": {
    "execution": {
     "iopub.execute_input": "2022-09-10T16:22:42.494516Z",
     "iopub.status.busy": "2022-09-10T16:22:42.493939Z",
     "iopub.status.idle": "2022-09-10T16:22:42.509522Z",
     "shell.execute_reply": "2022-09-10T16:22:42.507910Z",
     "shell.execute_reply.started": "2022-09-10T16:22:42.494435Z"
    },
    "tags": []
   },
   "outputs": [],
   "source": [
    "hdbscan_clusterer = pickle.load(open(\"experiments/hdbscan_300_power_transform_euclidean.pkl\", \"rb\"))"
   ]
  },
  {
   "cell_type": "code",
   "execution_count": 16,
   "id": "cd867eb1-3f70-4332-a7a4-7882676e04de",
   "metadata": {
    "execution": {
     "iopub.execute_input": "2022-09-10T16:22:43.025337Z",
     "iopub.status.busy": "2022-09-10T16:22:43.024788Z",
     "iopub.status.idle": "2022-09-10T16:22:43.034855Z",
     "shell.execute_reply": "2022-09-10T16:22:43.033332Z",
     "shell.execute_reply.started": "2022-09-10T16:22:43.025272Z"
    },
    "tags": []
   },
   "outputs": [
    {
     "data": {
      "text/plain": [
       "array([ 9,  9,  0, ...,  9, -1, -1])"
      ]
     },
     "execution_count": 16,
     "metadata": {},
     "output_type": "execute_result"
    }
   ],
   "source": [
    "hdbscan_clusterer.labels_"
   ]
  },
  {
   "cell_type": "code",
   "execution_count": 17,
   "id": "8d45e107-7afc-4d68-b1bd-0d0265662b00",
   "metadata": {
    "execution": {
     "iopub.execute_input": "2022-09-10T16:22:43.559624Z",
     "iopub.status.busy": "2022-09-10T16:22:43.559070Z",
     "iopub.status.idle": "2022-09-10T16:22:43.597839Z",
     "shell.execute_reply": "2022-09-10T16:22:43.596505Z",
     "shell.execute_reply.started": "2022-09-10T16:22:43.559561Z"
    },
    "tags": []
   },
   "outputs": [
    {
     "data": {
      "text/plain": [
       "array([1, 1, 1, ..., 1, 0, 0])"
      ]
     },
     "execution_count": 17,
     "metadata": {},
     "output_type": "execute_result"
    }
   ],
   "source": [
    "mask = np.array([1 if x>-1 else 0 for x in hdbscan_clusterer.labels_])\n",
    "mask"
   ]
  },
  {
   "cell_type": "markdown",
   "id": "9d0ad1d1-119f-4fd0-8cb4-8a836eddd702",
   "metadata": {
    "tags": []
   },
   "source": [
    "## Classification"
   ]
  },
  {
   "cell_type": "code",
   "execution_count": 18,
   "id": "f2989ff2-6532-403d-b637-cca05ab47ad9",
   "metadata": {
    "execution": {
     "iopub.execute_input": "2022-09-10T16:22:49.177365Z",
     "iopub.status.busy": "2022-09-10T16:22:49.176828Z",
     "iopub.status.idle": "2022-09-10T16:22:49.184315Z",
     "shell.execute_reply": "2022-09-10T16:22:49.182372Z",
     "shell.execute_reply.started": "2022-09-10T16:22:49.177303Z"
    },
    "tags": []
   },
   "outputs": [],
   "source": [
    "categories_static_metadata = ['job_name', 'user', 'task_name', 'group', 'workload']"
   ]
  },
  {
   "cell_type": "code",
   "execution_count": 19,
   "id": "3a583467-0af9-47cc-8c7b-d41bfc3b9ba9",
   "metadata": {
    "execution": {
     "iopub.execute_input": "2022-09-10T16:23:01.397573Z",
     "iopub.status.busy": "2022-09-10T16:23:01.396971Z",
     "iopub.status.idle": "2022-09-10T16:23:01.458985Z",
     "shell.execute_reply": "2022-09-10T16:23:01.457245Z",
     "shell.execute_reply.started": "2022-09-10T16:23:01.397508Z"
    },
    "tags": []
   },
   "outputs": [],
   "source": [
    "sampled_workload_metadata = sampled_workload_data[categories_static_metadata].astype(\"category\")"
   ]
  },
  {
   "cell_type": "code",
   "execution_count": 20,
   "id": "9a471495-38db-4c40-9b06-fffebaeff4c7",
   "metadata": {
    "execution": {
     "iopub.execute_input": "2022-09-10T16:23:06.279591Z",
     "iopub.status.busy": "2022-09-10T16:23:06.279027Z",
     "iopub.status.idle": "2022-09-10T16:23:14.926125Z",
     "shell.execute_reply": "2022-09-10T16:23:14.924653Z",
     "shell.execute_reply.started": "2022-09-10T16:23:06.279527Z"
    },
    "tags": []
   },
   "outputs": [],
   "source": [
    "sampled_workload_metadata_dummies = pd.get_dummies(sampled_workload_metadata, prefix=categories_static_metadata)"
   ]
  },
  {
   "cell_type": "code",
   "execution_count": 21,
   "id": "2c587506-7e69-4dcb-862d-e79e28618efa",
   "metadata": {
    "execution": {
     "iopub.execute_input": "2022-09-10T16:23:31.805177Z",
     "iopub.status.busy": "2022-09-10T16:23:31.804579Z",
     "iopub.status.idle": "2022-09-10T16:23:36.840911Z",
     "shell.execute_reply": "2022-09-10T16:23:36.839223Z",
     "shell.execute_reply.started": "2022-09-10T16:23:31.805104Z"
    },
    "tags": []
   },
   "outputs": [],
   "source": [
    "hdbscan_clustered_metadata_cats = sampled_workload_metadata_dummies.values[mask.astype(bool)]"
   ]
  },
  {
   "cell_type": "code",
   "execution_count": 22,
   "id": "f0cec499-ff39-4ce6-9e0c-2b0829ca0cb8",
   "metadata": {
    "execution": {
     "iopub.execute_input": "2022-09-10T16:23:41.239184Z",
     "iopub.status.busy": "2022-09-10T16:23:41.238620Z",
     "iopub.status.idle": "2022-09-10T16:23:41.249995Z",
     "shell.execute_reply": "2022-09-10T16:23:41.248577Z",
     "shell.execute_reply.started": "2022-09-10T16:23:41.239119Z"
    },
    "tags": []
   },
   "outputs": [],
   "source": [
    "hdbscan_notnoise_labels = hdbscan_clusterer.labels_[mask.astype(bool)]"
   ]
  },
  {
   "cell_type": "markdown",
   "id": "c9890e8b-1a06-4940-b6fc-9cc2c7a192a2",
   "metadata": {
    "tags": []
   },
   "source": [
    "### XGBoost"
   ]
  },
  {
   "cell_type": "code",
   "execution_count": 23,
   "id": "ed08972c-adf2-4ccc-a40b-a9905b1742a8",
   "metadata": {
    "execution": {
     "iopub.execute_input": "2022-09-10T16:23:48.952599Z",
     "iopub.status.busy": "2022-09-10T16:23:48.952006Z",
     "iopub.status.idle": "2022-09-10T16:23:49.430234Z",
     "shell.execute_reply": "2022-09-10T16:23:49.429396Z",
     "shell.execute_reply.started": "2022-09-10T16:23:48.952532Z"
    },
    "tags": []
   },
   "outputs": [],
   "source": [
    "X_train, X_test, y_train, y_test = train_test_split(hdbscan_clustered_metadata_cats, hdbscan_notnoise_labels, test_size=0.20, random_state=5)"
   ]
  },
  {
   "cell_type": "code",
   "execution_count": 24,
   "id": "73b7cdbf-9b4b-4737-ba07-5029133e3cbc",
   "metadata": {
    "execution": {
     "iopub.execute_input": "2022-09-10T16:23:50.431625Z",
     "iopub.status.busy": "2022-09-10T16:23:50.431392Z",
     "iopub.status.idle": "2022-09-10T16:23:50.438010Z",
     "shell.execute_reply": "2022-09-10T16:23:50.437154Z",
     "shell.execute_reply.started": "2022-09-10T16:23:50.431601Z"
    },
    "tags": []
   },
   "outputs": [
    {
     "data": {
      "text/plain": [
       "((60318, 21547), (15080, 21547))"
      ]
     },
     "execution_count": 24,
     "metadata": {},
     "output_type": "execute_result"
    }
   ],
   "source": [
    "(X_train.shape, X_test.shape)"
   ]
  },
  {
   "cell_type": "code",
   "execution_count": 25,
   "id": "9fca0cef-dd0e-45e8-a23f-22863b3e5131",
   "metadata": {
    "execution": {
     "iopub.execute_input": "2022-09-10T16:23:53.807327Z",
     "iopub.status.busy": "2022-09-10T16:23:53.806763Z",
     "iopub.status.idle": "2022-09-10T16:23:53.818085Z",
     "shell.execute_reply": "2022-09-10T16:23:53.816512Z",
     "shell.execute_reply.started": "2022-09-10T16:23:53.807263Z"
    },
    "tags": []
   },
   "outputs": [
    {
     "data": {
      "text/plain": [
       "array([[0, 0, 0, ..., 0, 0, 0],\n",
       "       [0, 0, 0, ..., 0, 0, 0],\n",
       "       [0, 0, 0, ..., 0, 0, 0],\n",
       "       ...,\n",
       "       [0, 0, 0, ..., 0, 0, 0],\n",
       "       [0, 0, 0, ..., 0, 0, 0],\n",
       "       [0, 0, 0, ..., 0, 0, 0]], dtype=uint8)"
      ]
     },
     "execution_count": 25,
     "metadata": {},
     "output_type": "execute_result"
    }
   ],
   "source": [
    "X_train"
   ]
  },
  {
   "cell_type": "code",
   "execution_count": null,
   "id": "52654934-96b7-4c27-8c9c-2e3ae7be32b8",
   "metadata": {
    "execution": {
     "iopub.execute_input": "2022-09-10T16:53:59.528176Z",
     "iopub.status.busy": "2022-09-10T16:53:59.527587Z"
    },
    "tags": []
   },
   "outputs": [],
   "source": [
    "model = XGBClassifier() \n",
    "\n",
    "model.fit(X_train, y_train)"
   ]
  },
  {
   "cell_type": "code",
   "execution_count": null,
   "id": "5cc1b781-7a75-498f-9fce-5c1e3a41f3e9",
   "metadata": {
    "tags": []
   },
   "outputs": [],
   "source": [
    "y_pred = model.predict(X_test) \n",
    "\n",
    "predictions = [round(value) for value in y_pred]"
   ]
  },
  {
   "cell_type": "code",
   "execution_count": null,
   "id": "c99b70cc-3012-4d98-a2f1-c4ae41d55870",
   "metadata": {
    "tags": []
   },
   "outputs": [],
   "source": [
    "accuracy = accuracy_score(y_test, predictions) \n",
    "\n",
    "print(\"Accuracy: %.2f%%\" % (accuracy * 100.0))"
   ]
  },
  {
   "cell_type": "code",
   "execution_count": null,
   "id": "423b2695-92b4-4dda-862b-b090a82488ba",
   "metadata": {
    "tags": []
   },
   "outputs": [],
   "source": [
    "model.get_booster().feature_names = list(sampled_workload_metadata_dummies.columns)"
   ]
  },
  {
   "cell_type": "code",
   "execution_count": null,
   "id": "d6b15dac-34d6-421b-af07-b2bf0765446b",
   "metadata": {
    "tags": []
   },
   "outputs": [],
   "source": [
    "plot_importance(model, max_num_features=20)"
   ]
  },
  {
   "cell_type": "code",
   "execution_count": null,
   "id": "68e1b5c6-62e8-411d-b899-8ece043ecf52",
   "metadata": {
    "tags": []
   },
   "outputs": [],
   "source": [
    "from xgboost import to_graphviz\n",
    "\n",
    "to_graphviz(model)"
   ]
  },
  {
   "cell_type": "code",
   "execution_count": null,
   "id": "ddb179ec-747b-40cc-bd0f-6596767155b7",
   "metadata": {
    "tags": []
   },
   "outputs": [],
   "source": [
    "from sklearn.metrics import classification_report,confusion_matrix"
   ]
  },
  {
   "cell_type": "code",
   "execution_count": null,
   "id": "47d4f5ee-ac33-4189-9b1d-d20123b119f6",
   "metadata": {
    "tags": []
   },
   "outputs": [],
   "source": [
    "print(classification_report(y_test, predictions))"
   ]
  },
  {
   "cell_type": "code",
   "execution_count": null,
   "id": "c6dae98a-52d9-40e3-8f6f-7569d9975e8b",
   "metadata": {
    "tags": []
   },
   "outputs": [],
   "source": [
    "shap.initjs()"
   ]
  },
  {
   "cell_type": "code",
   "execution_count": 18,
   "id": "534be83b-766c-443d-944d-8a8503914558",
   "metadata": {
    "execution": {
     "iopub.execute_input": "2022-09-11T09:03:14.290670Z",
     "iopub.status.busy": "2022-09-11T09:03:14.290109Z",
     "iopub.status.idle": "2022-09-11T09:03:14.307976Z",
     "shell.execute_reply": "2022-09-11T09:03:14.306332Z",
     "shell.execute_reply.started": "2022-09-11T09:03:14.290608Z"
    },
    "tags": []
   },
   "outputs": [
    {
     "ename": "NameError",
     "evalue": "name 'model' is not defined",
     "output_type": "error",
     "traceback": [
      "\u001b[0;31m---------------------------------------------------------------------------\u001b[0m",
      "\u001b[0;31mNameError\u001b[0m                                 Traceback (most recent call last)",
      "\u001b[0;32m<ipython-input-18-16a0ea470889>\u001b[0m in \u001b[0;36m<module>\u001b[0;34m\u001b[0m\n\u001b[0;32m----> 1\u001b[0;31m \u001b[0mexplainer\u001b[0m \u001b[0;34m=\u001b[0m \u001b[0mshap\u001b[0m\u001b[0;34m.\u001b[0m\u001b[0mTreeExplainer\u001b[0m\u001b[0;34m(\u001b[0m\u001b[0mmodel\u001b[0m\u001b[0;34m)\u001b[0m\u001b[0;34m\u001b[0m\u001b[0;34m\u001b[0m\u001b[0m\n\u001b[0m",
      "\u001b[0;31mNameError\u001b[0m: name 'model' is not defined"
     ]
    }
   ],
   "source": [
    "explainer = shap.TreeExplainer(model)"
   ]
  },
  {
   "cell_type": "code",
   "execution_count": 17,
   "id": "d4232254-da3a-46a6-981a-5a15fe1e3388",
   "metadata": {
    "execution": {
     "iopub.execute_input": "2022-09-11T09:03:12.050195Z",
     "iopub.status.busy": "2022-09-11T09:03:12.049642Z",
     "iopub.status.idle": "2022-09-11T09:03:12.069120Z",
     "shell.execute_reply": "2022-09-11T09:03:12.068208Z",
     "shell.execute_reply.started": "2022-09-11T09:03:12.050132Z"
    },
    "tags": []
   },
   "outputs": [
    {
     "ename": "NameError",
     "evalue": "name 'explainer' is not defined",
     "output_type": "error",
     "traceback": [
      "\u001b[0;31m---------------------------------------------------------------------------\u001b[0m",
      "\u001b[0;31mNameError\u001b[0m                                 Traceback (most recent call last)",
      "\u001b[0;32m<ipython-input-17-693c29e8e742>\u001b[0m in \u001b[0;36m<module>\u001b[0;34m\u001b[0m\n\u001b[0;32m----> 1\u001b[0;31m \u001b[0mshap_values\u001b[0m \u001b[0;34m=\u001b[0m \u001b[0mexplainer\u001b[0m\u001b[0;34m.\u001b[0m\u001b[0mshap_values\u001b[0m\u001b[0;34m(\u001b[0m\u001b[0mX_test\u001b[0m\u001b[0;34m)\u001b[0m\u001b[0;34m\u001b[0m\u001b[0;34m\u001b[0m\u001b[0m\n\u001b[0m",
      "\u001b[0;31mNameError\u001b[0m: name 'explainer' is not defined"
     ]
    }
   ],
   "source": [
    "shap_values = explainer.shap_values(X_test)"
   ]
  },
  {
   "cell_type": "code",
   "execution_count": null,
   "id": "7e0b763e-c433-4057-824c-382db337200f",
   "metadata": {},
   "outputs": [],
   "source": []
  }
 ],
 "metadata": {
  "kernelspec": {
   "display_name": "neuralnets_krnl-2.0",
   "language": "python",
   "name": "neuralnets_krnl-2.0"
  },
  "language_info": {
   "codemirror_mode": {
    "name": "ipython",
    "version": 3
   },
   "file_extension": ".py",
   "mimetype": "text/x-python",
   "name": "python",
   "nbconvert_exporter": "python",
   "pygments_lexer": "ipython3",
   "version": "3.8.8"
  }
 },
 "nbformat": 4,
 "nbformat_minor": 5
}
